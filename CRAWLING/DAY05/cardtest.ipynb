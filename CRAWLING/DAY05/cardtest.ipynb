{
 "cells": [
  {
   "cell_type": "markdown",
   "source": [
    "## __repr__()과 __str__() 비교"
   ],
   "metadata": {
    "collapsed": false
   },
   "id": "94e10f975e469a3b"
  },
  {
   "cell_type": "code",
   "execution_count": 2,
   "outputs": [],
   "source": [
    "class Card:\n",
    "    def __init__(self, card_suit, card_number):\n",
    "        self.suit = card_suit\n",
    "        self.number = card_number\n",
    "\n",
    "    def __repr__(self):\n",
    "        '''\n",
    "        객체를 공식적인 문자열로 변환(인터프리터에서 객체 표현에 사용)\n",
    "        '''\n",
    "        return f'[{self.suit},{self.number:>2}]'\n",
    "    \n",
    "    def __str__(self):\n",
    "        '''\n",
    "        객체를 문자열로 변환: print(객체)에 사용\n",
    "        :return: \n",
    "        '''\n",
    "        return f'({self.suit},{self.number:>2})'"
   ],
   "metadata": {
    "collapsed": false,
    "ExecuteTime": {
     "end_time": "2023-08-04T05:26:48.580079Z",
     "start_time": "2023-08-04T05:26:48.577907Z"
    }
   },
   "id": "747241454cefe5d9"
  },
  {
   "cell_type": "code",
   "execution_count": 3,
   "outputs": [
    {
     "data": {
      "text/plain": "[♠,10]"
     },
     "execution_count": 3,
     "metadata": {},
     "output_type": "execute_result"
    }
   ],
   "source": [
    "card = Card('♠', 10)\n",
    "card  # 파이썬 인터프리터에서 객체 출력: __repr__()"
   ],
   "metadata": {
    "collapsed": false,
    "ExecuteTime": {
     "end_time": "2023-08-04T05:26:49.858956Z",
     "start_time": "2023-08-04T05:26:49.850622Z"
    }
   },
   "id": "d8268632cf7810c4"
  },
  {
   "cell_type": "code",
   "execution_count": 4,
   "outputs": [
    {
     "name": "stdout",
     "output_type": "stream",
     "text": [
      "(♠,10)\n"
     ]
    }
   ],
   "source": [
    "print(card) # print(객체)는 __str__() 호출 "
   ],
   "metadata": {
    "collapsed": false,
    "ExecuteTime": {
     "end_time": "2023-08-04T05:26:50.315547Z",
     "start_time": "2023-08-04T05:26:50.310110Z"
    }
   },
   "id": "c92ec62a884f97dc"
  },
  {
   "cell_type": "markdown",
   "source": [
    "#### list index 계산\n"
   ],
   "metadata": {
    "collapsed": false
   },
   "id": "d176b98f7e5cd8ea"
  },
  {
   "cell_type": "code",
   "execution_count": 5,
   "outputs": [
    {
     "name": "stdout",
     "output_type": "stream",
     "text": [
      "[[♠, A], [♠, 2], [♠, 3], [♠, 4], [♠, 5], [♠, 6], [♠, 7], [♠, 8], [♠, 9], [♠,10], [♠, J], [♠, Q], [♠, K], [♥, A], [♥, 2], [♥, 3], [♥, 4], [♥, 5], [♥, 6], [♥, 7], [♥, 8], [♥, 9], [♥,10], [♥, J], [♥, Q], [♥, K], [♣, A], [♣, 2], [♣, 3], [♣, 4], [♣, 5], [♣, 6], [♣, 7], [♣, 8], [♣, 9], [♣,10], [♣, J], [♣, Q], [♣, K], [◆, A], [◆, 2], [◆, 3], [◆, 4], [◆, 5], [◆, 6], [◆, 7], [◆, 8], [◆, 9], [◆,10], [◆, J], [◆, Q], [◆, K]]\n"
     ]
    }
   ],
   "source": [
    "deck = list()\n",
    "card_suits = [\"♠\", \"♥\", \"♣\", \"◆\"]\n",
    "card_numbers = [\"A\", \"2\", \"3\", \"4\", \"5\", \"6\", \"7\", \"8\", \"9\", \"10\", \"J\", \"Q\", \"K\"]\n",
    "\n",
    "for suit in card_suits:\n",
    "    for num in card_numbers:\n",
    "        deck.append(Card(suit, num))\n",
    "\n"
   ],
   "metadata": {
    "collapsed": false,
    "ExecuteTime": {
     "end_time": "2023-08-04T05:26:52.920323Z",
     "start_time": "2023-08-04T05:26:52.913479Z"
    }
   },
   "id": "caf13ea09cfe2308"
  },
  {
   "cell_type": "code",
   "execution_count": null,
   "outputs": [],
   "source": [],
   "metadata": {
    "collapsed": false
   },
   "id": "540134c90e844585"
  }
 ],
 "metadata": {
  "kernelspec": {
   "display_name": "Python 3",
   "language": "python",
   "name": "python3"
  },
  "language_info": {
   "codemirror_mode": {
    "name": "ipython",
    "version": 2
   },
   "file_extension": ".py",
   "mimetype": "text/x-python",
   "name": "python",
   "nbconvert_exporter": "python",
   "pygments_lexer": "ipython2",
   "version": "2.7.6"
  }
 },
 "nbformat": 4,
 "nbformat_minor": 5
}

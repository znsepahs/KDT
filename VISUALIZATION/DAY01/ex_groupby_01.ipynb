{
 "cells": [
  {
   "cell_type": "markdown",
   "metadata": {},
   "source": [
    "### [그룹화 처리]\n",
    "- Series/DataFrame에 groupby() 메서드 사용\n",
    "- Series/DataFrameGroupby Object 결과로 반환"
   ]
  },
  {
   "cell_type": "code",
   "execution_count": 4,
   "metadata": {},
   "outputs": [],
   "source": [
    "# [1] 모듈로딩\n",
    "import pandas as pd\n",
    "import df_util as utill"
   ]
  },
  {
   "cell_type": "code",
   "execution_count": 5,
   "metadata": {},
   "outputs": [],
   "source": [
    "# [2] 데이터 준비\n",
    "file_name='titanic.csv'"
   ]
  },
  {
   "cell_type": "code",
   "execution_count": 6,
   "metadata": {},
   "outputs": [
    {
     "data": {
      "text/html": [
       "<div>\n",
       "<style scoped>\n",
       "    .dataframe tbody tr th:only-of-type {\n",
       "        vertical-align: middle;\n",
       "    }\n",
       "\n",
       "    .dataframe tbody tr th {\n",
       "        vertical-align: top;\n",
       "    }\n",
       "\n",
       "    .dataframe thead th {\n",
       "        text-align: right;\n",
       "    }\n",
       "</style>\n",
       "<table border=\"1\" class=\"dataframe\">\n",
       "  <thead>\n",
       "    <tr style=\"text-align: right;\">\n",
       "      <th></th>\n",
       "      <th>survived</th>\n",
       "      <th>pclass</th>\n",
       "      <th>sex</th>\n",
       "      <th>age</th>\n",
       "      <th>sibsp</th>\n",
       "      <th>parch</th>\n",
       "      <th>fare</th>\n",
       "      <th>embarked</th>\n",
       "      <th>class</th>\n",
       "      <th>who</th>\n",
       "      <th>adult_male</th>\n",
       "      <th>deck</th>\n",
       "      <th>embark_town</th>\n",
       "      <th>alive</th>\n",
       "      <th>alone</th>\n",
       "    </tr>\n",
       "  </thead>\n",
       "  <tbody>\n",
       "    <tr>\n",
       "      <th>0</th>\n",
       "      <td>0</td>\n",
       "      <td>3</td>\n",
       "      <td>male</td>\n",
       "      <td>22.0</td>\n",
       "      <td>1</td>\n",
       "      <td>0</td>\n",
       "      <td>7.2500</td>\n",
       "      <td>S</td>\n",
       "      <td>Third</td>\n",
       "      <td>man</td>\n",
       "      <td>True</td>\n",
       "      <td>NaN</td>\n",
       "      <td>Southampton</td>\n",
       "      <td>no</td>\n",
       "      <td>False</td>\n",
       "    </tr>\n",
       "    <tr>\n",
       "      <th>1</th>\n",
       "      <td>1</td>\n",
       "      <td>1</td>\n",
       "      <td>female</td>\n",
       "      <td>38.0</td>\n",
       "      <td>1</td>\n",
       "      <td>0</td>\n",
       "      <td>71.2833</td>\n",
       "      <td>C</td>\n",
       "      <td>First</td>\n",
       "      <td>woman</td>\n",
       "      <td>False</td>\n",
       "      <td>C</td>\n",
       "      <td>Cherbourg</td>\n",
       "      <td>yes</td>\n",
       "      <td>False</td>\n",
       "    </tr>\n",
       "    <tr>\n",
       "      <th>2</th>\n",
       "      <td>1</td>\n",
       "      <td>3</td>\n",
       "      <td>female</td>\n",
       "      <td>26.0</td>\n",
       "      <td>0</td>\n",
       "      <td>0</td>\n",
       "      <td>7.9250</td>\n",
       "      <td>S</td>\n",
       "      <td>Third</td>\n",
       "      <td>woman</td>\n",
       "      <td>False</td>\n",
       "      <td>NaN</td>\n",
       "      <td>Southampton</td>\n",
       "      <td>yes</td>\n",
       "      <td>True</td>\n",
       "    </tr>\n",
       "    <tr>\n",
       "      <th>3</th>\n",
       "      <td>1</td>\n",
       "      <td>1</td>\n",
       "      <td>female</td>\n",
       "      <td>35.0</td>\n",
       "      <td>1</td>\n",
       "      <td>0</td>\n",
       "      <td>53.1000</td>\n",
       "      <td>S</td>\n",
       "      <td>First</td>\n",
       "      <td>woman</td>\n",
       "      <td>False</td>\n",
       "      <td>C</td>\n",
       "      <td>Southampton</td>\n",
       "      <td>yes</td>\n",
       "      <td>False</td>\n",
       "    </tr>\n",
       "    <tr>\n",
       "      <th>4</th>\n",
       "      <td>0</td>\n",
       "      <td>3</td>\n",
       "      <td>male</td>\n",
       "      <td>35.0</td>\n",
       "      <td>0</td>\n",
       "      <td>0</td>\n",
       "      <td>8.0500</td>\n",
       "      <td>S</td>\n",
       "      <td>Third</td>\n",
       "      <td>man</td>\n",
       "      <td>True</td>\n",
       "      <td>NaN</td>\n",
       "      <td>Southampton</td>\n",
       "      <td>no</td>\n",
       "      <td>True</td>\n",
       "    </tr>\n",
       "    <tr>\n",
       "      <th>...</th>\n",
       "      <td>...</td>\n",
       "      <td>...</td>\n",
       "      <td>...</td>\n",
       "      <td>...</td>\n",
       "      <td>...</td>\n",
       "      <td>...</td>\n",
       "      <td>...</td>\n",
       "      <td>...</td>\n",
       "      <td>...</td>\n",
       "      <td>...</td>\n",
       "      <td>...</td>\n",
       "      <td>...</td>\n",
       "      <td>...</td>\n",
       "      <td>...</td>\n",
       "      <td>...</td>\n",
       "    </tr>\n",
       "    <tr>\n",
       "      <th>886</th>\n",
       "      <td>0</td>\n",
       "      <td>2</td>\n",
       "      <td>male</td>\n",
       "      <td>27.0</td>\n",
       "      <td>0</td>\n",
       "      <td>0</td>\n",
       "      <td>13.0000</td>\n",
       "      <td>S</td>\n",
       "      <td>Second</td>\n",
       "      <td>man</td>\n",
       "      <td>True</td>\n",
       "      <td>NaN</td>\n",
       "      <td>Southampton</td>\n",
       "      <td>no</td>\n",
       "      <td>True</td>\n",
       "    </tr>\n",
       "    <tr>\n",
       "      <th>887</th>\n",
       "      <td>1</td>\n",
       "      <td>1</td>\n",
       "      <td>female</td>\n",
       "      <td>19.0</td>\n",
       "      <td>0</td>\n",
       "      <td>0</td>\n",
       "      <td>30.0000</td>\n",
       "      <td>S</td>\n",
       "      <td>First</td>\n",
       "      <td>woman</td>\n",
       "      <td>False</td>\n",
       "      <td>B</td>\n",
       "      <td>Southampton</td>\n",
       "      <td>yes</td>\n",
       "      <td>True</td>\n",
       "    </tr>\n",
       "    <tr>\n",
       "      <th>888</th>\n",
       "      <td>0</td>\n",
       "      <td>3</td>\n",
       "      <td>female</td>\n",
       "      <td>NaN</td>\n",
       "      <td>1</td>\n",
       "      <td>2</td>\n",
       "      <td>23.4500</td>\n",
       "      <td>S</td>\n",
       "      <td>Third</td>\n",
       "      <td>woman</td>\n",
       "      <td>False</td>\n",
       "      <td>NaN</td>\n",
       "      <td>Southampton</td>\n",
       "      <td>no</td>\n",
       "      <td>False</td>\n",
       "    </tr>\n",
       "    <tr>\n",
       "      <th>889</th>\n",
       "      <td>1</td>\n",
       "      <td>1</td>\n",
       "      <td>male</td>\n",
       "      <td>26.0</td>\n",
       "      <td>0</td>\n",
       "      <td>0</td>\n",
       "      <td>30.0000</td>\n",
       "      <td>C</td>\n",
       "      <td>First</td>\n",
       "      <td>man</td>\n",
       "      <td>True</td>\n",
       "      <td>C</td>\n",
       "      <td>Cherbourg</td>\n",
       "      <td>yes</td>\n",
       "      <td>True</td>\n",
       "    </tr>\n",
       "    <tr>\n",
       "      <th>890</th>\n",
       "      <td>0</td>\n",
       "      <td>3</td>\n",
       "      <td>male</td>\n",
       "      <td>32.0</td>\n",
       "      <td>0</td>\n",
       "      <td>0</td>\n",
       "      <td>7.7500</td>\n",
       "      <td>Q</td>\n",
       "      <td>Third</td>\n",
       "      <td>man</td>\n",
       "      <td>True</td>\n",
       "      <td>NaN</td>\n",
       "      <td>Queenstown</td>\n",
       "      <td>no</td>\n",
       "      <td>True</td>\n",
       "    </tr>\n",
       "  </tbody>\n",
       "</table>\n",
       "<p>891 rows × 15 columns</p>\n",
       "</div>"
      ],
      "text/plain": [
       "     survived  pclass     sex   age  sibsp  parch     fare embarked   class  \\\n",
       "0           0       3    male  22.0      1      0   7.2500        S   Third   \n",
       "1           1       1  female  38.0      1      0  71.2833        C   First   \n",
       "2           1       3  female  26.0      0      0   7.9250        S   Third   \n",
       "3           1       1  female  35.0      1      0  53.1000        S   First   \n",
       "4           0       3    male  35.0      0      0   8.0500        S   Third   \n",
       "..        ...     ...     ...   ...    ...    ...      ...      ...     ...   \n",
       "886         0       2    male  27.0      0      0  13.0000        S  Second   \n",
       "887         1       1  female  19.0      0      0  30.0000        S   First   \n",
       "888         0       3  female   NaN      1      2  23.4500        S   Third   \n",
       "889         1       1    male  26.0      0      0  30.0000        C   First   \n",
       "890         0       3    male  32.0      0      0   7.7500        Q   Third   \n",
       "\n",
       "       who  adult_male deck  embark_town alive  alone  \n",
       "0      man        True  NaN  Southampton    no  False  \n",
       "1    woman       False    C    Cherbourg   yes  False  \n",
       "2    woman       False  NaN  Southampton   yes   True  \n",
       "3    woman       False    C  Southampton   yes  False  \n",
       "4      man        True  NaN  Southampton    no   True  \n",
       "..     ...         ...  ...          ...   ...    ...  \n",
       "886    man        True  NaN  Southampton    no   True  \n",
       "887  woman       False    B  Southampton   yes   True  \n",
       "888  woman       False  NaN  Southampton    no  False  \n",
       "889    man        True    C    Cherbourg   yes   True  \n",
       "890    man        True  NaN   Queenstown    no   True  \n",
       "\n",
       "[891 rows x 15 columns]"
      ]
     },
     "execution_count": 6,
     "metadata": {},
     "output_type": "execute_result"
    }
   ],
   "source": [
    "# [3] CSV => DataFrame 형태로 저장\n",
    "dataDF=pd.read_csv(file_name)\n",
    "dataDF"
   ]
  },
  {
   "cell_type": "code",
   "execution_count": 7,
   "metadata": {},
   "outputs": [
    {
     "name": "stdout",
     "output_type": "stream",
     "text": [
      "\n",
      "[dataDF]\n",
      "<class 'pandas.core.frame.DataFrame'>\n",
      "RangeIndex: 891 entries, 0 to 890\n",
      "Data columns (total 15 columns):\n",
      " #   Column       Non-Null Count  Dtype  \n",
      "---  ------       --------------  -----  \n",
      " 0   survived     891 non-null    int64  \n",
      " 1   pclass       891 non-null    int64  \n",
      " 2   sex          891 non-null    object \n",
      " 3   age          714 non-null    float64\n",
      " 4   sibsp        891 non-null    int64  \n",
      " 5   parch        891 non-null    int64  \n",
      " 6   fare         891 non-null    float64\n",
      " 7   embarked     889 non-null    object \n",
      " 8   class        891 non-null    object \n",
      " 9   who          891 non-null    object \n",
      " 10  adult_male   891 non-null    bool   \n",
      " 11  deck         203 non-null    object \n",
      " 12  embark_town  889 non-null    object \n",
      " 13  alive        891 non-null    object \n",
      " 14  alone        891 non-null    bool   \n",
      "dtypes: bool(2), float64(2), int64(4), object(7)\n",
      "memory usage: 92.4+ KB\n",
      "[Index] : RangeIndex(start=0, stop=891, step=1)\n",
      "[Columns] : Index(['survived', 'pclass', 'sex', 'age', 'sibsp', 'parch', 'fare',\n",
      "       'embarked', 'class', 'who', 'adult_male', 'deck', 'embark_town',\n",
      "       'alive', 'alone'],\n",
      "      dtype='object')\n",
      "[Ndim] : 2\n"
     ]
    }
   ],
   "source": [
    "# [4] 데이터 확인\n",
    "utill.checkDataFrame(dataDF,'dataDF')"
   ]
  },
  {
   "cell_type": "code",
   "execution_count": 8,
   "metadata": {},
   "outputs": [],
   "source": [
    "# [5] 분석 주제 => 성별에 따른 나이 분포\n",
    "# - 분석 컬럼 즉, 성별과 나이 컬럼\n",
    "gender_ageDF=dataDF.loc[:,['sex','age']]"
   ]
  },
  {
   "cell_type": "code",
   "execution_count": 9,
   "metadata": {},
   "outputs": [
    {
     "data": {
      "text/plain": [
       "sex      0\n",
       "age    177\n",
       "dtype: int64"
      ]
     },
     "execution_count": 9,
     "metadata": {},
     "output_type": "execute_result"
    }
   ],
   "source": [
    "# [5-1] 데이터 전처리 : 결측치, 중복값\n",
    "# - 결측치 : isna(),isnull()\n",
    "gender_ageDF.isna().sum()"
   ]
  },
  {
   "cell_type": "code",
   "execution_count": 10,
   "metadata": {},
   "outputs": [],
   "source": [
    "# - 결측치 처리 => 성별에 따라 치환\n",
    "# - 성별에 다른 그룹화\n",
    "groupObj=gender_ageDF.groupby('sex')"
   ]
  },
  {
   "cell_type": "code",
   "execution_count": 11,
   "metadata": {},
   "outputs": [
    {
     "name": "stdout",
     "output_type": "stream",
     "text": [
      "dict_keys(['female', 'male'])\n",
      "dict_values([Index([  1,   2,   3,   8,   9,  10,  11,  14,  15,  18,\n",
      "       ...\n",
      "       866, 871, 874, 875, 879, 880, 882, 885, 887, 888],\n",
      "      dtype='int64', length=314), Index([  0,   4,   5,   6,   7,  12,  13,  16,  17,  20,\n",
      "       ...\n",
      "       873, 876, 877, 878, 881, 883, 884, 886, 889, 890],\n",
      "      dtype='int64', length=577)])\n"
     ]
    }
   ],
   "source": [
    "# - Group 객체의 속성\n",
    "# - groups속성 : 그룹화 된 그룹에 속하는 인덱스 정보 저장 Dict 형태\n",
    "print(groupObj.groups.keys())\n",
    "print(groupObj.groups.values())"
   ]
  },
  {
   "cell_type": "code",
   "execution_count": 12,
   "metadata": {},
   "outputs": [
    {
     "name": "stdout",
     "output_type": "stream",
     "text": [
      "{'female': array([  1,   2,   3,   8,   9,  10,  11,  14,  15,  18,  19,  22,  24,\n",
      "        25,  28,  31,  32,  38,  39,  40,  41,  43,  44,  47,  49,  52,\n",
      "        53,  56,  58,  61,  66,  68,  71,  79,  82,  84,  85,  88,  98,\n",
      "       100, 106, 109, 111, 113, 114, 119, 123, 128, 132, 133, 136, 140,\n",
      "       141, 142, 147, 151, 156, 161, 166, 167, 172, 177, 180, 184, 186,\n",
      "       190, 192, 194, 195, 198, 199, 205, 208, 211, 215, 216, 218, 229,\n",
      "       230, 233, 235, 237, 240, 241, 246, 247, 251, 254, 255, 256, 257,\n",
      "       258, 259, 264, 268, 269, 272, 274, 275, 276, 279, 289, 290, 291,\n",
      "       293, 297, 299, 300, 303, 306, 307, 309, 310, 311, 312, 315, 316,\n",
      "       318, 319, 322, 323, 325, 327, 328, 329, 330, 334, 337, 341, 345,\n",
      "       346, 347, 356, 357, 358, 359, 362, 366, 367, 368, 369, 374, 375,\n",
      "       376, 380, 381, 383, 387, 389, 393, 394, 396, 399, 402, 404, 409,\n",
      "       412, 415, 416, 417, 419, 423, 426, 427, 431, 432, 435, 436, 437,\n",
      "       440, 443, 446, 448, 457, 458, 469, 472, 473, 474, 479, 483, 485,\n",
      "       486, 496, 498, 501, 502, 503, 504, 506, 513, 516, 518, 520, 523,\n",
      "       526, 530, 533, 534, 535, 537, 539, 540, 541, 542, 546, 554, 556,\n",
      "       558, 559, 564, 567, 571, 573, 576, 577, 578, 580, 581, 585, 591,\n",
      "       593, 596, 600, 608, 609, 610, 612, 615, 617, 618, 627, 634, 635,\n",
      "       638, 641, 642, 644, 649, 651, 653, 654, 657, 669, 670, 677, 678,\n",
      "       680, 689, 691, 697, 700, 702, 706, 708, 710, 716, 717, 720, 726,\n",
      "       727, 729, 730, 736, 742, 747, 750, 754, 759, 763, 765, 767, 772,\n",
      "       774, 777, 779, 780, 781, 786, 792, 796, 797, 799, 801, 807, 809,\n",
      "       813, 816, 820, 823, 829, 830, 835, 842, 849, 852, 853, 854, 855,\n",
      "       856, 858, 862, 863, 865, 866, 871, 874, 875, 879, 880, 882, 885,\n",
      "       887, 888], dtype=int64), 'male': array([  0,   4,   5,   6,   7,  12,  13,  16,  17,  20,  21,  23,  26,\n",
      "        27,  29,  30,  33,  34,  35,  36,  37,  42,  45,  46,  48,  50,\n",
      "        51,  54,  55,  57,  59,  60,  62,  63,  64,  65,  67,  69,  70,\n",
      "        72,  73,  74,  75,  76,  77,  78,  80,  81,  83,  86,  87,  89,\n",
      "        90,  91,  92,  93,  94,  95,  96,  97,  99, 101, 102, 103, 104,\n",
      "       105, 107, 108, 110, 112, 115, 116, 117, 118, 120, 121, 122, 124,\n",
      "       125, 126, 127, 129, 130, 131, 134, 135, 137, 138, 139, 143, 144,\n",
      "       145, 146, 148, 149, 150, 152, 153, 154, 155, 157, 158, 159, 160,\n",
      "       162, 163, 164, 165, 168, 169, 170, 171, 173, 174, 175, 176, 178,\n",
      "       179, 181, 182, 183, 185, 187, 188, 189, 191, 193, 196, 197, 200,\n",
      "       201, 202, 203, 204, 206, 207, 209, 210, 212, 213, 214, 217, 219,\n",
      "       220, 221, 222, 223, 224, 225, 226, 227, 228, 231, 232, 234, 236,\n",
      "       238, 239, 242, 243, 244, 245, 248, 249, 250, 252, 253, 260, 261,\n",
      "       262, 263, 265, 266, 267, 270, 271, 273, 277, 278, 280, 281, 282,\n",
      "       283, 284, 285, 286, 287, 288, 292, 294, 295, 296, 298, 301, 302,\n",
      "       304, 305, 308, 313, 314, 317, 320, 321, 324, 326, 331, 332, 333,\n",
      "       335, 336, 338, 339, 340, 342, 343, 344, 348, 349, 350, 351, 352,\n",
      "       353, 354, 355, 360, 361, 363, 364, 365, 370, 371, 372, 373, 377,\n",
      "       378, 379, 382, 384, 385, 386, 388, 390, 391, 392, 395, 397, 398,\n",
      "       400, 401, 403, 405, 406, 407, 408, 410, 411, 413, 414, 418, 420,\n",
      "       421, 422, 424, 425, 428, 429, 430, 433, 434, 438, 439, 441, 442,\n",
      "       444, 445, 447, 449, 450, 451, 452, 453, 454, 455, 456, 459, 460,\n",
      "       461, 462, 463, 464, 465, 466, 467, 468, 470, 471, 475, 476, 477,\n",
      "       478, 480, 481, 482, 484, 487, 488, 489, 490, 491, 492, 493, 494,\n",
      "       495, 497, 499, 500, 505, 507, 508, 509, 510, 511, 512, 514, 515,\n",
      "       517, 519, 521, 522, 524, 525, 527, 528, 529, 531, 532, 536, 538,\n",
      "       543, 544, 545, 547, 548, 549, 550, 551, 552, 553, 555, 557, 560,\n",
      "       561, 562, 563, 565, 566, 568, 569, 570, 572, 574, 575, 579, 582,\n",
      "       583, 584, 586, 587, 588, 589, 590, 592, 594, 595, 597, 598, 599,\n",
      "       601, 602, 603, 604, 605, 606, 607, 611, 613, 614, 616, 619, 620,\n",
      "       621, 622, 623, 624, 625, 626, 628, 629, 630, 631, 632, 633, 636,\n",
      "       637, 639, 640, 643, 645, 646, 647, 648, 650, 652, 655, 656, 658,\n",
      "       659, 660, 661, 662, 663, 664, 665, 666, 667, 668, 671, 672, 673,\n",
      "       674, 675, 676, 679, 681, 682, 683, 684, 685, 686, 687, 688, 690,\n",
      "       692, 693, 694, 695, 696, 698, 699, 701, 703, 704, 705, 707, 709,\n",
      "       711, 712, 713, 714, 715, 718, 719, 721, 722, 723, 724, 725, 728,\n",
      "       731, 732, 733, 734, 735, 737, 738, 739, 740, 741, 743, 744, 745,\n",
      "       746, 748, 749, 751, 752, 753, 755, 756, 757, 758, 760, 761, 762,\n",
      "       764, 766, 768, 769, 770, 771, 773, 775, 776, 778, 782, 783, 784,\n",
      "       785, 787, 788, 789, 790, 791, 793, 794, 795, 798, 800, 802, 803,\n",
      "       804, 805, 806, 808, 810, 811, 812, 814, 815, 817, 818, 819, 821,\n",
      "       822, 824, 825, 826, 827, 828, 831, 832, 833, 834, 836, 837, 838,\n",
      "       839, 840, 841, 843, 844, 845, 846, 847, 848, 850, 851, 857, 859,\n",
      "       860, 861, 864, 867, 868, 869, 870, 872, 873, 876, 877, 878, 881,\n",
      "       883, 884, 886, 889, 890], dtype=int64)}\n",
      "dict_keys(['female', 'male'])\n"
     ]
    }
   ],
   "source": [
    "# - groups속성 : 긱 그룹의 인덱스 속성을 저장 Dict 형태\n",
    "print(groupObj.indices)\n",
    "print(groupObj.indices.keys())"
   ]
  },
  {
   "cell_type": "code",
   "execution_count": 13,
   "metadata": {},
   "outputs": [
    {
     "name": "stdout",
     "output_type": "stream",
     "text": [
      "\n",
      "[female]\n",
      "2 (314, 2)\n",
      "sex    female\n",
      "age      0.75\n",
      "dtype: object sex    female\n",
      "age      63.0\n",
      "dtype: object\n",
      "\n",
      "[male]\n",
      "2 (577, 2)\n",
      "sex    male\n",
      "age    0.42\n",
      "dtype: object sex    male\n",
      "age    80.0\n",
      "dtype: object\n"
     ]
    }
   ],
   "source": [
    "# - get_group() 메서드 : 그룹화 된 그룹들 중에서 특정 그룹 데이터 읽기 메서드\n",
    "# - DataFrame으로 반환\n",
    "for key in groupObj.groups.keys():\n",
    "    print(f'\\n[{key}]')\n",
    "    print(groupObj.get_group(key).ndim,groupObj.get_group(key).shape)\n",
    "    print(groupObj.get_group(key).min(),groupObj.get_group(key).max())"
   ]
  },
  {
   "cell_type": "code",
   "execution_count": 14,
   "metadata": {},
   "outputs": [
    {
     "name": "stdout",
     "output_type": "stream",
     "text": [
      "        age\n",
      "sex        \n",
      "female  261\n",
      "male    453\n",
      "         age\n",
      "sex         \n",
      "female  63.0\n",
      "male    80.0\n",
      "         age\n",
      "sex         \n",
      "female  0.75\n",
      "male    0.42\n",
      "              age\n",
      "sex              \n",
      "female  27.915709\n",
      "male    30.726645\n",
      "         age\n",
      "sex         \n",
      "female  27.0\n",
      "male    29.0\n"
     ]
    }
   ],
   "source": [
    "# - 그룹별로 집계연산 수행\n",
    "print(groupObj.count())\n",
    "print(groupObj.max())\n",
    "print(groupObj.min())\n",
    "print(groupObj.mean())\n",
    "print(groupObj.median())"
   ]
  },
  {
   "cell_type": "code",
   "execution_count": 15,
   "metadata": {},
   "outputs": [
    {
     "data": {
      "text/html": [
       "<div>\n",
       "<style scoped>\n",
       "    .dataframe tbody tr th:only-of-type {\n",
       "        vertical-align: middle;\n",
       "    }\n",
       "\n",
       "    .dataframe tbody tr th {\n",
       "        vertical-align: top;\n",
       "    }\n",
       "\n",
       "    .dataframe thead tr th {\n",
       "        text-align: left;\n",
       "    }\n",
       "\n",
       "    .dataframe thead tr:last-of-type th {\n",
       "        text-align: right;\n",
       "    }\n",
       "</style>\n",
       "<table border=\"1\" class=\"dataframe\">\n",
       "  <thead>\n",
       "    <tr>\n",
       "      <th></th>\n",
       "      <th colspan=\"5\" halign=\"left\">age</th>\n",
       "    </tr>\n",
       "    <tr>\n",
       "      <th></th>\n",
       "      <th>min</th>\n",
       "      <th>max</th>\n",
       "      <th>mean</th>\n",
       "      <th>median</th>\n",
       "      <th>sum</th>\n",
       "    </tr>\n",
       "    <tr>\n",
       "      <th>sex</th>\n",
       "      <th></th>\n",
       "      <th></th>\n",
       "      <th></th>\n",
       "      <th></th>\n",
       "      <th></th>\n",
       "    </tr>\n",
       "  </thead>\n",
       "  <tbody>\n",
       "    <tr>\n",
       "      <th>female</th>\n",
       "      <td>0.75</td>\n",
       "      <td>63.0</td>\n",
       "      <td>27.915709</td>\n",
       "      <td>27.0</td>\n",
       "      <td>7286.00</td>\n",
       "    </tr>\n",
       "    <tr>\n",
       "      <th>male</th>\n",
       "      <td>0.42</td>\n",
       "      <td>80.0</td>\n",
       "      <td>30.726645</td>\n",
       "      <td>29.0</td>\n",
       "      <td>13919.17</td>\n",
       "    </tr>\n",
       "  </tbody>\n",
       "</table>\n",
       "</div>"
      ],
      "text/plain": [
       "         age                                  \n",
       "         min   max       mean median       sum\n",
       "sex                                           \n",
       "female  0.75  63.0  27.915709   27.0   7286.00\n",
       "male    0.42  80.0  30.726645   29.0  13919.17"
      ]
     },
     "execution_count": 15,
     "metadata": {},
     "output_type": "execute_result"
    }
   ],
   "source": [
    "resultDF=groupObj.agg(['min','max','mean','median','sum'])\n",
    "resultDF"
   ]
  },
  {
   "cell_type": "code",
   "execution_count": 16,
   "metadata": {},
   "outputs": [
    {
     "data": {
      "text/plain": [
       "MultiIndex([('age',    'min'),\n",
       "            ('age',    'max'),\n",
       "            ('age',   'mean'),\n",
       "            ('age', 'median'),\n",
       "            ('age',    'sum')],\n",
       "           )"
      ]
     },
     "execution_count": 16,
     "metadata": {},
     "output_type": "execute_result"
    }
   ],
   "source": [
    "# 멀티인덱스 컬럼\n",
    "resultDF.columns"
   ]
  },
  {
   "cell_type": "code",
   "execution_count": 17,
   "metadata": {},
   "outputs": [
    {
     "data": {
      "text/html": [
       "<div>\n",
       "<style scoped>\n",
       "    .dataframe tbody tr th:only-of-type {\n",
       "        vertical-align: middle;\n",
       "    }\n",
       "\n",
       "    .dataframe tbody tr th {\n",
       "        vertical-align: top;\n",
       "    }\n",
       "\n",
       "    .dataframe thead tr th {\n",
       "        text-align: left;\n",
       "    }\n",
       "\n",
       "    .dataframe thead tr:last-of-type th {\n",
       "        text-align: right;\n",
       "    }\n",
       "</style>\n",
       "<table border=\"1\" class=\"dataframe\">\n",
       "  <thead>\n",
       "    <tr>\n",
       "      <th></th>\n",
       "      <th colspan=\"2\" halign=\"left\">age</th>\n",
       "    </tr>\n",
       "    <tr>\n",
       "      <th></th>\n",
       "      <th>min</th>\n",
       "      <th>mean</th>\n",
       "    </tr>\n",
       "    <tr>\n",
       "      <th>sex</th>\n",
       "      <th></th>\n",
       "      <th></th>\n",
       "    </tr>\n",
       "  </thead>\n",
       "  <tbody>\n",
       "    <tr>\n",
       "      <th>female</th>\n",
       "      <td>0.75</td>\n",
       "      <td>27.915709</td>\n",
       "    </tr>\n",
       "    <tr>\n",
       "      <th>male</th>\n",
       "      <td>0.42</td>\n",
       "      <td>30.726645</td>\n",
       "    </tr>\n",
       "  </tbody>\n",
       "</table>\n",
       "</div>"
      ],
      "text/plain": [
       "         age           \n",
       "         min       mean\n",
       "sex                    \n",
       "female  0.75  27.915709\n",
       "male    0.42  30.726645"
      ]
     },
     "execution_count": 17,
     "metadata": {},
     "output_type": "execute_result"
    }
   ],
   "source": [
    "resultDF[[('age','min'),('age','mean')]]"
   ]
  },
  {
   "cell_type": "code",
   "execution_count": 18,
   "metadata": {},
   "outputs": [
    {
     "data": {
      "text/plain": [
       "0.75"
      ]
     },
     "execution_count": 18,
     "metadata": {},
     "output_type": "execute_result"
    }
   ],
   "source": [
    "# Series에서 원소 추출\n",
    "resultDF[('age','min')]['female']"
   ]
  },
  {
   "cell_type": "code",
   "execution_count": 19,
   "metadata": {},
   "outputs": [
    {
     "data": {
      "text/plain": [
       "sex\n",
       "female    62.25\n",
       "male      79.58\n",
       "dtype: float64"
      ]
     },
     "execution_count": 19,
     "metadata": {},
     "output_type": "execute_result"
    }
   ],
   "source": [
    "# Series에서 Series 연산\n",
    "resultDF[('age','max')] - resultDF[('age','min')]"
   ]
  },
  {
   "cell_type": "markdown",
   "metadata": {},
   "source": [
    "- 사용자 정의 함수 지정하기"
   ]
  },
  {
   "cell_type": "code",
   "execution_count": 20,
   "metadata": {},
   "outputs": [],
   "source": [
    "def myfunc(obj):\n",
    "    return obj.mode()"
   ]
  },
  {
   "cell_type": "code",
   "execution_count": 22,
   "metadata": {},
   "outputs": [
    {
     "data": {
      "text/html": [
       "<div>\n",
       "<style scoped>\n",
       "    .dataframe tbody tr th:only-of-type {\n",
       "        vertical-align: middle;\n",
       "    }\n",
       "\n",
       "    .dataframe tbody tr th {\n",
       "        vertical-align: top;\n",
       "    }\n",
       "\n",
       "    .dataframe thead tr th {\n",
       "        text-align: left;\n",
       "    }\n",
       "\n",
       "    .dataframe thead tr:last-of-type th {\n",
       "        text-align: right;\n",
       "    }\n",
       "</style>\n",
       "<table border=\"1\" class=\"dataframe\">\n",
       "  <thead>\n",
       "    <tr>\n",
       "      <th></th>\n",
       "      <th colspan=\"3\" halign=\"left\">age</th>\n",
       "    </tr>\n",
       "    <tr>\n",
       "      <th></th>\n",
       "      <th>count</th>\n",
       "      <th>myfunc</th>\n",
       "      <th>&lt;lambda_0&gt;</th>\n",
       "    </tr>\n",
       "    <tr>\n",
       "      <th>sex</th>\n",
       "      <th></th>\n",
       "      <th></th>\n",
       "      <th></th>\n",
       "    </tr>\n",
       "  </thead>\n",
       "  <tbody>\n",
       "    <tr>\n",
       "      <th>female</th>\n",
       "      <td>261</td>\n",
       "      <td>24.0</td>\n",
       "      <td>27.915709</td>\n",
       "    </tr>\n",
       "    <tr>\n",
       "      <th>male</th>\n",
       "      <td>453</td>\n",
       "      <td>[19.0, 25.0, 28.0]</td>\n",
       "      <td>30.726645</td>\n",
       "    </tr>\n",
       "  </tbody>\n",
       "</table>\n",
       "</div>"
      ],
      "text/plain": [
       "         age                               \n",
       "       count              myfunc <lambda_0>\n",
       "sex                                        \n",
       "female   261                24.0  27.915709\n",
       "male     453  [19.0, 25.0, 28.0]  30.726645"
      ]
     },
     "execution_count": 22,
     "metadata": {},
     "output_type": "execute_result"
    }
   ],
   "source": [
    "groupObj.agg(['count',myfunc, lambda x:x.mean()])"
   ]
  }
 ],
 "metadata": {
  "kernelspec": {
   "display_name": "PY39",
   "language": "python",
   "name": "python3"
  },
  "language_info": {
   "codemirror_mode": {
    "name": "ipython",
    "version": 3
   },
   "file_extension": ".py",
   "mimetype": "text/x-python",
   "name": "python",
   "nbconvert_exporter": "python",
   "pygments_lexer": "ipython3",
   "version": "3.9.19"
  }
 },
 "nbformat": 4,
 "nbformat_minor": 2
}

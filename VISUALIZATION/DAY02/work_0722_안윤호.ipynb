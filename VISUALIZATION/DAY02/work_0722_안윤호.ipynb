{
 "cells": [
  {
   "cell_type": "markdown",
   "metadata": {},
   "source": [
    "### 과제\n",
    "- 1. 타이타닉\n",
    "    : 생존자 중 성별 비율 시각화 / 나이별 생존자의 성별 비율 비교 시각화 (하나의 Figure에 모두)\n",
    "- 2. 시도별 전출입 인구수\n",
    "    : 대구에서 타지역으로 이동 인구수 분석 및 시각화 / 전국으로 봤을 떄 가장 많은 이동이 발생한 지역"
   ]
  }
 ],
 "metadata": {
  "kernelspec": {
   "display_name": "PY39",
   "language": "python",
   "name": "python3"
  },
  "language_info": {
   "name": "python",
   "version": "3.9.19"
  }
 },
 "nbformat": 4,
 "nbformat_minor": 2
}

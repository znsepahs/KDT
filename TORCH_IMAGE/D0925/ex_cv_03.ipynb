{
 "cells": [
  {
   "cell_type": "markdown",
   "metadata": {},
   "source": [
    "#### 이미지 Drawing\n",
    "- 이미지 객체 ndarray 준비 필요"
   ]
  },
  {
   "cell_type": "code",
   "execution_count": 1,
   "metadata": {},
   "outputs": [],
   "source": [
    "# 모듈 로딩\n",
    "import cv2\n",
    "import numpy as np"
   ]
  },
  {
   "cell_type": "code",
   "execution_count": 2,
   "metadata": {},
   "outputs": [],
   "source": [
    "# 데이터 관련 변수 설정\n",
    "DIR_PATH='../image/'"
   ]
  },
  {
   "cell_type": "code",
   "execution_count": 3,
   "metadata": {},
   "outputs": [
    {
     "data": {
      "text/plain": [
       "True"
      ]
     },
     "execution_count": 3,
     "metadata": {},
     "output_type": "execute_result"
    }
   ],
   "source": [
    "# 이미지 객체\n",
    "bg_data=np.full((500,500,3), 255)\n",
    "\n",
    "# 이미지 파일 생성\n",
    "BG_FILE=DIR_PATH+'white_bg.jpg'\n",
    "cv2.imwrite(BG_FILE, bg_data)"
   ]
  },
  {
   "cell_type": "code",
   "execution_count": 4,
   "metadata": {},
   "outputs": [
    {
     "data": {
      "text/plain": [
       "((500, 500, 3), 3)"
      ]
     },
     "execution_count": 4,
     "metadata": {},
     "output_type": "execute_result"
    }
   ],
   "source": [
    "# 도화지 이미지 가져오기\n",
    "white_bg=cv2.imread(BG_FILE)\n",
    "white_bg.shape, white_bg.ndim\n"
   ]
  },
  {
   "cell_type": "code",
   "execution_count": 5,
   "metadata": {},
   "outputs": [],
   "source": [
    "white_bg2=cv2.imread(DIR_PATH+'dog2.png')"
   ]
  },
  {
   "cell_type": "code",
   "execution_count": 6,
   "metadata": {},
   "outputs": [],
   "source": [
    "# 선그리기\n",
    "cv2.line(white_bg2, (50, 50), (250,250), (255, 0, 0), 5) # 그릴 파일 / 시작 / 끝 / 색 / 선 굵기\n",
    "cv2.line(white_bg2, (100, 50), (350,250), (0, 255, 255), 10)\n",
    "cv2.line(white_bg2, (250, 50), (250,450), (255, 0, 255), 20)\n",
    "cv2.line(white_bg2, (-10, 50), (250,450), (255, 0, 255), 20)\n",
    "cv2.imshow('DRAWING',white_bg2)\n",
    "cv2.waitKey()\n",
    "cv2.destroyAllWindows()"
   ]
  },
  {
   "cell_type": "code",
   "execution_count": 7,
   "metadata": {},
   "outputs": [],
   "source": [
    "# 사각형 그리기\n",
    "cv2.rectangle(white_bg2, (50,50), (120,70), (0, 255, 255), 4) # 그릴 파일 / 시작 / 끝 / 색 / 테두리 굵기(-1로 주면 안을 채움)\n",
    "cv2.imshow('DRAWING',white_bg2)\n",
    "cv2.waitKey()\n",
    "cv2.destroyAllWindows()"
   ]
  },
  {
   "cell_type": "code",
   "execution_count": null,
   "metadata": {},
   "outputs": [],
   "source": []
  }
 ],
 "metadata": {
  "kernelspec": {
   "display_name": "TORCH_CV_38",
   "language": "python",
   "name": "python3"
  },
  "language_info": {
   "codemirror_mode": {
    "name": "ipython",
    "version": 3
   },
   "file_extension": ".py",
   "mimetype": "text/x-python",
   "name": "python",
   "nbconvert_exporter": "python",
   "pygments_lexer": "ipython3",
   "version": "3.8.19"
  }
 },
 "nbformat": 4,
 "nbformat_minor": 2
}

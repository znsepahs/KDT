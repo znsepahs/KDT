{
 "cells": [
  {
   "cell_type": "markdown",
   "metadata": {},
   "source": [
    "##### CNN 이미지 분류 모델\n",
    "    - 이미지 데이터셋 준비\n",
    "        * torchvision 내장 데이터셋 CIFAR10\n",
    "    - 이미지 분류 모델\n",
    "        * 커스텀 CNN 구현"
   ]
  },
  {
   "cell_type": "markdown",
   "metadata": {},
   "source": [
    "[1] 모듈 로딩 및 데이터 준비<hr> "
   ]
  },
  {
   "cell_type": "code",
   "execution_count": 1,
   "metadata": {},
   "outputs": [],
   "source": [
    "# 모듈 로딩\n",
    "import torch\n",
    "import torch.nn as nn\n",
    "import torch.nn.functional as F\n",
    "\n",
    "import matplotlib.pyplot as plt\n",
    "\n",
    "from torchvision.datasets import CIFAR10    # torchvision 내장 데이터셋 관련 모듈\n",
    "from torchvision.transforms import ToTensor # torchvision 데이터 변환 관련 모듈\n",
    "from torch.utils.data import DataLoader     # 데이터셋 관련 모듈 로딩"
   ]
  },
  {
   "cell_type": "code",
   "execution_count": 2,
   "metadata": {},
   "outputs": [
    {
     "name": "stdout",
     "output_type": "stream",
     "text": [
      "Files already downloaded and verified\n"
     ]
    }
   ],
   "source": [
    "# 데이터로딩\n",
    "DIR_PATH='../../../Localdata/'\n",
    "\n",
    "# Pytorch의 Dataset 형태 로딩\n",
    "cifarDS=CIFAR10(DIR_PATH,\n",
    "                train=True,\n",
    "                download=True,\n",
    "                transform=ToTensor())"
   ]
  },
  {
   "cell_type": "code",
   "execution_count": 3,
   "metadata": {},
   "outputs": [
    {
     "data": {
      "text/plain": [
       "torchvision.datasets.cifar.CIFAR10"
      ]
     },
     "execution_count": 3,
     "metadata": {},
     "output_type": "execute_result"
    }
   ],
   "source": [
    "type(cifarDS)"
   ]
  },
  {
   "cell_type": "code",
   "execution_count": 4,
   "metadata": {},
   "outputs": [
    {
     "name": "stdout",
     "output_type": "stream",
     "text": [
      "cifarDS.classes : ['airplane', 'automobile', 'bird', 'cat', 'deer', 'dog', 'frog', 'horse', 'ship', 'truck']\n",
      "cifarDS.class_to_idx : {'airplane': 0, 'automobile': 1, 'bird': 2, 'cat': 3, 'deer': 4, 'dog': 5, 'frog': 6, 'horse': 7, 'ship': 8, 'truck': 9}\n",
      "cifarDS.data.shape : (50000, 32, 32, 3)\n",
      "len(cifarDS.targets) : 50000\n"
     ]
    }
   ],
   "source": [
    "# Dataset의 속성 확인\n",
    "print(f'cifarDS.classes : {cifarDS.classes}')\n",
    "\n",
    "print(f'cifarDS.class_to_idx : {cifarDS.class_to_idx}')\n",
    "\n",
    "print(f'cifarDS.data.shape : {cifarDS.data.shape}')\n",
    "\n",
    "print(f'len(cifarDS.targets) : {len(cifarDS.targets)}')\n"
   ]
  },
  {
   "cell_type": "markdown",
   "metadata": {},
   "source": [
    "[2] 데이터 로더 <hr>\n",
    "- 학습 시 배치크기만큼 데이터와 라벨/타겟을 로딩"
   ]
  },
  {
   "cell_type": "code",
   "execution_count": 5,
   "metadata": {},
   "outputs": [],
   "source": [
    "BATCH_SIZE=50\n",
    "\n",
    "cifar10DL=DataLoader(cifarDS)"
   ]
  },
  {
   "cell_type": "code",
   "execution_count": 6,
   "metadata": {},
   "outputs": [
    {
     "name": "stdout",
     "output_type": "stream",
     "text": [
      "tensor([6])\n",
      "(3, 32, 32)\n",
      "(32, 32, 3)\n"
     ]
    }
   ],
   "source": [
    "for data, target in cifar10DL:\n",
    "    print(target)\n",
    "    data=data.numpy().squeeze()\n",
    "    print(data.shape)\n",
    "    print(data.T.shape)\n",
    "    break"
   ]
  },
  {
   "cell_type": "code",
   "execution_count": 7,
   "metadata": {},
   "outputs": [
    {
     "name": "stdout",
     "output_type": "stream",
     "text": [
      "tensor([6])\n",
      "torch.Size([1, 3, 32, 32])\n"
     ]
    },
    {
     "data": {
      "image/png": "[encoded data removed]",
      "text/plain": [
       "<Figure size 640x480 with 1 Axes>"
      ]
     },
     "metadata": {},
     "output_type": "display_data"
    }
   ],
   "source": [
    "# [테스트] Dataset & DataLoader\n",
    "for data, target in cifar10DL:\n",
    "    print(target)\n",
    "    print(data.shape)\n",
    "    data1=data.squeeze()\n",
    "    plt.imshow(data1.transpose(0,2))\n",
    "    plt.title(cifarDS.classes[target.item()])\n",
    "    break"
   ]
  },
  {
   "cell_type": "markdown",
   "metadata": {},
   "source": [
    "[3] 커스텀 모델 설계 및 정의 <hr>\n",
    "- 모델　목적 : 이미지 분류 모델\n",
    "- 학습　방법 : 지도학습 > 분류 > 다중분류 (10개)\n",
    "- 클래스이름 : ImageMCF\n",
    "- 클래스구조 : 특징추출부분 => CNN + 학습부분 FC\n",
    "- 부모클래스 : nn.Module"
   ]
  },
  {
   "cell_type": "code",
   "execution_count": 8,
   "metadata": {},
   "outputs": [],
   "source": [
    "class ImageMCF(nn.Module):\n",
    "    # 모델 구조 설계 즉, 생성자 메서드\n",
    "    def __init__(self):\n",
    "        # 부모 생성\n",
    "        super().__init__()\n",
    "        # 모델 층 구성\n",
    "        # 특징 추출\n",
    "        self.in_layer=nn.Conv2d(3, 10, 3)\n",
    "        self.p_layer=nn.MaxPool2d(2, stride=2)\n",
    "\n",
    "        # 학습 관련 층\n",
    "        self.hd_layer=nn.Linear(10*15*15, 50)\n",
    "        self.out_layer=nn.Linear(50, 10)\n",
    "    \n",
    "    \n",
    "    # 전방향/순방향 학습 메서드\n",
    "    def forward(self, input):\n",
    "        # 이미지 특징 맵 추출\n",
    "        output=self.in_layer(input)\n",
    "        print(f'[output 1 ] {output.shape}')\n",
    "\n",
    "        output=F.relu(output)\n",
    "        print(f'[output 2 ] {output.shape}')\n",
    "\n",
    "        output=self.p_layer(output)\n",
    "        print(f'[output 3 ] {output.shape}')\n",
    "\n",
    "        # 4D => 2D (샘플수, 피쳐수)\n",
    "        output=output.view(output.shape[0], -1)\n",
    "        print(f'[output 4 ] {output.shape}')\n",
    "\n",
    "        output=F.relu(self.hd_layer(output))\n",
    "        print(f'[output 5 ] {output.shape}')\n",
    "\n",
    "        output=self.out_layer(output)\n",
    "        print(f'[output 6 ] {output.shape}')\n",
    "\n",
    "        return output"
   ]
  },
  {
   "cell_type": "code",
   "execution_count": 9,
   "metadata": {},
   "outputs": [],
   "source": [
    "class ImageMCF2(nn.Module):\n",
    "    # 모델 구조 설계 즉, 생성자 메서드\n",
    "    def __init__(self):\n",
    "        # 부모 생성\n",
    "        super().__init__()\n",
    "        # 모델 층 구성\n",
    "        # 특징 추출 층\n",
    "        self.cnn_layer1=nn.Sequential(\n",
    "            nn.Conv2d(3, 10, 3),\n",
    "            nn.ReLU(),\n",
    "            nn.MaxPool2d(2, stride=2)\n",
    "            )\n",
    "\n",
    "        self.cnn_layer2=nn.Sequential(\n",
    "            nn.Conv2d(10, 30, 3),\n",
    "            nn.ReLU(),\n",
    "            nn.MaxPool2d(2, stride=2)\n",
    "            )\n",
    "        \n",
    "        # 학습 관련 층\n",
    "        self.hd_layer=nn.Linear(30*6*6, 50)\n",
    "        self.out_layer=nn.Linear(50, 10)\n",
    "    \n",
    "    \n",
    "    # 전방향/순방향 학습 메서드\n",
    "    def forward(self, input):\n",
    "        # 이미지 특징 맵 추출\n",
    "        output=self.cnn_layer1(input)\n",
    "        print(f'[cnn_layer1 output ] {output.shape}')\n",
    "\n",
    "        output=self.cnn_layer2(output)\n",
    "        print(f'[cnn_layer2 output ] {output.shape}')\n",
    "\n",
    "        # 4D => 2D (샘플수, 피쳐수)\n",
    "        output=output.view(output.shape[0], -1)\n",
    "        print(f'[view output] {output.shape}')\n",
    "\n",
    "        output=F.relu(self.hd_layer(output))\n",
    "        print(f'[hd_layer output ] {output.shape}')\n",
    "\n",
    "        output=self.out_layer(output)\n",
    "        print(f'[out_layer output ] {output.shape}')\n",
    "\n",
    "        return output"
   ]
  },
  {
   "cell_type": "code",
   "execution_count": 10,
   "metadata": {},
   "outputs": [],
   "source": [
    "# [테스트] 모델 인스턴스 생성\n",
    "m=ImageMCF2()"
   ]
  },
  {
   "cell_type": "code",
   "execution_count": 18,
   "metadata": {},
   "outputs": [
    {
     "data": {
      "text/plain": [
       "Linear(in_features=1080, out_features=50, bias=True)"
      ]
     },
     "execution_count": 18,
     "metadata": {},
     "output_type": "execute_result"
    }
   ],
   "source": [
    "# 인스턴스 속성 읽기 => 인스턴스변수명.속성명\n",
    "m.hd_layer"
   ]
  },
  {
   "cell_type": "code",
   "execution_count": 22,
   "metadata": {},
   "outputs": [
    {
     "name": "stdout",
     "output_type": "stream",
     "text": [
      "weight\n",
      "Parameter containing:\n",
      "tensor([[ 9.8865e-02,  2.4843e-01, -3.3550e-02,  1.5586e-01, -3.1158e-01,\n",
      "          8.5550e-02, -1.1856e-01,  6.5162e-02, -1.3455e-01,  6.5707e-02],\n",
      "        [ 4.6164e-02,  2.4029e-01, -1.3456e-01, -2.4884e-01, -2.1981e-01,\n",
      "         -1.8844e-01, -2.5559e-01,  2.2692e-02,  3.1570e-01,  3.2413e-02],\n",
      "        [-3.0127e-01,  2.4640e-02,  1.4369e-01, -1.6534e-01,  2.2621e-01,\n",
      "          1.5184e-04,  5.1779e-03, -1.0302e-01, -2.1709e-01, -1.7586e-03],\n",
      "        [ 2.7663e-01,  6.8770e-02,  1.2026e-02,  2.9105e-01,  2.6620e-01,\n",
      "          8.8717e-02, -1.8773e-01,  4.3212e-02,  6.6687e-03,  7.0063e-02],\n",
      "        [-1.0107e-01, -2.6131e-01, -1.5198e-01,  2.3604e-01, -1.9279e-01,\n",
      "         -2.7309e-02, -1.3017e-01, -1.5609e-01,  1.9168e-01,  1.7676e-01],\n",
      "        [ 1.9514e-01, -1.5686e-01,  2.7629e-01,  1.6944e-01, -1.7286e-01,\n",
      "          1.5963e-02,  1.7247e-01, -2.3804e-02, -5.3020e-02,  2.4809e-01],\n",
      "        [ 2.1135e-01,  2.6377e-01, -2.9268e-01,  2.4350e-01,  1.8172e-01,\n",
      "         -7.0188e-02, -2.8463e-01,  1.4016e-01, -8.1036e-02, -8.7851e-02],\n",
      "        [-1.4563e-01,  2.3308e-01, -2.5862e-01, -3.1036e-01,  1.7820e-01,\n",
      "          2.2103e-01, -2.3693e-01, -1.7422e-01,  1.2825e-01, -1.4611e-01],\n",
      "        [-2.3623e-02, -3.1385e-01, -9.1831e-02,  1.4988e-01,  2.9444e-01,\n",
      "         -1.6971e-01,  2.6190e-01,  2.9737e-01,  2.6380e-01,  1.9206e-01],\n",
      "        [ 5.2112e-02, -1.3213e-01,  3.0666e-01,  1.6116e-01,  2.5234e-01,\n",
      "          2.0732e-03,  5.3793e-02, -1.8377e-01,  2.0966e-01,  4.7613e-02],\n",
      "        [ 2.7595e-01,  1.6981e-01,  2.5760e-01,  5.5424e-02,  2.0784e-01,\n",
      "         -9.5255e-02, -1.4423e-01,  3.0784e-01,  7.4750e-02, -1.1912e-01],\n",
      "        [ 2.7763e-02,  2.4784e-01,  3.0887e-01, -5.6865e-02,  2.0068e-01,\n",
      "         -1.6085e-01, -8.6577e-02, -2.7116e-02, -1.9144e-01,  2.3897e-01],\n",
      "        [-2.4720e-01, -2.6959e-01, -3.1243e-01,  2.1769e-01, -1.0995e-01,\n",
      "          2.1786e-01,  2.6887e-01, -3.5679e-02,  1.2210e-01, -3.5659e-02],\n",
      "        [ 2.5303e-01, -4.6076e-02, -2.0568e-01,  3.1257e-01,  2.8343e-01,\n",
      "         -1.7770e-01, -9.9852e-02, -5.1139e-02, -2.6549e-01, -2.3144e-01],\n",
      "        [-1.6531e-01,  1.4602e-01, -2.0138e-01,  1.9475e-01,  2.5210e-01,\n",
      "          8.5827e-02,  3.0515e-01, -1.3041e-01, -8.1224e-02,  1.8809e-01],\n",
      "        [ 2.6923e-01,  2.9381e-01, -3.0245e-01,  1.5541e-01,  1.8611e-01,\n",
      "          1.6980e-01,  1.0482e-01, -5.7321e-02, -3.0562e-02,  1.5725e-02],\n",
      "        [-1.9706e-01,  2.4530e-01, -9.3706e-02, -1.9715e-01, -2.1047e-01,\n",
      "         -2.7876e-01, -6.7593e-02, -4.1086e-02, -1.6069e-01,  1.7732e-01],\n",
      "        [ 1.6669e-01, -8.8754e-02, -2.1055e-01, -1.4326e-01,  2.9286e-01,\n",
      "          1.6015e-01,  8.5677e-02, -7.0616e-02, -1.3608e-01,  5.0872e-02],\n",
      "        [ 1.9959e-01, -2.3030e-01,  8.1524e-02, -2.8229e-01, -5.9665e-02,\n",
      "         -1.7225e-01, -1.4206e-01,  2.3804e-01, -4.4544e-02, -1.0476e-01],\n",
      "        [ 2.0966e-02, -1.2032e-01,  2.7712e-01,  2.3000e-01, -2.4466e-01,\n",
      "          2.1480e-01, -2.6928e-01, -4.4055e-02, -2.2012e-01,  1.3735e-01],\n",
      "        [-2.2141e-01, -1.8893e-01, -2.5100e-01,  1.7581e-01,  2.8671e-01,\n",
      "          2.5578e-01,  2.9686e-01, -1.7839e-02, -2.4728e-01, -7.4125e-02],\n",
      "        [-1.5547e-01, -2.3859e-01, -6.9438e-02, -1.9065e-01, -1.7193e-01,\n",
      "         -1.5980e-01, -1.1534e-01,  6.1960e-03, -2.4078e-02, -4.0357e-02],\n",
      "        [-1.3019e-01, -2.5561e-01,  1.8774e-01,  1.2376e-01,  6.8943e-03,\n",
      "          1.2410e-01, -1.8774e-01,  1.7148e-01,  2.1440e-01, -5.4898e-02],\n",
      "        [-2.6267e-01, -1.1184e-01,  2.1920e-01, -2.6104e-02,  1.3661e-01,\n",
      "         -1.3677e-01,  1.5722e-01,  1.2693e-01, -2.8001e-01,  8.5629e-02],\n",
      "        [ 1.0712e-01, -1.1708e-01,  4.2344e-02,  1.7963e-01, -1.0140e-01,\n",
      "          1.8649e-01, -1.1616e-02,  1.8881e-02, -2.3591e-01,  1.6697e-01],\n",
      "        [-1.2899e-02,  3.3581e-02, -2.5038e-01,  1.4759e-01, -1.1233e-01,\n",
      "         -3.9106e-02, -1.0171e-01,  2.7022e-01,  2.1327e-01, -7.0426e-02],\n",
      "        [ 7.7887e-02,  5.8194e-02,  1.6313e-01,  2.5478e-01,  1.5530e-01,\n",
      "         -3.0552e-01,  1.1773e-01,  3.0859e-01,  9.1378e-02,  3.9135e-02],\n",
      "        [-2.8388e-01, -9.1511e-02,  1.3980e-01,  3.1211e-01,  1.3609e-01,\n",
      "          2.5615e-01,  2.6679e-01, -6.4885e-02,  2.8226e-02,  2.3943e-01],\n",
      "        [-2.3217e-01,  3.0464e-01,  2.1182e-01, -1.3493e-01, -2.3879e-01,\n",
      "          2.6712e-01, -9.7645e-02,  1.3472e-01,  2.9204e-01, -1.2262e-01],\n",
      "        [-1.1318e-01, -2.8223e-01, -1.0809e-01, -1.9993e-01,  6.8369e-02,\n",
      "          7.7271e-02,  2.6079e-01,  2.3703e-01,  3.0533e-01,  2.0910e-01]],\n",
      "       requires_grad=True)\n",
      "bias\n",
      "Parameter containing:\n",
      "tensor([-0.1072, -0.0926, -0.0126,  0.0606,  0.0619,  0.1863,  0.0157,  0.0731,\n",
      "         0.0230, -0.1232, -0.2027, -0.0735, -0.2124,  0.2694, -0.0012, -0.2256,\n",
      "         0.2476,  0.1413, -0.1840,  0.1354, -0.1497,  0.3066, -0.3034, -0.0550,\n",
      "         0.3124, -0.2861,  0.1149,  0.3116,  0.0508,  0.1963],\n",
      "       requires_grad=True)\n"
     ]
    }
   ],
   "source": [
    "# 인스턴스 속성 변경 => 인스턴스변수명.속성명=새로운 값\n",
    "m.out_layer=nn.Linear(10, 30)\n",
    "\n",
    "for name, param in m.out_layer.named_parameters():\n",
    "    print(name, param, sep='\\n')"
   ]
  },
  {
   "cell_type": "code",
   "execution_count": 11,
   "metadata": {},
   "outputs": [],
   "source": [
    "# 모델 정보 출력 패키지 설치\n",
    "#%pip install torchinfo"
   ]
  },
  {
   "cell_type": "code",
   "execution_count": 12,
   "metadata": {},
   "outputs": [
    {
     "data": {
      "text/plain": [
       "=================================================================\n",
       "Layer (type:depth-idx)                   Param #\n",
       "=================================================================\n",
       "ImageMCF2                                --\n",
       "├─Sequential: 1-1                        --\n",
       "│    └─Conv2d: 2-1                       280\n",
       "│    └─ReLU: 2-2                         --\n",
       "│    └─MaxPool2d: 2-3                    --\n",
       "├─Sequential: 1-2                        --\n",
       "│    └─Conv2d: 2-4                       2,730\n",
       "│    └─ReLU: 2-5                         --\n",
       "│    └─MaxPool2d: 2-6                    --\n",
       "├─Linear: 1-3                            54,050\n",
       "├─Linear: 1-4                            510\n",
       "=================================================================\n",
       "Total params: 57,570\n",
       "Trainable params: 57,570\n",
       "Non-trainable params: 0\n",
       "================================================================="
      ]
     },
     "execution_count": 12,
     "metadata": {},
     "output_type": "execute_result"
    }
   ],
   "source": [
    "from torchinfo import summary\n",
    "summary(m)"
   ]
  },
  {
   "cell_type": "code",
   "execution_count": 13,
   "metadata": {},
   "outputs": [
    {
     "name": "stdout",
     "output_type": "stream",
     "text": [
      "[target] => tensor([6])\n",
      "torch.Size([1, 3, 32, 32])\n",
      "[cnn_layer1 output ] torch.Size([1, 10, 15, 15])\n",
      "[cnn_layer2 output ] torch.Size([1, 30, 6, 6])\n",
      "[view output] torch.Size([1, 1080])\n",
      "[hd_layer output ] torch.Size([1, 50])\n",
      "[out_layer output ] torch.Size([1, 10])\n",
      "pre => tensor([7])\n"
     ]
    }
   ],
   "source": [
    "# [테스트] Dataset & DataLoader\n",
    "for data, target in cifar10DL:\n",
    "    print(f'[target] => {target}')\n",
    "    print(data.shape)\n",
    "    pre=m(data)\n",
    "    print(f'pre => {pre.argmax(dim=1)}')\n",
    "    break"
   ]
  },
  {
   "cell_type": "code",
   "execution_count": 14,
   "metadata": {},
   "outputs": [
    {
     "name": "stdout",
     "output_type": "stream",
     "text": [
      ">>[cnn_layer1.0.weight]==========\n",
      "torch.Size([10, 3, 3, 3])\n",
      ">>[cnn_layer1.0.bias]==========\n",
      "torch.Size([10])\n",
      ">>[cnn_layer2.0.weight]==========\n",
      "torch.Size([30, 10, 3, 3])\n",
      ">>[cnn_layer2.0.bias]==========\n",
      "torch.Size([30])\n",
      ">>[hd_layer.weight]==========\n",
      "torch.Size([50, 1080])\n",
      ">>[hd_layer.bias]==========\n",
      "torch.Size([50])\n",
      ">>[out_layer.weight]==========\n",
      "torch.Size([10, 50])\n",
      ">>[out_layer.bias]==========\n",
      "torch.Size([10])\n"
     ]
    }
   ],
   "source": [
    "# 모델 파라미터 확인\n",
    "for name, param in m.named_parameters():\n",
    "    print(f'>>[{name}]==========\\n{param.shape}')"
   ]
  },
  {
   "cell_type": "code",
   "execution_count": null,
   "metadata": {},
   "outputs": [],
   "source": []
  }
 ],
 "metadata": {
  "kernelspec": {
   "display_name": "TORCH_CV_38",
   "language": "python",
   "name": "python3"
  },
  "language_info": {
   "codemirror_mode": {
    "name": "ipython",
    "version": 3
   },
   "file_extension": ".py",
   "mimetype": "text/x-python",
   "name": "python",
   "nbconvert_exporter": "python",
   "pygments_lexer": "ipython3",
   "version": "3.8.19"
  }
 },
 "nbformat": 4,
 "nbformat_minor": 2
}

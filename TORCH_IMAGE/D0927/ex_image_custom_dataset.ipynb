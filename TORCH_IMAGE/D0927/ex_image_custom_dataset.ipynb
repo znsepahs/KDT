{
 "cells": [
  {
   "cell_type": "markdown",
   "metadata": {},
   "source": [
    "##### 데이터베이스기반 이미지 데이터셋 구성\n",
    "- 데이터베이스 형태의 raw image 데이터셋 처리\n",
    "- 커스텀 데이터셋 생성\n",
    "- 데이터셋 정규화 : 0 ~ 1\n",
    "- 이미지 데이터 형태 : (C, H, W)"
   ]
  },
  {
   "cell_type": "markdown",
   "metadata": {},
   "source": [
    "- [1] 모듈 로딩 및 데이터 준비<hr>"
   ]
  },
  {
   "cell_type": "code",
   "execution_count": 110,
   "metadata": {},
   "outputs": [],
   "source": [
    "##### 모듈로딩\n",
    "import os\n",
    "import torch\n",
    "import numpy as np\n",
    "from torch.utils.data import DataLoader, Dataset\n",
    "from torchinfo import summary\n",
    "import matplotlib.pyplot as plt"
   ]
  },
  {
   "cell_type": "code",
   "execution_count": 111,
   "metadata": {},
   "outputs": [
    {
     "name": "stdout",
     "output_type": "stream",
     "text": [
      "batches.meta\n",
      "data_batch_1\n",
      "data_batch_2\n",
      "data_batch_3\n",
      "data_batch_4\n",
      "data_batch_5\n",
      "readme.html\n",
      "test_batch\n"
     ]
    }
   ],
   "source": [
    "##### 데이터 관련 변수 및 설정\n",
    "FILE_PATH = '../data/cifar-10-batches-py/'\n",
    "DATA_LIST = os.listdir(FILE_PATH)\n",
    "\n",
    "for item in DATA_LIST: print( item )"
   ]
  },
  {
   "cell_type": "code",
   "execution_count": 112,
   "metadata": {},
   "outputs": [],
   "source": [
    "###  데이터 추출 관련 함수 \n",
    "def unpickle(file):\n",
    "    import pickle\n",
    "    with open(file, 'rb') as fo:\n",
    "        dict = pickle.load(fo, encoding='bytes')\n",
    "    return dict"
   ]
  },
  {
   "cell_type": "markdown",
   "metadata": {},
   "source": [
    "- [2] 데이터 추출 <hr>"
   ]
  },
  {
   "cell_type": "code",
   "execution_count": 113,
   "metadata": {},
   "outputs": [
    {
     "name": "stdout",
     "output_type": "stream",
     "text": [
      "[batches.meta FILE] dict_keys([b'num_cases_per_batch', b'label_names', b'num_vis'])\n",
      "[data_batch_1 FILE] dict_keys([b'batch_label', b'labels', b'data', b'filenames'])\n",
      "[data_batch_2 FILE] dict_keys([b'batch_label', b'labels', b'data', b'filenames'])\n",
      "[data_batch_3 FILE] dict_keys([b'batch_label', b'labels', b'data', b'filenames'])\n",
      "[data_batch_4 FILE] dict_keys([b'batch_label', b'labels', b'data', b'filenames'])\n",
      "[data_batch_5 FILE] dict_keys([b'batch_label', b'labels', b'data', b'filenames'])\n",
      "[readme.html FILE] dict_keys([b'batch_label', b'labels', b'data', b'filenames'])\n",
      "[test_batch FILE] dict_keys([b'batch_label', b'labels', b'data', b'filenames'])\n"
     ]
    }
   ],
   "source": [
    "### 데이터 파일 확인 \n",
    "for item in DATA_LIST: \n",
    "    try:\n",
    "        itemDict = unpickle(FILE_PATH + item)\n",
    "    except:\n",
    "        pass\n",
    "    print(f'[{item} FILE] {itemDict.keys()}')"
   ]
  },
  {
   "cell_type": "code",
   "execution_count": 114,
   "metadata": {},
   "outputs": [
    {
     "name": "stdout",
     "output_type": "stream",
     "text": [
      "['airplane', 'automobile', 'bird', 'cat', 'deer', 'dog', 'frog', 'horse', 'ship', 'truck']\n"
     ]
    }
   ],
   "source": [
    "### 데이터 정보 추출\n",
    "itemDict = unpickle(FILE_PATH + DATA_LIST[0])\n",
    "LABEL_NAMES = [ str(item, encoding='utf-8') for item in itemDict[b'label_names'] ]\n",
    "print(LABEL_NAMES)"
   ]
  },
  {
   "cell_type": "code",
   "execution_count": 116,
   "metadata": {},
   "outputs": [],
   "source": [
    "### 데이터 추출 \n",
    "rawData = {'data':[], 'labels':[]}\n",
    "for i in DATA_LIST[1:6]:\n",
    "    itemDict = unpickle(FILE_PATH + i)\n",
    "    rawData['data'].extend((itemDict[b'data']/255).reshape(-1,3,32,32))\n",
    "    rawData['labels'].extend(itemDict[b'labels'])"
   ]
  },
  {
   "cell_type": "code",
   "execution_count": 117,
   "metadata": {},
   "outputs": [
    {
     "name": "stdout",
     "output_type": "stream",
     "text": [
      "rawData[data]   => 50000개\n",
      "rawData[labels] => 50000개\n"
     ]
    }
   ],
   "source": [
    "print(f'rawData[data]   => {len(rawData[\"data\"])}개')\n",
    "print(f'rawData[labels] => {len(rawData[\"labels\"])}개')"
   ]
  },
  {
   "cell_type": "markdown",
   "metadata": {},
   "source": [
    "- [이미지 커스텀데이터셋]<hr>"
   ]
  },
  {
   "cell_type": "code",
   "execution_count": 118,
   "metadata": {},
   "outputs": [],
   "source": [
    "class ImageDataset(Dataset):\n",
    "    def __init__(self,features,targets):\n",
    "        super().__init__()\n",
    "        self.features = features\n",
    "        self.targets = targets\n",
    "\n",
    "    def __len__(self):\n",
    "        return self.n_rows\n",
    "\n",
    "    def __getitem__(self, index) :\n",
    "        featureTS = torch.FloatTensor(self.features[index])\n",
    "        targetTS = torch.tensor(self.targets[index], dtype=torch.uint8)\n",
    "        return featureTS, targetTS"
   ]
  },
  {
   "cell_type": "code",
   "execution_count": 119,
   "metadata": {},
   "outputs": [],
   "source": [
    "#### [테스트]\n",
    "imgDS=ImageDataset(rawData[\"data\"], rawData[\"labels\"])"
   ]
  },
  {
   "cell_type": "code",
   "execution_count": 120,
   "metadata": {},
   "outputs": [
    {
     "data": {
      "image/png": "[encoded data removed]",
      "text/plain": [
       "<Figure size 1000x500 with 3 Axes>"
      ]
     },
     "metadata": {},
     "output_type": "display_data"
    }
   ],
   "source": [
    "# 3개 데이터와 타겟 로딩 \n",
    "fig, axes=plt.subplots(1,3, figsize=(10, 5))\n",
    "for idx, (img_data, target) in enumerate(imgDS) :\n",
    "    axes[idx].imshow(img_data.permute(1,2,0))\n",
    "    axes[idx].set_title(LABEL_NAMES[target.item()])\n",
    "    if idx==2: break\n",
    "plt.show()"
   ]
  }
 ],
 "metadata": {
  "kernelspec": {
   "display_name": "TORCH_CV_38",
   "language": "python",
   "name": "python3"
  },
  "language_info": {
   "codemirror_mode": {
    "name": "ipython",
    "version": 3
   },
   "file_extension": ".py",
   "mimetype": "text/x-python",
   "name": "python",
   "nbconvert_exporter": "python",
   "pygments_lexer": "ipython3",
   "version": "3.8.19"
  }
 },
 "nbformat": 4,
 "nbformat_minor": 2
}

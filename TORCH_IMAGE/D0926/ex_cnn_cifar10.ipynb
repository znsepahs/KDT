{
 "cells": [
  {
   "cell_type": "markdown",
   "metadata": {},
   "source": [
    "##### CNN 이미지 분류 모델\n",
    "    - 이미지 데이터셋 준비\n",
    "        * torchvision 내장 데이터셋 CIFAR10\n",
    "    - 이미지 분류 모델\n",
    "        * 커스텀 CNN 구현"
   ]
  },
  {
   "cell_type": "markdown",
   "metadata": {},
   "source": [
    "[1] 모듈 로딩 및 데이터 준비<hr> "
   ]
  },
  {
   "cell_type": "code",
   "execution_count": 1,
   "metadata": {},
   "outputs": [],
   "source": [
    "# 모듈 로딩\n",
    "import torch\n",
    "import torch.nn as nn\n",
    "import torch.nn.functional as F\n",
    "\n",
    "import matplotlib.pyplot as plt\n",
    "\n",
    "from torchvision.datasets import CIFAR10    # torchvision 내장 데이터셋 관련 모듈\n",
    "from torchvision.transforms import ToTensor # torchvision 데이터 변환 관련 모듈\n",
    "from torch.utils.data import DataLoader     # 데이터셋 관련 모듈 로딩"
   ]
  },
  {
   "cell_type": "code",
   "execution_count": 2,
   "metadata": {},
   "outputs": [
    {
     "name": "stdout",
     "output_type": "stream",
     "text": [
      "Files already downloaded and verified\n"
     ]
    }
   ],
   "source": [
    "# 데이터로딩\n",
    "DIR_PATH='../../../Localdata/'\n",
    "\n",
    "# Pytorch의 Dataset 형태 로딩\n",
    "cifarDS=CIFAR10(DIR_PATH,\n",
    "                train=True,\n",
    "                download=True,\n",
    "                transform=ToTensor())"
   ]
  },
  {
   "cell_type": "code",
   "execution_count": 3,
   "metadata": {},
   "outputs": [
    {
     "data": {
      "text/plain": [
       "torchvision.datasets.cifar.CIFAR10"
      ]
     },
     "execution_count": 3,
     "metadata": {},
     "output_type": "execute_result"
    }
   ],
   "source": [
    "type(cifarDS)"
   ]
  },
  {
   "cell_type": "code",
   "execution_count": 4,
   "metadata": {},
   "outputs": [
    {
     "name": "stdout",
     "output_type": "stream",
     "text": [
      "cifarDS.classes : ['airplane', 'automobile', 'bird', 'cat', 'deer', 'dog', 'frog', 'horse', 'ship', 'truck']\n",
      "cifarDS.class_to_idx : {'airplane': 0, 'automobile': 1, 'bird': 2, 'cat': 3, 'deer': 4, 'dog': 5, 'frog': 6, 'horse': 7, 'ship': 8, 'truck': 9}\n",
      "cifarDS.data.shape : (50000, 32, 32, 3)\n",
      "len(cifarDS.targets) : 50000\n"
     ]
    }
   ],
   "source": [
    "# Dataset의 속성 확인\n",
    "print(f'cifarDS.classes : {cifarDS.classes}')\n",
    "\n",
    "print(f'cifarDS.class_to_idx : {cifarDS.class_to_idx}')\n",
    "\n",
    "print(f'cifarDS.data.shape : {cifarDS.data.shape}')\n",
    "\n",
    "print(f'len(cifarDS.targets) : {len(cifarDS.targets)}')\n"
   ]
  },
  {
   "cell_type": "markdown",
   "metadata": {},
   "source": [
    "[2] 데이터 로더 <hr>\n",
    "- 학습 시 배치크기만큼 데이터와 라벨/타겟을 로딩"
   ]
  },
  {
   "cell_type": "code",
   "execution_count": 5,
   "metadata": {},
   "outputs": [],
   "source": [
    "BATCH_SIZE=50\n",
    "\n",
    "cifar10DL=DataLoader(cifarDS)"
   ]
  },
  {
   "cell_type": "code",
   "execution_count": 6,
   "metadata": {},
   "outputs": [
    {
     "name": "stdout",
     "output_type": "stream",
     "text": [
      "tensor([6])\n",
      "(3, 32, 32)\n",
      "(32, 32, 3)\n"
     ]
    }
   ],
   "source": [
    "for data, target in cifar10DL:\n",
    "    print(target)\n",
    "    data=data.numpy().squeeze()\n",
    "    print(data.shape)\n",
    "    print(data.T.shape)\n",
    "    break"
   ]
  },
  {
   "cell_type": "code",
   "execution_count": 7,
   "metadata": {},
   "outputs": [
    {
     "name": "stdout",
     "output_type": "stream",
     "text": [
      "tensor([6])\n",
      "torch.Size([1, 3, 32, 32])\n"
     ]
    },
    {
     "data": {
      "image/png": "[encoded data removed]",
      "text/plain": [
       "<Figure size 640x480 with 1 Axes>"
      ]
     },
     "metadata": {},
     "output_type": "display_data"
    }
   ],
   "source": [
    "# [테스트] Dataset & DataLoader\n",
    "for data, target in cifar10DL:\n",
    "    print(target)\n",
    "    print(data.shape)\n",
    "    data1=data.squeeze()\n",
    "    plt.imshow(data1.transpose(0,2))\n",
    "    plt.title(cifarDS.classes[target.item()])\n",
    "    break"
   ]
  },
  {
   "cell_type": "markdown",
   "metadata": {},
   "source": [
    "[3] 커스텀 모델 설계 및 정의 <hr>\n",
    "- 모델　목적 : 이미지 분류 모델\n",
    "- 학습　방법 : 지도학습 > 분류 > 다중분류 (10개)\n",
    "- 클래스이름 : ImageMCF\n",
    "- 클래스구조 : 특징추출부분 => CNN + 학습부분 FC\n",
    "- 부모클래스 : nn.Module"
   ]
  },
  {
   "cell_type": "code",
   "execution_count": 8,
   "metadata": {},
   "outputs": [],
   "source": [
    "class ImageMCF(nn.Module):\n",
    "    # 모델 구조 설계 즉, 생성자 메서드\n",
    "    def __init__(self):\n",
    "        # 부모 생성\n",
    "        super().__init__()\n",
    "        # 모델 층 구성\n",
    "        # 특징 추출\n",
    "        self.in_layer=nn.Conv2d(3, 10, 3)\n",
    "        self.p_layer=nn.MaxPool2d(2, stride=2)\n",
    "\n",
    "        # 학습 관련 층\n",
    "        self.hd_layer=nn.Linear(10*15*15, 50)\n",
    "        self.out_layer=nn.Linear(50, 10)\n",
    "    \n",
    "    \n",
    "    # 전방향/순방향 학습 메서드\n",
    "    def forward(self, input):\n",
    "        # 이미지 특징 맵 추출\n",
    "        output=self.in_layer(input)\n",
    "        print(f'[output 1 ] {output.shape}')\n",
    "\n",
    "        output=F.relu(output)\n",
    "        print(f'[output 2 ] {output.shape}')\n",
    "\n",
    "        output=self.p_layer(output)\n",
    "        print(f'[output 3 ] {output.shape}')\n",
    "\n",
    "        # 4D => 2D (샘플수, 피쳐수)\n",
    "        output=output.view(output.shape[0], -1)\n",
    "        print(f'[output 4 ] {output.shape}')\n",
    "\n",
    "        output=F.relu(self.hd_layer(output))\n",
    "        print(f'[output 5 ] {output.shape}')\n",
    "\n",
    "        output=self.out_layer(output)\n",
    "        print(f'[output 6 ] {output.shape}')\n",
    "\n",
    "        return output"
   ]
  },
  {
   "cell_type": "code",
   "execution_count": 19,
   "metadata": {},
   "outputs": [],
   "source": [
    "class ImageMCF2(nn.Module):\n",
    "    # 모델 구조 설계 즉, 생성자 메서드\n",
    "    def __init__(self):\n",
    "        # 부모 생성\n",
    "        super().__init__()\n",
    "        # 모델 층 구성\n",
    "        # 특징 추출 층\n",
    "        self.cnn_layer1=nn.Sequential(\n",
    "            nn.Conv2d(3, 10, 3),\n",
    "            nn.ReLU(),\n",
    "            nn.MaxPool2d(2, stride=2)\n",
    "            )\n",
    "\n",
    "        self.cnn_layer2=nn.Sequential(\n",
    "            nn.Conv2d(10, 30, 3),\n",
    "            nn.ReLU(),\n",
    "            nn.MaxPool2d(2, stride=2)\n",
    "            )\n",
    "        \n",
    "        # 학습 관련 층\n",
    "        self.hd_layer=nn.Linear(30*6*6, 50)\n",
    "        self.out_layer=nn.Linear(50, 10)\n",
    "    \n",
    "    \n",
    "    # 전방향/순방향 학습 메서드\n",
    "    def forward(self, input):\n",
    "        # 이미지 특징 맵 추출\n",
    "        output=self.cnn_layer1(input)\n",
    "        print(f'[cnn_layer1 output ] {output.shape}')\n",
    "\n",
    "        output=self.cnn_layer2(output)\n",
    "        print(f'[cnn_layer2 output ] {output.shape}')\n",
    "\n",
    "        # 4D => 2D (샘플수, 피쳐수)\n",
    "        output=output.view(output.shape[0], -1)\n",
    "        print(f'[view output] {output.shape}')\n",
    "\n",
    "        output=F.relu(self.hd_layer(output))\n",
    "        print(f'[hd_layer output ] {output.shape}')\n",
    "\n",
    "        output=self.out_layer(output)\n",
    "        print(f'[out_layer output ] {output.shape}')\n",
    "\n",
    "        return output"
   ]
  },
  {
   "cell_type": "code",
   "execution_count": 20,
   "metadata": {},
   "outputs": [],
   "source": [
    "# [테스트] 모델 인스턴스 생성\n",
    "m=ImageMCF2()"
   ]
  },
  {
   "cell_type": "code",
   "execution_count": 21,
   "metadata": {},
   "outputs": [],
   "source": [
    "# 모델 정보 출력 패키지 설치\n",
    "#%pip install torchinfo"
   ]
  },
  {
   "cell_type": "code",
   "execution_count": 22,
   "metadata": {},
   "outputs": [
    {
     "data": {
      "text/plain": [
       "=================================================================\n",
       "Layer (type:depth-idx)                   Param #\n",
       "=================================================================\n",
       "ImageMCF2                                --\n",
       "├─Sequential: 1-1                        --\n",
       "│    └─Conv2d: 2-1                       280\n",
       "│    └─ReLU: 2-2                         --\n",
       "│    └─MaxPool2d: 2-3                    --\n",
       "├─Sequential: 1-2                        --\n",
       "│    └─Conv2d: 2-4                       2,730\n",
       "│    └─ReLU: 2-5                         --\n",
       "│    └─MaxPool2d: 2-6                    --\n",
       "├─Linear: 1-3                            54,050\n",
       "├─Linear: 1-4                            510\n",
       "=================================================================\n",
       "Total params: 57,570\n",
       "Trainable params: 57,570\n",
       "Non-trainable params: 0\n",
       "================================================================="
      ]
     },
     "execution_count": 22,
     "metadata": {},
     "output_type": "execute_result"
    }
   ],
   "source": [
    "from torchinfo import summary\n",
    "summary(m)"
   ]
  },
  {
   "cell_type": "code",
   "execution_count": 23,
   "metadata": {},
   "outputs": [
    {
     "name": "stdout",
     "output_type": "stream",
     "text": [
      "[target] => tensor([6])\n",
      "torch.Size([1, 3, 32, 32])\n",
      "[cnn_layer1 output ] torch.Size([1, 10, 15, 15])\n",
      "[cnn_layer2 output ] torch.Size([1, 30, 6, 6])\n",
      "[view output] torch.Size([1, 1080])\n",
      "[hd_layer output ] torch.Size([1, 50])\n",
      "[out_layer output ] torch.Size([1, 10])\n",
      "pre => tensor([9])\n"
     ]
    }
   ],
   "source": [
    "# [테스트] Dataset & DataLoader\n",
    "for data, target in cifar10DL:\n",
    "    print(f'[target] => {target}')\n",
    "    print(data.shape)\n",
    "    pre=m(data)\n",
    "    print(f'pre => {pre.argmax(dim=1)}')\n",
    "    break"
   ]
  },
  {
   "cell_type": "code",
   "execution_count": 18,
   "metadata": {},
   "outputs": [
    {
     "name": "stdout",
     "output_type": "stream",
     "text": [
      ">>[cnn_layer1.0.weight]==========\n",
      "torch.Size([10, 3, 3, 3])\n",
      ">>[cnn_layer1.0.bias]==========\n",
      "torch.Size([10])\n",
      ">>[cnn_layer2.0.weight]==========\n",
      "torch.Size([30, 10, 3, 3])\n",
      ">>[cnn_layer2.0.bias]==========\n",
      "torch.Size([30])\n",
      ">>[hd_layer.weight]==========\n",
      "torch.Size([50, 1080])\n",
      ">>[hd_layer.bias]==========\n",
      "torch.Size([50])\n",
      ">>[out_layer.weight]==========\n",
      "torch.Size([10, 50])\n",
      ">>[out_layer.bias]==========\n",
      "torch.Size([10])\n"
     ]
    }
   ],
   "source": [
    "# 모델 파라미터 확인\n",
    "for name, param in m.named_parameters():\n",
    "    print(f'>>[{name}]==========\\n{param.shape}')"
   ]
  },
  {
   "cell_type": "code",
   "execution_count": null,
   "metadata": {},
   "outputs": [],
   "source": []
  }
 ],
 "metadata": {
  "kernelspec": {
   "display_name": "TORCH_CV_38",
   "language": "python",
   "name": "python3"
  },
  "language_info": {
   "codemirror_mode": {
    "name": "ipython",
    "version": 3
   },
   "file_extension": ".py",
   "mimetype": "text/x-python",
   "name": "python",
   "nbconvert_exporter": "python",
   "pygments_lexer": "ipython3",
   "version": "3.8.19"
  }
 },
 "nbformat": 4,
 "nbformat_minor": 2
}

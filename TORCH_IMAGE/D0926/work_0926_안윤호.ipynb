{
 "cells": [
  {
   "cell_type": "markdown",
   "metadata": {},
   "source": [
    "##### CNN 이미지 분류 모델\n",
    "    - 커스텀 데이터셋 준비\n",
    "        * Pytorch 내장 데이터셋 CIFAR10\n",
    "    - 이미지 분류 모델\n",
    "        * 커스텀 CNN 구현"
   ]
  },
  {
   "cell_type": "code",
   "execution_count": 2,
   "metadata": {},
   "outputs": [
    {
     "name": "stdout",
     "output_type": "stream",
     "text": [
      "Collecting torchmetrics\n",
      "  Downloading torchmetrics-1.4.2-py3-none-any.whl.metadata (19 kB)\n",
      "Requirement already satisfied: numpy>1.20.0 in c:\\users\\lg\\anaconda3\\envs\\torch_cv_38\\lib\\site-packages (from torchmetrics) (1.24.3)\n",
      "Requirement already satisfied: packaging>17.1 in c:\\users\\lg\\anaconda3\\envs\\torch_cv_38\\lib\\site-packages (from torchmetrics) (24.1)\n",
      "Requirement already satisfied: torch>=1.10.0 in c:\\users\\lg\\anaconda3\\envs\\torch_cv_38\\lib\\site-packages (from torchmetrics) (2.4.1)\n",
      "Collecting lightning-utilities>=0.8.0 (from torchmetrics)\n",
      "  Using cached lightning_utilities-0.11.7-py3-none-any.whl.metadata (5.2 kB)\n",
      "Requirement already satisfied: typing-extensions in c:\\users\\lg\\anaconda3\\envs\\torch_cv_38\\lib\\site-packages (from torchmetrics) (4.11.0)\n",
      "Requirement already satisfied: setuptools in c:\\users\\lg\\anaconda3\\envs\\torch_cv_38\\lib\\site-packages (from lightning-utilities>=0.8.0->torchmetrics) (75.1.0)\n",
      "Requirement already satisfied: filelock in c:\\users\\lg\\anaconda3\\envs\\torch_cv_38\\lib\\site-packages (from torch>=1.10.0->torchmetrics) (3.13.1)\n",
      "Requirement already satisfied: sympy in c:\\users\\lg\\anaconda3\\envs\\torch_cv_38\\lib\\site-packages (from torch>=1.10.0->torchmetrics) (1.13.2)\n",
      "Requirement already satisfied: networkx in c:\\users\\lg\\anaconda3\\envs\\torch_cv_38\\lib\\site-packages (from torch>=1.10.0->torchmetrics) (3.1)\n",
      "Requirement already satisfied: jinja2 in c:\\users\\lg\\anaconda3\\envs\\torch_cv_38\\lib\\site-packages (from torch>=1.10.0->torchmetrics) (3.1.4)\n",
      "Collecting fsspec (from torch>=1.10.0->torchmetrics)\n",
      "  Using cached fsspec-2024.9.0-py3-none-any.whl.metadata (11 kB)\n",
      "Requirement already satisfied: MarkupSafe>=2.0 in c:\\users\\lg\\anaconda3\\envs\\torch_cv_38\\lib\\site-packages (from jinja2->torch>=1.10.0->torchmetrics) (2.1.3)\n",
      "Requirement already satisfied: mpmath<1.4,>=1.1.0 in c:\\users\\lg\\anaconda3\\envs\\torch_cv_38\\lib\\site-packages (from sympy->torch>=1.10.0->torchmetrics) (1.3.0)\n",
      "Downloading torchmetrics-1.4.2-py3-none-any.whl (869 kB)\n",
      "   ---------------------------------------- 0.0/869.2 kB ? eta -:--:--\n",
      "   --------------------------------------- 869.2/869.2 kB 19.6 MB/s eta 0:00:00\n",
      "Using cached lightning_utilities-0.11.7-py3-none-any.whl (26 kB)\n",
      "Using cached fsspec-2024.9.0-py3-none-any.whl (179 kB)\n",
      "Installing collected packages: lightning-utilities, fsspec, torchmetrics\n",
      "Successfully installed fsspec-2024.9.0 lightning-utilities-0.11.7 torchmetrics-1.4.2\n",
      "Note: you may need to restart the kernel to use updated packages.\n"
     ]
    }
   ],
   "source": [
    "#%pip install torchmetrics"
   ]
  },
  {
   "cell_type": "code",
   "execution_count": 3,
   "metadata": {},
   "outputs": [],
   "source": [
    "# 모듈로딩\n",
    "import torch\n",
    "import torch.nn as nn\n",
    "import torch.nn.functional as F\n",
    "import torch.optim as opimizer\n",
    "from torchmetrics.classification import F1Score\n",
    "from torchinfo import summary\n",
    "from torch.utils.data import Dataset, DataLoader\n",
    "\n",
    "import pandas as pd"
   ]
  },
  {
   "cell_type": "code",
   "execution_count": null,
   "metadata": {},
   "outputs": [],
   "source": [
    "# 데이터 증강\n",
    "transform_train = transforms.Compose(\n",
    "    [\n",
    "        transforms.Resize(TARGET_SIZE), # 이미지 크기 조절\n",
    "        #transforms.RandomAutocontrast(), # 대조 조정\n",
    "        #transforms.RandomAffine(degrees= 0, translate= (0.2, 0.2)), # affine 공간에서 회전, 이동\n",
    "        transforms.RandomHorizontalFlip(), # 확률로 좌우반전, 확률 파라미터 디폴트는 0.5로 잡혀있음\n",
    "        transforms.ToTensor()\n",
    "    ]\n",
    ")\n",
    "\n",
    "transform_test_val = transforms.Compose(\n",
    "    [\n",
    "        transforms.Resize(TARGET_SIZE),\n",
    "        transforms.ToTensor()\n",
    "    ]\n",
    ")"
   ]
  },
  {
   "cell_type": "code",
   "execution_count": null,
   "metadata": {},
   "outputs": [],
   "source": [
    "# 데이터 로드\n",
    "#train_dataset[index_image][0] =>  image (tensor); train_dataset[index_image][1] => label (int)\n",
    "train_dataset = ImageFolder(root= TRAIN_PATH, transform= transform_train)\n",
    "val_dataset = ImageFolder(root= VAL_PATH, transform= transform_test_val)\n",
    "test_dataset = ImageFolder(root= TEST_PATH, transform= transform_test_val)\n",
    "\n",
    "train_loader = DataLoader(train_dataset, batch_size= BATCH_SIZE_TRAIN, shuffle= True)\n",
    "val_loader = DataLoader(val_dataset, batch_size= BATCH_SIZE_VAL_TEST, shuffle= False)\n",
    "test_loader = DataLoader(test_dataset, batch_size= BATCH_SIZE_VAL_TEST, shuffle= False)\n",
    "\n",
    "#show_image_from_tensor(path_font, 32, train_dataset[5000], TARGET_SIZE[0])\n",
    "print('============================== DATA ============================')\n",
    "print('Train data size: {}'.format(len(train_dataset)))\n",
    "print('Val data size: {}'.format(len(val_dataset)))\n",
    "print('Test data size: {}'.format(len(test_dataset)))\n",
    "print('================================================================')"
   ]
  }
 ],
 "metadata": {
  "kernelspec": {
   "display_name": "TORCH_CV_38",
   "language": "python",
   "name": "python3"
  },
  "language_info": {
   "codemirror_mode": {
    "name": "ipython",
    "version": 3
   },
   "file_extension": ".py",
   "mimetype": "text/x-python",
   "name": "python",
   "nbconvert_exporter": "python",
   "pygments_lexer": "ipython3",
   "version": "3.8.19"
  }
 },
 "nbformat": 4,
 "nbformat_minor": 2
}

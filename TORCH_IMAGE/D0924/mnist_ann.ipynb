{
 "cells": [
  {
   "cell_type": "code",
   "execution_count": 1,
   "metadata": {},
   "outputs": [
    {
     "name": "stdout",
     "output_type": "stream",
     "text": [
      "Collecting koreanize-matplotlib\n",
      "  Using cached koreanize_matplotlib-0.1.1-py3-none-any.whl.metadata (992 bytes)\n",
      "Requirement already satisfied: matplotlib in c:\\users\\lg\\anaconda3\\envs\\torch_cv_38\\lib\\site-packages (from koreanize-matplotlib) (3.7.2)\n",
      "Requirement already satisfied: contourpy>=1.0.1 in c:\\users\\lg\\anaconda3\\envs\\torch_cv_38\\lib\\site-packages (from matplotlib->koreanize-matplotlib) (1.0.5)\n",
      "Requirement already satisfied: cycler>=0.10 in c:\\users\\lg\\anaconda3\\envs\\torch_cv_38\\lib\\site-packages (from matplotlib->koreanize-matplotlib) (0.11.0)\n",
      "Requirement already satisfied: fonttools>=4.22.0 in c:\\users\\lg\\anaconda3\\envs\\torch_cv_38\\lib\\site-packages (from matplotlib->koreanize-matplotlib) (4.51.0)\n",
      "Requirement already satisfied: kiwisolver>=1.0.1 in c:\\users\\lg\\anaconda3\\envs\\torch_cv_38\\lib\\site-packages (from matplotlib->koreanize-matplotlib) (1.4.4)\n",
      "Requirement already satisfied: numpy>=1.20 in c:\\users\\lg\\anaconda3\\envs\\torch_cv_38\\lib\\site-packages (from matplotlib->koreanize-matplotlib) (1.24.3)\n",
      "Requirement already satisfied: packaging>=20.0 in c:\\users\\lg\\anaconda3\\envs\\torch_cv_38\\lib\\site-packages (from matplotlib->koreanize-matplotlib) (24.1)\n",
      "Requirement already satisfied: pillow>=6.2.0 in c:\\users\\lg\\anaconda3\\envs\\torch_cv_38\\lib\\site-packages (from matplotlib->koreanize-matplotlib) (10.4.0)\n",
      "Requirement already satisfied: pyparsing<3.1,>=2.3.1 in c:\\users\\lg\\anaconda3\\envs\\torch_cv_38\\lib\\site-packages (from matplotlib->koreanize-matplotlib) (3.0.9)\n",
      "Requirement already satisfied: python-dateutil>=2.7 in c:\\users\\lg\\anaconda3\\envs\\torch_cv_38\\lib\\site-packages (from matplotlib->koreanize-matplotlib) (2.9.0.post0)\n",
      "Requirement already satisfied: importlib-resources>=3.2.0 in c:\\users\\lg\\anaconda3\\envs\\torch_cv_38\\lib\\site-packages (from matplotlib->koreanize-matplotlib) (6.4.0)\n",
      "Requirement already satisfied: zipp>=3.1.0 in c:\\users\\lg\\anaconda3\\envs\\torch_cv_38\\lib\\site-packages (from importlib-resources>=3.2.0->matplotlib->koreanize-matplotlib) (3.17.0)\n",
      "Requirement already satisfied: six>=1.5 in c:\\users\\lg\\anaconda3\\envs\\torch_cv_38\\lib\\site-packages (from python-dateutil>=2.7->matplotlib->koreanize-matplotlib) (1.16.0)\n",
      "Using cached koreanize_matplotlib-0.1.1-py3-none-any.whl (7.9 MB)\n",
      "Installing collected packages: koreanize-matplotlib\n",
      "Successfully installed koreanize-matplotlib-0.1.1\n",
      "Note: you may need to restart the kernel to use updated packages.\n"
     ]
    }
   ],
   "source": [
    "#%pip install koreanize-matplotlib"
   ]
  },
  {
   "cell_type": "code",
   "execution_count": null,
   "metadata": {},
   "outputs": [],
   "source": []
  }
 ],
 "metadata": {
  "kernelspec": {
   "display_name": "TORCH_CV_38",
   "language": "python",
   "name": "python3"
  },
  "language_info": {
   "codemirror_mode": {
    "name": "ipython",
    "version": 3
   },
   "file_extension": ".py",
   "mimetype": "text/x-python",
   "name": "python",
   "nbconvert_exporter": "python",
   "pygments_lexer": "ipython3",
   "version": "3.8.19"
  }
 },
 "nbformat": 4,
 "nbformat_minor": 2
}

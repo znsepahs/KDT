{
 "cells": [
  {
   "cell_type": "markdown",
   "metadata": {},
   "source": [
    "##### OpenCV 기본 사용법"
   ]
  },
  {
   "cell_type": "code",
   "execution_count": 2,
   "metadata": {},
   "outputs": [],
   "source": [
    "# 모듈 로딩\n",
    "import cv2\n",
    "import os\n",
    "import numpy as np\n",
    "import time"
   ]
  },
  {
   "cell_type": "code",
   "execution_count": 3,
   "metadata": {},
   "outputs": [],
   "source": [
    "# 이미지 관련 공통 변수\n",
    "IMG_DIR='../image/'"
   ]
  },
  {
   "cell_type": "markdown",
   "metadata": {},
   "source": [
    "[1] 이미지 읽기 => ndarray"
   ]
  },
  {
   "cell_type": "code",
   "execution_count": 4,
   "metadata": {},
   "outputs": [],
   "source": [
    "# 이미지 파일 경로+파일명\n",
    "IMG_FILE=IMG_DIR+'logo.png'\n",
    "\n",
    "# 이미지 데이터\n",
    "im_data=cv2.imread(IMG_FILE)\n",
    "gray_data=cv2.imread(IMG_FILE, flags=cv2.IMREAD_GRAYSCALE)"
   ]
  },
  {
   "cell_type": "code",
   "execution_count": 5,
   "metadata": {},
   "outputs": [
    {
     "name": "stdout",
     "output_type": "stream",
     "text": [
      "[im_data]\n",
      "shape (184, 544, 3)\n",
      "ndim 3D\n",
      "[gray_data]\n",
      "shape (184, 544)\n",
      "ndim 2D\n"
     ]
    }
   ],
   "source": [
    "# 이미지 데이터 속성\n",
    "print('[im_data]')\n",
    "print(f'shape {im_data.shape}')\n",
    "print(f'ndim {im_data.ndim}D')\n",
    "\n",
    "print('[gray_data]')\n",
    "print(f'shape {gray_data.shape}')\n",
    "print(f'ndim {gray_data.ndim}D')"
   ]
  },
  {
   "cell_type": "markdown",
   "metadata": {},
   "source": [
    "[2] 이미지 화면 출력 => imshow()"
   ]
  },
  {
   "cell_type": "code",
   "execution_count": 6,
   "metadata": {},
   "outputs": [
    {
     "ename": "error",
     "evalue": "OpenCV(4.10.0) D:\\a\\opencv-python\\opencv-python\\opencv\\modules\\highgui\\src\\window_w32.cpp:1261: error: (-27:Null pointer) NULL window: '[IM_DATA]' in function 'cvDestroyWindow'\n",
     "output_type": "error",
     "traceback": [
      "\u001b[1;31m---------------------------------------------------------------------------\u001b[0m",
      "\u001b[1;31merror\u001b[0m                                     Traceback (most recent call last)",
      "Cell \u001b[1;32mIn[6], line 14\u001b[0m\n\u001b[0;32m     10\u001b[0m \u001b[38;5;66;03m#cv2.destroyWindow(\"[IM_DATA]\") # 지정한 창만 닫는다\u001b[39;00m\n\u001b[0;32m     11\u001b[0m \n\u001b[0;32m     12\u001b[0m \u001b[38;5;66;03m# 1초 일시정지\u001b[39;00m\n\u001b[0;32m     13\u001b[0m time\u001b[38;5;241m.\u001b[39msleep(\u001b[38;5;241m1\u001b[39m)\n\u001b[1;32m---> 14\u001b[0m \u001b[43mcv2\u001b[49m\u001b[38;5;241;43m.\u001b[39;49m\u001b[43mdestroyWindow\u001b[49m\u001b[43m(\u001b[49m\u001b[38;5;124;43m\"\u001b[39;49m\u001b[38;5;124;43m[IM_DATA]\u001b[39;49m\u001b[38;5;124;43m\"\u001b[39;49m\u001b[43m)\u001b[49m\n",
      "\u001b[1;31merror\u001b[0m: OpenCV(4.10.0) D:\\a\\opencv-python\\opencv-python\\opencv\\modules\\highgui\\src\\window_w32.cpp:1261: error: (-27:Null pointer) NULL window: '[IM_DATA]' in function 'cvDestroyWindow'\n"
     ]
    }
   ],
   "source": [
    "# 이미지 창 띄우기\n",
    "cv2.imshow(\"[IM_DATA]\", im_data)\n",
    "cv2.imshow(\"[GRAY_DATA]\", gray_data)\n",
    "\n",
    "# 이미지 창 위에 이벤트 대기\n",
    "cv2.waitKey() # 이벤트 처리\n",
    "\n",
    "# 이미지 창 닫기\n",
    "cv2.destroyAllWindows() # 모든 창 닫기\n",
    "#cv2.destroyWindow(\"[IM_DATA]\") # 지정한 창만 닫는다\n",
    "\n",
    "# 1초 일시정지\n",
    "time.sleep(1)\n",
    "cv2.destroyWindow(\"[IM_DATA]\")"
   ]
  },
  {
   "cell_type": "code",
   "execution_count": 7,
   "metadata": {},
   "outputs": [
    {
     "name": "stdout",
     "output_type": "stream",
     "text": [
      "key_code => 115 , s\n"
     ]
    }
   ],
   "source": [
    "# 'X', 'x' 입력 시 모든 이미지 창 닫기\n",
    "# 이미지 창 띄우기\n",
    "cv2.imshow(\"[IM_DATA]\", im_data)\n",
    "cv2.imshow(\"[GRAY_DATA]\", gray_data)\n",
    "\n",
    "while True:\n",
    "    # 키보드 이벤트 대기함수\n",
    "    key_code=cv2.waitKey()\n",
    "    print(f'key_code => {key_code} , {chr(key_code)}')\n",
    "\n",
    "    if chr(key_code) in ['X', 'x']:\n",
    "        # 모든 창 닫기\n",
    "        cv2.destroyAllWindows()\n",
    "        break\n",
    "    elif chr(key_code) in ['s', 'S']:\n",
    "        # 이미지 저장\n",
    "        cv2.imwrite('copy.jpg', gray_data)\n",
    "        # 모든 창 닫기\n",
    "        cv2.destroyAllWindows()\n",
    "        break"
   ]
  },
  {
   "cell_type": "code",
   "execution_count": null,
   "metadata": {},
   "outputs": [],
   "source": []
  }
 ],
 "metadata": {
  "kernelspec": {
   "display_name": "TORCH_CV_38",
   "language": "python",
   "name": "python3"
  },
  "language_info": {
   "codemirror_mode": {
    "name": "ipython",
    "version": 3
   },
   "file_extension": ".py",
   "mimetype": "text/x-python",
   "name": "python",
   "nbconvert_exporter": "python",
   "pygments_lexer": "ipython3",
   "version": "3.8.19"
  }
 },
 "nbformat": 4,
 "nbformat_minor": 2
}

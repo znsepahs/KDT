{
 "cells": [
  {
   "cell_type": "code",
   "execution_count": 2,
   "metadata": {},
   "outputs": [],
   "source": [
    "import numpy as np\n",
    "import matplotlib.pyplot as plt\n",
    "from scipy.integrate import quad\n",
    "from scipy import linalg as LA"
   ]
  },
  {
   "cell_type": "code",
   "execution_count": 3,
   "metadata": {},
   "outputs": [
    {
     "data": {
      "text/plain": [
       "array([1, 2, 3, 4, 5, 6])"
      ]
     },
     "execution_count": 3,
     "metadata": {},
     "output_type": "execute_result"
    }
   ],
   "source": [
    "# 정렬함수 sort\n",
    "# - 새로운 사본 만들어서 반환. 원본 건들지 않음\n",
    "a=np.linspace(1,6,6, dtype=np.int32)\n",
    "np.random.shuffle(a)\n",
    "b=np.sort(a)\n",
    "b"
   ]
  },
  {
   "cell_type": "code",
   "execution_count": 4,
   "metadata": {},
   "outputs": [
    {
     "name": "stdout",
     "output_type": "stream",
     "text": [
      "[3 1 2 6 5 4]\n",
      "[1 2 0 5 4 3]\n"
     ]
    }
   ],
   "source": [
    "# 정렬함수 argsort\n",
    "bb=np.linspace(1,6,6, dtype=np.int32)\n",
    "np.random.shuffle(bb)\n",
    "c=np.argsort(bb)\n",
    "print(bb)\n",
    "print(c)"
   ]
  },
  {
   "cell_type": "code",
   "execution_count": 5,
   "metadata": {},
   "outputs": [],
   "source": [
    "# 배열 클래스 변경하기\n",
    "m=np.matrix([1,2,3,4])\n",
    "a=np.asarray(m)\n",
    "m1=np.asmatrix(a)"
   ]
  },
  {
   "cell_type": "code",
   "execution_count": 6,
   "metadata": {},
   "outputs": [
    {
     "data": {
      "text/plain": [
       "array([99., 99., 99., 99., 99., 99., 99., 99., 99., 99.])"
      ]
     },
     "execution_count": 6,
     "metadata": {},
     "output_type": "execute_result"
    }
   ],
   "source": [
    "# 배열 원소의 값 변경\n",
    "o=np.ones(10)\n",
    "o.fill(100)\n",
    "a=np.full(o.shape,99.)\n",
    "a"
   ]
  },
  {
   "cell_type": "code",
   "execution_count": 7,
   "metadata": {},
   "outputs": [
    {
     "data": {
      "text/plain": [
       "array([[2, 3],\n",
       "       [0, 1]])"
      ]
     },
     "execution_count": 7,
     "metadata": {},
     "output_type": "execute_result"
    }
   ],
   "source": [
    "# 배열 원소에 대한 위치 변경하기\n",
    "array=np.arange(4).reshape((2,2))\n",
    "np.fliplr(array)\n",
    "np.flipud(array)"
   ]
  },
  {
   "cell_type": "code",
   "execution_count": 8,
   "metadata": {},
   "outputs": [
    {
     "data": {
      "text/plain": [
       "array([[[4, 5],\n",
       "        [6, 7]],\n",
       "\n",
       "       [[0, 1],\n",
       "        [2, 3]]])"
      ]
     },
     "execution_count": 8,
     "metadata": {},
     "output_type": "execute_result"
    }
   ],
   "source": [
    "# 3차원 배열 위치 변경\n",
    "array1=np.arange(8).reshape((2,2,2))\n",
    "np.fliplr(array1) # 3차원은 세 번째 축을 기준으로 좌우 위치 변경\n",
    "np.flipud(array1) # 두 번째 축을 기준으로 상하 위치 변경"
   ]
  },
  {
   "cell_type": "code",
   "execution_count": 9,
   "metadata": {},
   "outputs": [
    {
     "data": {
      "text/plain": [
       "array([[4, 3],\n",
       "       [2, 1]])"
      ]
     },
     "execution_count": 9,
     "metadata": {},
     "output_type": "execute_result"
    }
   ],
   "source": [
    "# 배열 원소에 회전시키기\n",
    "# 2차원 배열 회전\n",
    "m=np.array([[1,2],[3,4]],int)\n",
    "np.rot90(m)\n",
    "np.rot90(m,2)"
   ]
  },
  {
   "cell_type": "code",
   "execution_count": 10,
   "metadata": {},
   "outputs": [
    {
     "name": "stdout",
     "output_type": "stream",
     "text": [
      "[[10  1  2  3  4]\n",
      " [ 5  6  7  8  9]]\n",
      "[[ 6  7  8  9 10]\n",
      " [ 1  2  3  4  5]]\n",
      "[[ 5  1  2  3  4]\n",
      " [10  6  7  8  9]]\n"
     ]
    }
   ],
   "source": [
    "# 원소 자리 이동시키는 roll 함수\n",
    "l=np.arange(1,11)\n",
    "np.roll(1,1)\n",
    "\n",
    "ll=np.reshape(l,(2,5))\n",
    "s=np.roll(ll,1) # 전체 요소 한 칸 이동\n",
    "print(s)\n",
    "s1=np.roll(ll,1,axis=0) # 행 단위 이동\n",
    "print(s1)\n",
    "s2=np.roll(ll,1,axis=1) # 각 행 마다 이동\n",
    "print(s2)"
   ]
  },
  {
   "cell_type": "markdown",
   "metadata": {},
   "source": [
    "### 배열의 padding 처리"
   ]
  },
  {
   "cell_type": "code",
   "execution_count": 11,
   "metadata": {},
   "outputs": [
    {
     "data": {
      "text/plain": [
       "array([[1., 2., 0.],\n",
       "       [3., 4., 0.],\n",
       "       [0., 0., 0.]])"
      ]
     },
     "execution_count": 11,
     "metadata": {},
     "output_type": "execute_result"
    }
   ],
   "source": [
    "# 기존 행렬을 사용해서 패딩 하는 방식\n",
    "x=np.arange(1,5).reshape(2,2)\n",
    "z=np.zeros((3,3))\n",
    "z[:2, :2]=x\n",
    "z"
   ]
  },
  {
   "cell_type": "code",
   "execution_count": 12,
   "metadata": {},
   "outputs": [
    {
     "data": {
      "text/plain": [
       "array([[1, 2, 0],\n",
       "       [3, 4, 0],\n",
       "       [0, 0, 0]])"
      ]
     },
     "execution_count": 12,
     "metadata": {},
     "output_type": "execute_result"
    }
   ],
   "source": [
    "# 함수 사용하여 패딩\n",
    "np.pad(x,(0,1),\"constant\") # 하단과 우측에 0추가\n",
    "# np.pad(x=패딩할 어레이, 튜플 or 정수=패딩할 방식, \"모드\"=패딩할 값)\n",
    "# constant=0 추가 / edge=확장 부분의 만나는 값 / maximum=현재 배열 최댓값 / minimum=현재 배열 최솟값\n",
    "# mean=확장 부분 평균값.대각으로 만나는 부분은 소수점 반올림 안하고 절사 값으로 할당 / median=확장 부분 중앙값. 중앙값에 근접한 값 선택 할당"
   ]
  },
  {
   "cell_type": "markdown",
   "metadata": {},
   "source": [
    "### 넘파이 모듈의 자료형 이해하기\n",
    "- 1. dtype으로 자료형 객체 생성하기"
   ]
  },
  {
   "cell_type": "code",
   "execution_count": 13,
   "metadata": {},
   "outputs": [
    {
     "name": "stdout",
     "output_type": "stream",
     "text": [
      "int32\n"
     ]
    },
    {
     "data": {
      "text/plain": [
       "dtype('int32')"
      ]
     },
     "execution_count": 13,
     "metadata": {},
     "output_type": "execute_result"
    }
   ],
   "source": [
    "# dtype 클래스 알아보기\n",
    "np.dtype\n",
    "d=np.dtype(np.int32)\n",
    "print(d)\n",
    "\n",
    "a=np.array([1,2,3,4],dtype=d)\n",
    "a.dtype"
   ]
  },
  {
   "cell_type": "code",
   "execution_count": 14,
   "metadata": {},
   "outputs": [
    {
     "name": "stdout",
     "output_type": "stream",
     "text": [
      "[<class 'numpy.int32'>, <class 'numpy.signedinteger'>, <class 'numpy.integer'>, <class 'numpy.number'>, <class 'numpy.generic'>, <class 'object'>]\n",
      "True\n",
      "True\n",
      "True\n"
     ]
    }
   ],
   "source": [
    "# 1.1 자료형 클래스 알아보기\n",
    "print(np.int_.mro())\n",
    "print(issubclass(np.int32,np.signedinteger))\n",
    "print(issubclass(np.integer,np.number))\n",
    "print(issubclass(np.number,np.generic))"
   ]
  },
  {
   "cell_type": "markdown",
   "metadata": {},
   "source": [
    "### 1.2 자료형 클래스 구조 이해하기\n",
    "#### 1. 자료형 클래스 구조 알아보기\n",
    "- 넘파이 모듈 내의 클래스를 구성하는 최상위 클래스는 np.generic이다. 파이썬의 최상의 클래스는 object\n",
    "- generic 클래스의 상속관계를 _ _bases_ _ 속성을 통해 확인할 수 있다.\n",
    "- 넘파이 모듈에서는 문자를 처리하는 character 클래스를 제공. 상속관계를 확인하면 flexible 클래스 / 객체를 만들 수 없음\n",
    "\n",
    "- 실수 및 복소수 자료형 구조 이해하기\n",
    "- float_ : float64에 대한 짧은 표현\n",
    "- float16 : 반정도 실수 / sign bit, 5 bits exponent, 10 bits mantissa\n",
    "- float32 : 단일 정보 실수 / sign bit, 8 bits exponent, 23 bits mantissa\n",
    "- float64 : 더블 정보 실수 / sign bit, 11 bits exponent, 52 bits mantissa\n",
    "- Complex_ : 복소수의 대표 표현\n",
    "- Complex64 : 복소수의 실수와 허수 / two 32-bit floats\n",
    "- Complex128 : 복소수의 실수와 허수 / two 64-bit floats"
   ]
  },
  {
   "cell_type": "markdown",
   "metadata": {},
   "source": [
    "### 2.1 날짜처리\n",
    "#### 날짜 클래스 알아보기\n",
    "- 넘파이 모듈은 2개의 클래스 np.datetime64와 timedelta64를 제공한다."
   ]
  },
  {
   "cell_type": "code",
   "execution_count": 15,
   "metadata": {},
   "outputs": [
    {
     "data": {
      "text/plain": [
       "array(['2018-11-15', '2018-12-15', '2010-01-15'], dtype='datetime64[D]')"
      ]
     },
     "execution_count": 15,
     "metadata": {},
     "output_type": "execute_result"
    }
   ],
   "source": [
    "# 3개의 날짜를 전달해서 다차원 배열 만들기\n",
    "a=np.array(['2018-11-15','2018-12-15','2010-01-15'],dtype=np.datetime64)\n",
    "a"
   ]
  },
  {
   "cell_type": "code",
   "execution_count": 22,
   "metadata": {},
   "outputs": [
    {
     "data": {
      "text/plain": [
       "numpy.timedelta64(730,'D')"
      ]
     },
     "execution_count": 22,
     "metadata": {},
     "output_type": "execute_result"
    }
   ],
   "source": [
    "# 두 개의 날짜 객체를 만들어서 두 날짜의 차이 계산\n",
    "delta=np.datetime64('2018-11-15')-np.datetime64('2016-11-15')\n",
    "delta"
   ]
  },
  {
   "cell_type": "code",
   "execution_count": 23,
   "metadata": {},
   "outputs": [
    {
     "data": {
      "text/plain": [
       "array(['2019-02-01', '2019-02-02', '2019-02-03', '2019-02-04',\n",
       "       '2019-02-05', '2019-02-06', '2019-02-07', '2019-02-08',\n",
       "       '2019-02-09', '2019-02-10', '2019-02-11', '2019-02-12',\n",
       "       '2019-02-13', '2019-02-14', '2019-02-15', '2019-02-16',\n",
       "       '2019-02-17', '2019-02-18', '2019-02-19', '2019-02-20',\n",
       "       '2019-02-21', '2019-02-22', '2019-02-23', '2019-02-24',\n",
       "       '2019-02-25', '2019-02-26', '2019-02-27', '2019-02-28'],\n",
       "      dtype='datetime64[D]')"
      ]
     },
     "execution_count": 23,
     "metadata": {},
     "output_type": "execute_result"
    }
   ],
   "source": [
    "# arrange 함수를 사용해서 날짜 기준 배열 만들기.\n",
    "# 시작일과 종료일을 넣어서 생성하거나 시작 월과 종료 월을 넣어서 만드는 방법도 가능\n",
    "a=np.arange('2019-02','2019-03',dtype='datetime64[D]')\n",
    "a"
   ]
  },
  {
   "cell_type": "markdown",
   "metadata": {},
   "source": [
    "### 2.2 시간에 대한 처리\n",
    "#### 시간 처리 알아보기\n",
    "- datetime64 클래스에 문자열로 2018-12-01T01을 지정해서 객체 생성"
   ]
  },
  {
   "cell_type": "code",
   "execution_count": 24,
   "metadata": {},
   "outputs": [
    {
     "data": {
      "text/plain": [
       "numpy.datetime64('2018-12-01T01:01')"
      ]
     },
     "execution_count": 24,
     "metadata": {},
     "output_type": "execute_result"
    }
   ],
   "source": [
    "m=np.datetime64('2018-12-01T01:01')\n",
    "m"
   ]
  },
  {
   "cell_type": "markdown",
   "metadata": {},
   "source": [
    "### 2.3 비즈니스 일자 처리\n",
    "#### 영업일 처리 알아보기\n",
    "- 특정 일자를 부여하고 일수를 증가하면 토요일과 일요일을 제외한 평일을 기준으로 날짜를 처리하는 busdat_offset 함수를 제공"
   ]
  },
  {
   "cell_type": "code",
   "execution_count": 25,
   "metadata": {},
   "outputs": [
    {
     "data": {
      "text/plain": [
       "21"
      ]
     },
     "execution_count": 25,
     "metadata": {},
     "output_type": "execute_result"
    }
   ],
   "source": [
    "# 2018년 11월에 주말을 제외한 영업을 계산해보기\n",
    "start=np.datetime64('2018-11-01')\n",
    "end=np.datetime64('2018-11-30')\n",
    "np.busday_count(start,end)"
   ]
  },
  {
   "cell_type": "code",
   "execution_count": 26,
   "metadata": {},
   "outputs": [
    {
     "data": {
      "text/plain": [
       "array(['2019-01-01', '2019-09-23'], dtype='datetime64[D]')"
      ]
     },
     "execution_count": 26,
     "metadata": {},
     "output_type": "execute_result"
    }
   ],
   "source": [
    "# 휴일 추가하기\n",
    "bdd=np.busdaycalendar(holidays=['2019-01-01','2019-09-23'])\n",
    "bdd.holidays"
   ]
  },
  {
   "cell_type": "markdown",
   "metadata": {},
   "source": [
    "### 시각화와 수학함수\n",
    "#### 01. 시각화 알아보기"
   ]
  },
  {
   "cell_type": "code",
   "execution_count": 16,
   "metadata": {},
   "outputs": [],
   "source": [
    "x=np.linspace(0, 2*np.pi, 100)\n",
    "y=np.sin(x)"
   ]
  },
  {
   "cell_type": "code",
   "execution_count": 17,
   "metadata": {},
   "outputs": [
    {
     "data": {
      "text/plain": [
       "[<matplotlib.lines.Line2D at 0x27896665040>]"
      ]
     },
     "execution_count": 17,
     "metadata": {},
     "output_type": "execute_result"
    },
    {
     "data": {
      "image/png": "[encoded data removed]",
      "text/plain": [
       "<Figure size 640x480 with 1 Axes>"
      ]
     },
     "metadata": {},
     "output_type": "display_data"
    }
   ],
   "source": [
    "dy=np.zeros(y.shape,np.float64)\n",
    "dy[:-1]=np.diff(y)/np.diff(x)\n",
    "dy[-1]=(y[-1]-y[-2])/(x[-1]-x[-2])\n",
    "\n",
    "plt.plot(x,y)\n",
    "plt.plot(x,dy)"
   ]
  },
  {
   "cell_type": "code",
   "execution_count": 18,
   "metadata": {},
   "outputs": [
    {
     "name": "stdout",
     "output_type": "stream",
     "text": [
      "   2\n",
      "1 x - 2 x + 1\n"
     ]
    }
   ],
   "source": [
    "# 배열을 다항식으로 만들기\n",
    "a=np.array([1,-2,1])\n",
    "p=np.poly1d(a)\n",
    "print(p)"
   ]
  },
  {
   "cell_type": "code",
   "execution_count": 19,
   "metadata": {},
   "outputs": [
    {
     "data": {
      "text/plain": [
       "22.0"
      ]
     },
     "execution_count": 19,
     "metadata": {},
     "output_type": "execute_result"
    }
   ],
   "source": [
    "# 적분 결과 보기\n",
    "x2=np.arange(5)\n",
    "y2=x2**2\n",
    "np.trapz(y2,x=x2)"
   ]
  },
  {
   "cell_type": "code",
   "execution_count": 20,
   "metadata": {},
   "outputs": [
    {
     "data": {
      "image/png": "[encoded data removed]",
      "text/plain": [
       "<Figure size 640x480 with 1 Axes>"
      ]
     },
     "metadata": {},
     "output_type": "display_data"
    }
   ],
   "source": [
    "x=np.array([0,0.5,1,1.5,2])\n",
    "y=x**3\n",
    "\n",
    "x2=np.linspace(0,2,100)\n",
    "y2=x2**3\n",
    "\n",
    "plt.plot(x,y,label='5 points')\n",
    "plt.plot(x2,y2,label='50 points')\n",
    "plt.legend()\n",
    "plt.show()"
   ]
  },
  {
   "cell_type": "code",
   "execution_count": 21,
   "metadata": {},
   "outputs": [
    {
     "data": {
      "text/plain": [
       "(21.333333333333336, 2.368475785867001e-13)"
      ]
     },
     "execution_count": 21,
     "metadata": {},
     "output_type": "execute_result"
    }
   ],
   "source": [
    "# quad 방식으로 적분하기\n",
    "x2=lambda x:x**2\n",
    "quad(x2,0,4)"
   ]
  },
  {
   "cell_type": "code",
   "execution_count": null,
   "metadata": {},
   "outputs": [],
   "source": []
  }
 ],
 "metadata": {
  "kernelspec": {
   "display_name": "base",
   "language": "python",
   "name": "python3"
  },
  "language_info": {
   "codemirror_mode": {
    "name": "ipython",
    "version": 3
   },
   "file_extension": ".py",
   "mimetype": "text/x-python",
   "name": "python",
   "nbconvert_exporter": "python",
   "pygments_lexer": "ipython3",
   "version": "3.9.19"
  }
 },
 "nbformat": 4,
 "nbformat_minor": 2
}

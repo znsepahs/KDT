{
 "cells": [
  {
   "cell_type": "markdown",
   "metadata": {},
   "source": [
    "### 대주제: 기후 변화에 따른 사회적, 환경적 변화 분석\n",
    "- 4조 : 안효준, 도영환, 구성윤, 안윤호\n",
    "    - 발표 순서 :  3조 > 2조 > 1조 > 4조 >  5조 >  6조 > 7조 > 8조\n",
    "\n",
    "- 조별 주제 : 한국의 수온 변화에 따른 어획량 변화 분석\n",
    "    - 기간 : 2014년 1월 1일 부터 2023년 12월 31일\n",
    "    - 수온은 울릉도 기준, 난류성 어종과 한류성 어종을 나누어 분석\n",
    "- 맡은 파트 : 난류성 어종 / 멸치\n",
    "    - 난류성 어종인 멸치는 수온이 높아질 떄 어획량이 증가할 것으로 가정\n",
    "        - 어종별 적정 수온이 다르기 때문\n",
    "    - 분석결과 평균 수온은 올라갔으나 멸치 어획량은 감소 추세\n",
    "    - 어획량은 수온 변화만이 아닌 다른 외부 요인과도 관련이 있을 것으로 추정\n",
    "    - 1. 수온이 올라가면서 어린 멸치를 잡아먹는 정어리 개체 수가 증가함\n",
    "        - 정어리의 어획량을 확인해보니 정어리의 어획량이 증가했음\n",
    "    - 2. 2016년과 2021년은 전년대비 수온이 급격히 올랐던 해이다. 이때 멸치 어획량도 급감\n",
    "    - 3. TAC(Total Allowable Catch);총허용어획량 제도의 시행 / 멸치는 22년부터 시범운영\n",
    "        - 22년에 어획량이 낮아짐\n",
    "        - 한국수산자원공단_사업소개_TAC"
   ]
  },
  {
   "cell_type": "code",
   "execution_count": 2,
   "metadata": {},
   "outputs": [],
   "source": [
    "import matplotlib.pyplot as plt\n",
    "import pandas as pd\n",
    "import numpy as np\n",
    "import koreanize_matplotlib\n",
    "\n",
    "# 어종별 어획량 데이터 : 단위는 톤\n",
    "# 출처 : KOSIS\n",
    "\n",
    "fish=pd.read_excel('어업별_품종별_통계.xlsx')\n",
    "\n",
    "# 울릉도 20140101~20231231 수온\n",
    "# 수온 데이터는 1년 단위로 10개 파일로 나눔(2014~2023)\n",
    "# 출처 : 기상자료개방포털\n",
    "\n",
    "wt_2014 = pd.read_csv('water_temp_2014.csv', encoding='euc_kr')\n",
    "wt_2015 = pd.read_csv('water_temp_2015.csv', encoding='euc_kr')\n",
    "wt_2016 = pd.read_csv('water_temp_2016.csv', encoding='euc_kr')\n",
    "wt_2017 = pd.read_csv('water_temp_2017.csv', encoding='euc_kr')\n",
    "wt_2018 = pd.read_csv('water_temp_2018.csv', encoding='euc_kr')\n",
    "wt_2019 = pd.read_csv('water_temp_2019.csv', encoding='euc_kr')\n",
    "wt_2020 = pd.read_csv('water_temp_2020.csv', encoding='euc_kr')\n",
    "wt_2021 = pd.read_csv('water_temp_2021.csv', encoding='euc_kr')\n",
    "wt_2022 = pd.read_csv('water_temp_2022.csv', encoding='euc_kr')\n",
    "wt_2023 = pd.read_csv('water_temp_2023.csv', encoding='euc_kr')"
   ]
  },
  {
   "cell_type": "code",
   "execution_count": 3,
   "metadata": {},
   "outputs": [],
   "source": [
    "temp_list = [wt_2014, wt_2015, wt_2016, wt_2017, wt_2018,\n",
    "             wt_2019, wt_2020, wt_2021, wt_2022, wt_2023]\n",
    "\n",
    "def make_month_temp(data):\n",
    "    list_data = []\n",
    "    for i in range(len(data)):\n",
    "        list_data.append(data['일시'][i][:7])\n",
    "    data['일시'] = list_data\n",
    "    data\n",
    "\n",
    "    month_temp = []\n",
    "    for i in sorted(data['일시'].value_counts().index):\n",
    "            month_temp.append(data[data['일시'] == i]['수온(°C)'].mean())\n",
    "    return month_temp\n",
    "\n",
    "def make_df(fish, *columns):\n",
    "    total_temp = []\n",
    "    for i in temp_list:\n",
    "        total_temp += make_month_temp(i)\n",
    "    fish_product = fish.loc[1:,columns]\n",
    "\n",
    "    fish_data = []\n",
    "    for i in range(1, len(fish_product)+1):\n",
    "        fish_data.append(fish_product.loc[i].sum())\n",
    "\n",
    "    year = []\n",
    "    for i in range(1, len(fish['시점'])):\n",
    "        year.append(int(fish['시점'][i]))\n",
    "\n",
    "    year_month = []\n",
    "    for i in list(fish['시점'][1:]):\n",
    "        year_month.append(str(i) + '월')\n",
    "\n",
    "    df = pd.DataFrame({'시점' : list(fish['시점'][1:]),\n",
    "                       '어획량' : fish_data,\n",
    "                       '수온' : total_temp,\n",
    "                       '년도' : year,\n",
    "                       '년월' : year_month})\n",
    "    return df"
   ]
  },
  {
   "cell_type": "code",
   "execution_count": 4,
   "metadata": {},
   "outputs": [
    {
     "data": {
      "text/plain": [
       "[12.914825174825175,\n",
       " 11.535285285285285,\n",
       " 10.651902173913044,\n",
       " 13.357103064066852,\n",
       " 15.639945652173912,\n",
       " 19.96606397774687,\n",
       " 23.713324360699865,\n",
       " 23.69523160762943,\n",
       " 23.876685393258427,\n",
       " 20.57810810810811,\n",
       " 17.362064156206415,\n",
       " 14.872177419354838]"
      ]
     },
     "execution_count": 4,
     "metadata": {},
     "output_type": "execute_result"
    }
   ],
   "source": [
    "make_month_temp(wt_2014)"
   ]
  },
  {
   "cell_type": "code",
   "execution_count": 5,
   "metadata": {},
   "outputs": [
    {
     "data": {
      "text/plain": [
       "0      생산량:계\n",
       "1      24546\n",
       "2       9320\n",
       "3      13998\n",
       "4       6492\n",
       "       ...  \n",
       "116    13828\n",
       "117    16254\n",
       "118    19793\n",
       "119    10001\n",
       "120     7170\n",
       "Name: 멸치, Length: 121, dtype: object"
      ]
     },
     "execution_count": 5,
     "metadata": {},
     "output_type": "execute_result"
    }
   ],
   "source": [
    "fish['멸치']"
   ]
  },
  {
   "cell_type": "code",
   "execution_count": 6,
   "metadata": {},
   "outputs": [
    {
     "data": {
      "text/plain": [
       "0      생산량:계\n",
       "1        119\n",
       "2         27\n",
       "3         65\n",
       "4         14\n",
       "       ...  \n",
       "116     5889\n",
       "117     4615\n",
       "118     5798\n",
       "119    11255\n",
       "120     3486\n",
       "Name: 정어리, Length: 121, dtype: object"
      ]
     },
     "execution_count": 6,
     "metadata": {},
     "output_type": "execute_result"
    }
   ],
   "source": [
    "fish['정어리']"
   ]
  },
  {
   "cell_type": "code",
   "execution_count": 7,
   "metadata": {},
   "outputs": [
    {
     "data": {
      "text/html": [
       "<div>\n",
       "<style scoped>\n",
       "    .dataframe tbody tr th:only-of-type {\n",
       "        vertical-align: middle;\n",
       "    }\n",
       "\n",
       "    .dataframe tbody tr th {\n",
       "        vertical-align: top;\n",
       "    }\n",
       "\n",
       "    .dataframe thead th {\n",
       "        text-align: right;\n",
       "    }\n",
       "</style>\n",
       "<table border=\"1\" class=\"dataframe\">\n",
       "  <thead>\n",
       "    <tr style=\"text-align: right;\">\n",
       "      <th></th>\n",
       "      <th>시점</th>\n",
       "      <th>어획량</th>\n",
       "      <th>수온</th>\n",
       "      <th>년도</th>\n",
       "      <th>년월</th>\n",
       "    </tr>\n",
       "  </thead>\n",
       "  <tbody>\n",
       "    <tr>\n",
       "      <th>0</th>\n",
       "      <td>2014.01</td>\n",
       "      <td>24546</td>\n",
       "      <td>12.914825</td>\n",
       "      <td>2014</td>\n",
       "      <td>2014.01월</td>\n",
       "    </tr>\n",
       "    <tr>\n",
       "      <th>1</th>\n",
       "      <td>2014.02</td>\n",
       "      <td>9320</td>\n",
       "      <td>11.535285</td>\n",
       "      <td>2014</td>\n",
       "      <td>2014.02월</td>\n",
       "    </tr>\n",
       "    <tr>\n",
       "      <th>2</th>\n",
       "      <td>2014.03</td>\n",
       "      <td>13998</td>\n",
       "      <td>10.651902</td>\n",
       "      <td>2014</td>\n",
       "      <td>2014.03월</td>\n",
       "    </tr>\n",
       "    <tr>\n",
       "      <th>3</th>\n",
       "      <td>2014.04</td>\n",
       "      <td>6492</td>\n",
       "      <td>13.357103</td>\n",
       "      <td>2014</td>\n",
       "      <td>2014.04월</td>\n",
       "    </tr>\n",
       "    <tr>\n",
       "      <th>4</th>\n",
       "      <td>2014.05</td>\n",
       "      <td>7171</td>\n",
       "      <td>15.639946</td>\n",
       "      <td>2014</td>\n",
       "      <td>2014.05월</td>\n",
       "    </tr>\n",
       "    <tr>\n",
       "      <th>...</th>\n",
       "      <td>...</td>\n",
       "      <td>...</td>\n",
       "      <td>...</td>\n",
       "      <td>...</td>\n",
       "      <td>...</td>\n",
       "    </tr>\n",
       "    <tr>\n",
       "      <th>115</th>\n",
       "      <td>2023.08</td>\n",
       "      <td>13828</td>\n",
       "      <td>27.354839</td>\n",
       "      <td>2023</td>\n",
       "      <td>2023.08월</td>\n",
       "    </tr>\n",
       "    <tr>\n",
       "      <th>116</th>\n",
       "      <td>2023.09</td>\n",
       "      <td>16254</td>\n",
       "      <td>25.313793</td>\n",
       "      <td>2023</td>\n",
       "      <td>2023.09월</td>\n",
       "    </tr>\n",
       "    <tr>\n",
       "      <th>117</th>\n",
       "      <td>2023.10</td>\n",
       "      <td>19793</td>\n",
       "      <td>21.706452</td>\n",
       "      <td>2023</td>\n",
       "      <td>2023.1월</td>\n",
       "    </tr>\n",
       "    <tr>\n",
       "      <th>118</th>\n",
       "      <td>2023.11</td>\n",
       "      <td>10001</td>\n",
       "      <td>19.380000</td>\n",
       "      <td>2023</td>\n",
       "      <td>2023.11월</td>\n",
       "    </tr>\n",
       "    <tr>\n",
       "      <th>119</th>\n",
       "      <td>2023.12</td>\n",
       "      <td>7170</td>\n",
       "      <td>16.177419</td>\n",
       "      <td>2023</td>\n",
       "      <td>2023.12월</td>\n",
       "    </tr>\n",
       "  </tbody>\n",
       "</table>\n",
       "<p>120 rows × 5 columns</p>\n",
       "</div>"
      ],
      "text/plain": [
       "          시점    어획량         수온    년도        년월\n",
       "0    2014.01  24546  12.914825  2014  2014.01월\n",
       "1    2014.02   9320  11.535285  2014  2014.02월\n",
       "2    2014.03  13998  10.651902  2014  2014.03월\n",
       "3    2014.04   6492  13.357103  2014  2014.04월\n",
       "4    2014.05   7171  15.639946  2014  2014.05월\n",
       "..       ...    ...        ...   ...       ...\n",
       "115  2023.08  13828  27.354839  2023  2023.08월\n",
       "116  2023.09  16254  25.313793  2023  2023.09월\n",
       "117  2023.10  19793  21.706452  2023   2023.1월\n",
       "118  2023.11  10001  19.380000  2023  2023.11월\n",
       "119  2023.12   7170  16.177419  2023  2023.12월\n",
       "\n",
       "[120 rows x 5 columns]"
      ]
     },
     "execution_count": 7,
     "metadata": {},
     "output_type": "execute_result"
    }
   ],
   "source": [
    "anchovy = make_df(fish, '멸치')\n",
    "anchovy"
   ]
  },
  {
   "cell_type": "code",
   "execution_count": 8,
   "metadata": {},
   "outputs": [
    {
     "data": {
      "text/html": [
       "<div>\n",
       "<style scoped>\n",
       "    .dataframe tbody tr th:only-of-type {\n",
       "        vertical-align: middle;\n",
       "    }\n",
       "\n",
       "    .dataframe tbody tr th {\n",
       "        vertical-align: top;\n",
       "    }\n",
       "\n",
       "    .dataframe thead th {\n",
       "        text-align: right;\n",
       "    }\n",
       "</style>\n",
       "<table border=\"1\" class=\"dataframe\">\n",
       "  <thead>\n",
       "    <tr style=\"text-align: right;\">\n",
       "      <th></th>\n",
       "      <th>시점</th>\n",
       "      <th>어획량</th>\n",
       "      <th>수온</th>\n",
       "      <th>년도</th>\n",
       "      <th>년월</th>\n",
       "    </tr>\n",
       "  </thead>\n",
       "  <tbody>\n",
       "    <tr>\n",
       "      <th>0</th>\n",
       "      <td>2014.01</td>\n",
       "      <td>119</td>\n",
       "      <td>12.914825</td>\n",
       "      <td>2014</td>\n",
       "      <td>2014.01월</td>\n",
       "    </tr>\n",
       "    <tr>\n",
       "      <th>1</th>\n",
       "      <td>2014.02</td>\n",
       "      <td>27</td>\n",
       "      <td>11.535285</td>\n",
       "      <td>2014</td>\n",
       "      <td>2014.02월</td>\n",
       "    </tr>\n",
       "    <tr>\n",
       "      <th>2</th>\n",
       "      <td>2014.03</td>\n",
       "      <td>65</td>\n",
       "      <td>10.651902</td>\n",
       "      <td>2014</td>\n",
       "      <td>2014.03월</td>\n",
       "    </tr>\n",
       "    <tr>\n",
       "      <th>3</th>\n",
       "      <td>2014.04</td>\n",
       "      <td>14</td>\n",
       "      <td>13.357103</td>\n",
       "      <td>2014</td>\n",
       "      <td>2014.04월</td>\n",
       "    </tr>\n",
       "    <tr>\n",
       "      <th>4</th>\n",
       "      <td>2014.05</td>\n",
       "      <td>16</td>\n",
       "      <td>15.639946</td>\n",
       "      <td>2014</td>\n",
       "      <td>2014.05월</td>\n",
       "    </tr>\n",
       "    <tr>\n",
       "      <th>...</th>\n",
       "      <td>...</td>\n",
       "      <td>...</td>\n",
       "      <td>...</td>\n",
       "      <td>...</td>\n",
       "      <td>...</td>\n",
       "    </tr>\n",
       "    <tr>\n",
       "      <th>115</th>\n",
       "      <td>2023.08</td>\n",
       "      <td>5889</td>\n",
       "      <td>27.354839</td>\n",
       "      <td>2023</td>\n",
       "      <td>2023.08월</td>\n",
       "    </tr>\n",
       "    <tr>\n",
       "      <th>116</th>\n",
       "      <td>2023.09</td>\n",
       "      <td>4615</td>\n",
       "      <td>25.313793</td>\n",
       "      <td>2023</td>\n",
       "      <td>2023.09월</td>\n",
       "    </tr>\n",
       "    <tr>\n",
       "      <th>117</th>\n",
       "      <td>2023.10</td>\n",
       "      <td>5798</td>\n",
       "      <td>21.706452</td>\n",
       "      <td>2023</td>\n",
       "      <td>2023.1월</td>\n",
       "    </tr>\n",
       "    <tr>\n",
       "      <th>118</th>\n",
       "      <td>2023.11</td>\n",
       "      <td>11255</td>\n",
       "      <td>19.380000</td>\n",
       "      <td>2023</td>\n",
       "      <td>2023.11월</td>\n",
       "    </tr>\n",
       "    <tr>\n",
       "      <th>119</th>\n",
       "      <td>2023.12</td>\n",
       "      <td>3486</td>\n",
       "      <td>16.177419</td>\n",
       "      <td>2023</td>\n",
       "      <td>2023.12월</td>\n",
       "    </tr>\n",
       "  </tbody>\n",
       "</table>\n",
       "<p>120 rows × 5 columns</p>\n",
       "</div>"
      ],
      "text/plain": [
       "          시점    어획량         수온    년도        년월\n",
       "0    2014.01    119  12.914825  2014  2014.01월\n",
       "1    2014.02     27  11.535285  2014  2014.02월\n",
       "2    2014.03     65  10.651902  2014  2014.03월\n",
       "3    2014.04     14  13.357103  2014  2014.04월\n",
       "4    2014.05     16  15.639946  2014  2014.05월\n",
       "..       ...    ...        ...   ...       ...\n",
       "115  2023.08   5889  27.354839  2023  2023.08월\n",
       "116  2023.09   4615  25.313793  2023  2023.09월\n",
       "117  2023.10   5798  21.706452  2023   2023.1월\n",
       "118  2023.11  11255  19.380000  2023  2023.11월\n",
       "119  2023.12   3486  16.177419  2023  2023.12월\n",
       "\n",
       "[120 rows x 5 columns]"
      ]
     },
     "execution_count": 8,
     "metadata": {},
     "output_type": "execute_result"
    }
   ],
   "source": [
    "sardine=make_df(fish, '정어리')\n",
    "sardine"
   ]
  },
  {
   "cell_type": "code",
   "execution_count": 9,
   "metadata": {},
   "outputs": [
    {
     "name": "stdout",
     "output_type": "stream",
     "text": [
      "[221375, 211575, 140958, 210943, 188685, 171675, 216748, 143414, 132152, 147768]\n"
     ]
    }
   ],
   "source": [
    "sum_anchovy=[]\n",
    "\n",
    "for a in range(10):\n",
    "    sum_anchovy.append(anchovy['어획량'][12*a:12*(a+1)].sum())\n",
    "\n",
    "print(sum_anchovy)"
   ]
  },
  {
   "cell_type": "code",
   "execution_count": 10,
   "metadata": {},
   "outputs": [
    {
     "name": "stdout",
     "output_type": "stream",
     "text": [
      "[335, 2911, 5208, 8185, 7272, 2219, 1140, 90, 12029, 48029]\n"
     ]
    }
   ],
   "source": [
    "sum_sardine=[]\n",
    "\n",
    "for a in range(10):\n",
    "    sum_sardine.append(sardine['어획량'][12*a:12*(a+1)].sum())\n",
    "\n",
    "print(sum_sardine)"
   ]
  },
  {
   "cell_type": "code",
   "execution_count": 11,
   "metadata": {},
   "outputs": [],
   "source": [
    "cnt=0\n",
    "for a in make_month_temp(wt_2014):\n",
    "    cnt=a+cnt\n",
    "year14=cnt/len(make_month_temp(wt_2014))\n",
    "\n",
    "cnt=0\n",
    "for a in make_month_temp(wt_2015):\n",
    "    cnt=a+cnt\n",
    "year15=cnt/len(make_month_temp(wt_2015))\n",
    "\n",
    "cnt=0\n",
    "for a in make_month_temp(wt_2016):\n",
    "    cnt=a+cnt\n",
    "year16=cnt/len(make_month_temp(wt_2016))\n",
    "\n",
    "cnt=0\n",
    "for a in make_month_temp(wt_2017):\n",
    "    cnt=a+cnt\n",
    "year17=cnt/len(make_month_temp(wt_2017))\n",
    "\n",
    "cnt=0\n",
    "for a in make_month_temp(wt_2018):\n",
    "    cnt=a+cnt\n",
    "year18=cnt/len(make_month_temp(wt_2018))\n",
    "\n",
    "cnt=0\n",
    "for a in make_month_temp(wt_2019):\n",
    "    cnt=a+cnt\n",
    "year19=cnt/len(make_month_temp(wt_2019))\n",
    "\n",
    "cnt=0\n",
    "for a in make_month_temp(wt_2020):\n",
    "    cnt=a+cnt\n",
    "year20=cnt/len(make_month_temp(wt_2020))\n",
    "\n",
    "cnt=0\n",
    "for a in make_month_temp(wt_2021):\n",
    "    cnt=a+cnt\n",
    "year21=cnt/len(make_month_temp(wt_2021))\n",
    "\n",
    "cnt=0\n",
    "for a in make_month_temp(wt_2022):\n",
    "    cnt=a+cnt\n",
    "year22=cnt/len(make_month_temp(wt_2022))\n",
    "\n",
    "cnt=0\n",
    "for a in make_month_temp(wt_2023):\n",
    "    cnt=a+cnt\n",
    "year23=cnt/len(make_month_temp(wt_2023))\n",
    "\n",
    "sea_temp=[year14,year15,year16,year17,year18,year19,year20,year21,year22,year23]\n",
    "period=range(2014,2024)"
   ]
  },
  {
   "cell_type": "code",
   "execution_count": 12,
   "metadata": {},
   "outputs": [
    {
     "data": {
      "image/png": "[encoded data removed]",
      "text/plain": [
       "<Figure size 640x480 with 1 Axes>"
      ]
     },
     "metadata": {},
     "output_type": "display_data"
    }
   ],
   "source": [
    "plt.plot(period,sea_temp,'bo-',label='연 평균 수온')\n",
    "plt.title(\"[연 평균 수온 변화]\")\n",
    "plt.xlabel(\"YEAR\")\n",
    "plt.legend()\n",
    "plt.show()"
   ]
  },
  {
   "cell_type": "code",
   "execution_count": 16,
   "metadata": {},
   "outputs": [
    {
     "data": {
      "image/png": "[encoded data removed]",
      "text/plain": [
       "<Figure size 640x480 with 1 Axes>"
      ]
     },
     "metadata": {},
     "output_type": "display_data"
    }
   ],
   "source": [
    "plt.plot(period,sum_anchovy,'yo-',label='멸치 어획량')\n",
    "plt.title(\"[멸치 어획량]\")\n",
    "plt.xlabel(\"YEAR\")\n",
    "plt.legend()\n",
    "plt.show()"
   ]
  },
  {
   "cell_type": "code",
   "execution_count": 15,
   "metadata": {},
   "outputs": [
    {
     "data": {
      "image/png": "[encoded data removed]",
      "text/plain": [
       "<Figure size 640x480 with 1 Axes>"
      ]
     },
     "metadata": {},
     "output_type": "display_data"
    }
   ],
   "source": [
    "plt.plot(period,sum_anchovy,'yo-',label='멸치 어획량')\n",
    "plt.plot(period,sum_sardine,'g^-',label='정어리 어획량')\n",
    "plt.title(\"[멸치 & 정어리 어획량]\")\n",
    "plt.xlabel(\"YEAR\")\n",
    "plt.legend()\n",
    "plt.show()"
   ]
  },
  {
   "cell_type": "code",
   "execution_count": 14,
   "metadata": {},
   "outputs": [
    {
     "data": {
      "text/html": [
       "<div>\n",
       "<style scoped>\n",
       "    .dataframe tbody tr th:only-of-type {\n",
       "        vertical-align: middle;\n",
       "    }\n",
       "\n",
       "    .dataframe tbody tr th {\n",
       "        vertical-align: top;\n",
       "    }\n",
       "\n",
       "    .dataframe thead th {\n",
       "        text-align: right;\n",
       "    }\n",
       "</style>\n",
       "<table border=\"1\" class=\"dataframe\">\n",
       "  <thead>\n",
       "    <tr style=\"text-align: right;\">\n",
       "      <th></th>\n",
       "      <th>어획량</th>\n",
       "      <th>어획량</th>\n",
       "    </tr>\n",
       "  </thead>\n",
       "  <tbody>\n",
       "    <tr>\n",
       "      <th>어획량</th>\n",
       "      <td>1.000000</td>\n",
       "      <td>-0.073885</td>\n",
       "    </tr>\n",
       "    <tr>\n",
       "      <th>어획량</th>\n",
       "      <td>-0.073885</td>\n",
       "      <td>1.000000</td>\n",
       "    </tr>\n",
       "  </tbody>\n",
       "</table>\n",
       "</div>"
      ],
      "text/plain": [
       "          어획량       어획량\n",
       "어획량  1.000000 -0.073885\n",
       "어획량 -0.073885  1.000000"
      ]
     },
     "execution_count": 14,
     "metadata": {},
     "output_type": "execute_result"
    }
   ],
   "source": [
    "result=pd.concat([anchovy['어획량'],sardine['어획량']],axis=1)\n",
    "result.corr(numeric_only=True)"
   ]
  },
  {
   "cell_type": "code",
   "execution_count": null,
   "metadata": {},
   "outputs": [],
   "source": []
  }
 ],
 "metadata": {
  "kernelspec": {
   "display_name": "PY39",
   "language": "python",
   "name": "python3"
  },
  "language_info": {
   "codemirror_mode": {
    "name": "ipython",
    "version": 3
   },
   "file_extension": ".py",
   "mimetype": "text/x-python",
   "name": "python",
   "nbconvert_exporter": "python",
   "pygments_lexer": "ipython3",
   "version": "3.9.19"
  }
 },
 "nbformat": 4,
 "nbformat_minor": 2
}

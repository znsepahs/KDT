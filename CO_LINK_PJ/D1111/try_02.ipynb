{
 "cells": [
  {
   "cell_type": "code",
   "execution_count": 1,
   "metadata": {},
   "outputs": [],
   "source": [
    "import cv2\n",
    "import numpy as np\n",
    "import easyocr"
   ]
  },
  {
   "cell_type": "code",
   "execution_count": 2,
   "metadata": {},
   "outputs": [],
   "source": [
    "# 원본 이미지와 템플릿 이미지 로드\n",
    "image_path = r'C:\\WorkSpace\\LocalData\\LogoDataset\\test_data\\sb1.png'  # 원본 이미지 경로 설정\n",
    "template_path = r'C:\\WorkSpace\\LocalData\\LogoDataset\\test_data\\sb2.png'  # STARBUCKS 템플릿 이미지 경로 설정\n",
    "image = cv2.imread(image_path)\n",
    "template = cv2.imread(template_path, 0)"
   ]
  },
  {
   "cell_type": "code",
   "execution_count": 3,
   "metadata": {},
   "outputs": [],
   "source": [
    "# 그레이스케일로 변환\n",
    "gray_image = cv2.cvtColor(image, cv2.COLOR_BGR2GRAY)"
   ]
  },
  {
   "cell_type": "code",
   "execution_count": 4,
   "metadata": {},
   "outputs": [],
   "source": [
    "# 템플릿 매칭 수행\n",
    "result = cv2.matchTemplate(gray_image, template, cv2.TM_CCOEFF_NORMED)\n",
    "threshold = 0.8  # 매칭 임계값 설정\n",
    "loc = np.where(result >= threshold)  # 임계값을 넘는 위치 찾기"
   ]
  },
  {
   "cell_type": "code",
   "execution_count": 5,
   "metadata": {},
   "outputs": [
    {
     "name": "stdout",
     "output_type": "stream",
     "text": [
      "(array([207, 207, 208, 208, 208, 208, 208, 209, 209, 209, 209, 209, 209,\n",
      "       210, 210, 210, 210, 210, 210, 210, 211, 211, 211, 211, 211, 211,\n",
      "       212, 212, 212, 212, 212, 213, 213], dtype=int64), array([240, 241, 238, 239, 240, 241, 242, 238, 239, 240, 241, 242, 243,\n",
      "       237, 238, 239, 240, 241, 242, 243, 237, 238, 239, 240, 241, 242,\n",
      "       238, 239, 240, 241, 242, 239, 240], dtype=int64))\n"
     ]
    }
   ],
   "source": [
    "print(loc)"
   ]
  },
  {
   "cell_type": "code",
   "execution_count": 6,
   "metadata": {},
   "outputs": [],
   "source": [
    "# 매칭된 위치에 bounding box 그리기\n",
    "for pt in zip(*loc[::-1]):  # 좌표를 (x, y) 형식으로 변환\n",
    "    cv2.rectangle(image, pt, (pt[0] + template.shape[1], pt[1] + template.shape[0]), (0, 255, 0), 2)"
   ]
  },
  {
   "cell_type": "code",
   "execution_count": 7,
   "metadata": {},
   "outputs": [
    {
     "name": "stdout",
     "output_type": "stream",
     "text": [
      "(240, 213)\n"
     ]
    }
   ],
   "source": [
    "print(pt)"
   ]
  },
  {
   "cell_type": "code",
   "execution_count": 8,
   "metadata": {},
   "outputs": [
    {
     "name": "stdout",
     "output_type": "stream",
     "text": [
      "(772, 373)\n"
     ]
    }
   ],
   "source": [
    "print((pt[0] + template.shape[1], pt[1] + template.shape[0]))"
   ]
  },
  {
   "cell_type": "code",
   "execution_count": 9,
   "metadata": {},
   "outputs": [],
   "source": [
    "# 결과 이미지 표시\n",
    "cv2.imshow('Detected STARBUCKS', image)\n",
    "cv2.waitKey(0)\n",
    "cv2.destroyAllWindows()"
   ]
  },
  {
   "cell_type": "code",
   "execution_count": 10,
   "metadata": {},
   "outputs": [],
   "source": [
    "# 원본 이미지 로드\n",
    "image_path = r'C:\\WorkSpace\\LocalData\\LogoDataset\\test_data\\sb1.png'  # 원본 이미지 경로 설정\n",
    "image = cv2.imread(image_path)"
   ]
  },
  {
   "cell_type": "code",
   "execution_count": 11,
   "metadata": {},
   "outputs": [
    {
     "name": "stderr",
     "output_type": "stream",
     "text": [
      "Using CPU. Note: This module is much faster with a GPU.\n",
      "c:\\Users\\LG\\anaconda3\\envs\\PLAGX\\lib\\site-packages\\easyocr\\detection.py:78: FutureWarning: You are using `torch.load` with `weights_only=False` (the current default value), which uses the default pickle module implicitly. It is possible to construct malicious pickle data which will execute arbitrary code during unpickling (See https://github.com/pytorch/pytorch/blob/main/SECURITY.md#untrusted-models for more details). In a future release, the default value for `weights_only` will be flipped to `True`. This limits the functions that could be executed during unpickling. Arbitrary objects will no longer be allowed to be loaded via this mode unless they are explicitly allowlisted by the user via `torch.serialization.add_safe_globals`. We recommend you start setting `weights_only=True` for any use case where you don't have full control of the loaded file. Please open an issue on GitHub for any issues related to this experimental feature.\n",
      "  net.load_state_dict(copyStateDict(torch.load(trained_model, map_location=device)))\n",
      "c:\\Users\\LG\\anaconda3\\envs\\PLAGX\\lib\\site-packages\\easyocr\\recognition.py:169: FutureWarning: You are using `torch.load` with `weights_only=False` (the current default value), which uses the default pickle module implicitly. It is possible to construct malicious pickle data which will execute arbitrary code during unpickling (See https://github.com/pytorch/pytorch/blob/main/SECURITY.md#untrusted-models for more details). In a future release, the default value for `weights_only` will be flipped to `True`. This limits the functions that could be executed during unpickling. Arbitrary objects will no longer be allowed to be loaded via this mode unless they are explicitly allowlisted by the user via `torch.serialization.add_safe_globals`. We recommend you start setting `weights_only=True` for any use case where you don't have full control of the loaded file. Please open an issue on GitHub for any issues related to this experimental feature.\n",
      "  state_dict = torch.load(model_path, map_location=device)\n"
     ]
    }
   ],
   "source": [
    "# EasyOCR 모델 로드 (English 사용)\n",
    "reader = easyocr.Reader(['en'], gpu=False)"
   ]
  },
  {
   "cell_type": "code",
   "execution_count": 22,
   "metadata": {},
   "outputs": [],
   "source": [
    "# 템플릿 매칭으로 얻은 bounding box 좌표 예시 (여기서 좌표를 입력하세요)\n",
    "# 예시 좌표: [(x, y, w, h), ...]\n",
    "# bounding_boxes = [(240, 213, 772, 373)]  # 템플릿 매칭 결과 좌표 입력\n",
    "bounding_boxes = [(240, 213, 532, 160)]  # 템플릿 매칭 결과 좌표 입력"
   ]
  },
  {
   "cell_type": "code",
   "execution_count": null,
   "metadata": {},
   "outputs": [
    {
     "name": "stdout",
     "output_type": "stream",
     "text": [
      "Detected Text: STARBUCKS, Probability: 0.9544549135714843\n",
      "Detected Text: \"N4quTd, Probability: 0.24978870358036806\n",
      "Detected Text: 4944, Probability: 0.4757816791534424\n"
     ]
    }
   ],
   "source": [
    "# 각 bounding box에 대해 OCR 수행\n",
    "for (x, y, w, h) in bounding_boxes:\n",
    "    # bounding box 영역 추출\n",
    "    roi = image[y:y+h, x:x+w]\n",
    "    \n",
    "    # EasyOCR로 텍스트 감지\n",
    "    result = reader.readtext(roi)\n",
    "    \n",
    "    # 결과 텍스트 및 bounding box 표시\n",
    "    for (bbox, text, prob) in result:\n",
    "        # 감지된 텍스트와 신뢰도 출력\n",
    "        print(f\"Detected Text: {text}, Probability: {prob}\")\n",
    "        \n",
    "        # 원본 이미지에 bounding box와 텍스트 표시\n",
    "        cv2.rectangle(image, (x, y), (x + w, y + h), (0, 255, 0), 2)\n",
    "        cv2.putText(image, text, (x, y - 10), cv2.FONT_HERSHEY_SIMPLEX, 0.5, (0, 255, 0), 2)"
   ]
  },
  {
   "cell_type": "code",
   "execution_count": 24,
   "metadata": {},
   "outputs": [],
   "source": [
    "# 결과 이미지 표시\n",
    "cv2.imshow('Detected Text', image)\n",
    "cv2.waitKey(0)\n",
    "cv2.destroyAllWindows()"
   ]
  },
  {
   "cell_type": "code",
   "execution_count": null,
   "metadata": {},
   "outputs": [],
   "source": []
  }
 ],
 "metadata": {
  "kernelspec": {
   "display_name": "PLAGX",
   "language": "python",
   "name": "python3"
  },
  "language_info": {
   "codemirror_mode": {
    "name": "ipython",
    "version": 3
   },
   "file_extension": ".py",
   "mimetype": "text/x-python",
   "name": "python",
   "nbconvert_exporter": "python",
   "pygments_lexer": "ipython3",
   "version": "3.10.15"
  }
 },
 "nbformat": 4,
 "nbformat_minor": 2
}

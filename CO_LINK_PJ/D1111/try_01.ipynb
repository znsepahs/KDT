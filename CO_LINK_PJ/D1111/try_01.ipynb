{
 "cells": [
  {
   "cell_type": "code",
   "execution_count": 72,
   "metadata": {},
   "outputs": [],
   "source": [
    "import cv2\n",
    "import numpy as np\n",
    "import easyocr"
   ]
  },
  {
   "cell_type": "code",
   "execution_count": 73,
   "metadata": {},
   "outputs": [],
   "source": [
    "# 원본 이미지와 템플릿 이미지 로드\n",
    "image_path = r'C:\\WorkSpace\\LocalData\\LogoDataset\\test_data\\sb4.png'  # 원본 이미지 경로 설정\n",
    "template_path = r'C:\\WorkSpace\\LocalData\\LogoDataset\\test_data\\sb5.png'  # STARBUCKS 템플릿 이미지 경로 설정\n",
    "image = cv2.imread(image_path)\n",
    "template = cv2.imread(template_path)"
   ]
  },
  {
   "cell_type": "code",
   "execution_count": 74,
   "metadata": {},
   "outputs": [],
   "source": [
    "# 그레이스케일로 변환\n",
    "gray_image = cv2.cvtColor(image, cv2.COLOR_BGR2GRAY)"
   ]
  },
  {
   "cell_type": "code",
   "execution_count": 75,
   "metadata": {},
   "outputs": [],
   "source": [
    "gray_template=cv2.cvtColor(template, cv2.COLOR_BGR2GRAY)"
   ]
  },
  {
   "cell_type": "code",
   "execution_count": 76,
   "metadata": {},
   "outputs": [],
   "source": [
    "# 템플릿 매칭 수행\n",
    "result = cv2.matchTemplate(gray_image, gray_template, cv2.TM_CCOEFF_NORMED)\n",
    "threshold = 0.5  # 매칭 임계값 설정\n",
    "loc = np.where(result >= threshold)  # 임계값을 넘는 위치 찾기"
   ]
  },
  {
   "cell_type": "code",
   "execution_count": 77,
   "metadata": {},
   "outputs": [
    {
     "name": "stdout",
     "output_type": "stream",
     "text": [
      "(array([16, 16, 17, 17, 17, 17, 17, 18, 18, 18, 18, 18, 18, 18, 18, 18, 18,\n",
      "       19, 19, 19, 19, 19, 19, 19, 19, 19, 19, 19, 19, 19, 19, 19, 19, 19,\n",
      "       20, 20, 20, 20, 20, 20, 20, 20, 20, 20, 20, 20, 20, 20, 20, 20, 20,\n",
      "       20, 20, 21, 21, 21, 21, 21, 21, 21, 21, 21, 21, 21, 21, 21, 21, 21,\n",
      "       21, 21, 21, 21, 21, 22, 22, 22, 22, 22, 22, 22, 22, 22, 22, 22, 22,\n",
      "       22, 22, 22, 22, 22, 22, 22, 22, 22, 23, 23, 23, 23, 23, 23, 23, 23,\n",
      "       23, 23, 23, 23, 23, 23, 23, 23, 23, 23, 23, 23, 23, 23, 24, 24, 24,\n",
      "       24, 24, 24, 24, 24, 24, 24, 24, 24, 24, 24, 24, 24, 24, 24, 24, 24,\n",
      "       24, 24, 24, 25, 25, 25, 25, 25, 25, 25, 25, 25, 25, 25, 25, 25, 25,\n",
      "       25, 25, 25, 25, 25, 25, 25, 25, 25, 26, 26, 26, 26, 26, 26, 26, 26,\n",
      "       26, 26, 26, 26, 26, 26, 26, 26, 26, 26, 27, 27, 27, 27, 27, 27, 27,\n",
      "       27, 27, 27, 27, 27, 27, 27, 27, 27, 28, 28, 28, 28, 28, 28, 28, 28,\n",
      "       28, 28, 28, 28, 28, 28, 29, 29, 29, 29, 29, 29, 29, 29],\n",
      "      dtype=int64), array([365, 366, 358, 365, 366, 367, 368, 358, 359, 360, 365, 366, 367,\n",
      "       368, 369, 370, 371, 358, 359, 360, 361, 362, 363, 364, 365, 366,\n",
      "       367, 368, 369, 370, 371, 372, 373, 374, 359, 360, 361, 362, 363,\n",
      "       364, 365, 366, 367, 368, 369, 370, 371, 372, 373, 374, 375, 376,\n",
      "       377, 360, 361, 362, 363, 364, 365, 366, 367, 368, 369, 370, 371,\n",
      "       372, 373, 374, 375, 376, 377, 378, 379, 360, 361, 362, 363, 364,\n",
      "       365, 366, 367, 368, 369, 370, 371, 372, 373, 374, 375, 376, 377,\n",
      "       378, 379, 380, 360, 361, 362, 363, 364, 365, 366, 367, 368, 369,\n",
      "       370, 371, 372, 373, 374, 375, 376, 377, 378, 379, 380, 381, 360,\n",
      "       361, 362, 363, 364, 365, 366, 367, 368, 369, 370, 371, 372, 373,\n",
      "       374, 375, 376, 377, 378, 379, 380, 381, 382, 360, 361, 362, 363,\n",
      "       364, 365, 366, 367, 368, 369, 370, 371, 372, 373, 374, 375, 376,\n",
      "       377, 378, 379, 380, 381, 382, 361, 362, 363, 364, 365, 366, 367,\n",
      "       368, 369, 370, 371, 372, 373, 374, 375, 376, 377, 378, 362, 363,\n",
      "       364, 365, 366, 367, 368, 369, 370, 371, 372, 373, 374, 375, 376,\n",
      "       377, 363, 364, 365, 366, 367, 368, 369, 370, 371, 372, 373, 374,\n",
      "       375, 376, 365, 366, 367, 368, 369, 370, 371, 372], dtype=int64))\n"
     ]
    }
   ],
   "source": [
    "print(loc)"
   ]
  },
  {
   "cell_type": "code",
   "execution_count": 78,
   "metadata": {},
   "outputs": [],
   "source": [
    "# 매칭된 위치에 bounding box 그리기\n",
    "for pt in zip(*loc[::-1]):  # 좌표를 (x, y) 형식으로 변환\n",
    "    cv2.rectangle(image, pt, (pt[0] + template.shape[1], pt[1] + template.shape[0]), (0, 255, 0), 2)"
   ]
  },
  {
   "cell_type": "code",
   "execution_count": 79,
   "metadata": {},
   "outputs": [
    {
     "name": "stdout",
     "output_type": "stream",
     "text": [
      "(372, 29)\n"
     ]
    }
   ],
   "source": [
    "print(pt)"
   ]
  },
  {
   "cell_type": "code",
   "execution_count": 80,
   "metadata": {},
   "outputs": [
    {
     "name": "stdout",
     "output_type": "stream",
     "text": [
      "(625, 197)\n"
     ]
    }
   ],
   "source": [
    "print((pt[0] + template.shape[1], pt[1] + template.shape[0]))"
   ]
  },
  {
   "cell_type": "code",
   "execution_count": 81,
   "metadata": {},
   "outputs": [],
   "source": [
    "# 결과 이미지 표시\n",
    "cv2.imshow('Detected STARBUCKS', image)\n",
    "cv2.waitKey(0)\n",
    "cv2.destroyAllWindows()"
   ]
  },
  {
   "cell_type": "code",
   "execution_count": 82,
   "metadata": {},
   "outputs": [],
   "source": [
    "# 원본 이미지 로드\n",
    "image_path = r'C:\\WorkSpace\\LocalData\\LogoDataset\\test_data\\sb4.png'  # 원본 이미지 경로 설정\n",
    "image = cv2.imread(image_path)"
   ]
  },
  {
   "cell_type": "code",
   "execution_count": 83,
   "metadata": {},
   "outputs": [
    {
     "name": "stderr",
     "output_type": "stream",
     "text": [
      "Using CPU. Note: This module is much faster with a GPU.\n"
     ]
    }
   ],
   "source": [
    "# EasyOCR 모델 로드 (English 사용)\n",
    "reader = easyocr.Reader(['en'], gpu=False)"
   ]
  },
  {
   "cell_type": "code",
   "execution_count": 84,
   "metadata": {},
   "outputs": [],
   "source": [
    "# 템플릿 매칭으로 얻은 bounding box 좌표 예시 (여기서 좌표를 입력하세요)\n",
    "# 예시 좌표: [(x, y, w, h), ...]\n",
    "# bounding_boxes = [(240, 213, 772, 373)]  # 템플릿 매칭 결과 좌표 입력\n",
    "bounding_boxes = [(372, 29, 625, 197)]  # 템플릿 매칭 결과 좌표 입력"
   ]
  },
  {
   "cell_type": "code",
   "execution_count": null,
   "metadata": {},
   "outputs": [
    {
     "name": "stdout",
     "output_type": "stream",
     "text": [
      "7\n",
      "Detected Text: Sordvadac, Probability: 0.053270601761753085\n",
      "287\n",
      "Detected Text: j, Probability: 0.17338212270709974\n",
      "364\n",
      "Detected Text: Pastiuce, Probability: 0.2931983102331869\n",
      "445\n",
      "Detected Text: 2, Probability: 0.14342602830916817\n",
      "496\n",
      "Detected Text: Cacadigarcor, Probability: 0.12987682885653895\n",
      "496\n",
      "Detected Text: 0953530, Probability: 0.2066368115291809\n",
      "58.01962344450067\n",
      "Detected Text: 'STAribkkso, Probability: 0.003909810432498043\n",
      "120.12591485733672\n",
      "Detected Text: torddd, Probability: 0.02710075325028145\n",
      "365.14487414671834\n",
      "Detected Text: Psun, Probability: 0.05334847420454025\n",
      "384.5857864376269\n",
      "Detected Text: ECOIST, Probability: 0.33567275237050537\n"
     ]
    }
   ],
   "source": [
    "# 각 bounding box에 대해 OCR 수행\n",
    "for (x, y, w, h) in bounding_boxes:\n",
    "    # bounding box 영역 추출\n",
    "    roi = image\n",
    "    \n",
    "    # EasyOCR로 텍스트 감지\n",
    "    result = reader.readtext(roi)\n",
    "    \n",
    "    # 결과 텍스트 및 bounding box 표시\n",
    "    for (bbox, text, prob) in result:\n",
    "        # 감지된 텍스트와 신뢰도 출력\n",
    "        print(bbox[0][1])\n",
    "        print(f\"Detected Text: {text}, Probability: {prob}\")\n",
    "        \n",
    "        # 원본 이미지에 bounding box와 텍스트 표시\n",
    "        #cv2.rectangle(image, (x, y), (x + w, y + h), (0, 255, 0), 2)\n",
    "        # bbox[0]를 numpy 배열로 변환하고 정수형으로 변환\n",
    "        pts = np.array(bbox, dtype=np.int32)\n",
    "        cv2.polylines(image, [pts], True, (0, 255, 0), 2)\n",
    "\n",
    "        cv2.putText(image, text, (x, y - 10), cv2.FONT_HERSHEY_SIMPLEX, 0.5, (0, 255, 0), 2)"
   ]
  },
  {
   "cell_type": "code",
   "execution_count": 89,
   "metadata": {},
   "outputs": [],
   "source": [
    "# 결과 이미지 표시\n",
    "cv2.imshow('Detected Text', image)\n",
    "cv2.waitKey(0)\n",
    "cv2.destroyAllWindows()"
   ]
  },
  {
   "cell_type": "code",
   "execution_count": null,
   "metadata": {},
   "outputs": [],
   "source": []
  }
 ],
 "metadata": {
  "kernelspec": {
   "display_name": "PLAGX",
   "language": "python",
   "name": "python3"
  },
  "language_info": {
   "codemirror_mode": {
    "name": "ipython",
    "version": 3
   },
   "file_extension": ".py",
   "mimetype": "text/x-python",
   "name": "python",
   "nbconvert_exporter": "python",
   "pygments_lexer": "ipython3",
   "version": "3.10.15"
  }
 },
 "nbformat": 4,
 "nbformat_minor": 2
}

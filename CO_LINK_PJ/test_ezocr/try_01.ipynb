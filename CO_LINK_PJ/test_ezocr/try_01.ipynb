{
 "cells": [
  {
   "cell_type": "code",
   "execution_count": 16,
   "metadata": {},
   "outputs": [],
   "source": [
    "import cv2\n",
    "import numpy as np\n",
    "import easyocr"
   ]
  },
  {
   "cell_type": "code",
   "execution_count": 2,
   "metadata": {},
   "outputs": [],
   "source": [
    "# 원본 이미지와 템플릿 이미지 로드\n",
    "image_path = r'C:\\WorkSpace\\LocalData\\pj_co_link\\test_data\\sb4.png'  # 원본 이미지 경로 설정\n",
    "template_path = r'C:\\WorkSpace\\LocalData\\pj_co_link\\test_data\\sb5.png'  # STARBUCKS 템플릿 이미지 경로 설정\n",
    "image = cv2.imread(image_path)\n",
    "template = cv2.imread(template_path)"
   ]
  },
  {
   "cell_type": "code",
   "execution_count": 3,
   "metadata": {},
   "outputs": [],
   "source": [
    "# 그레이스케일로 변환\n",
    "gray_image = cv2.cvtColor(image, cv2.COLOR_BGR2GRAY)"
   ]
  },
  {
   "cell_type": "code",
   "execution_count": 4,
   "metadata": {},
   "outputs": [],
   "source": [
    "gray_template=cv2.cvtColor(template, cv2.COLOR_BGR2GRAY)"
   ]
  },
  {
   "cell_type": "code",
   "execution_count": 5,
   "metadata": {},
   "outputs": [],
   "source": [
    "# 템플릿 매칭 수행\n",
    "result = cv2.matchTemplate(gray_image, gray_template, cv2.TM_CCOEFF_NORMED)\n",
    "threshold = 0.5  # 매칭 임계값 설정\n",
    "loc = np.where(result >= threshold)  # 임계값을 넘는 위치 찾기"
   ]
  },
  {
   "cell_type": "code",
   "execution_count": 6,
   "metadata": {},
   "outputs": [
    {
     "name": "stdout",
     "output_type": "stream",
     "text": [
      "(array([16, 16, 17, 17, 17, 17, 17, 18, 18, 18, 18, 18, 18, 18, 18, 18, 18,\n",
      "       19, 19, 19, 19, 19, 19, 19, 19, 19, 19, 19, 19, 19, 19, 19, 19, 19,\n",
      "       20, 20, 20, 20, 20, 20, 20, 20, 20, 20, 20, 20, 20, 20, 20, 20, 20,\n",
      "       20, 20, 21, 21, 21, 21, 21, 21, 21, 21, 21, 21, 21, 21, 21, 21, 21,\n",
      "       21, 21, 21, 21, 21, 22, 22, 22, 22, 22, 22, 22, 22, 22, 22, 22, 22,\n",
      "       22, 22, 22, 22, 22, 22, 22, 22, 22, 23, 23, 23, 23, 23, 23, 23, 23,\n",
      "       23, 23, 23, 23, 23, 23, 23, 23, 23, 23, 23, 23, 23, 23, 24, 24, 24,\n",
      "       24, 24, 24, 24, 24, 24, 24, 24, 24, 24, 24, 24, 24, 24, 24, 24, 24,\n",
      "       24, 24, 24, 25, 25, 25, 25, 25, 25, 25, 25, 25, 25, 25, 25, 25, 25,\n",
      "       25, 25, 25, 25, 25, 25, 25, 25, 25, 26, 26, 26, 26, 26, 26, 26, 26,\n",
      "       26, 26, 26, 26, 26, 26, 26, 26, 26, 26, 27, 27, 27, 27, 27, 27, 27,\n",
      "       27, 27, 27, 27, 27, 27, 27, 27, 27, 28, 28, 28, 28, 28, 28, 28, 28,\n",
      "       28, 28, 28, 28, 28, 28, 29, 29, 29, 29, 29, 29, 29, 29],\n",
      "      dtype=int64), array([365, 366, 358, 365, 366, 367, 368, 358, 359, 360, 365, 366, 367,\n",
      "       368, 369, 370, 371, 358, 359, 360, 361, 362, 363, 364, 365, 366,\n",
      "       367, 368, 369, 370, 371, 372, 373, 374, 359, 360, 361, 362, 363,\n",
      "       364, 365, 366, 367, 368, 369, 370, 371, 372, 373, 374, 375, 376,\n",
      "       377, 360, 361, 362, 363, 364, 365, 366, 367, 368, 369, 370, 371,\n",
      "       372, 373, 374, 375, 376, 377, 378, 379, 360, 361, 362, 363, 364,\n",
      "       365, 366, 367, 368, 369, 370, 371, 372, 373, 374, 375, 376, 377,\n",
      "       378, 379, 380, 360, 361, 362, 363, 364, 365, 366, 367, 368, 369,\n",
      "       370, 371, 372, 373, 374, 375, 376, 377, 378, 379, 380, 381, 360,\n",
      "       361, 362, 363, 364, 365, 366, 367, 368, 369, 370, 371, 372, 373,\n",
      "       374, 375, 376, 377, 378, 379, 380, 381, 382, 360, 361, 362, 363,\n",
      "       364, 365, 366, 367, 368, 369, 370, 371, 372, 373, 374, 375, 376,\n",
      "       377, 378, 379, 380, 381, 382, 361, 362, 363, 364, 365, 366, 367,\n",
      "       368, 369, 370, 371, 372, 373, 374, 375, 376, 377, 378, 362, 363,\n",
      "       364, 365, 366, 367, 368, 369, 370, 371, 372, 373, 374, 375, 376,\n",
      "       377, 363, 364, 365, 366, 367, 368, 369, 370, 371, 372, 373, 374,\n",
      "       375, 376, 365, 366, 367, 368, 369, 370, 371, 372], dtype=int64))\n"
     ]
    }
   ],
   "source": [
    "print(loc)"
   ]
  },
  {
   "cell_type": "code",
   "execution_count": 7,
   "metadata": {},
   "outputs": [],
   "source": [
    "# 매칭된 위치에 bounding box 그리기\n",
    "for pt in zip(*loc[::-1]):  # 좌표를 (x, y) 형식으로 변환\n",
    "    cv2.rectangle(image, pt, (pt[0] + template.shape[1], pt[1] + template.shape[0]), (0, 255, 0), 2)"
   ]
  },
  {
   "cell_type": "code",
   "execution_count": 8,
   "metadata": {},
   "outputs": [
    {
     "name": "stdout",
     "output_type": "stream",
     "text": [
      "(372, 29)\n"
     ]
    }
   ],
   "source": [
    "print(pt)"
   ]
  },
  {
   "cell_type": "code",
   "execution_count": 9,
   "metadata": {},
   "outputs": [
    {
     "name": "stdout",
     "output_type": "stream",
     "text": [
      "(625, 197)\n"
     ]
    }
   ],
   "source": [
    "print((pt[0] + template.shape[1], pt[1] + template.shape[0]))"
   ]
  },
  {
   "cell_type": "code",
   "execution_count": 10,
   "metadata": {},
   "outputs": [],
   "source": [
    "# 결과 이미지 표시\n",
    "cv2.imshow('Detected STARBUCKS', image)\n",
    "cv2.waitKey(0)\n",
    "cv2.destroyAllWindows()"
   ]
  },
  {
   "cell_type": "code",
   "execution_count": 17,
   "metadata": {},
   "outputs": [],
   "source": [
    "# 원본 이미지 로드\n",
    "image_path = r'C:\\WorkSpace\\LocalData\\pj_co_link\\test_data\\sw1.jpg'  # 원본 이미지 경로 설정\n",
    "image = cv2.imread(image_path)"
   ]
  },
  {
   "cell_type": "code",
   "execution_count": 18,
   "metadata": {},
   "outputs": [
    {
     "name": "stderr",
     "output_type": "stream",
     "text": [
      "Using CPU. Note: This module is much faster with a GPU.\n"
     ]
    }
   ],
   "source": [
    "# EasyOCR 모델 로드 (English 사용)\n",
    "reader = easyocr.Reader(['ko','en'], gpu=False)"
   ]
  },
  {
   "cell_type": "code",
   "execution_count": 19,
   "metadata": {},
   "outputs": [],
   "source": [
    "# 템플릿 매칭으로 얻은 bounding box 좌표 예시 (여기서 좌표를 입력하세요)\n",
    "# 예시 좌표: [(x, y, w, h), ...]\n",
    "# bounding_boxes = [(240, 213, 772, 373)]  # 템플릿 매칭 결과 좌표 입력\n",
    "bounding_boxes = [(372, 29, 625, 197)]  # 템플릿 매칭 결과 좌표 입력"
   ]
  },
  {
   "cell_type": "code",
   "execution_count": 20,
   "metadata": {},
   "outputs": [
    {
     "name": "stdout",
     "output_type": "stream",
     "text": [
      "102\n",
      "Detected Text: 게, Probability: 0.4204019336611964\n",
      "133\n",
      "Detected Text: 관터, Probability: 0.009352050273867048\n",
      "317\n",
      "Detected Text: =, Probability: 0.5790901220899549\n",
      "488\n",
      "Detected Text: 출, Probability: 0.1303737021707727\n",
      "753\n",
      "Detected Text: NBB, Probability: 0.9751771432128669\n",
      "828\n",
      "Detected Text: a떼, Probability: 0.01373327218769762\n",
      "884\n",
      "Detected Text: 이달의 샌드위치, Probability: 0.7855638977489874\n",
      "907\n",
      "Detected Text: 올딩-다다, Probability: 0.002414856869934201\n",
      "901\n",
      "Detected Text: 죽 , Probability: 0.06693905656214934\n",
      "905\n",
      "Detected Text: 스파디시 어쓰리안 단문, Probability: 0.00993087769439844\n",
      "923\n",
      "Detected Text: 5,9002, Probability: 0.587171366409012\n",
      "939\n",
      "Detected Text: 마하, Probability: 0.05614959284987444\n",
      "948\n",
      "Detected Text: '뛰가다, Probability: 0.042326342314481735\n",
      "975\n",
      "Detected Text: Fesh 스터디가다, Probability: 0.4975917626508493\n",
      "989\n",
      "Detected Text: 4, Probability: 0.8917101369862088\n",
      "997\n",
      "Detected Text: 65001, Probability: 0.3424232564531106\n",
      "1028\n",
      "Detected Text: V, Probability: 0.999896767419628\n",
      "1059\n",
      "Detected Text: {미터), Probability: 0.4968646163359977\n",
      "1057\n",
      "Detected Text: {퀴터기가, Probability: 0.00933105856286386\n",
      "1055\n",
      "Detected Text: 하 다, Probability: 0.16045466121097451\n",
      "1071\n",
      "Detected Text: IrhV, Probability: 0.3168320059776306\n",
      "1083\n",
      "Detected Text: rhEg, Probability: 0.03174690902233124\n",
      "1079\n",
      "Detected Text: S, Probability: 0.21742697284381407\n",
      "1167\n",
      "Detected Text: SUBuRT, Probability: 0.4380903167560257\n",
      "1263\n",
      "Detected Text: 2333, Probability: 0.28408125042915344\n",
      "1262\n",
      "Detected Text: 6549, Probability: 0.18559224903583527\n",
      "1273\n",
      "Detected Text: Htry, Probability: 0.03377116471529007\n",
      "64.10097970609796\n",
      "Detected Text: 스러다, Probability: 0.2725521922111511\n",
      "34.16585988749353\n",
      "Detected Text: 5T07, Probability: 0.5841228365898132\n",
      "54.16585988749353\n",
      "Detected Text: 검퓨대점, Probability: 0.016347818076610565\n",
      "94.21114561800017\n",
      "Detected Text: [다카다, Probability: 0.10153786092996597\n",
      "141.1792670450748\n",
      "Detected Text: 프라어이, Probability: 0.039163075387477875\n",
      "157.036880054477\n",
      "Detected Text: (불요, Probability: 0.026974704562453468\n",
      "527.1380657848422\n",
      "Detected Text: GTE, Probability: 0.3319481611251831\n",
      "675.0915760743364\n",
      "Detected Text: SUBURY', Probability: 0.4984668557260335\n",
      "815.9862116102653\n",
      "Detected Text: I, Probability: 0.05112854052527016\n",
      "924.6080067839797\n",
      "Detected Text: '모'세트, Probability: 0.149765197338706\n",
      "950.2572186472918\n",
      "Detected Text: '맛외다t?, Probability: 0.005990497032514347\n",
      "975.115081777618\n",
      "Detected Text: 로스트 -진B, Probability: 0.002971159396373505\n",
      "1070.4265376556366\n",
      "Detected Text: 기하다가, Probability: 0.015050152316689491\n",
      "1082.6286093236458\n",
      "Detected Text: 정_무다_다, Probability: 0.0002241041676228303\n",
      "1095.260059926604\n",
      "Detected Text: a무TIaI], Probability: 4.871037311097939e-05\n",
      "1169.1862665287933\n",
      "Detected Text: FaTeUIIV, Probability: 0.0002628349687831256\n"
     ]
    }
   ],
   "source": [
    "# 각 bounding box에 대해 OCR 수행\n",
    "for (x, y, w, h) in bounding_boxes:\n",
    "    # bounding box 영역 추출\n",
    "    roi = image\n",
    "    \n",
    "    # EasyOCR로 텍스트 감지\n",
    "    result = reader.readtext(roi)\n",
    "    \n",
    "    # 결과 텍스트 및 bounding box 표시\n",
    "    for (bbox, text, prob) in result:\n",
    "        # 감지된 텍스트와 신뢰도 출력\n",
    "        print(bbox[0][1])\n",
    "        print(f\"Detected Text: {text}, Probability: {prob}\")\n",
    "        \n",
    "        # 원본 이미지에 bounding box와 텍스트 표시\n",
    "        #cv2.rectangle(image, (x, y), (x + w, y + h), (0, 255, 0), 2)\n",
    "        # bbox[0]를 numpy 배열로 변환하고 정수형으로 변환\n",
    "        pts = np.array(bbox, dtype=np.int32)\n",
    "        cv2.polylines(image, [pts], True, (0, 255, 0), 2)\n",
    "\n",
    "        cv2.putText(image, text, (x, y - 10), cv2.FONT_HERSHEY_SIMPLEX, 0.5, (0, 255, 0), 2)"
   ]
  },
  {
   "cell_type": "code",
   "execution_count": 21,
   "metadata": {},
   "outputs": [],
   "source": [
    "# 결과 이미지 표시\n",
    "cv2.imshow('Detected Text', image)\n",
    "cv2.waitKey(0)\n",
    "cv2.destroyAllWindows()"
   ]
  },
  {
   "cell_type": "code",
   "execution_count": null,
   "metadata": {},
   "outputs": [],
   "source": []
  }
 ],
 "metadata": {
  "kernelspec": {
   "display_name": "EZOCR",
   "language": "python",
   "name": "python3"
  },
  "language_info": {
   "codemirror_mode": {
    "name": "ipython",
    "version": 3
   },
   "file_extension": ".py",
   "mimetype": "text/x-python",
   "name": "python",
   "nbconvert_exporter": "python",
   "pygments_lexer": "ipython3",
   "version": "3.10.15"
  }
 },
 "nbformat": 4,
 "nbformat_minor": 2
}

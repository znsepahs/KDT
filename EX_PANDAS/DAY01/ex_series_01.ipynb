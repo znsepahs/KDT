{
 "cells": [
  {
   "cell_type": "markdown",
   "metadata": {},
   "source": [
    "### Series 데이터 자료형\n",
    "- 판다스에서 1줄의 데이터를 저장하는 자료형/데이터 타입\n",
    "- 형식 : pandas.series()\n",
    "- 구성 : Index+Data"
   ]
  },
  {
   "cell_type": "code",
   "execution_count": 1,
   "metadata": {},
   "outputs": [
    {
     "name": "stdout",
     "output_type": "stream",
     "text": [
      "Collecting koreanize_matplotlib\n",
      "  Downloading koreanize_matplotlib-0.1.1-py3-none-any.whl.metadata (992 bytes)\n",
      "Requirement already satisfied: matplotlib in c:\\users\\lg\\anaconda3\\envs\\py39\\lib\\site-packages (from koreanize_matplotlib) (3.8.4)\n",
      "Requirement already satisfied: contourpy>=1.0.1 in c:\\users\\lg\\anaconda3\\envs\\py39\\lib\\site-packages (from matplotlib->koreanize_matplotlib) (1.0.4)\n",
      "Requirement already satisfied: cycler>=0.10 in c:\\users\\lg\\anaconda3\\envs\\py39\\lib\\site-packages (from matplotlib->koreanize_matplotlib) (0.12.1)\n",
      "Requirement already satisfied: fonttools>=4.22.0 in c:\\users\\lg\\anaconda3\\envs\\py39\\lib\\site-packages (from matplotlib->koreanize_matplotlib) (4.37.1)\n",
      "Requirement already satisfied: kiwisolver>=1.3.1 in c:\\users\\lg\\anaconda3\\envs\\py39\\lib\\site-packages (from matplotlib->koreanize_matplotlib) (1.4.4)\n",
      "Requirement already satisfied: numpy>=1.21 in c:\\users\\lg\\anaconda3\\envs\\py39\\lib\\site-packages (from matplotlib->koreanize_matplotlib) (1.26.4)\n",
      "Requirement already satisfied: packaging>=20.0 in c:\\users\\lg\\anaconda3\\envs\\py39\\lib\\site-packages (from matplotlib->koreanize_matplotlib) (24.1)\n",
      "Requirement already satisfied: pillow>=8 in c:\\users\\lg\\anaconda3\\envs\\py39\\lib\\site-packages (from matplotlib->koreanize_matplotlib) (8.3.2)\n",
      "Requirement already satisfied: pyparsing>=2.3.1 in c:\\users\\lg\\anaconda3\\envs\\py39\\lib\\site-packages (from matplotlib->koreanize_matplotlib) (3.0.9)\n",
      "Requirement already satisfied: python-dateutil>=2.7 in c:\\users\\lg\\anaconda3\\envs\\py39\\lib\\site-packages (from matplotlib->koreanize_matplotlib) (2.9.0.post0)\n",
      "Requirement already satisfied: importlib-resources>=3.2.0 in c:\\users\\lg\\anaconda3\\envs\\py39\\lib\\site-packages (from matplotlib->koreanize_matplotlib) (6.4.0)\n",
      "Requirement already satisfied: zipp>=3.1.0 in c:\\users\\lg\\anaconda3\\envs\\py39\\lib\\site-packages (from importlib-resources>=3.2.0->matplotlib->koreanize_matplotlib) (3.19.2)\n",
      "Requirement already satisfied: six>=1.5 in c:\\users\\lg\\anaconda3\\envs\\py39\\lib\\site-packages (from python-dateutil>=2.7->matplotlib->koreanize_matplotlib) (1.16.0)\n",
      "Downloading koreanize_matplotlib-0.1.1-py3-none-any.whl (7.9 MB)\n",
      "   ---------------------------------------- 0.0/7.9 MB ? eta -:--:--\n",
      "   ---------------------------------------- 0.0/7.9 MB ? eta -:--:--\n",
      "   - -------------------------------------- 0.2/7.9 MB 3.5 MB/s eta 0:00:03\n",
      "   -------- ------------------------------- 1.8/7.9 MB 16.2 MB/s eta 0:00:01\n",
      "   ------------------ --------------------- 3.6/7.9 MB 23.2 MB/s eta 0:00:01\n",
      "   ------------------------------ --------- 6.0/7.9 MB 29.6 MB/s eta 0:00:01\n",
      "   ----------------------------------- ---- 7.1/7.9 MB 28.4 MB/s eta 0:00:01\n",
      "   ---------------------------------------- 7.9/7.9 MB 25.4 MB/s eta 0:00:00\n",
      "Installing collected packages: koreanize_matplotlib\n",
      "Successfully installed koreanize_matplotlib-0.1.1\n",
      "Note: you may need to restart the kernel to use updated packages.\n"
     ]
    }
   ],
   "source": [
    "# 모듈로딩\n",
    "import pandas as pd\n",
    "%pip install koreanize_matplotlib"
   ]
  },
  {
   "cell_type": "code",
   "execution_count": 8,
   "metadata": {},
   "outputs": [],
   "source": [
    "# 시리즈 데이터 생성\n",
    "sr1=pd.Series([10,20.,'30'])"
   ]
  },
  {
   "cell_type": "code",
   "execution_count": 9,
   "metadata": {},
   "outputs": [
    {
     "name": "stdout",
     "output_type": "stream",
     "text": [
      "0      10\n",
      "1    20.0\n",
      "2      30\n",
      "dtype: object\n"
     ]
    }
   ],
   "source": [
    "print(sr1)"
   ]
  },
  {
   "cell_type": "code",
   "execution_count": 10,
   "metadata": {},
   "outputs": [
    {
     "data": {
      "text/plain": [
       "RangeIndex(start=0, stop=3, step=1)"
      ]
     },
     "execution_count": 10,
     "metadata": {},
     "output_type": "execute_result"
    }
   ],
   "source": [
    "# 인덱스 정보 읽기 => 변수명.속성명\n",
    "sr1.index"
   ]
  },
  {
   "cell_type": "code",
   "execution_count": 13,
   "metadata": {},
   "outputs": [
    {
     "data": {
      "text/plain": [
       "(array([10, 20.0, '30'], dtype=object), numpy.ndarray)"
      ]
     },
     "execution_count": 13,
     "metadata": {},
     "output_type": "execute_result"
    }
   ],
   "source": [
    "# 값/데이터 정보 읽기 => 변수명.속성명\n",
    "sr1.values, type(sr1.values)"
   ]
  },
  {
   "cell_type": "code",
   "execution_count": 12,
   "metadata": {},
   "outputs": [
    {
     "data": {
      "text/plain": [
       "dtype('O')"
      ]
     },
     "execution_count": 12,
     "metadata": {},
     "output_type": "execute_result"
    }
   ],
   "source": [
    "# 데이터타입 정보 읽기 => 변수명.속성명\n",
    "sr1.dtype"
   ]
  },
  {
   "cell_type": "code",
   "execution_count": 14,
   "metadata": {},
   "outputs": [
    {
     "data": {
      "text/plain": [
       "1"
      ]
     },
     "execution_count": 14,
     "metadata": {},
     "output_type": "execute_result"
    }
   ],
   "source": [
    "# 데이터의 차원 정보 읽기 => 변수명.속성명\n",
    "sr1.ndim"
   ]
  },
  {
   "cell_type": "code",
   "execution_count": null,
   "metadata": {},
   "outputs": [],
   "source": []
  }
 ],
 "metadata": {
  "kernelspec": {
   "display_name": "PY39",
   "language": "python",
   "name": "python3"
  },
  "language_info": {
   "codemirror_mode": {
    "name": "ipython",
    "version": 3
   },
   "file_extension": ".py",
   "mimetype": "text/x-python",
   "name": "python",
   "nbconvert_exporter": "python",
   "pygments_lexer": "ipython3",
   "version": "3.9.19"
  }
 },
 "nbformat": 4,
 "nbformat_minor": 2
}

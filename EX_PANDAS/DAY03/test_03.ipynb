{
 "cells": [
  {
   "cell_type": "markdown",
   "metadata": {},
   "source": [
    "3. 아래 단답형 문제에 답해주세요.\n",
    "- (3-01) 판다스는 ( )를 분석하기 위한 패키지입니다.\n",
    "    - 데이터\n",
    "- (3-02) 판다스에서는 다양한 종류의 데이터를 ( )형태로 저장합니다.\n",
    "    - DataFrame\n",
    "- (3-03) 판다스에서는 1차원 데이터를 저장하는 자료구조를 ( )라고 합니다.\n",
    "    - Series\n",
    "- (3-04) 판다스에서는 2차원 데이터를 저장하는 자료구조를 ( )라고 합니다.\n",
    "    - DataFrame\n",
    "- (3-05) 판다스는 내부적으로 데이터를 ( )형태로 저장합니다.\n",
    "    - Array\n",
    "- (3-06) 판다스에서는 1개 열/column 추출 시 자료구조는 ( )입니다.\n",
    "    - Series\n",
    "- (3-07) 판다스에서는 1개 행/row 추출 시 자료구조는 ( )입니다.\n",
    "    - Series\n",
    "- (3-08) 판다스에서는 2개 이상 열/column 또는 행/row 추출 시 자료구조는 ( )입니다.\n",
    "    - DataFrame"
   ]
  },
  {
   "cell_type": "markdown",
   "metadata": {},
   "source": []
  }
 ],
 "metadata": {
  "kernelspec": {
   "display_name": "PY39",
   "language": "python",
   "name": "python3"
  },
  "language_info": {
   "name": "python",
   "version": "3.9.19"
  }
 },
 "nbformat": 4,
 "nbformat_minor": 2
}

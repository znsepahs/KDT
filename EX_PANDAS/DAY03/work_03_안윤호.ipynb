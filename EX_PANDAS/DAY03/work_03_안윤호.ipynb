{
 "cells": [
  {
   "cell_type": "markdown",
   "metadata": {},
   "source": [
    "### 과제\n",
    "- Doit 70~90p\n",
    "- 발전량 합계 함수썼던거 메서드로 sum?"
   ]
  },
  {
   "cell_type": "code",
   "execution_count": 11,
   "metadata": {},
   "outputs": [
    {
     "name": "stdout",
     "output_type": "stream",
     "text": [
      "0    banana\n",
      "1        42\n",
      "dtype: object\n",
      "Person         Wes McKinney\n",
      "Who       Creator of Pandas\n",
      "dtype: object\n"
     ]
    }
   ],
   "source": [
    "## doit 70~71p\n",
    "# 시리즈 만들기\n",
    "import pandas as pd\n",
    "import numpy as np\n",
    "s=pd.Series(['banana',42])\n",
    "print(s)\n",
    "s=pd.Series(data=['Wes McKinney','Creator of Pandas'],index=['Person','Who'])\n",
    "print(s)\n"
   ]
  },
  {
   "cell_type": "code",
   "execution_count": 12,
   "metadata": {},
   "outputs": [
    {
     "name": "stdout",
     "output_type": "stream",
     "text": [
      "                name    Occupation        Born        Died  Age\n",
      "0  Rosaline Franklin       Chemist  1920-07-25  1958-04-16   37\n",
      "1     William Gosset  Statistician  1876-06-13  1937-10-16   61\n",
      "                     Occupation        Born        Died  Age\n",
      "Rosaline Franklin       Chemist  1920-07-25  1958-04-16   37\n",
      "William Gosset     Statistician  1876-06-13  1937-10-16   61\n"
     ]
    }
   ],
   "source": [
    "## doit 71~72p\n",
    "# 데이터 프레임 만들기\n",
    "scientists=pd.DataFrame({\n",
    "    \"name\":[\"Rosaline Franklin\",\"William Gosset\"],\n",
    "    \"Occupation\": [\"Chemist\",\"Statistician\"],\n",
    "    \"Born\": [\"1920-07-25\",\"1876-06-13\"],\n",
    "    \"Died\": [\"1958-04-16\",\"1937-10-16\"],\n",
    "    \"Age\": [37,61],\n",
    "})\n",
    "print(scientists)\n",
    "\n",
    "scientists=pd.DataFrame(\n",
    "    data={\n",
    "        \"Occupation\": [\"Chemist\",\"Statistician\"],\n",
    "        \"Born\": [\"1920-07-25\",\"1876-06-13\"],\n",
    "        \"Died\": [\"1958-04-16\",\"1937-10-16\"],\n",
    "        \"Age\": [37,61],\n",
    "    },\n",
    "    index=[\"Rosaline Franklin\",\"William Gosset\"],\n",
    "    columns=[\"Occupation\",\"Born\",\"Died\",\"Age\"],\n",
    ")\n",
    "print(scientists)"
   ]
  },
  {
   "cell_type": "code",
   "execution_count": 13,
   "metadata": {},
   "outputs": [
    {
     "name": "stdout",
     "output_type": "stream",
     "text": [
      "<class 'pandas.core.series.Series'>\n",
      "Occupation    Statistician\n",
      "Born            1876-06-13\n",
      "Died            1937-10-16\n",
      "Age                     61\n",
      "Name: William Gosset, dtype: object\n",
      "Index(['Occupation', 'Born', 'Died', 'Age'], dtype='object')\n",
      "['Statistician' '1876-06-13' '1937-10-16' 61]\n",
      "Index(['Occupation', 'Born', 'Died', 'Age'], dtype='object')\n",
      "Occupation\n",
      "Occupation\n"
     ]
    }
   ],
   "source": [
    "## doit 73~75p\n",
    "# 시리즈 추출하기\n",
    "first_row=scientists.loc[\"William Gosset\"] # DF에서 행 추출\n",
    "print(type(first_row))\n",
    "print(first_row)\n",
    "print(first_row.index) # 시리즈 객체의 인덱스 확인\n",
    "print(first_row.values) # 시리즈 객체의 값 확인\n",
    "\n",
    "# 시리즈의 keys() 메서드\n",
    "print(first_row.keys()) # 시리즈의 keys()는 index 속성과 같은 역할을 한다.\n",
    "print(first_row.index[0]) # 첫 번째 인덱스를 추출하는 방법\n",
    "print(first_row.keys()[0]) "
   ]
  },
  {
   "cell_type": "code",
   "execution_count": 14,
   "metadata": {},
   "outputs": [
    {
     "name": "stdout",
     "output_type": "stream",
     "text": [
      "Rosaline Franklin    37\n",
      "William Gosset       61\n",
      "Name: Age, dtype: int64\n",
      "49.0\n",
      "37\n",
      "61\n",
      "16.97056274847714\n"
     ]
    }
   ],
   "source": [
    "## doit 76~77p\n",
    "# 시리즈의 메서드 사용하기\n",
    "ages=scientists['Age'] # DF에서 Age 열 시리즈 추출\n",
    "print(ages)\n",
    "print(ages.mean()) # 평균\n",
    "print(ages.min()) # 최솟값\n",
    "print(ages.max()) # 최댓값\n",
    "print(ages.std()) # 표준편차\n",
    "## 시리즈와 ndarray\n",
    "# 판다스 시리즈 자료구조는 넘파이의 ndarray(numpy.ndarray)와 유사하다. ndarray에서 사용할 수 있는 대부분의\n",
    "# 메서드와 함수는 시리즈에서도 사용가능 / 한 특성에 대한 여러 가지 값이므로 시리즈를 벡터(vector)라고도 한다."
   ]
  },
  {
   "cell_type": "code",
   "execution_count": 15,
   "metadata": {},
   "outputs": [
    {
     "name": "stdout",
     "output_type": "stream",
     "text": [
      "0    37\n",
      "1    61\n",
      "2    90\n",
      "3    66\n",
      "4    56\n",
      "5    45\n",
      "6    41\n",
      "7    77\n",
      "Name: Age, dtype: int64\n",
      "count     8.000000\n",
      "mean     59.125000\n",
      "std      18.325918\n",
      "min      37.000000\n",
      "25%      44.000000\n",
      "50%      58.500000\n",
      "75%      68.750000\n",
      "max      90.000000\n",
      "Name: Age, dtype: float64\n",
      "59.125\n",
      "1    61\n",
      "2    90\n",
      "3    66\n",
      "7    77\n",
      "Name: Age, dtype: int64\n",
      "0    False\n",
      "1     True\n",
      "2     True\n",
      "3     True\n",
      "4    False\n",
      "5    False\n",
      "6    False\n",
      "7     True\n",
      "Name: Age, dtype: bool\n",
      "0    37\n",
      "1    61\n",
      "4    56\n",
      "5    45\n",
      "7    77\n",
      "Name: Age, dtype: int64\n"
     ]
    }
   ],
   "source": [
    "## doit 78~81p / 시리즈와 불리언\n",
    "# 기술 통계량 계산하기\n",
    "scientists=pd.read_csv(r'C:\\KDT\\EX_PANDAS\\DAY02\\DATA_doit_pan\\DATA\\scientists.csv')\n",
    "ages=scientists['Age'] # DF에서 Age열 추출하여 ages에 저장\n",
    "print(ages)\n",
    "print(ages.describe()) # 기술 통계량 계산\n",
    "print(ages.mean()) # describe()의 mean 값과 같다\n",
    "print(ages[ages>ages.mean()]) # 평균 나이보다 나이가 많은 과학자를 추출\n",
    "print(ages>ages.mean()) # boolean 값 True만 추출\n",
    "manual_bool_values=[\n",
    "    True,\n",
    "    True,\n",
    "    False,\n",
    "    False,\n",
    "    True,\n",
    "    True,\n",
    "    False,\n",
    "    True,\n",
    "]\n",
    "print(ages[manual_bool_values])"
   ]
  },
  {
   "cell_type": "code",
   "execution_count": 16,
   "metadata": {},
   "outputs": [
    {
     "name": "stdout",
     "output_type": "stream",
     "text": [
      "0     74\n",
      "1    122\n",
      "2    180\n",
      "3    132\n",
      "4    112\n",
      "5     90\n",
      "6     82\n",
      "7    154\n",
      "Name: Age, dtype: int64\n",
      "0    1369\n",
      "1    3721\n",
      "2    8100\n",
      "3    4356\n",
      "4    3136\n",
      "5    2025\n",
      "6    1681\n",
      "7    5929\n",
      "Name: Age, dtype: int64\n",
      "0    137\n",
      "1    161\n",
      "2    190\n",
      "3    166\n",
      "4    156\n",
      "5    145\n",
      "6    141\n",
      "7    177\n",
      "Name: Age, dtype: int64\n",
      "0     74\n",
      "1    122\n",
      "2    180\n",
      "3    132\n",
      "4    112\n",
      "5     90\n",
      "6     82\n",
      "7    154\n",
      "Name: Age, dtype: int64\n"
     ]
    }
   ],
   "source": [
    "## doit 82~83p / 시리즈와 브로드캐스팅\n",
    "# 벡터와 벡터, 벡터와 스칼라 계산하기\n",
    "print(ages+ages) # 시리즈와 시리즈 연산\n",
    "print(ages*ages)\n",
    "print(ages+100) # 시리즈와 스칼라 연산\n",
    "print(ages*2)"
   ]
  },
  {
   "cell_type": "code",
   "execution_count": 17,
   "metadata": {},
   "outputs": [
    {
     "name": "stdout",
     "output_type": "stream",
     "text": [
      "0     38.0\n",
      "1    161.0\n",
      "2      NaN\n",
      "3      NaN\n",
      "4      NaN\n",
      "5      NaN\n",
      "6      NaN\n",
      "7      NaN\n",
      "dtype: float64\n"
     ]
    }
   ],
   "source": [
    "## doit 83~84p / 시리즈와 브로드캐스팅\n",
    "# 길이가 서로 다른 벡터 연산하기\n",
    "print(ages+pd.Series([1,100])) # 인덱스가 일치하는 0,1행만 계산 / 나머지는 결측값(NaN) 처리\n"
   ]
  },
  {
   "cell_type": "code",
   "execution_count": 18,
   "metadata": {},
   "outputs": [
    {
     "name": "stdout",
     "output_type": "stream",
     "text": [
      "7    77\n",
      "6    41\n",
      "5    45\n",
      "4    56\n",
      "3    66\n",
      "2    90\n",
      "1    61\n",
      "0    37\n",
      "Name: Age, dtype: int64\n",
      "0     74\n",
      "1    122\n",
      "2    180\n",
      "3    132\n",
      "4    112\n",
      "5     90\n",
      "6     82\n",
      "7    154\n",
      "Name: Age, dtype: int64\n",
      "0     74\n",
      "1    122\n",
      "2    180\n",
      "3    132\n",
      "4    112\n",
      "5     90\n",
      "6     82\n",
      "7    154\n",
      "Name: Age, dtype: int64\n"
     ]
    }
   ],
   "source": [
    "## doit 84~86p / 시리즈와 브로드캐스팅\n",
    "# 인덱스가 같은 벡터 자동 정렬하기\n",
    "# 판다스는 대부분의 데이터를 자동으로 정렬. 시리즈나 데이터프레임은 가능한 한 인덱스를 기준으로 데이터 정렬\n",
    "rev_ages=ages.sort_index(ascending=False) # ages 시리즈 내림차순 정렬\n",
    "print(rev_ages)\n",
    "print(ages*2) # 시리즈 값에 *2 하여 오름차순 정리\n",
    "print(ages + rev_ages) # 두 시리즈 값이 합 연산 되어 오름차순 정리"
   ]
  },
  {
   "cell_type": "code",
   "execution_count": 19,
   "metadata": {},
   "outputs": [
    {
     "name": "stdout",
     "output_type": "stream",
     "text": [
      "                   Name        Born        Died  Age     Occupation\n",
      "1        William Gosset  1876-06-13  1937-10-16   61   Statistician\n",
      "2  Florence Nightingale  1820-05-12  1910-08-13   90          Nurse\n",
      "3           Marie Curie  1867-11-07  1934-07-04   66        Chemist\n",
      "7          Johann Gauss  1777-04-30  1855-02-23   77  Mathematician\n"
     ]
    }
   ],
   "source": [
    "## doit 87~88p\n",
    "# 데이터프레임의 구성\n",
    "# 판다스의 데이터 프레임 객체에는 각각 행 이름, 열 이름, 데이터를 나타내는 주요 구성 요소 존재\n",
    "scientists.index\n",
    "scientists.columns\n",
    "scientists.values\n",
    "# 데이터프레임과 불리언 추출\n",
    "print(scientists.loc[scientists['Age']>scientists['Age'].mean()]) # DF에서 Age 열의 값이 평균 보다 큰 데이터만 추출"
   ]
  },
  {
   "cell_type": "code",
   "execution_count": 20,
   "metadata": {},
   "outputs": [
    {
     "name": "stdout",
     "output_type": "stream",
     "text": [
      "                   Name        Born        Died  Age    Occupation\n",
      "0     Rosaline Franklin  1920-07-25  1958-04-16   37       Chemist\n",
      "1        William Gosset  1876-06-13  1937-10-16   61  Statistician\n",
      "2  Florence Nightingale  1820-05-12  1910-08-13   90         Nurse\n",
      "3           Marie Curie  1867-11-07  1934-07-04   66       Chemist\n",
      "                                       Name                  Born  \\\n",
      "0        Rosaline FranklinRosaline Franklin  1920-07-251920-07-25   \n",
      "1              William GossetWilliam Gosset  1876-06-131876-06-13   \n",
      "2  Florence NightingaleFlorence Nightingale  1820-05-121820-05-12   \n",
      "3                    Marie CurieMarie Curie  1867-11-071867-11-07   \n",
      "4                Rachel CarsonRachel Carson  1907-05-271907-05-27   \n",
      "5                        John SnowJohn Snow  1813-03-151813-03-15   \n",
      "6                    Alan TuringAlan Turing  1912-06-231912-06-23   \n",
      "7                  Johann GaussJohann Gauss  1777-04-301777-04-30   \n",
      "\n",
      "                   Died  Age                            Occupation  \n",
      "0  1958-04-161958-04-16   74                        ChemistChemist  \n",
      "1  1937-10-161937-10-16  122              StatisticianStatistician  \n",
      "2  1910-08-131910-08-13  180                            NurseNurse  \n",
      "3  1934-07-041934-07-04  132                        ChemistChemist  \n",
      "4  1964-04-141964-04-14  112                    BiologistBiologist  \n",
      "5  1858-06-161858-06-16   90                    PhysicianPhysician  \n",
      "6  1954-06-071954-06-07   82  Computer ScientistComputer Scientist  \n",
      "7  1855-02-231855-02-23  154            MathematicianMathematician  \n",
      "    0   1   2\n",
      "0   2   4   6\n",
      "1   8  10  12\n",
      "2  14  16  18\n"
     ]
    }
   ],
   "source": [
    "## doit 89~90p\n",
    "# 데이터프레임과 브로드캐스팅\n",
    "# 데이터프레임을 대상으로 연산하기\n",
    "first_half=scientists[:4] # DF 반으로 나눔\n",
    "second_half=scientists[4:]\n",
    "print(first_half)\n",
    "print(scientists*2)\n",
    "df1=df2=pd.DataFrame(data=[[1,2,3],[4,5,6],[7,8,9]])\n",
    "df_added=df1.add(df2) # 데이터프레임의 모든 값이 숫자이고 같은 셀끼리 값을 더하고 싶으면 add() 사용\n",
    "print(df_added)"
   ]
  },
  {
   "cell_type": "code",
   "execution_count": null,
   "metadata": {},
   "outputs": [],
   "source": []
  }
 ],
 "metadata": {
  "kernelspec": {
   "display_name": "PY39",
   "language": "python",
   "name": "python3"
  },
  "language_info": {
   "codemirror_mode": {
    "name": "ipython",
    "version": 3
   },
   "file_extension": ".py",
   "mimetype": "text/x-python",
   "name": "python",
   "nbconvert_exporter": "python",
   "pygments_lexer": "ipython3",
   "version": "3.9.19"
  }
 },
 "nbformat": 4,
 "nbformat_minor": 2
}

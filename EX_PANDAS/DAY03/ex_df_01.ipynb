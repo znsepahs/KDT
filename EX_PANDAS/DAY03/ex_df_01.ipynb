{
 "cells": [
  {
   "cell_type": "markdown",
   "metadata": {},
   "source": [
    "### 데이터 활용 방법 - 전치\n",
    "- 행과 열을 서로 바꾸는 것\n",
    "- 방법\n",
    "    - (1) 메서드 : 변수명.transpose()\n",
    "    - (2) 속성 : 변수명.T"
   ]
  },
  {
   "cell_type": "code",
   "execution_count": 7,
   "metadata": {},
   "outputs": [],
   "source": [
    "import pandas as pd"
   ]
  },
  {
   "cell_type": "code",
   "execution_count": 8,
   "metadata": {},
   "outputs": [],
   "source": [
    "file_name=r'C:\\KDT\\EX_PANDAS\\DAY02\\data.csv'"
   ]
  },
  {
   "cell_type": "code",
   "execution_count": 14,
   "metadata": {},
   "outputs": [
    {
     "data": {
      "text/html": [
       "<div>\n",
       "<style scoped>\n",
       "    .dataframe tbody tr th:only-of-type {\n",
       "        vertical-align: middle;\n",
       "    }\n",
       "\n",
       "    .dataframe tbody tr th {\n",
       "        vertical-align: top;\n",
       "    }\n",
       "\n",
       "    .dataframe thead th {\n",
       "        text-align: right;\n",
       "    }\n",
       "</style>\n",
       "<table border=\"1\" class=\"dataframe\">\n",
       "  <thead>\n",
       "    <tr style=\"text-align: right;\">\n",
       "      <th></th>\n",
       "      <th>no</th>\n",
       "      <th>name</th>\n",
       "      <th>age</th>\n",
       "      <th>gender</th>\n",
       "    </tr>\n",
       "  </thead>\n",
       "  <tbody>\n",
       "    <tr>\n",
       "      <th>0</th>\n",
       "      <td>1</td>\n",
       "      <td>lee</td>\n",
       "      <td>11</td>\n",
       "      <td>F</td>\n",
       "    </tr>\n",
       "    <tr>\n",
       "      <th>1</th>\n",
       "      <td>2</td>\n",
       "      <td>park</td>\n",
       "      <td>13</td>\n",
       "      <td>F</td>\n",
       "    </tr>\n",
       "    <tr>\n",
       "      <th>2</th>\n",
       "      <td>3</td>\n",
       "      <td>do</td>\n",
       "      <td>14</td>\n",
       "      <td>M</td>\n",
       "    </tr>\n",
       "    <tr>\n",
       "      <th>3</th>\n",
       "      <td>4</td>\n",
       "      <td>ahn</td>\n",
       "      <td>15</td>\n",
       "      <td>F</td>\n",
       "    </tr>\n",
       "    <tr>\n",
       "      <th>4</th>\n",
       "      <td>5</td>\n",
       "      <td>seo</td>\n",
       "      <td>20</td>\n",
       "      <td>M</td>\n",
       "    </tr>\n",
       "  </tbody>\n",
       "</table>\n",
       "</div>"
      ],
      "text/plain": [
       "   no  name  age gender\n",
       "0   1   lee   11      F\n",
       "1   2  park   13      F\n",
       "2   3    do   14      M\n",
       "3   4   ahn   15      F\n",
       "4   5   seo   20      M"
      ]
     },
     "execution_count": 14,
     "metadata": {},
     "output_type": "execute_result"
    }
   ],
   "source": [
    "# CSV => DataFrame 형태로 저장\n",
    "csvDF=pd.read_csv(file_name)\n",
    "csvDF"
   ]
  },
  {
   "cell_type": "code",
   "execution_count": 17,
   "metadata": {},
   "outputs": [
    {
     "name": "stdout",
     "output_type": "stream",
     "text": [
      "변경전\n",
      "RangeIndex(start=0, stop=5, step=1)\n",
      "Index(['no', 'name', 'age', 'gender'], dtype='object')\n",
      "  no  name age gender\n",
      "0  1   lee  11      F\n",
      "1  2  park  13      F\n",
      "2  3    do  14      M\n",
      "3  4   ahn  15      F\n",
      "4  5   seo  20      M\n",
      "변경후\n",
      "Index(['no', 'name', 'age', 'gender'], dtype='object')\n",
      "RangeIndex(start=0, stop=5, step=1)\n",
      "          0     1   2    3    4\n",
      "no        1     2   3    4    5\n",
      "name    lee  park  do  ahn  seo\n",
      "age      11    13  14   15   20\n",
      "gender    F     F   M    F    M\n"
     ]
    }
   ],
   "source": [
    "# DF 형태 변경 : 행 => 열, 열 => 행\n",
    "print(\"변경전\",csvDF.index,csvDF.columns,csvDF,sep='\\n')\n",
    "\n",
    "# 속성 T 사용\n",
    "csvDF=csvDF.T\n",
    "print(\"변경후\",csvDF.index,csvDF.columns,csvDF,sep='\\n')"
   ]
  },
  {
   "cell_type": "code",
   "execution_count": 18,
   "metadata": {},
   "outputs": [
    {
     "name": "stdout",
     "output_type": "stream",
     "text": [
      "변경후\n",
      "RangeIndex(start=0, stop=5, step=1)\n",
      "Index(['no', 'name', 'age', 'gender'], dtype='object')\n",
      "  no  name age gender\n",
      "0  1   lee  11      F\n",
      "1  2  park  13      F\n",
      "2  3    do  14      M\n",
      "3  4   ahn  15      F\n",
      "4  5   seo  20      M\n"
     ]
    }
   ],
   "source": [
    "# 메서드 transpose() 사용\n",
    "csvDF=csvDF.transpose()\n",
    "print(\"변경후\",csvDF.index,csvDF.columns,csvDF,sep='\\n')"
   ]
  },
  {
   "cell_type": "code",
   "execution_count": null,
   "metadata": {},
   "outputs": [],
   "source": []
  }
 ],
 "metadata": {
  "kernelspec": {
   "display_name": "PY39",
   "language": "python",
   "name": "python3"
  },
  "language_info": {
   "codemirror_mode": {
    "name": "ipython",
    "version": 3
   },
   "file_extension": ".py",
   "mimetype": "text/x-python",
   "name": "python",
   "nbconvert_exporter": "python",
   "pygments_lexer": "ipython3",
   "version": "3.9.19"
  }
 },
 "nbformat": 4,
 "nbformat_minor": 2
}

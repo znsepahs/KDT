{
 "cells": [
  {
   "cell_type": "code",
   "execution_count": 2,
   "metadata": {},
   "outputs": [],
   "source": [
    "import pandas as pd"
   ]
  },
  {
   "cell_type": "code",
   "execution_count": 3,
   "metadata": {},
   "outputs": [
    {
     "data": {
      "text/html": [
       "<div>\n",
       "<style scoped>\n",
       "    .dataframe tbody tr th:only-of-type {\n",
       "        vertical-align: middle;\n",
       "    }\n",
       "\n",
       "    .dataframe tbody tr th {\n",
       "        vertical-align: top;\n",
       "    }\n",
       "\n",
       "    .dataframe thead th {\n",
       "        text-align: right;\n",
       "    }\n",
       "</style>\n",
       "<table border=\"1\" class=\"dataframe\">\n",
       "  <thead>\n",
       "    <tr style=\"text-align: right;\">\n",
       "      <th></th>\n",
       "      <th>시가</th>\n",
       "      <th>고가</th>\n",
       "      <th>저가</th>\n",
       "      <th>종가</th>\n",
       "    </tr>\n",
       "  </thead>\n",
       "  <tbody>\n",
       "    <tr>\n",
       "      <th>0</th>\n",
       "      <td>2000</td>\n",
       "      <td>3050</td>\n",
       "      <td>2050</td>\n",
       "      <td>1980</td>\n",
       "    </tr>\n",
       "    <tr>\n",
       "      <th>1</th>\n",
       "      <td>7500</td>\n",
       "      <td>2050</td>\n",
       "      <td>2050</td>\n",
       "      <td>1980</td>\n",
       "    </tr>\n",
       "    <tr>\n",
       "      <th>2</th>\n",
       "      <td>15450</td>\n",
       "      <td>15050</td>\n",
       "      <td>15550</td>\n",
       "      <td>14900</td>\n",
       "    </tr>\n",
       "  </tbody>\n",
       "</table>\n",
       "</div>"
      ],
      "text/plain": [
       "      시가     고가     저가     종가\n",
       "0   2000   3050   2050   1980\n",
       "1   7500   2050   2050   1980\n",
       "2  15450  15050  15550  14900"
      ]
     },
     "execution_count": 3,
     "metadata": {},
     "output_type": "execute_result"
    }
   ],
   "source": [
    "#2. OHLC(Open/High/Low/Close) 가격정보 데이터입니다. (OHLC : 시가(open), 고가 (high), 저가 (low) , 종가(close))\n",
    "data = [[ 2000, 3050, 2050, 1980],\n",
    "         [ 7500, 2050, 2050, 1980],\n",
    "           [15450, 15050, 15550, 14900]] \n",
    "# (2-01) 데이터를 저장해 주세요.\n",
    "# 단, 저장 시에 컬럼명을 시가, 고가, 저가, 종가로 설정해서 저장하세요.\n",
    "DF2=pd.DataFrame(data)\n",
    "DF2.columns=['시가','고가','저가','종가']\n",
    "DF2"
   ]
  },
  {
   "cell_type": "code",
   "execution_count": 4,
   "metadata": {},
   "outputs": [
    {
     "name": "stdout",
     "output_type": "stream",
     "text": [
      "RangeIndex(start=0, stop=3, step=1) [[ 2000  3050  2050  1980]\n",
      " [ 7500  2050  2050  1980]\n",
      " [15450 15050 15550 14900]] Index(['시가', '고가', '저가', '종가'], dtype='object') (3, 4) 2 시가    int64\n",
      "고가    int64\n",
      "저가    int64\n",
      "종가    int64\n",
      "dtype: object\n"
     ]
    }
   ],
   "source": [
    "# (2-02) 데이터 저장 후 주요 속성 6가지를 출력하세요.\n",
    "print(DF2.index,DF2.values,DF2.columns,DF2.shape,DF2.ndim,DF2.dtypes)"
   ]
  },
  {
   "cell_type": "code",
   "execution_count": 5,
   "metadata": {},
   "outputs": [
    {
     "data": {
      "text/html": [
       "<div>\n",
       "<style scoped>\n",
       "    .dataframe tbody tr th:only-of-type {\n",
       "        vertical-align: middle;\n",
       "    }\n",
       "\n",
       "    .dataframe tbody tr th {\n",
       "        vertical-align: top;\n",
       "    }\n",
       "\n",
       "    .dataframe thead th {\n",
       "        text-align: right;\n",
       "    }\n",
       "</style>\n",
       "<table border=\"1\" class=\"dataframe\">\n",
       "  <thead>\n",
       "    <tr style=\"text-align: right;\">\n",
       "      <th></th>\n",
       "      <th>시가</th>\n",
       "      <th>고가</th>\n",
       "      <th>저가</th>\n",
       "      <th>종가</th>\n",
       "    </tr>\n",
       "  </thead>\n",
       "  <tbody>\n",
       "    <tr>\n",
       "      <th>2024-01-01</th>\n",
       "      <td>2000</td>\n",
       "      <td>3050</td>\n",
       "      <td>2050</td>\n",
       "      <td>1980</td>\n",
       "    </tr>\n",
       "    <tr>\n",
       "      <th>2024-02-01</th>\n",
       "      <td>7500</td>\n",
       "      <td>2050</td>\n",
       "      <td>2050</td>\n",
       "      <td>1980</td>\n",
       "    </tr>\n",
       "    <tr>\n",
       "      <th>2024-03-01</th>\n",
       "      <td>15450</td>\n",
       "      <td>15050</td>\n",
       "      <td>15550</td>\n",
       "      <td>14900</td>\n",
       "    </tr>\n",
       "  </tbody>\n",
       "</table>\n",
       "</div>"
      ],
      "text/plain": [
       "               시가     고가     저가     종가\n",
       "2024-01-01   2000   3050   2050   1980\n",
       "2024-02-01   7500   2050   2050   1980\n",
       "2024-03-01  15450  15050  15550  14900"
      ]
     },
     "execution_count": 5,
     "metadata": {},
     "output_type": "execute_result"
    }
   ],
   "source": [
    "# (2-03) 행 인덱스를 2024-01-01, 2024-02-01, 2024-03-01 데이터로 변경해 주세요.\n",
    "DF2.index = ['2024-01-01','2024-02-01','2024-03-01']\n",
    "DF2"
   ]
  },
  {
   "cell_type": "code",
   "execution_count": 6,
   "metadata": {},
   "outputs": [],
   "source": [
    "# (2-04) 행 인덱스를 Open/High/Low/Close로 변경해 주세요.\n",
    "DF2.columns = ['Open', 'High' , 'Low' , 'Close']"
   ]
  },
  {
   "cell_type": "code",
   "execution_count": 7,
   "metadata": {},
   "outputs": [
    {
     "data": {
      "text/plain": [
       "High     2050\n",
       "Close    1980\n",
       "Name: 2024-02-01, dtype: int64"
      ]
     },
     "execution_count": 7,
     "metadata": {},
     "output_type": "execute_result"
    }
   ],
   "source": [
    "# (2-05) 2024-02-01의 High, Close 데이터를 추출 하세요.\n",
    "DF2.iloc[1, [1, 3]]"
   ]
  },
  {
   "cell_type": "code",
   "execution_count": 8,
   "metadata": {},
   "outputs": [
    {
     "data": {
      "text/html": [
       "<div>\n",
       "<style scoped>\n",
       "    .dataframe tbody tr th:only-of-type {\n",
       "        vertical-align: middle;\n",
       "    }\n",
       "\n",
       "    .dataframe tbody tr th {\n",
       "        vertical-align: top;\n",
       "    }\n",
       "\n",
       "    .dataframe thead th {\n",
       "        text-align: right;\n",
       "    }\n",
       "</style>\n",
       "<table border=\"1\" class=\"dataframe\">\n",
       "  <thead>\n",
       "    <tr style=\"text-align: right;\">\n",
       "      <th></th>\n",
       "      <th>Open</th>\n",
       "      <th>High</th>\n",
       "      <th>Low</th>\n",
       "      <th>Close</th>\n",
       "    </tr>\n",
       "  </thead>\n",
       "  <tbody>\n",
       "    <tr>\n",
       "      <th>2024-01-01</th>\n",
       "      <td>2000</td>\n",
       "      <td>3050</td>\n",
       "      <td>2050</td>\n",
       "      <td>1980</td>\n",
       "    </tr>\n",
       "    <tr>\n",
       "      <th>2024-02-01</th>\n",
       "      <td>7500</td>\n",
       "      <td>2050</td>\n",
       "      <td>2050</td>\n",
       "      <td>1980</td>\n",
       "    </tr>\n",
       "    <tr>\n",
       "      <th>2024-03-01</th>\n",
       "      <td>15450</td>\n",
       "      <td>15050</td>\n",
       "      <td>15550</td>\n",
       "      <td>14900</td>\n",
       "    </tr>\n",
       "    <tr>\n",
       "      <th>2024-04-01</th>\n",
       "      <td>3200</td>\n",
       "      <td>3550</td>\n",
       "      <td>3000</td>\n",
       "      <td>2990</td>\n",
       "    </tr>\n",
       "  </tbody>\n",
       "</table>\n",
       "</div>"
      ],
      "text/plain": [
       "             Open   High    Low  Close\n",
       "2024-01-01   2000   3050   2050   1980\n",
       "2024-02-01   7500   2050   2050   1980\n",
       "2024-03-01  15450  15050  15550  14900\n",
       "2024-04-01   3200   3550   3000   2990"
      ]
     },
     "execution_count": 8,
     "metadata": {},
     "output_type": "execute_result"
    }
   ],
   "source": [
    "# (2-06) 2024-04-01의 3200, 3550, 3000, 2990 데이터를 추가해 주세요.\n",
    "DF2.loc['2024-04-01'] = [3200, 3550, 3000, 2990]\n",
    "DF2"
   ]
  },
  {
   "cell_type": "code",
   "execution_count": 9,
   "metadata": {},
   "outputs": [
    {
     "data": {
      "text/html": [
       "<div>\n",
       "<style scoped>\n",
       "    .dataframe tbody tr th:only-of-type {\n",
       "        vertical-align: middle;\n",
       "    }\n",
       "\n",
       "    .dataframe tbody tr th {\n",
       "        vertical-align: top;\n",
       "    }\n",
       "\n",
       "    .dataframe thead th {\n",
       "        text-align: right;\n",
       "    }\n",
       "</style>\n",
       "<table border=\"1\" class=\"dataframe\">\n",
       "  <thead>\n",
       "    <tr style=\"text-align: right;\">\n",
       "      <th></th>\n",
       "      <th>Open</th>\n",
       "      <th>High</th>\n",
       "      <th>Low</th>\n",
       "      <th>Close</th>\n",
       "    </tr>\n",
       "  </thead>\n",
       "  <tbody>\n",
       "    <tr>\n",
       "      <th>2024-02-01</th>\n",
       "      <td>7500</td>\n",
       "      <td>2050</td>\n",
       "      <td>2050</td>\n",
       "      <td>1980</td>\n",
       "    </tr>\n",
       "    <tr>\n",
       "      <th>2024-03-01</th>\n",
       "      <td>15450</td>\n",
       "      <td>15050</td>\n",
       "      <td>15550</td>\n",
       "      <td>14900</td>\n",
       "    </tr>\n",
       "    <tr>\n",
       "      <th>2024-04-01</th>\n",
       "      <td>3200</td>\n",
       "      <td>3550</td>\n",
       "      <td>3000</td>\n",
       "      <td>2990</td>\n",
       "    </tr>\n",
       "  </tbody>\n",
       "</table>\n",
       "</div>"
      ],
      "text/plain": [
       "             Open   High    Low  Close\n",
       "2024-02-01   7500   2050   2050   1980\n",
       "2024-03-01  15450  15050  15550  14900\n",
       "2024-04-01   3200   3550   3000   2990"
      ]
     },
     "execution_count": 9,
     "metadata": {},
     "output_type": "execute_result"
    }
   ],
   "source": [
    "# (2-07) 2024-01-01 데이터를 삭제해 주세요.\n",
    "DF3 = DF2.drop(index = '2024-01-01')\n",
    "DF3"
   ]
  },
  {
   "cell_type": "code",
   "execution_count": 10,
   "metadata": {},
   "outputs": [
    {
     "data": {
      "text/html": [
       "<div>\n",
       "<style scoped>\n",
       "    .dataframe tbody tr th:only-of-type {\n",
       "        vertical-align: middle;\n",
       "    }\n",
       "\n",
       "    .dataframe tbody tr th {\n",
       "        vertical-align: top;\n",
       "    }\n",
       "\n",
       "    .dataframe thead th {\n",
       "        text-align: right;\n",
       "    }\n",
       "</style>\n",
       "<table border=\"1\" class=\"dataframe\">\n",
       "  <thead>\n",
       "    <tr style=\"text-align: right;\">\n",
       "      <th></th>\n",
       "      <th>Open</th>\n",
       "      <th>High</th>\n",
       "      <th>Low</th>\n",
       "      <th>Close</th>\n",
       "    </tr>\n",
       "  </thead>\n",
       "  <tbody>\n",
       "    <tr>\n",
       "      <th>2024-02-01</th>\n",
       "      <td>7500</td>\n",
       "      <td>2050</td>\n",
       "      <td>2050</td>\n",
       "      <td>1980</td>\n",
       "    </tr>\n",
       "    <tr>\n",
       "      <th>2024-03-01</th>\n",
       "      <td>15450</td>\n",
       "      <td>15050</td>\n",
       "      <td>15550</td>\n",
       "      <td>14900</td>\n",
       "    </tr>\n",
       "    <tr>\n",
       "      <th>2024-04-01</th>\n",
       "      <td>3200</td>\n",
       "      <td>3550</td>\n",
       "      <td>14000</td>\n",
       "      <td>2990</td>\n",
       "    </tr>\n",
       "  </tbody>\n",
       "</table>\n",
       "</div>"
      ],
      "text/plain": [
       "             Open   High    Low  Close\n",
       "2024-02-01   7500   2050   2050   1980\n",
       "2024-03-01  15450  15050  15550  14900\n",
       "2024-04-01   3200   3550  14000   2990"
      ]
     },
     "execution_count": 10,
     "metadata": {},
     "output_type": "execute_result"
    }
   ],
   "source": [
    "# (2-08) 2024-03-01의 Low값을 14000으로 변경해 주세요.\n",
    "DF3.iloc[2, 2] = 14000\n",
    "DF3"
   ]
  },
  {
   "cell_type": "code",
   "execution_count": 11,
   "metadata": {},
   "outputs": [
    {
     "data": {
      "text/html": [
       "<div>\n",
       "<style scoped>\n",
       "    .dataframe tbody tr th:only-of-type {\n",
       "        vertical-align: middle;\n",
       "    }\n",
       "\n",
       "    .dataframe tbody tr th {\n",
       "        vertical-align: top;\n",
       "    }\n",
       "\n",
       "    .dataframe thead th {\n",
       "        text-align: right;\n",
       "    }\n",
       "</style>\n",
       "<table border=\"1\" class=\"dataframe\">\n",
       "  <thead>\n",
       "    <tr style=\"text-align: right;\">\n",
       "      <th></th>\n",
       "      <th>Open</th>\n",
       "      <th>High</th>\n",
       "      <th>Low</th>\n",
       "      <th>Close</th>\n",
       "      <th>Average</th>\n",
       "    </tr>\n",
       "  </thead>\n",
       "  <tbody>\n",
       "    <tr>\n",
       "      <th>2024-02-01</th>\n",
       "      <td>7500</td>\n",
       "      <td>2050</td>\n",
       "      <td>2050</td>\n",
       "      <td>1980</td>\n",
       "      <td>0</td>\n",
       "    </tr>\n",
       "    <tr>\n",
       "      <th>2024-03-01</th>\n",
       "      <td>15450</td>\n",
       "      <td>15050</td>\n",
       "      <td>15550</td>\n",
       "      <td>14900</td>\n",
       "      <td>0</td>\n",
       "    </tr>\n",
       "    <tr>\n",
       "      <th>2024-04-01</th>\n",
       "      <td>3200</td>\n",
       "      <td>3550</td>\n",
       "      <td>14000</td>\n",
       "      <td>2990</td>\n",
       "      <td>0</td>\n",
       "    </tr>\n",
       "  </tbody>\n",
       "</table>\n",
       "</div>"
      ],
      "text/plain": [
       "             Open   High    Low  Close  Average\n",
       "2024-02-01   7500   2050   2050   1980        0\n",
       "2024-03-01  15450  15050  15550  14900        0\n",
       "2024-04-01   3200   3550  14000   2990        0"
      ]
     },
     "execution_count": 11,
     "metadata": {},
     "output_type": "execute_result"
    }
   ],
   "source": [
    "# (2-09) Average 컬럼을 추가 후 0으로 값을 채워 주세요.\n",
    "DF3['Average']=0\n",
    "DF3"
   ]
  },
  {
   "cell_type": "code",
   "execution_count": 12,
   "metadata": {},
   "outputs": [
    {
     "data": {
      "text/html": [
       "<div>\n",
       "<style scoped>\n",
       "    .dataframe tbody tr th:only-of-type {\n",
       "        vertical-align: middle;\n",
       "    }\n",
       "\n",
       "    .dataframe tbody tr th {\n",
       "        vertical-align: top;\n",
       "    }\n",
       "\n",
       "    .dataframe thead th {\n",
       "        text-align: right;\n",
       "    }\n",
       "</style>\n",
       "<table border=\"1\" class=\"dataframe\">\n",
       "  <thead>\n",
       "    <tr style=\"text-align: right;\">\n",
       "      <th></th>\n",
       "      <th>Open</th>\n",
       "      <th>High</th>\n",
       "      <th>Low</th>\n",
       "      <th>Close</th>\n",
       "      <th>Average</th>\n",
       "    </tr>\n",
       "  </thead>\n",
       "  <tbody>\n",
       "    <tr>\n",
       "      <th>2024-02-01</th>\n",
       "      <td>7500</td>\n",
       "      <td>2050</td>\n",
       "      <td>2050</td>\n",
       "      <td>1980</td>\n",
       "      <td>0</td>\n",
       "    </tr>\n",
       "    <tr>\n",
       "      <th>2024-03-01</th>\n",
       "      <td>15450</td>\n",
       "      <td>15050</td>\n",
       "      <td>15550</td>\n",
       "      <td>14900</td>\n",
       "      <td>0</td>\n",
       "    </tr>\n",
       "    <tr>\n",
       "      <th>2024-04-01</th>\n",
       "      <td>3200</td>\n",
       "      <td>3550</td>\n",
       "      <td>14000</td>\n",
       "      <td>2990</td>\n",
       "      <td>0</td>\n",
       "    </tr>\n",
       "    <tr>\n",
       "      <th>Total</th>\n",
       "      <td>0</td>\n",
       "      <td>0</td>\n",
       "      <td>0</td>\n",
       "      <td>0</td>\n",
       "      <td>0</td>\n",
       "    </tr>\n",
       "  </tbody>\n",
       "</table>\n",
       "</div>"
      ],
      "text/plain": [
       "             Open   High    Low  Close  Average\n",
       "2024-02-01   7500   2050   2050   1980        0\n",
       "2024-03-01  15450  15050  15550  14900        0\n",
       "2024-04-01   3200   3550  14000   2990        0\n",
       "Total           0      0      0      0        0"
      ]
     },
     "execution_count": 12,
     "metadata": {},
     "output_type": "execute_result"
    }
   ],
   "source": [
    "# (2-10) Total행을 추가 후 0으로 값을 채워 주세요.\n",
    "DF3.loc['Total']=0\n",
    "DF3"
   ]
  },
  {
   "cell_type": "code",
   "execution_count": null,
   "metadata": {},
   "outputs": [],
   "source": []
  }
 ],
 "metadata": {
  "kernelspec": {
   "display_name": "PY39",
   "language": "python",
   "name": "python3"
  },
  "language_info": {
   "codemirror_mode": {
    "name": "ipython",
    "version": 3
   },
   "file_extension": ".py",
   "mimetype": "text/x-python",
   "name": "python",
   "nbconvert_exporter": "python",
   "pygments_lexer": "ipython3",
   "version": "3.9.19"
  }
 },
 "nbformat": 4,
 "nbformat_minor": 2
}

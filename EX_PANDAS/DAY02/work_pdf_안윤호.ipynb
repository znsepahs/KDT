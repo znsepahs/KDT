{
 "cells": [
  {
   "cell_type": "markdown",
   "metadata": {},
   "source": [
    "###과제 \n",
    "- 1. pdf 73~106p 까지\n",
    "- 2. 책 57p 까지\n",
    "- 3. 데이터파일 - 남북한 발전전력량.xlsx / %pip install openpyxl\n",
    "    - 신재생에너지 => 북한추가\n",
    "    - 없는 값은 => 0으로\n",
    "    - 2016컬럼 우측에 '합계' 컬럼 추가\n",
    "        - 값 : 행별 합계 저장\n",
    "        - 각 행별 합계 구하는 함수 생성"
   ]
  },
  {
   "cell_type": "code",
   "execution_count": 8,
   "metadata": {},
   "outputs": [
    {
     "name": "stdout",
     "output_type": "stream",
     "text": [
      "<class 'pandas.core.series.Series'>\n",
      "\n",
      "\n",
      "a    1\n",
      "b    2\n",
      "c    3\n",
      "dtype: int64\n"
     ]
    }
   ],
   "source": [
    "###과제1. pdf 73p\n",
    "import pandas as pd\n",
    "# k:v 구조를 갖는 딕셔너리를 만들고, 변수 dict_data에 저장\n",
    "dict_data={'a':1,'b':2,'c':3}\n",
    "# 판다스 Series() 함수로 딕셔너리(dict_data)를 시리즈로 변환 / 변수 sr에 저장\n",
    "sr=pd.Series(dict_data)\n",
    "# 변수 sr의 자료형 출력\n",
    "print(type(sr))\n",
    "print('\\n')\n",
    "# 변수 sr에 저장되어 있는 시리즈 객체를 출력\n",
    "print(sr)"
   ]
  },
  {
   "cell_type": "code",
   "execution_count": 9,
   "metadata": {},
   "outputs": [
    {
     "name": "stdout",
     "output_type": "stream",
     "text": [
      "0    2019-01-02\n",
      "1          3.14\n",
      "2           ABC\n",
      "3           100\n",
      "4          True\n",
      "dtype: object\n",
      "\n",
      "\n"
     ]
    }
   ],
   "source": [
    "###과제1. pdf 76p\n",
    "# 리스트를 시리즈로 변환하여 변수 sr에 저장\n",
    "list_data=['2019-01-02', 3.14, 'ABC', 100, True]\n",
    "sr=pd.Series(list_data)\n",
    "print(sr)\n",
    "print('\\n')\n",
    "# 인덱스 배열은 변수 idx에 저장 / 데이터 값 배열은 변수 val에 저장\n",
    "idx=sr.index\n",
    "val=sr.values\n"
   ]
  },
  {
   "cell_type": "code",
   "execution_count": 10,
   "metadata": {},
   "outputs": [
    {
     "name": "stdout",
     "output_type": "stream",
     "text": [
      "이름              영인\n",
      "생년월일    2010-05-01\n",
      "성별               여\n",
      "학생여부          True\n",
      "dtype: object\n",
      "\n",
      "\n",
      "영인\n",
      "영인\n",
      "\n",
      "\n"
     ]
    },
    {
     "name": "stderr",
     "output_type": "stream",
     "text": [
      "C:\\Users\\LG\\AppData\\Local\\Temp\\ipykernel_29588\\3260321759.py:8: FutureWarning: Series.__getitem__ treating keys as positions is deprecated. In a future version, integer keys will always be treated as labels (consistent with DataFrame behavior). To access a value by position, use `ser.iloc[pos]`\n",
      "  print(sr[0])          # sr의 1 번째 원소 선택 (정수형 위치 인덱스를 사용)\n"
     ]
    }
   ],
   "source": [
    "###과제1. pdf 77p\n",
    "# 튜플을 시리즈로 변환(index 옵션에 인덱스 이름을 지정)\n",
    "tup_data=('영인', '2010-05-01', '여', True)\n",
    "sr=pd.Series(tup_data, index=['이름', '생년월일', '성별', '학생여부'])\n",
    "print(sr)\n",
    "print('\\n')\n",
    "# 원소를 1개 선택\n",
    "print(sr[0]) # sr의 1 번째 원소 선택 (정수형 위치 인덱스를 사용)\n",
    "print(sr['이름']) # '이름' 라벨을 가진 원소 선택 (인덱스 이름을 사용)\n",
    "print('\\n')"
   ]
  },
  {
   "cell_type": "code",
   "execution_count": 11,
   "metadata": {},
   "outputs": [
    {
     "name": "stdout",
     "output_type": "stream",
     "text": [
      "생년월일    2010-05-01\n",
      "성별               여\n",
      "dtype: object\n",
      "\n",
      "\n",
      "생년월일    2010-05-01\n",
      "성별               여\n",
      "dtype: object\n",
      "\n",
      "\n",
      "생년월일    2010-05-01\n",
      "dtype: object\n",
      "\n",
      "\n",
      "생년월일    2010-05-01\n",
      "성별               여\n",
      "dtype: object\n"
     ]
    },
    {
     "name": "stderr",
     "output_type": "stream",
     "text": [
      "C:\\Users\\LG\\AppData\\Local\\Temp\\ipykernel_29588\\3716789322.py:3: FutureWarning: Series.__getitem__ treating keys as positions is deprecated. In a future version, integer keys will always be treated as labels (consistent with DataFrame behavior). To access a value by position, use `ser.iloc[pos]`\n",
      "  print(sr[[1,2]])\n"
     ]
    }
   ],
   "source": [
    "###과제1. pdf 78p\n",
    "# 여러 개의 원소를 선택 (인덱스 리스트 활용)\n",
    "print(sr[[1,2]])\n",
    "print('\\n')\n",
    "print(sr[['생년월일', '성별']])\n",
    "print('\\n')\n",
    "# 여러 개의 원소를 선택 (인덱스 범위 지정)\n",
    "print(sr[1:2]) # 시작인덱스 : 끝인덱스 / 끝인덱스는 미포함\n",
    "print('\\n')\n",
    "print(sr['생년월일': '성별']) # 시작인덱스명: 끝인덱스명 , 모두포함"
   ]
  },
  {
   "cell_type": "code",
   "execution_count": 12,
   "metadata": {},
   "outputs": [
    {
     "name": "stdout",
     "output_type": "stream",
     "text": [
      "<class 'pandas.core.frame.DataFrame'>\n",
      "\n",
      "\n",
      "   c0  c1  c2  c3  c4\n",
      "0   1   4   7  10  13\n",
      "1   2   5   8  11  14\n",
      "2   3   6   9  12  15\n"
     ]
    }
   ],
   "source": [
    "###과제1. pdf 82p\n",
    "# 열이름을 key, 리스트를 value로 갖는 딕셔너리 정의(2차원 배열)\n",
    "# dict_data = {'a': 1, 'b': 2, 'c': 3}\n",
    "dict_data={'c0':[1,2,3],'c1':[4,5,6],'c2':[7,8,9],'c3':[10,11,12],'c4':[13,14,15]}\n",
    "# DataFrame() 함수로 딕셔너리를 데이터프레임으로 변환\n",
    "df=pd.DataFrame(dict_data)\n",
    "# df의 자료형 출력\n",
    "print(type(df))\n",
    "print('\\n')\n",
    "print(df)"
   ]
  },
  {
   "cell_type": "code",
   "execution_count": 13,
   "metadata": {},
   "outputs": [
    {
     "name": "stdout",
     "output_type": "stream",
     "text": [
      "df ============================\n",
      "     나이 성별   학교\n",
      "준서  15  남  덕영중\n",
      "예은  17  여  수리중\n",
      "df.index =>  Index(['준서', '예은'], dtype='object')\n",
      "df.column =>  Index(['나이', '성별', '학교'], dtype='object')\n"
     ]
    }
   ],
   "source": [
    "###과제1. pdf 84p\n",
    "# 행 인덱스/열 이름 지정하여, 데이터프레임 만들기\n",
    "df=pd.DataFrame([[15,'남','덕영중'],[17,'여','수리중']],\n",
    "index=['준서','예은'],\n",
    "columns=['나이','성별','학교'])\n",
    "# 행 인덱스, 열 이름 확인하기\n",
    "print(\"df ============================\\n\",df)\n",
    "# 데이터프레임\n",
    "print(\"df.index => \", df.index) # 행 인덱스\n",
    "print(\"df.column => \", df.columns) # 열 이름"
   ]
  },
  {
   "cell_type": "code",
   "execution_count": 14,
   "metadata": {},
   "outputs": [
    {
     "name": "stdout",
     "output_type": "stream",
     "text": [
      "     연령 남녀   소속\n",
      "학생1  15  남  덕영중\n",
      "학생2  17  여  수리중\n",
      "\n",
      "\n",
      "Index(['학생1', '학생2'], dtype='object')\n",
      "\n",
      "\n",
      "Index(['연령', '남녀', '소속'], dtype='object')\n"
     ]
    }
   ],
   "source": [
    "###과제1. pdf 85p\n",
    "# 행 인덱스, 열 이름 변경하기\n",
    "df.index=['학생1','학생2']\n",
    "df.columns=['연령','남녀','소속']\n",
    "print(df) # 데이터프레임\n",
    "print('\\n')\n",
    "print(df.index) # 행 인덱스\n",
    "print('\\n')\n",
    "print(df.columns) # 열 이름"
   ]
  },
  {
   "cell_type": "code",
   "execution_count": 25,
   "metadata": {},
   "outputs": [
    {
     "name": "stdout",
     "output_type": "stream",
     "text": [
      "df======None\n",
      "     연령 남녀   소속\n",
      "학생1  15  남  덕영중\n",
      "학생2  17  여  수리중\n",
      "df2======\n",
      "     연령 남녀   소속\n",
      "학생1  15  남  덕영중\n",
      "학생2  17  여  수리중\n"
     ]
    }
   ],
   "source": [
    "###과제1. pdf 87p\n",
    "# 열 이름 중, '나이'를 '연령', '성별'을 '남녀', '학교'를 '소속'으로\n",
    "df2=df.rename(columns={'나이':'연령','성별':'남녀','학교':'소속'})\n",
    "# df의 행 인덱스 중에서, '준서'를 '학생1', '예은'을 '학생2'로 바꾸기\n",
    "df3=df.rename(index={'준서':'학생1','예은':'학생2'},inplace=True)\n",
    "# df 출력(변경 후)\n",
    "print(f\"df======{df3}\\n{df}\")\n",
    "print(f\"df2======\\n{df2}\")"
   ]
  },
  {
   "cell_type": "code",
   "execution_count": 27,
   "metadata": {},
   "outputs": [
    {
     "name": "stdout",
     "output_type": "stream",
     "text": [
      "    수학  영어   음악   체육\n",
      "서준  90  98   85  100\n",
      "우현  80  89   95   90\n",
      "인아  70  95  100   90\n",
      "\n",
      "\n",
      "    수학  영어   음악   체육\n",
      "서준  90  98   85  100\n",
      "인아  70  95  100   90\n",
      "\n",
      "\n",
      "    수학  영어  음악   체육\n",
      "서준  90  98  85  100\n"
     ]
    },
    {
     "name": "stderr",
     "output_type": "stream",
     "text": [
      "C:\\Users\\LG\\AppData\\Local\\Temp\\ipykernel_29588\\2805312387.py:10: SettingWithCopyWarning: \n",
      "A value is trying to be set on a copy of a slice from a DataFrame\n",
      "\n",
      "See the caveats in the documentation: https://pandas.pydata.org/pandas-docs/stable/user_guide/indexing.html#returning-a-view-versus-a-copy\n",
      "  df2.drop('우현', inplace=True)\n",
      "C:\\Users\\LG\\AppData\\Local\\Temp\\ipykernel_29588\\2805312387.py:15: SettingWithCopyWarning: \n",
      "A value is trying to be set on a copy of a slice from a DataFrame\n",
      "\n",
      "See the caveats in the documentation: https://pandas.pydata.org/pandas-docs/stable/user_guide/indexing.html#returning-a-view-versus-a-copy\n",
      "  df3.drop(['우현','인아'],axis=0,inplace=True)\n"
     ]
    }
   ],
   "source": [
    "###과제1. pdf 89p\n",
    "# DataFrame() 함수로 데이터프레임 변환 / 변수 df에 저장\n",
    "exam_data={'수학':[90,80,70],'영어':[98,89,95],\n",
    "'음악':[85,95,100],'체육':[100,90,90]}\n",
    "df=pd.DataFrame(exam_data, index=['서준','우현','인아'])\n",
    "print(df)\n",
    "print('\\n')\n",
    "# 데이터프레임 df를 복제하여 변수 df2에 저장 / df2의 1개 행(row)을 삭제\n",
    "df2=df[:]\n",
    "df2.drop('우현', inplace=True)\n",
    "print(df2)\n",
    "print('\\n')\n",
    "# 데이터프레임 df를 복제하여 변수 df3에 저장 / df3의 2개 행(row)을 삭제\n",
    "df3=df[:]\n",
    "df3.drop(['우현','인아'],axis=0,inplace=True)\n",
    "print(df3)"
   ]
  },
  {
   "cell_type": "code",
   "execution_count": 29,
   "metadata": {},
   "outputs": [
    {
     "name": "stdout",
     "output_type": "stream",
     "text": [
      "    수학  영어   음악   체육\n",
      "서준  90  98   85  100\n",
      "우현  80  89   95   90\n",
      "인아  70  95  100   90\n",
      "\n",
      "\n",
      "    영어   음악   체육\n",
      "서준  98   85  100\n",
      "우현  89   95   90\n",
      "인아  95  100   90\n",
      "\n",
      "\n",
      "    수학   체육\n",
      "서준  90  100\n",
      "우현  80   90\n",
      "인아  70   90\n"
     ]
    },
    {
     "name": "stderr",
     "output_type": "stream",
     "text": [
      "C:\\Users\\LG\\AppData\\Local\\Temp\\ipykernel_29588\\2878524466.py:10: SettingWithCopyWarning: \n",
      "A value is trying to be set on a copy of a slice from a DataFrame\n",
      "\n",
      "See the caveats in the documentation: https://pandas.pydata.org/pandas-docs/stable/user_guide/indexing.html#returning-a-view-versus-a-copy\n",
      "  df4.drop('수학', axis=1, inplace=True)\n",
      "C:\\Users\\LG\\AppData\\Local\\Temp\\ipykernel_29588\\2878524466.py:15: SettingWithCopyWarning: \n",
      "A value is trying to be set on a copy of a slice from a DataFrame\n",
      "\n",
      "See the caveats in the documentation: https://pandas.pydata.org/pandas-docs/stable/user_guide/indexing.html#returning-a-view-versus-a-copy\n",
      "  df5.drop(['영어','음악'], axis=1, inplace=True)\n"
     ]
    }
   ],
   "source": [
    "###과제1. pdf 90p\n",
    "# DataFrame() 함수로 데이터프레임 변환 / 변수 df에 저장\n",
    "exam_data={'수학':[90,80,70],'영어':[98,89,95],\n",
    "'음악':[85,95,100],'체육':[100,90,90]}\n",
    "df=pd.DataFrame(exam_data, index=['서준','우현','인아'])\n",
    "print(df)\n",
    "print('\\n')\n",
    "# 데이터프레임 df를 복제하여 변수 df4에 저장 / df4의 1개 열(column)을 삭제\n",
    "df4=df[:]\n",
    "df4.drop('수학', axis=1, inplace=True)\n",
    "print(df4)\n",
    "print('\\n')\n",
    "# 데이터프레임 df를 복제하여 변수 df5에 저장 / df5의 2개 열(column)을 삭제\n",
    "df5=df[:]\n",
    "df5.drop(['영어','음악'], axis=1, inplace=True)\n",
    "print(df5)"
   ]
  },
  {
   "cell_type": "code",
   "execution_count": 32,
   "metadata": {},
   "outputs": [
    {
     "name": "stdout",
     "output_type": "stream",
     "text": [
      "df ==================\n",
      "     수학  영어   음악   체육\n",
      "서준  90  98   85  100\n",
      "우현  80  89   95   90\n",
      "인아  70  95  100   90\n",
      "\n",
      "\n",
      "label1=> \n",
      " 수학     90\n",
      "영어     98\n",
      "음악     85\n",
      "체육    100\n",
      "Name: 서준, dtype: int64\n",
      "\n",
      "\n",
      "position1 => \n",
      " 수학     90\n",
      "영어     98\n",
      "음악     85\n",
      "체육    100\n",
      "Name: 서준, dtype: int64\n",
      "\n",
      "\n"
     ]
    }
   ],
   "source": [
    "###과제1. pdf 92p\n",
    "# DataFrame()함수로 데이터프레임 변환 / 변수 df에 저장\n",
    "exam_data={'수학':[90,80,70],'영어':[98,89,95],\n",
    "'음악':[85,95,100],'체육':[100,90,90]}\n",
    "df = pd.DataFrame(exam_data, index=['서준','우현','인아'])\n",
    "print(\"df ==================\\n\",df) # 데이터프레임 출력\n",
    "print('\\n')\n",
    "# 행 인덱스를 사용하여 행 1개를 선택\n",
    "label1=df.loc['서준'] # loc인덱서이름 활용\n",
    "position1=df.iloc[0] # iloc인덱서활용\n",
    "print('label1=>', '\\n',label1)\n",
    "print('\\n')\n",
    "print('position1 =>', '\\n',position1)\n",
    "print('\\n')"
   ]
  },
  {
   "cell_type": "code",
   "execution_count": 33,
   "metadata": {},
   "outputs": [
    {
     "name": "stdout",
     "output_type": "stream",
     "text": [
      "    수학  영어  음악   체육\n",
      "서준  90  98  85  100\n",
      "우현  80  89  95   90\n",
      "\n",
      "\n",
      "    수학  영어  음악   체육\n",
      "서준  90  98  85  100\n",
      "우현  80  89  95   90\n",
      "\n",
      "\n",
      "    수학  영어  음악   체육\n",
      "서준  90  98  85  100\n",
      "우현  80  89  95   90\n",
      "\n",
      "\n",
      "    수학  영어  음악   체육\n",
      "서준  90  98  85  100\n"
     ]
    }
   ],
   "source": [
    "###과제1. pdf 93p\n",
    "# 행 인덱스를 사용하여 2개 이상의 행 선택\n",
    "label2=df.loc[['서준','우현']]\n",
    "position2=df.iloc[[0,1]]\n",
    "print(label2)\n",
    "print('\\n')\n",
    "print(position2)\n",
    "print('\\n')\n",
    "# 행 인덱스의 범위를 지정하여 행 선택\n",
    "label3=df.loc['서준':'우현']\n",
    "position3=df.iloc[0:1]\n",
    "print(label3)\n",
    "print('\\n')\n",
    "print(position3)"
   ]
  },
  {
   "cell_type": "code",
   "execution_count": 35,
   "metadata": {},
   "outputs": [
    {
     "name": "stdout",
     "output_type": "stream",
     "text": [
      "   이름  수학  영어   음악   체육\n",
      "0  서준  90  98   85  100\n",
      "1  우현  80  89   95   90\n",
      "2  인아  70  95  100   90\n",
      "<class 'pandas.core.frame.DataFrame'>\n",
      "\n",
      "\n",
      "0    90\n",
      "1    80\n",
      "2    70\n",
      "Name: 수학, dtype: int64\n",
      "<class 'pandas.core.series.Series'>\n",
      "\n",
      "\n"
     ]
    }
   ],
   "source": [
    "###과제1. pdf 95p\n",
    "# DataFrame()함수로 데이터프레임 변환 / 변수 df에 저장\n",
    "exam_data={'이름':['서준','우현','인아'],\n",
    "'수학':[90,80,70],\n",
    "'영어':[98,89,95],\n",
    "'음악':[85,95,100],\n",
    "'체육':[100,90,90]}\n",
    "df = pd.DataFrame(exam_data)\n",
    "print(df)\n",
    "print(type(df))\n",
    "print('\\n')\n",
    "# '수학'점수데이터만 선택 / 변수 math1에 저장\n",
    "math1 = df['수학']\n",
    "print(math1)\n",
    "print(type(math1))\n",
    "print('\\n')"
   ]
  },
  {
   "cell_type": "code",
   "execution_count": 36,
   "metadata": {},
   "outputs": [
    {
     "name": "stdout",
     "output_type": "stream",
     "text": [
      "0    98\n",
      "1    89\n",
      "2    95\n",
      "Name: 영어, dtype: int64\n",
      "<class 'pandas.core.series.Series'>\n",
      "    음악   체육\n",
      "0   85  100\n",
      "1   95   90\n",
      "2  100   90\n",
      "<class 'pandas.core.frame.DataFrame'>\n",
      "   수학\n",
      "0  90\n",
      "1  80\n",
      "2  70\n",
      "<class 'pandas.core.frame.DataFrame'>\n"
     ]
    }
   ],
   "source": [
    "###과제1. pdf 96p\n",
    "# '영어' 점수 데이터만 선택 / 변수 english에 저장\n",
    "english=df.영어\n",
    "print(english)\n",
    "print(type(english))\n",
    "# '음악', '체육' 점수 데이터를 선택 / 변수 music_gym에 저장\n",
    "music_gym=df[['음악', '체육']]\n",
    "print(music_gym)\n",
    "print(type(music_gym))\n",
    "# '수학' 점수 데이터만 선택 / 변수 math2에 저장\n",
    "math2=df[['수학']]\n",
    "print(math2)\n",
    "print(type(math2))"
   ]
  },
  {
   "cell_type": "code",
   "execution_count": 37,
   "metadata": {},
   "outputs": [
    {
     "name": "stdout",
     "output_type": "stream",
     "text": [
      "    수학  영어   음악   체육\n",
      "이름                  \n",
      "서준  90  98   85  100\n",
      "우현  80  89   95   90\n",
      "인아  70  95  100   90\n",
      "85\n",
      "85\n"
     ]
    }
   ],
   "source": [
    "###과제1. pdf 98p\n",
    "# DataFrame() 함수로 데이터프레임 변환 / 변수 df에 저장\n",
    "exam_data = {'이름':['서준','우현','인아'],\n",
    "'수학':[90,80,70],\n",
    "'영어':[98,89,95],\n",
    "'음악':[85,95,100],\n",
    "'체육':[100,90,90]}\n",
    "df=pd.DataFrame(exam_data)\n",
    "# '이름' 열을 새로운 인덱스로 지정하고, df 객체에 변경사항 반영\n",
    "df.set_index('이름', inplace=True)\n",
    "print(df)\n",
    "# 데이터프레임 df의 특정 원소 1개 선택 ('서준'의 '음악' 점수)\n",
    "a=df.loc['서준','음악']\n",
    "print(a)\n",
    "b=df.iloc[0,2]\n",
    "print(b)"
   ]
  },
  {
   "cell_type": "code",
   "execution_count": 38,
   "metadata": {},
   "outputs": [
    {
     "name": "stdout",
     "output_type": "stream",
     "text": [
      "음악     85\n",
      "체육    100\n",
      "Name: 서준, dtype: int64\n",
      "음악     85\n",
      "체육    100\n",
      "Name: 서준, dtype: int64\n",
      "음악     85\n",
      "체육    100\n",
      "Name: 서준, dtype: int64\n",
      "음악     85\n",
      "체육    100\n",
      "Name: 서준, dtype: int64\n",
      "\n",
      "\n",
      "    음악   체육\n",
      "이름         \n",
      "서준  85  100\n",
      "우현  95   90\n",
      "    음악   체육\n",
      "이름         \n",
      "서준  85  100\n",
      "우현  95   90\n",
      "    음악   체육\n",
      "이름         \n",
      "서준  85  100\n",
      "우현  95   90\n",
      "    음악   체육\n",
      "이름         \n",
      "서준  85  100\n",
      "우현  95   90\n"
     ]
    }
   ],
   "source": [
    "###과제1. pdf 99p\n",
    "# 데이터프레임 df의 특정 원소 2개 이상 선택 ('서준'의 '음악', '체육' 점수)\n",
    "c=df.loc['서준',['음악','체육']]\n",
    "print(c)\n",
    "d=df.iloc[0,[2,3]]\n",
    "print(d)\n",
    "e=df.loc['서준','음악':'체육']\n",
    "print(e)\n",
    "f=df.iloc[0,2:]\n",
    "print(f)\n",
    "print('\\n')\n",
    "# df의 2개 이상의 행과 열로부터 원소 선택 ('서준', '우현'의 '음악', '체육' 점수)\n",
    "g=df.loc[['서준','우현'],['음악','체육']]\n",
    "print(g)\n",
    "h=df.iloc[[0,1],[2,3]]\n",
    "print(h)\n",
    "i=df.loc['서준':'우현','음악':'체육']\n",
    "print(i)\n",
    "j=df.iloc[0:2,2:]\n",
    "print(j)"
   ]
  },
  {
   "cell_type": "code",
   "execution_count": 39,
   "metadata": {},
   "outputs": [
    {
     "name": "stdout",
     "output_type": "stream",
     "text": [
      "   이름  수학  영어   음악   체육\n",
      "0  서준  90  98   85  100\n",
      "1  우현  80  89   95   90\n",
      "2  인아  70  95  100   90\n",
      "\n",
      "\n",
      "   이름  수학  영어   음악   체육  국어\n",
      "0  서준  90  98   85  100  80\n",
      "1  우현  80  89   95   90  80\n",
      "2  인아  70  95  100   90  80\n"
     ]
    }
   ],
   "source": [
    "###과제1. pdf 101p\n",
    "# DataFrame()함수로 데이터프레임 변환 / 변수df에 저장\n",
    "exam_data={'이름':['서준','우현','인아'],\n",
    "'수학':[90,80,70],\n",
    "'영어':[98,89,95],\n",
    "'음악':[85,95,100],\n",
    "'체육':[100,90,90]}\n",
    "df=pd.DataFrame(exam_data)\n",
    "print(df)\n",
    "print('\\n')\n",
    "# 데이터프레임 df에 '국어' 점수열(column)을 추가 / 데이터값은 80\n",
    "df['국어']=80\n",
    "print(df)"
   ]
  },
  {
   "cell_type": "code",
   "execution_count": 40,
   "metadata": {},
   "outputs": [
    {
     "name": "stdout",
     "output_type": "stream",
     "text": [
      "   이름  수학  영어   음악   체육\n",
      "0  서준  90  98   85  100\n",
      "1  우현  80  89   95   90\n",
      "2  인아  70  95  100   90\n",
      "\n",
      "\n",
      "   이름  수학  영어   음악   체육\n",
      "0  서준  90  98   85  100\n",
      "1  우현  80  89   95   90\n",
      "2  인아  70  95  100   90\n",
      "3   0   0   0    0    0\n",
      "\n",
      "\n"
     ]
    }
   ],
   "source": [
    "###과제1. pdf 102p\n",
    "# DataFrame() 함수로 데이터프레임 변환 / 변수 df에 저장\n",
    "exam_data={'이름':['서준','우현','인아'],\n",
    "'수학':[90,80,70],\n",
    "'영어':[98,89,95],\n",
    "'음악':[85,95,100],\n",
    "'체육':[100,90,90]}\n",
    "df=pd.DataFrame(exam_data)\n",
    "print(df)\n",
    "print('\\n')\n",
    "# 새로운 행(row)을 추가 / 같은 원소 값을 입력\n",
    "df.loc[3]=0\n",
    "print(df)\n",
    "print('\\n')"
   ]
  },
  {
   "cell_type": "code",
   "execution_count": 42,
   "metadata": {},
   "outputs": [
    {
     "name": "stdout",
     "output_type": "stream",
     "text": [
      "    이름  수학  영어   음악   체육\n",
      "0   서준  90  98   85  100\n",
      "1   우현  80  89   95   90\n",
      "2   인아  70  95  100   90\n",
      "3    0   0   0    0    0\n",
      "4   동규  90  80   70   60\n",
      "행5   0   0   0    0    0\n",
      "\n",
      "\n",
      "    이름  수학  영어   음악   체육\n",
      "0   서준  90  98   85  100\n",
      "1   우현  80  89   95   90\n",
      "2   인아  70  95  100   90\n",
      "3    0   0   0    0    0\n",
      "4   동규  90  80   70   60\n",
      "행5   0   0   0    0    0\n"
     ]
    }
   ],
   "source": [
    "###과제1. pdf 103p\n",
    "# 새로운 행(row)을 추가 / 원소 값 여러 개의 배열 입력\n",
    "df.loc[4]=['동규',90,80,70,60]\n",
    "print(df)\n",
    "print('\\n')\n",
    "# 새로운 행(row)을 추가 / 기존 행을 복사\n",
    "df.loc['행5']=df.loc[3]\n",
    "print(df)"
   ]
  },
  {
   "cell_type": "code",
   "execution_count": 44,
   "metadata": {},
   "outputs": [
    {
     "name": "stdout",
     "output_type": "stream",
     "text": [
      "    수학  영어   음악   체육\n",
      "이름                  \n",
      "서준  90  98   85  100\n",
      "우현  80  89   95   90\n",
      "인아  70  95  100   90\n",
      "\n",
      "\n",
      "    수학  영어   음악  체육\n",
      "이름                 \n",
      "서준  90  98   85  80\n",
      "우현  80  89   95  90\n",
      "인아  70  95  100  90\n",
      "\n",
      "\n"
     ]
    },
    {
     "name": "stderr",
     "output_type": "stream",
     "text": [
      "C:\\Users\\LG\\AppData\\Local\\Temp\\ipykernel_29588\\1808204914.py:14: FutureWarning: ChainedAssignmentError: behaviour will change in pandas 3.0!\n",
      "You are setting values through chained assignment. Currently this works in certain cases, but when using Copy-on-Write (which will become the default behaviour in pandas 3.0) this will never work to update the original DataFrame or Series, because the intermediate object on which we are setting values will behave as a copy.\n",
      "A typical example is when you are setting values in a column of a DataFrame, like:\n",
      "\n",
      "df[\"col\"][row_indexer] = value\n",
      "\n",
      "Use `df.loc[row_indexer, \"col\"] = values` instead, to perform the assignment in a single step and ensure this keeps updating the original `df`.\n",
      "\n",
      "See the caveats in the documentation: https://pandas.pydata.org/pandas-docs/stable/user_guide/indexing.html#returning-a-view-versus-a-copy\n",
      "\n",
      "  df.iloc[0][3]=80\n",
      "C:\\Users\\LG\\AppData\\Local\\Temp\\ipykernel_29588\\1808204914.py:14: FutureWarning: Series.__setitem__ treating keys as positions is deprecated. In a future version, integer keys will always be treated as labels (consistent with DataFrame behavior). To set a value by position, use `ser.iloc[pos] = value`\n",
      "  df.iloc[0][3]=80\n"
     ]
    }
   ],
   "source": [
    "###과제1. pdf 105p\n",
    "# DataFrame()함수로 데이터프레임 변환 / 변수 df에 저장\n",
    "exam_data={'이름':['서준','우현','인아'],\n",
    "'수학':[90,80,70],\n",
    "'영어':[98,89,95],\n",
    "'음악':[85,95,100],\n",
    "'체육':[100,90,90]}\n",
    "df=pd.DataFrame(exam_data)\n",
    "# '이름'열을 새로운 인덱스로 지정하고, df객체에 변경사항 반영\n",
    "df.set_index('이름', inplace=True)\n",
    "print(df)\n",
    "print('\\n')\n",
    "# 데이터프레임 df의 특정원소를 변경하는 방법: '서준'의 '체육'점수\n",
    "df.iloc[0][3]=80\n",
    "print(df)\n",
    "print('\\n')"
   ]
  },
  {
   "cell_type": "code",
   "execution_count": 45,
   "metadata": {},
   "outputs": [
    {
     "name": "stdout",
     "output_type": "stream",
     "text": [
      "    수학  영어   음악  체육\n",
      "이름                 \n",
      "서준  90  98   85  90\n",
      "우현  80  89   95  90\n",
      "인아  70  95  100  90\n",
      "\n",
      "\n",
      "    수학  영어   음악   체육\n",
      "이름                  \n",
      "서준  90  98   85  100\n",
      "우현  80  89   95   90\n",
      "인아  70  95  100   90\n",
      "\n",
      "\n",
      "    수학  영어   음악  체육\n",
      "이름                 \n",
      "서준  90  98   50  50\n",
      "우현  80  89   95  90\n",
      "인아  70  95  100  90\n",
      "\n",
      "\n",
      "    수학  영어   음악  체육\n",
      "이름                 \n",
      "서준  90  98  100  50\n",
      "우현  80  89   95  90\n",
      "인아  70  95  100  90\n"
     ]
    },
    {
     "name": "stderr",
     "output_type": "stream",
     "text": [
      "C:\\Users\\LG\\AppData\\Local\\Temp\\ipykernel_29588\\1404347051.py:2: FutureWarning: ChainedAssignmentError: behaviour will change in pandas 3.0!\n",
      "You are setting values through chained assignment. Currently this works in certain cases, but when using Copy-on-Write (which will become the default behaviour in pandas 3.0) this will never work to update the original DataFrame or Series, because the intermediate object on which we are setting values will behave as a copy.\n",
      "A typical example is when you are setting values in a column of a DataFrame, like:\n",
      "\n",
      "df[\"col\"][row_indexer] = value\n",
      "\n",
      "Use `df.loc[row_indexer, \"col\"] = values` instead, to perform the assignment in a single step and ensure this keeps updating the original `df`.\n",
      "\n",
      "See the caveats in the documentation: https://pandas.pydata.org/pandas-docs/stable/user_guide/indexing.html#returning-a-view-versus-a-copy\n",
      "\n",
      "  df.loc['서준']['체육']=90\n"
     ]
    }
   ],
   "source": [
    "###과제1. pdf 106p\n",
    "df.loc['서준']['체육']=90\n",
    "print(df)\n",
    "print('\\n')\n",
    "df.loc['서준','체육']=100\n",
    "print(df)\n",
    "print('\\n')\n",
    "# 데이터프레임 df의 원소 여러 개를 변경하는 방법: '서준'의 '음악','체육' 점수\n",
    "df.loc['서준',['음악','체육']]=50\n",
    "print(df)\n",
    "print('\\n')\n",
    "df.loc['서준',['음악','체육']]=100,50\n",
    "print(df)"
   ]
  },
  {
   "cell_type": "code",
   "execution_count": null,
   "metadata": {},
   "outputs": [],
   "source": []
  }
 ],
 "metadata": {
  "kernelspec": {
   "display_name": "PY39",
   "language": "python",
   "name": "python3"
  },
  "language_info": {
   "codemirror_mode": {
    "name": "ipython",
    "version": 3
   },
   "file_extension": ".py",
   "mimetype": "text/x-python",
   "name": "python",
   "nbconvert_exporter": "python",
   "pygments_lexer": "ipython3",
   "version": "3.9.19"
  }
 },
 "nbformat": 4,
 "nbformat_minor": 2
}

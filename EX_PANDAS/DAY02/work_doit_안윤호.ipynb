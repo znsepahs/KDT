{
 "cells": [
  {
   "cell_type": "markdown",
   "metadata": {},
   "source": [
    "###과제 \n",
    "- 1. pdf 73~106p 까지\n",
    "- 2. 책 57p 까지\n",
    "- 3. 데이터파일 - 남북한 발전전력량.xlsx / %pip install openpyxl\n",
    "    - 신재생에너지 => 북한추가\n",
    "    - 없는 값은 => 0으로\n",
    "    - 2016컬럼 우측에 '합계' 컬럼 추가\n",
    "        - 값 : 행별 합계 저장\n",
    "        - 각 행별 합계 구하는 함수 생성"
   ]
  },
  {
   "cell_type": "code",
   "execution_count": 2,
   "metadata": {},
   "outputs": [
    {
     "name": "stdout",
     "output_type": "stream",
     "text": [
      "          country continent  year  lifeExp       pop   gdpPercap\n",
      "0     Afghanistan      Asia  1952   28.801   8425333  779.445314\n",
      "1     Afghanistan      Asia  1957   30.332   9240934  820.853030\n",
      "2     Afghanistan      Asia  1962   31.997  10267083  853.100710\n",
      "3     Afghanistan      Asia  1967   34.020  11537966  836.197138\n",
      "4     Afghanistan      Asia  1972   36.088  13079460  739.981106\n",
      "...           ...       ...   ...      ...       ...         ...\n",
      "1699     Zimbabwe    Africa  1987   62.351   9216418  706.157306\n",
      "1700     Zimbabwe    Africa  1992   60.377  10704340  693.420786\n",
      "1701     Zimbabwe    Africa  1997   46.809  11404948  792.449960\n",
      "1702     Zimbabwe    Africa  2002   39.989  11926563  672.038623\n",
      "1703     Zimbabwe    Africa  2007   43.487  12311143  469.709298\n",
      "\n",
      "[1704 rows x 6 columns]\n"
     ]
    }
   ],
   "source": [
    "## doit 29~30p\n",
    "# 첫 데이터셋 불러오기\n",
    "import pandas\n",
    "df=pandas.read_csv(r'C:\\KDT\\EX_PANDAS\\DAY02\\DATA_doit_pan\\DATA\\gapminder.tsv',sep='\\t')\n",
    "print(df)\n",
    "import pandas as pd\n",
    "df=pd.read_csv(r'C:\\KDT\\EX_PANDAS\\DAY02\\DATA_doit_pan\\DATA\\gapminder.tsv',sep='\\t')"
   ]
  },
  {
   "cell_type": "code",
   "execution_count": 3,
   "metadata": {},
   "outputs": [
    {
     "name": "stdout",
     "output_type": "stream",
     "text": [
      "<class 'pandas.core.frame.DataFrame'>\n",
      "(1704, 6)\n"
     ]
    }
   ],
   "source": [
    "## doit 31p\n",
    "# 데이터프레임 이해하기\n",
    "print(type(df)) # df의 자료형 확인\n",
    "print(df.shape) # shape속성은 첫 번째 값이 행 개수이고 두 번째 값이 열 개수인 튜플을 반환\n",
    "#print(df.shape()) # 타입 에러 발생. shape는 메서드가 아니다!\n"
   ]
  },
  {
   "cell_type": "code",
   "execution_count": 4,
   "metadata": {},
   "outputs": [
    {
     "name": "stdout",
     "output_type": "stream",
     "text": [
      "Index(['country', 'continent', 'year', 'lifeExp', 'pop', 'gdpPercap'], dtype='object')\n",
      "country       object\n",
      "continent     object\n",
      "year           int64\n",
      "lifeExp      float64\n",
      "pop            int64\n",
      "gdpPercap    float64\n",
      "dtype: object\n",
      "<class 'pandas.core.frame.DataFrame'>\n",
      "RangeIndex: 1704 entries, 0 to 1703\n",
      "Data columns (total 6 columns):\n",
      " #   Column     Non-Null Count  Dtype  \n",
      "---  ------     --------------  -----  \n",
      " 0   country    1704 non-null   object \n",
      " 1   continent  1704 non-null   object \n",
      " 2   year       1704 non-null   int64  \n",
      " 3   lifeExp    1704 non-null   float64\n",
      " 4   pop        1704 non-null   int64  \n",
      " 5   gdpPercap  1704 non-null   float64\n",
      "dtypes: float64(2), int64(2), object(2)\n",
      "memory usage: 80.0+ KB\n",
      "None\n"
     ]
    }
   ],
   "source": [
    "## doit 32p\n",
    "# 데이터프레임 이해하기\n",
    "print(df.columns) # 데이터 프레임의 열 이름 확인\n",
    "print(df.dtypes) # 데이터셋의 각 열이 어떤 자료형인지 확인\n",
    "print(df.info()) # info() 메서드를 사용하여 데이터와 관련된 다양한 정보 확인\n",
    "# 판다스의 자료형은 파이썬과 다르다!\n",
    "# object / string / 문자열, 가장 일반적인 자료형\n",
    "# int64 / int / 정수\n",
    "# float64 / float / 소수점이 있는 숫자\n",
    "# datetime64 / datetime / 표준 라이브러리 datetime에서 제공하는 자료형"
   ]
  },
  {
   "cell_type": "code",
   "execution_count": 5,
   "metadata": {},
   "outputs": [
    {
     "name": "stdout",
     "output_type": "stream",
     "text": [
      "       country continent  year  lifeExp       pop   gdpPercap\n",
      "0  Afghanistan      Asia  1952   28.801   8425333  779.445314\n",
      "1  Afghanistan      Asia  1957   30.332   9240934  820.853030\n",
      "2  Afghanistan      Asia  1962   31.997  10267083  853.100710\n",
      "3  Afghanistan      Asia  1967   34.020  11537966  836.197138\n",
      "4  Afghanistan      Asia  1972   36.088  13079460  739.981106\n",
      "0    Afghanistan\n",
      "1    Afghanistan\n",
      "2    Afghanistan\n",
      "3    Afghanistan\n",
      "4    Afghanistan\n",
      "Name: country, dtype: object\n",
      "1699    Zimbabwe\n",
      "1700    Zimbabwe\n",
      "1701    Zimbabwe\n",
      "1702    Zimbabwe\n",
      "1703    Zimbabwe\n",
      "Name: country, dtype: object\n"
     ]
    }
   ],
   "source": [
    "## doit 34~35p\n",
    "# 열 데이터 추출하기\n",
    "print(df.head()) # head() 메서드를 사용하여 가장 앞 5개 행을 살펴보기\n",
    "country_df=df['country'] # 열 데이터 추출해서 새로운 변수에 저장\n",
    "print(country_df.head()) # 각 열에서도 head() 메서드 사용 가능\n",
    "print(country_df.tail()) # 마지막 5개 행을 추출하는 tail() 메서드"
   ]
  },
  {
   "cell_type": "code",
   "execution_count": 6,
   "metadata": {},
   "outputs": [
    {
     "name": "stdout",
     "output_type": "stream",
     "text": [
      "          country continent  year\n",
      "0     Afghanistan      Asia  1952\n",
      "1     Afghanistan      Asia  1957\n",
      "2     Afghanistan      Asia  1962\n",
      "3     Afghanistan      Asia  1967\n",
      "4     Afghanistan      Asia  1972\n",
      "...           ...       ...   ...\n",
      "1699     Zimbabwe    Africa  1987\n",
      "1700     Zimbabwe    Africa  1992\n",
      "1701     Zimbabwe    Africa  1997\n",
      "1702     Zimbabwe    Africa  2002\n",
      "1703     Zimbabwe    Africa  2007\n",
      "\n",
      "[1704 rows x 3 columns]\n"
     ]
    }
   ],
   "source": [
    "## doit 36p\n",
    "# 리스트로 열 데이터 추출하기\n",
    "subset=df[['country','continent','year']] # 3개 열 데이터 추출하고 변수에 저장\n",
    "print(subset) # 리스트로 지정한 3개 열 출력"
   ]
  },
  {
   "cell_type": "code",
   "execution_count": 7,
   "metadata": {},
   "outputs": [
    {
     "name": "stdout",
     "output_type": "stream",
     "text": [
      "<class 'pandas.core.series.Series'>\n",
      "0       Afghanistan\n",
      "1       Afghanistan\n",
      "2       Afghanistan\n",
      "3       Afghanistan\n",
      "4       Afghanistan\n",
      "           ...     \n",
      "1699       Zimbabwe\n",
      "1700       Zimbabwe\n",
      "1701       Zimbabwe\n",
      "1702       Zimbabwe\n",
      "1703       Zimbabwe\n",
      "Name: country, Length: 1704, dtype: object\n",
      "<class 'pandas.core.frame.DataFrame'>\n",
      "          country\n",
      "0     Afghanistan\n",
      "1     Afghanistan\n",
      "2     Afghanistan\n",
      "3     Afghanistan\n",
      "4     Afghanistan\n",
      "...           ...\n",
      "1699     Zimbabwe\n",
      "1700     Zimbabwe\n",
      "1701     Zimbabwe\n",
      "1702     Zimbabwe\n",
      "1703     Zimbabwe\n",
      "\n",
      "[1704 rows x 1 columns]\n"
     ]
    }
   ],
   "source": [
    "## doit 37~38p\n",
    "# 열 데이터를 추출하는 두 가지 방법의 차이점 이해하기\n",
    "country_df=df['country'] # 열의 이름을 문자열로 지정하여 열 데이터를 추출하면 시리즈 객체를 반환\n",
    "print(type(country_df)) # <class 'pandas.core.series.Series'>\n",
    "print(country_df)\n",
    "country_df_list=df[['country']]\n",
    "print(type(country_df_list)) # <class 'pandas.core.frame.DataFrame'>\n",
    "print(country_df_list)\n",
    "# 분석 환경이나 필요에 따라 시리즈를 사용할 것인지 데이터프레임을 사용할 것인지 결정 해야한다."
   ]
  },
  {
   "cell_type": "code",
   "execution_count": 8,
   "metadata": {},
   "outputs": [
    {
     "name": "stdout",
     "output_type": "stream",
     "text": [
      "          country continent  year  lifeExp       pop   gdpPercap\n",
      "0     Afghanistan      Asia  1952   28.801   8425333  779.445314\n",
      "1     Afghanistan      Asia  1957   30.332   9240934  820.853030\n",
      "2     Afghanistan      Asia  1962   31.997  10267083  853.100710\n",
      "3     Afghanistan      Asia  1967   34.020  11537966  836.197138\n",
      "4     Afghanistan      Asia  1972   36.088  13079460  739.981106\n",
      "...           ...       ...   ...      ...       ...         ...\n",
      "1699     Zimbabwe    Africa  1987   62.351   9216418  706.157306\n",
      "1700     Zimbabwe    Africa  1992   60.377  10704340  693.420786\n",
      "1701     Zimbabwe    Africa  1997   46.809  11404948  792.449960\n",
      "1702     Zimbabwe    Africa  2002   39.989  11926563  672.038623\n",
      "1703     Zimbabwe    Africa  2007   43.487  12311143  469.709298\n",
      "\n",
      "[1704 rows x 6 columns]\n",
      "country      Afghanistan\n",
      "continent           Asia\n",
      "year                1952\n",
      "lifeExp           28.801\n",
      "pop              8425333\n",
      "gdpPercap     779.445314\n",
      "Name: 0, dtype: object\n",
      "country      Bangladesh\n",
      "continent          Asia\n",
      "year               1967\n",
      "lifeExp          43.453\n",
      "pop            62821884\n",
      "gdpPercap    721.186086\n",
      "Name: 99, dtype: object\n",
      "country        Zimbabwe\n",
      "continent        Africa\n",
      "year               2007\n",
      "lifeExp          43.487\n",
      "pop            12311143\n",
      "gdpPercap    469.709298\n",
      "Name: 1703, dtype: object\n",
      "       country continent  year  lifeExp       pop   gdpPercap\n",
      "1703  Zimbabwe    Africa  2007   43.487  12311143  469.709298\n",
      "         country continent  year  lifeExp       pop    gdpPercap\n",
      "0    Afghanistan      Asia  1952   28.801   8425333   779.445314\n",
      "99    Bangladesh      Asia  1967   43.453  62821884   721.186086\n",
      "999     Mongolia      Asia  1967   51.253   1149500  1226.041130\n"
     ]
    }
   ],
   "source": [
    "## doit 40~44p\n",
    "# 행 데이터 추출하기\n",
    "# loc;location : 행 이름을 기준으로 행 추출\n",
    "# iloc;integer location : 행 번호(행 위치)를 기준으로 행 추출\n",
    "print(df) # 가장 왼쪽의 행 번호를 확인하자\n",
    "print(df.loc[0]) # loc 이용하여 행 데이터 추출하기\n",
    "print(df.loc[99]) # 100번쨰 행 데이터 추출\n",
    "#print(df.loc[-1])? KeyError 발생 / loc속성은 행 이름을 참조하는데 -1 이라는 행 이름은 없다\n",
    "number_of_rows=df.shape[0] # shape 속성을 사용하여 행의 개수 구하기\n",
    "last_row_index=number_of_rows-1 # 행의 개수에서 1을 뺸 값으로 마지막 행의 인덱스 구하기\n",
    "print(df.loc[last_row_index]) # 마지막 행의 인덱스로 데이터 추출하기\n",
    "print(df.tail(n=1)) # tail() 메서드를 사용하여 마지막 행 구하기\n",
    "print(df.loc[[0,99,999]]) # 첫번째, 100번쨰, 1000번째 행의 데이터 추출"
   ]
  },
  {
   "cell_type": "code",
   "execution_count": 9,
   "metadata": {},
   "outputs": [
    {
     "name": "stdout",
     "output_type": "stream",
     "text": [
      "country      Afghanistan\n",
      "continent           Asia\n",
      "year                1957\n",
      "lifeExp           30.332\n",
      "pop              9240934\n",
      "gdpPercap      820.85303\n",
      "Name: 1, dtype: object\n",
      "country      Bangladesh\n",
      "continent          Asia\n",
      "year               1967\n",
      "lifeExp          43.453\n",
      "pop            62821884\n",
      "gdpPercap    721.186086\n",
      "Name: 99, dtype: object\n",
      "country        Zimbabwe\n",
      "continent        Africa\n",
      "year               2007\n",
      "lifeExp          43.487\n",
      "pop            12311143\n",
      "gdpPercap    469.709298\n",
      "Name: 1703, dtype: object\n",
      "         country continent  year  lifeExp       pop    gdpPercap\n",
      "0    Afghanistan      Asia  1952   28.801   8425333   779.445314\n",
      "99    Bangladesh      Asia  1967   43.453  62821884   721.186086\n",
      "999     Mongolia      Asia  1967   51.253   1149500  1226.041130\n"
     ]
    }
   ],
   "source": [
    "## doit 44~45p\n",
    "# 행 번호로 행 데이터 추출하기\n",
    "print(df.iloc[1]) # iloc 속성을 사용하여 행 데이터 추출하기\n",
    "print(df.iloc[99]) # 100번째 행 데이터 추출\n",
    "print(df.iloc[-1]) # loc속성과 다르게 사용가능 / iloc는 행 번호로 작동하기 떄문\n",
    "print(df.iloc[[0,99,999]])# 리스트를 사용하여 행 데이터 추출\n"
   ]
  },
  {
   "cell_type": "code",
   "execution_count": 10,
   "metadata": {},
   "outputs": [
    {
     "name": "stdout",
     "output_type": "stream",
     "text": [
      "      year       pop\n",
      "0     1952   8425333\n",
      "1     1957   9240934\n",
      "2     1962  10267083\n",
      "3     1967  11537966\n",
      "4     1972  13079460\n",
      "...    ...       ...\n",
      "1699  1987   9216418\n",
      "1700  1992  10704340\n",
      "1701  1997  11404948\n",
      "1702  2002  11926563\n",
      "1703  2007  12311143\n",
      "\n",
      "[1704 rows x 2 columns]\n",
      "      year       pop   gdpPercap\n",
      "0     1952   8425333  779.445314\n",
      "1     1957   9240934  820.853030\n",
      "2     1962  10267083  853.100710\n",
      "3     1967  11537966  836.197138\n",
      "4     1972  13079460  739.981106\n",
      "...    ...       ...         ...\n",
      "1699  1987   9216418  706.157306\n",
      "1700  1992  10704340  693.420786\n",
      "1701  1997  11404948  792.449960\n",
      "1702  2002  11926563  672.038623\n",
      "1703  2007  12311143  469.709298\n",
      "\n",
      "[1704 rows x 3 columns]\n"
     ]
    }
   ],
   "source": [
    "## doit 46~48p\n",
    "# 슬라이싱 구문으로 데이터 추출하기\n",
    "subset=df.loc[:,['year','pop']] # loc로 year와 pop 열 데이터 추출\n",
    "print(subset) # 열 이름이 아닌 정수를 사용하면 오류 발생\n",
    "subset=df.iloc[:,[2,4,-1]] # iloc로 3,5번째와 마지막(-1) 열 데이터 추출\n",
    "print(subset) # 열 이름을 사용하면 오류 발생"
   ]
  },
  {
   "cell_type": "code",
   "execution_count": 11,
   "metadata": {},
   "outputs": [
    {
     "name": "stdout",
     "output_type": "stream",
     "text": [
      "[0, 1, 2, 3, 4]\n",
      "          country continent  year  lifeExp       pop\n",
      "0     Afghanistan      Asia  1952   28.801   8425333\n",
      "1     Afghanistan      Asia  1957   30.332   9240934\n",
      "2     Afghanistan      Asia  1962   31.997  10267083\n",
      "3     Afghanistan      Asia  1967   34.020  11537966\n",
      "4     Afghanistan      Asia  1972   36.088  13079460\n",
      "...           ...       ...   ...      ...       ...\n",
      "1699     Zimbabwe    Africa  1987   62.351   9216418\n",
      "1700     Zimbabwe    Africa  1992   60.377  10704340\n",
      "1701     Zimbabwe    Africa  1997   46.809  11404948\n",
      "1702     Zimbabwe    Africa  2002   39.989  11926563\n",
      "1703     Zimbabwe    Africa  2007   43.487  12311143\n",
      "\n",
      "[1704 rows x 5 columns]\n",
      "[3, 4, 5]\n",
      "      lifeExp       pop   gdpPercap\n",
      "0      28.801   8425333  779.445314\n",
      "1      30.332   9240934  820.853030\n",
      "2      31.997  10267083  853.100710\n",
      "3      34.020  11537966  836.197138\n",
      "4      36.088  13079460  739.981106\n",
      "...       ...       ...         ...\n",
      "1699   62.351   9216418  706.157306\n",
      "1700   60.377  10704340  693.420786\n",
      "1701   46.809  11404948  792.449960\n",
      "1702   39.989  11926563  672.038623\n",
      "1703   43.487  12311143  469.709298\n",
      "\n",
      "[1704 rows x 3 columns]\n",
      "          country  year       pop\n",
      "0     Afghanistan  1952   8425333\n",
      "1     Afghanistan  1957   9240934\n",
      "2     Afghanistan  1962  10267083\n",
      "3     Afghanistan  1967  11537966\n",
      "4     Afghanistan  1972  13079460\n",
      "...           ...   ...       ...\n",
      "1699     Zimbabwe  1987   9216418\n",
      "1700     Zimbabwe  1992  10704340\n",
      "1701     Zimbabwe  1997  11404948\n",
      "1702     Zimbabwe  2002  11926563\n",
      "1703     Zimbabwe  2007  12311143\n",
      "\n",
      "[1704 rows x 3 columns]\n"
     ]
    }
   ],
   "source": [
    "## doit 48~50p\n",
    "# range()로 데이터 추출하기\n",
    "small_range=list(range(5)) # 0~4까지의 5개 정수를 포함하는 리스트 생성\n",
    "print(small_range)\n",
    "subset=df.iloc[:,small_range] # 만든 리스트 사용하여 데이터프레임에서 열을 추출\n",
    "print(subset)\n",
    "small_range=list(range(3,6)) # 3이상 6미만 3개 정수를 포함하는 리스트 생성\n",
    "print(small_range)\n",
    "subset=df.iloc[:,small_range]\n",
    "print(subset)\n",
    "small_range=list(range(0,6,2)) # 세 번째 매개변수 step을 전달해보자 (간격)\n",
    "subset=df.iloc[:,small_range]\n",
    "print(subset)"
   ]
  },
  {
   "cell_type": "code",
   "execution_count": 12,
   "metadata": {},
   "outputs": [
    {
     "name": "stdout",
     "output_type": "stream",
     "text": [
      "          country continent  year\n",
      "0     Afghanistan      Asia  1952\n",
      "1     Afghanistan      Asia  1957\n",
      "2     Afghanistan      Asia  1962\n",
      "3     Afghanistan      Asia  1967\n",
      "4     Afghanistan      Asia  1972\n",
      "...           ...       ...   ...\n",
      "1699     Zimbabwe    Africa  1987\n",
      "1700     Zimbabwe    Africa  1992\n",
      "1701     Zimbabwe    Africa  1997\n",
      "1702     Zimbabwe    Africa  2002\n",
      "1703     Zimbabwe    Africa  2007\n",
      "\n",
      "[1704 rows x 3 columns]\n",
      "      lifeExp       pop   gdpPercap\n",
      "0      28.801   8425333  779.445314\n",
      "1      30.332   9240934  820.853030\n",
      "2      31.997  10267083  853.100710\n",
      "3      34.020  11537966  836.197138\n",
      "4      36.088  13079460  739.981106\n",
      "...       ...       ...         ...\n",
      "1699   62.351   9216418  706.157306\n",
      "1700   60.377  10704340  693.420786\n",
      "1701   46.809  11404948  792.449960\n",
      "1702   39.989  11926563  672.038623\n",
      "1703   43.487  12311143  469.709298\n",
      "\n",
      "[1704 rows x 3 columns]\n",
      "          country  year       pop\n",
      "0     Afghanistan  1952   8425333\n",
      "1     Afghanistan  1957   9240934\n",
      "2     Afghanistan  1962  10267083\n",
      "3     Afghanistan  1967  11537966\n",
      "4     Afghanistan  1972  13079460\n",
      "...           ...   ...       ...\n",
      "1699     Zimbabwe  1987   9216418\n",
      "1700     Zimbabwe  1992  10704340\n",
      "1701     Zimbabwe  1997  11404948\n",
      "1702     Zimbabwe  2002  11926563\n",
      "1703     Zimbabwe  2007  12311143\n",
      "\n",
      "[1704 rows x 3 columns]\n"
     ]
    }
   ],
   "source": [
    "## doit 51~55p\n",
    "# 슬라이싱 구문과 range() 비교하기\n",
    "subset=df.iloc[:,:3] # 슬라이싱 구문으로 열 데이터 추출\n",
    "print(subset)\n",
    "subset=df.iloc[:,3:6] # 모든 행의 3,4,5번 열을 추출\n",
    "print(subset)\n",
    "subset=df.iloc[:,0:6:2] # 모든 행의 0,2,4번 열을 추출\n",
    "print(subset)"
   ]
  },
  {
   "cell_type": "code",
   "execution_count": 13,
   "metadata": {},
   "outputs": [
    {
     "name": "stdout",
     "output_type": "stream",
     "text": [
      "         country  lifeExp    gdpPercap\n",
      "0    Afghanistan   28.801   779.445314\n",
      "99    Bangladesh   43.453   721.186086\n",
      "999     Mongolia   51.253  1226.041130\n",
      "         country  lifeExp    gdpPercap\n",
      "0    Afghanistan   28.801   779.445314\n",
      "99    Bangladesh   43.453   721.186086\n",
      "999     Mongolia   51.253  1226.041130\n",
      "        country continent  year  lifeExp       pop    gdpPercap\n",
      "10  Afghanistan      Asia  2002   42.129  25268405   726.734055\n",
      "11  Afghanistan      Asia  2007   43.828  31889923   974.580338\n",
      "12      Albania    Europe  1952   55.230   1282697  1601.056136\n",
      "13      Albania    Europe  1957   59.280   1476505  1942.284244\n",
      "        country continent  year  lifeExp       pop    gdpPercap\n",
      "10  Afghanistan      Asia  2002   42.129  25268405   726.734055\n",
      "11  Afghanistan      Asia  2007   43.828  31889923   974.580338\n",
      "12      Albania    Europe  1952   55.230   1282697  1601.056136\n"
     ]
    }
   ],
   "source": [
    "## doit 56~57p\n",
    "# 여러 행과 열 지정하여 데이터 추출하기\n",
    "print(df.iloc[[0,99,999],[0,3,5]])\n",
    "print(df.loc[[0,99,999],['country','lifeExp','gdpPercap']])\n",
    "# 슬라이싱 구문 사용 시 주의사항\n",
    "print(df.loc[10:13,:]) # 이름 기준이므로 13도 포함\n",
    "print(df.iloc[10:13,:]) # 번호 기준이므로 13은 제외"
   ]
  },
  {
   "cell_type": "code",
   "execution_count": null,
   "metadata": {},
   "outputs": [],
   "source": []
  }
 ],
 "metadata": {
  "kernelspec": {
   "display_name": "PY39",
   "language": "python",
   "name": "python3"
  },
  "language_info": {
   "codemirror_mode": {
    "name": "ipython",
    "version": 3
   },
   "file_extension": ".py",
   "mimetype": "text/x-python",
   "name": "python",
   "nbconvert_exporter": "python",
   "pygments_lexer": "ipython3",
   "version": "3.9.19"
  }
 },
 "nbformat": 4,
 "nbformat_minor": 2
}

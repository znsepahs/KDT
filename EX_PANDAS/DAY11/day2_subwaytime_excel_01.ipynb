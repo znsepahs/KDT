{
 "cells": [
  {
   "cell_type": "code",
   "execution_count": 22,
   "metadata": {},
   "outputs": [],
   "source": [
    "import pandas as pd\n",
    "import matplotlib.pyplot as plt\n",
    "from tabulate import tabulate"
   ]
  },
  {
   "cell_type": "code",
   "execution_count": 10,
   "metadata": {},
   "outputs": [
    {
     "name": "stdout",
     "output_type": "stream",
     "text": [
      "+---+----------------------------------+----------------------------------+--------------------------------+------------------------------------+-------------------------------+-------------------------------+-------------------------------+-------------------------------+-------------------------------+-------------------------------+-------------------------------+-------------------------------+-------------------------------+-------------------------------+-------------------------------+-------------------------------+-------------------------------+-------------------------------+-------------------------------+-------------------------------+-------------------------------+-------------------------------+-------------------------------+-------------------------------+-------------------------------+-------------------------------+-------------------------------+-------------------------------+-------------------------------+-------------------------------+-------------------------------+-------------------------------+-------------------------------+-------------------------------+-------------------------------+-------------------------------+-------------------------------+-------------------------------+-------------------------------+-------------------------------+-------------------------------+-------------------------------+-------------------------------+-------------------------------+-------------------------------+-------------------------------+-------------------------------+-------------------------------+-------------------------------+-------------------------------+-------------------------------+-------------------------------+-------------------------------------+\n",
      "|   | ('사용월', 'Unnamed: 0_level_1') | ('호선명', 'Unnamed: 1_level_1') | ('역ID', 'Unnamed: 2_level_1') | ('지하철역', 'Unnamed: 3_level_1') | ('04:00:00~04:59:59', '승차') | ('04:00:00~04:59:59', '하차') | ('05:00:00~05:59:59', '승차') | ('05:00:00~05:59:59', '하차') | ('06:00:00~06:59:59', '승차') | ('06:00:00~06:59:59', '하차') | ('07:00:00~07:59:59', '승차') | ('07:00:00~07:59:59', '하차') | ('08:00:00~08:59:59', '승차') | ('08:00:00~08:59:59', '하차') | ('09:00:00~09:59:59', '승차') | ('09:00:00~09:59:59', '하차') | ('10:00:00~10:59:59', '승차') | ('10:00:00~10:59:59', '하차') | ('11:00:00~11:59:59', '승차') | ('11:00:00~11:59:59', '하차') | ('12:00:00~12:59:59', '승차') | ('12:00:00~12:59:59', '하차') | ('13:00:00~13:59:59', '승차') | ('13:00:00~13:59:59', '하차') | ('14:00:00~14:59:59', '승차') | ('14:00:00~14:59:59', '하차') | ('15:00:00~15:59:59', '승차') | ('15:00:00~15:59:59', '하차') | ('16:00:00~16:59:59', '승차') | ('16:00:00~16:59:59', '하차') | ('17:00:00~17:59:59', '승차') | ('17:00:00~17:59:59', '하차') | ('18:00:00~18:59:59', '승차') | ('18:00:00~18:59:59', '하차') | ('19:00:00~19:59:59', '승차') | ('19:00:00~19:59:59', '하차') | ('20:00:00~20:59:59', '승차') | ('20:00:00~20:59:59', '하차') | ('21:00:00~21:59:59', '승차') | ('21:00:00~21:59:59', '하차') | ('22:00:00~22:59:59', '승차') | ('22:00:00~22:59:59', '하차') | ('23:00:00~23:59:59', '승차') | ('23:00:00~23:59:59', '하차') | ('00:00:00~00:59:59', '승차') | ('00:00:00~00:59:59', '하차') | ('01:00:00~01:59:59', '승차') | ('01:00:00~01:59:59', '하차') | ('02:00:00~02:59:59', '승차') | ('02:00:00~02:59:59', '하차') | ('03:00:00~03:59:59', '승차') | ('03:00:00~03:59:59', '하차') | ('작업일시', 'Unnamed: 52_level_1') |\n",
      "+---+----------------------------------+----------------------------------+--------------------------------+------------------------------------+-------------------------------+-------------------------------+-------------------------------+-------------------------------+-------------------------------+-------------------------------+-------------------------------+-------------------------------+-------------------------------+-------------------------------+-------------------------------+-------------------------------+-------------------------------+-------------------------------+-------------------------------+-------------------------------+-------------------------------+-------------------------------+-------------------------------+-------------------------------+-------------------------------+-------------------------------+-------------------------------+-------------------------------+-------------------------------+-------------------------------+-------------------------------+-------------------------------+-------------------------------+-------------------------------+-------------------------------+-------------------------------+-------------------------------+-------------------------------+-------------------------------+-------------------------------+-------------------------------+-------------------------------+-------------------------------+-------------------------------+-------------------------------+-------------------------------+-------------------------------+-------------------------------+-------------------------------+-------------------------------+-------------------------------+-------------------------------+-------------------------------------+\n",
      "| 0 |             2024-06              |              1호선               |              150               |               서울역               |              654              |              20               |             8,727             |             9,083             |            13,812             |            56,637             |            40,205             |            115,372            |            68,945             |            224,224            |            68,501             |            148,949            |            64,033             |            84,806             |            80,465             |            78,221             |            92,965             |            85,212             |            90,511             |            83,798             |            76,623             |            77,626             |            102,529            |            83,324             |            117,095            |            84,550             |            177,388            |            92,535             |            213,330            |            92,134             |            117,088            |            65,163             |            83,718             |            48,189             |            88,671             |            43,936             |            57,325             |            28,721             |            27,544             |            13,883             |             2,863             |             3,984             |               3               |              215              |               0               |               0               |               0               |               0               |         2024-07-03 09:31:29         |\n",
      "| 1 |             2024-06              |              1호선               |              151               |                시청                |              74               |               0               |             2,105             |             5,374             |             4,050             |            25,949             |             7,703             |            71,550             |            10,616             |            183,563            |            12,972             |            86,971             |            14,960             |            45,561             |            20,622             |            43,620             |            23,185             |            41,428             |            30,439             |            41,071             |            37,874             |            31,530             |            48,033             |            27,954             |            59,520             |            27,055             |            91,916             |            28,354             |            150,891            |            25,133             |            60,380             |            12,478             |            55,321             |             8,931             |            49,502             |             8,402             |            30,045             |             6,340             |            10,250             |             3,898             |              502              |              991              |               1               |              38               |               0               |               0               |               0               |               0               |         2024-07-03 09:31:29         |\n",
      "| 2 |             2024-06              |              1호선               |              152               |                종각                |              132              |               7               |             4,291             |             5,787             |             4,312             |            32,747             |             6,588             |            106,889            |            10,892             |            249,815            |            13,378             |            138,844            |            19,177             |            63,520             |            28,571             |            61,655             |            35,435             |            55,161             |            43,637             |            53,368             |            53,374             |            45,032             |            65,195             |            40,184             |            80,051             |            44,080             |            145,386            |            47,291             |            202,356            |            48,025             |            91,106             |            22,722             |            81,222             |            12,570             |            85,689             |             9,669             |            61,865             |             7,016             |            26,952             |             4,587             |             1,676             |             1,300             |               0               |               0               |               0               |               0               |               0               |               0               |         2024-07-03 09:31:29         |\n",
      "| 3 |             2024-06              |              1호선               |              153               |              종로3가               |              206              |              13               |             4,296             |             3,015             |             3,961             |            13,851             |             5,968             |            28,024             |            10,284             |            65,287             |            15,280             |            64,208             |            21,306             |            54,327             |            31,225             |            64,449             |            41,877             |            63,668             |            46,714             |            56,988             |            54,115             |            49,440             |            61,719             |            43,139             |            69,276             |            42,851             |            81,036             |            40,724             |            89,429             |            40,553             |            56,145             |            21,628             |            50,353             |            12,861             |            53,975             |            10,546             |            41,316             |             8,280             |            18,427             |             5,240             |             1,765             |             2,042             |               2               |               6               |               0               |               0               |               0               |               0               |         2024-07-03 09:31:29         |\n",
      "| 4 |             2024-06              |              1호선               |              154               |              종로5가               |              42               |               2               |             2,053             |             3,522             |             3,089             |            17,690             |             5,783             |            40,044             |            10,330             |            91,110             |            15,744             |            63,157             |            25,936             |            58,515             |            36,916             |            61,008             |            45,736             |            55,596             |            51,704             |            50,728             |            58,012             |            46,226             |            60,944             |            39,155             |            66,041             |            38,006             |            81,031             |            33,990             |            89,164             |            30,172             |            45,102             |            17,925             |            33,541             |            10,700             |            32,161             |             7,569             |            19,629             |             5,663             |             5,933             |             3,597             |              334              |             1,000             |               0               |               0               |               0               |               0               |               0               |               0               |         2024-07-03 09:31:29         |\n",
      "+---+----------------------------------+----------------------------------+--------------------------------+------------------------------------+-------------------------------+-------------------------------+-------------------------------+-------------------------------+-------------------------------+-------------------------------+-------------------------------+-------------------------------+-------------------------------+-------------------------------+-------------------------------+-------------------------------+-------------------------------+-------------------------------+-------------------------------+-------------------------------+-------------------------------+-------------------------------+-------------------------------+-------------------------------+-------------------------------+-------------------------------+-------------------------------+-------------------------------+-------------------------------+-------------------------------+-------------------------------+-------------------------------+-------------------------------+-------------------------------+-------------------------------+-------------------------------+-------------------------------+-------------------------------+-------------------------------+-------------------------------+-------------------------------+-------------------------------+-------------------------------+-------------------------------+-------------------------------+-------------------------------+-------------------------------+-------------------------------+-------------------------------+-------------------------------+-------------------------------+-------------------------------+-------------------------------------+\n"
     ]
    }
   ],
   "source": [
    "\n",
    "df=pd.read_excel('subway.xls',sheet_name='지하철 시간대별 이용현황',header=[0,1])\n",
    "#print(df.head())\n",
    "print(tabulate(df.head(),headers='keys',tablefmt='pretty'))"
   ]
  },
  {
   "cell_type": "code",
   "execution_count": 11,
   "metadata": {},
   "outputs": [
    {
     "name": "stdout",
     "output_type": "stream",
     "text": [
      "MultiIndex([(              '사용월',  'Unnamed: 0_level_1'),\n",
      "            (              '호선명',  'Unnamed: 1_level_1'),\n",
      "            (              '역ID',  'Unnamed: 2_level_1'),\n",
      "            (             '지하철역',  'Unnamed: 3_level_1'),\n",
      "            ('04:00:00~04:59:59',                  '승차'),\n",
      "            ('04:00:00~04:59:59',                  '하차'),\n",
      "            ('05:00:00~05:59:59',                  '승차'),\n",
      "            ('05:00:00~05:59:59',                  '하차'),\n",
      "            ('06:00:00~06:59:59',                  '승차'),\n",
      "            ('06:00:00~06:59:59',                  '하차'),\n",
      "            ('07:00:00~07:59:59',                  '승차'),\n",
      "            ('07:00:00~07:59:59',                  '하차'),\n",
      "            ('08:00:00~08:59:59',                  '승차'),\n",
      "            ('08:00:00~08:59:59',                  '하차'),\n",
      "            ('09:00:00~09:59:59',                  '승차'),\n",
      "            ('09:00:00~09:59:59',                  '하차'),\n",
      "            ('10:00:00~10:59:59',                  '승차'),\n",
      "            ('10:00:00~10:59:59',                  '하차'),\n",
      "            ('11:00:00~11:59:59',                  '승차'),\n",
      "            ('11:00:00~11:59:59',                  '하차'),\n",
      "            ('12:00:00~12:59:59',                  '승차'),\n",
      "            ('12:00:00~12:59:59',                  '하차'),\n",
      "            ('13:00:00~13:59:59',                  '승차'),\n",
      "            ('13:00:00~13:59:59',                  '하차'),\n",
      "            ('14:00:00~14:59:59',                  '승차'),\n",
      "            ('14:00:00~14:59:59',                  '하차'),\n",
      "            ('15:00:00~15:59:59',                  '승차'),\n",
      "            ('15:00:00~15:59:59',                  '하차'),\n",
      "            ('16:00:00~16:59:59',                  '승차'),\n",
      "            ('16:00:00~16:59:59',                  '하차'),\n",
      "            ('17:00:00~17:59:59',                  '승차'),\n",
      "            ('17:00:00~17:59:59',                  '하차'),\n",
      "            ('18:00:00~18:59:59',                  '승차'),\n",
      "            ('18:00:00~18:59:59',                  '하차'),\n",
      "            ('19:00:00~19:59:59',                  '승차'),\n",
      "            ('19:00:00~19:59:59',                  '하차'),\n",
      "            ('20:00:00~20:59:59',                  '승차'),\n",
      "            ('20:00:00~20:59:59',                  '하차'),\n",
      "            ('21:00:00~21:59:59',                  '승차'),\n",
      "            ('21:00:00~21:59:59',                  '하차'),\n",
      "            ('22:00:00~22:59:59',                  '승차'),\n",
      "            ('22:00:00~22:59:59',                  '하차'),\n",
      "            ('23:00:00~23:59:59',                  '승차'),\n",
      "            ('23:00:00~23:59:59',                  '하차'),\n",
      "            ('00:00:00~00:59:59',                  '승차'),\n",
      "            ('00:00:00~00:59:59',                  '하차'),\n",
      "            ('01:00:00~01:59:59',                  '승차'),\n",
      "            ('01:00:00~01:59:59',                  '하차'),\n",
      "            ('02:00:00~02:59:59',                  '승차'),\n",
      "            ('02:00:00~02:59:59',                  '하차'),\n",
      "            ('03:00:00~03:59:59',                  '승차'),\n",
      "            ('03:00:00~03:59:59',                  '하차'),\n",
      "            (             '작업일시', 'Unnamed: 52_level_1')],\n",
      "           )\n"
     ]
    }
   ],
   "source": [
    "print(df.columns)"
   ]
  },
  {
   "cell_type": "code",
   "execution_count": 12,
   "metadata": {},
   "outputs": [
    {
     "name": "stdout",
     "output_type": "stream",
     "text": [
      "0      1호선\n",
      "1      1호선\n",
      "2      1호선\n",
      "3      1호선\n",
      "4      1호선\n",
      "      ... \n",
      "617    신림선\n",
      "618    신림선\n",
      "619    신림선\n",
      "620    신림선\n",
      "621    신림선\n",
      "Name: (호선명, Unnamed: 1_level_1), Length: 622, dtype: object\n"
     ]
    }
   ],
   "source": [
    "print(df[('호선명','Unnamed: 1_level_1')])"
   ]
  },
  {
   "cell_type": "code",
   "execution_count": 13,
   "metadata": {},
   "outputs": [
    {
     "name": "stdout",
     "output_type": "stream",
     "text": [
      "0           서울역\n",
      "1            시청\n",
      "2            종각\n",
      "3          종로3가\n",
      "4          종로5가\n",
      "         ...   \n",
      "617          당곡\n",
      "618          신림\n",
      "619          서원\n",
      "620     서울대벤처타운\n",
      "621    관악산(서울대)\n",
      "Name: (지하철역, Unnamed: 3_level_1), Length: 622, dtype: object\n"
     ]
    }
   ],
   "source": [
    "print(df[('지하철역','Unnamed: 3_level_1')])"
   ]
  },
  {
   "cell_type": "markdown",
   "metadata": {},
   "source": [
    "### DataFrame에서 여러 컬럼 선택\n",
    "- iloc[row_index, col_index] (iloc:integer location)\n",
    "- iloc[:,[1,3,10,12,14]]: 모든 행과 1,3,10,12,14 열 선택"
   ]
  },
  {
   "cell_type": "code",
   "execution_count": 14,
   "metadata": {},
   "outputs": [
    {
     "name": "stdout",
     "output_type": "stream",
     "text": [
      "+----+------------------------------------+--------------------------------------+---------------------------------+---------------------------------+---------------------------------+\n",
      "|    | ('호선명', 'Unnamed: 1_level_1')   | ('지하철역', 'Unnamed: 3_level_1')   | ('07:00:00~07:59:59', '승차')   | ('08:00:00~08:59:59', '승차')   | ('09:00:00~09:59:59', '승차')   |\n",
      "|----+------------------------------------+--------------------------------------+---------------------------------+---------------------------------+---------------------------------|\n",
      "|  0 | 1호선                              | 서울역                               | 40,205                          | 68,945                          | 68,501                          |\n",
      "|  1 | 1호선                              | 시청                                 | 7,703                           | 10,616                          | 12,972                          |\n",
      "|  2 | 1호선                              | 종각                                 | 6,588                           | 10,892                          | 13,378                          |\n",
      "|  3 | 1호선                              | 종로3가                              | 5,968                           | 10,284                          | 15,280                          |\n",
      "|  4 | 1호선                              | 종로5가                              | 5,783                           | 10,330                          | 15,744                          |\n",
      "+----+------------------------------------+--------------------------------------+---------------------------------+---------------------------------+---------------------------------+\n"
     ]
    }
   ],
   "source": [
    "commute_time_df=df.iloc[:,[1,3,10,12,14]]\n",
    "print(tabulate(commute_time_df.head(),headers='keys',tablefmt='psql'))"
   ]
  },
  {
   "cell_type": "code",
   "execution_count": 15,
   "metadata": {},
   "outputs": [
    {
     "name": "stdout",
     "output_type": "stream",
     "text": [
      "호선명                Unnamed: 1_level_1    object\n",
      "지하철역               Unnamed: 3_level_1    object\n",
      "07:00:00~07:59:59  승차                    object\n",
      "08:00:00~08:59:59  승차                    object\n",
      "09:00:00~09:59:59  승차                    object\n",
      "dtype: object\n"
     ]
    }
   ],
   "source": [
    "print(commute_time_df.dtypes)"
   ]
  },
  {
   "cell_type": "code",
   "execution_count": 16,
   "metadata": {},
   "outputs": [
    {
     "name": "stdout",
     "output_type": "stream",
     "text": [
      "+----+------------------------------------+--------------------------------------+---------------------------------+---------------------------------+---------------------------------+\n",
      "|    | ('호선명', 'Unnamed: 1_level_1')   | ('지하철역', 'Unnamed: 3_level_1')   |   ('07:00:00~07:59:59', '승차') |   ('08:00:00~08:59:59', '승차') |   ('09:00:00~09:59:59', '승차') |\n",
      "|----+------------------------------------+--------------------------------------+---------------------------------+---------------------------------+---------------------------------|\n",
      "|  0 | 1호선                              | 서울역                               |                           40205 |                           68945 |                           68501 |\n",
      "|  1 | 1호선                              | 시청                                 |                            7703 |                           10616 |                           12972 |\n",
      "|  2 | 1호선                              | 종각                                 |                            6588 |                           10892 |                           13378 |\n",
      "|  3 | 1호선                              | 종로3가                              |                            5968 |                           10284 |                           15280 |\n",
      "|  4 | 1호선                              | 종로5가                              |                            5783 |                           10330 |                           15744 |\n",
      "+----+------------------------------------+--------------------------------------+---------------------------------+---------------------------------+---------------------------------+\n"
     ]
    },
    {
     "name": "stderr",
     "output_type": "stream",
     "text": [
      "C:\\Users\\LG\\AppData\\Local\\Temp\\ipykernel_29648\\2589527323.py:1: SettingWithCopyWarning: \n",
      "A value is trying to be set on a copy of a slice from a DataFrame.\n",
      "Try using .loc[row_indexer,col_indexer] = value instead\n",
      "\n",
      "See the caveats in the documentation: https://pandas.pydata.org/pandas-docs/stable/user_guide/indexing.html#returning-a-view-versus-a-copy\n",
      "  commute_time_df[('07:00:00~07:59:59','승차')]=commute_time_df[('07:00:00~07:59:59','승차')].apply(lambda x:x.replace(',',''))\n",
      "C:\\Users\\LG\\AppData\\Local\\Temp\\ipykernel_29648\\2589527323.py:2: SettingWithCopyWarning: \n",
      "A value is trying to be set on a copy of a slice from a DataFrame.\n",
      "Try using .loc[row_indexer,col_indexer] = value instead\n",
      "\n",
      "See the caveats in the documentation: https://pandas.pydata.org/pandas-docs/stable/user_guide/indexing.html#returning-a-view-versus-a-copy\n",
      "  commute_time_df[('08:00:00~08:59:59','승차')]=commute_time_df[('08:00:00~08:59:59','승차')].apply(lambda x:x.replace(',',''))\n",
      "C:\\Users\\LG\\AppData\\Local\\Temp\\ipykernel_29648\\2589527323.py:3: SettingWithCopyWarning: \n",
      "A value is trying to be set on a copy of a slice from a DataFrame.\n",
      "Try using .loc[row_indexer,col_indexer] = value instead\n",
      "\n",
      "See the caveats in the documentation: https://pandas.pydata.org/pandas-docs/stable/user_guide/indexing.html#returning-a-view-versus-a-copy\n",
      "  commute_time_df[('09:00:00~09:59:59','승차')]=commute_time_df[('09:00:00~09:59:59','승차')].apply(lambda x:x.replace(',',''))\n"
     ]
    }
   ],
   "source": [
    "commute_time_df[('07:00:00~07:59:59','승차')]=commute_time_df[('07:00:00~07:59:59','승차')].apply(lambda x:x.replace(',',''))\n",
    "commute_time_df[('08:00:00~08:59:59','승차')]=commute_time_df[('08:00:00~08:59:59','승차')].apply(lambda x:x.replace(',',''))\n",
    "commute_time_df[('09:00:00~09:59:59','승차')]=commute_time_df[('09:00:00~09:59:59','승차')].apply(lambda x:x.replace(',',''))\n",
    "\n",
    "print(tabulate(commute_time_df.head(),headers='keys',tablefmt='psql'))"
   ]
  },
  {
   "cell_type": "code",
   "execution_count": 17,
   "metadata": {},
   "outputs": [
    {
     "name": "stdout",
     "output_type": "stream",
     "text": [
      "호선명                Unnamed: 1_level_1    object\n",
      "지하철역               Unnamed: 3_level_1    object\n",
      "07:00:00~07:59:59  승차                     int64\n",
      "08:00:00~08:59:59  승차                     int64\n",
      "09:00:00~09:59:59  승차                     int64\n",
      "dtype: object\n"
     ]
    }
   ],
   "source": [
    "commute_time_df=commute_time_df.astype({('07:00:00~07:59:59','승차'):'int64'})\n",
    "commute_time_df=commute_time_df.astype({('08:00:00~08:59:59','승차'):'int64'})\n",
    "commute_time_df=commute_time_df.astype({('09:00:00~09:59:59','승차'):'int64'})\n",
    "\n",
    "print(commute_time_df.dtypes)"
   ]
  },
  {
   "cell_type": "code",
   "execution_count": 18,
   "metadata": {},
   "outputs": [
    {
     "name": "stdout",
     "output_type": "stream",
     "text": [
      "0      177651\n",
      "1       31291\n",
      "2       30858\n",
      "3       31532\n",
      "4       31857\n",
      "        ...  \n",
      "617     44504\n",
      "618     14843\n",
      "619     43187\n",
      "620     97128\n",
      "621     17160\n",
      "Length: 622, dtype: int64\n"
     ]
    }
   ],
   "source": [
    "row_sum_df=commute_time_df.sum(axis=1,numeric_only=True)\n",
    "passenger_number_list=row_sum_df.to_list()\n",
    "print(row_sum_df)"
   ]
  },
  {
   "cell_type": "code",
   "execution_count": 19,
   "metadata": {},
   "outputs": [
    {
     "name": "stdout",
     "output_type": "stream",
     "text": [
      "580615\n"
     ]
    }
   ],
   "source": [
    "max_number=row_sum_df.max(axis=0)\n",
    "print(max_number)"
   ]
  },
  {
   "cell_type": "code",
   "execution_count": 21,
   "metadata": {},
   "outputs": [
    {
     "name": "stdout",
     "output_type": "stream",
     "text": [
      "출근 시간대 최대 승차 인원역: 2호선 신림 580,615명\n"
     ]
    }
   ],
   "source": [
    "max_index=row_sum_df.idxmax()\n",
    "max_line, max_station=df.iloc[max_index, [1,3]]\n",
    "\n",
    "print(f'출근 시간대 최대 승차 인원역: {max_line} {max_station} {max_number:,}명')"
   ]
  },
  {
   "cell_type": "code",
   "execution_count": 23,
   "metadata": {},
   "outputs": [
    {
     "data": {
      "image/png": "[encoded data removed]",
      "text/plain": [
       "<Figure size 640x480 with 1 Axes>"
      ]
     },
     "metadata": {},
     "output_type": "display_data"
    }
   ],
   "source": [
    "passenger_number_list.sort(reverse=True)\n",
    "plt.figure(dpi=100)\n",
    "plt.bar(range(len(passenger_number_list)),passenger_number_list)\n",
    "plt.show()"
   ]
  },
  {
   "cell_type": "code",
   "execution_count": null,
   "metadata": {},
   "outputs": [],
   "source": []
  }
 ],
 "metadata": {
  "kernelspec": {
   "display_name": "PY39",
   "language": "python",
   "name": "python3"
  },
  "language_info": {
   "codemirror_mode": {
    "name": "ipython",
    "version": 3
   },
   "file_extension": ".py",
   "mimetype": "text/x-python",
   "name": "python",
   "nbconvert_exporter": "python",
   "pygments_lexer": "ipython3",
   "version": "3.9.19"
  }
 },
 "nbformat": 4,
 "nbformat_minor": 2
}

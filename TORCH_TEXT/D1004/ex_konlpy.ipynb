{
 "cells": [
  {
   "cell_type": "markdown",
   "metadata": {},
   "source": [
    "##### 한국어 형태소 분석\n",
    "- konlpy 패키지 활용\n",
    "    * 내부에 5가지 형태소 분석 패키지 포함\n",
    "    * 5가지 형태소 분석기 사용법 동일. 쉬움"
   ]
  },
  {
   "cell_type": "markdown",
   "metadata": {},
   "source": [
    "- [1] 모듈 로딩 <hr>"
   ]
  },
  {
   "cell_type": "code",
   "execution_count": 19,
   "metadata": {},
   "outputs": [],
   "source": [
    "from konlpy.tag import * # *의미 : 패키지안의 모든 것 가져오기"
   ]
  },
  {
   "cell_type": "markdown",
   "metadata": {},
   "source": [
    "- [2] 다양한 형태소 분석기 활용 <hr>"
   ]
  },
  {
   "cell_type": "code",
   "execution_count": 3,
   "metadata": {},
   "outputs": [],
   "source": [
    "# 한나눔 형태소 분석기 \n",
    "han=Hannanum()\n",
    "\n",
    "text=\"슬퍼하는 너를 위해서 해줄게 남아 있다면 무엇이든 다 얘기 해주길 바래...\""
   ]
  },
  {
   "cell_type": "code",
   "execution_count": 4,
   "metadata": {},
   "outputs": [
    {
     "name": "stdout",
     "output_type": "stream",
     "text": [
      "['슬프', '어', '하', '는', '너', '를', '위하', '어서', '하', '어', '줄', '게', '남', '아', '있', '다면', '무엇', '이', '든', '다', '얘', '이', '기', '해주길', '바', '이', '래', '...']\n"
     ]
    }
   ],
   "source": [
    "# 형태소 분리\n",
    "result=han.morphs(text)\n",
    "\n",
    "print(result)"
   ]
  },
  {
   "cell_type": "code",
   "execution_count": 5,
   "metadata": {},
   "outputs": [
    {
     "name": "stdout",
     "output_type": "stream",
     "text": [
      "['너', '무엇', '얘', '해주길', '바']\n"
     ]
    }
   ],
   "source": [
    "# 명사만 추출\n",
    "result=han.nouns(text)\n",
    "\n",
    "print(result)"
   ]
  },
  {
   "cell_type": "code",
   "execution_count": 6,
   "metadata": {},
   "outputs": [
    {
     "name": "stdout",
     "output_type": "stream",
     "text": [
      "[('슬프', 'P'), ('어', 'E'), ('하', 'P'), ('는', 'E'), ('너', 'N'), ('를', 'J'), ('위하', 'P'), ('어서', 'E'), ('하', 'P'), ('어', 'E'), ('줄', 'P'), ('게', 'E'), ('남', 'P'), ('아', 'E'), ('있', 'P'), ('다면', 'E'), ('무엇', 'N'), ('이', 'J'), ('든', 'E'), ('다', 'M'), ('얘', 'N'), ('이', 'J'), ('기', 'E'), ('해주길', 'N'), ('바', 'N'), ('이', 'J'), ('래', 'E'), ('...', 'S')]\n"
     ]
    }
   ],
   "source": [
    "# 품사태깅 추출 분리 => 형태소 분리 후 품사 태깅 처리\n",
    "result=han.pos(text)\n",
    "\n",
    "print(result)"
   ]
  },
  {
   "cell_type": "code",
   "execution_count": 7,
   "metadata": {},
   "outputs": [],
   "source": [
    "# 꼬꼬마 형태소 분석기\n",
    "kkma=Kkma()"
   ]
  },
  {
   "cell_type": "code",
   "execution_count": 11,
   "metadata": {},
   "outputs": [
    {
     "name": "stdout",
     "output_type": "stream",
     "text": [
      "['슬퍼하', '는', '너', '를', '위하', '어서', '하', '어', '주', 'ㄹ게', '남', '아', '있', '다면', '무엇', '이', '든', '다', '얘기', '하', '어', '주', '기', '를', '바래', '...']\n",
      "['너', '무엇', '얘기']\n",
      "[('슬퍼하', 'VV'), ('는', 'ETD'), ('너', 'NP'), ('를', 'JKO'), ('위하', 'VV'), ('어서', 'ECD'), ('하', 'VV'), ('어', 'ECS'), ('주', 'VXV'), ('ㄹ게', 'EFN'), ('남', 'VV'), ('아', 'ECD'), ('있', 'VXA'), ('다면', 'ECE'), ('무엇', 'NNG'), ('이', 'VCP'), ('든', 'ECE'), ('다', 'MAG'), ('얘기', 'NNG'), ('하', 'VV'), ('어', 'ECS'), ('주', 'VXV'), ('기', 'ETN'), ('를', 'JKO'), ('바래', 'VV'), ('...', 'SE')]\n"
     ]
    }
   ],
   "source": [
    "# 형태소\n",
    "print(kkma.morphs(text))\n",
    "\n",
    "# 명사\n",
    "print(kkma.nouns(text))\n",
    "\n",
    "# 품사태깅 후 분리\n",
    "print(kkma.pos(text))"
   ]
  },
  {
   "cell_type": "code",
   "execution_count": 12,
   "metadata": {},
   "outputs": [],
   "source": [
    "# 코모란 형태소 분석기\n",
    "komo=Komoran()"
   ]
  },
  {
   "cell_type": "code",
   "execution_count": 13,
   "metadata": {},
   "outputs": [
    {
     "name": "stdout",
     "output_type": "stream",
     "text": [
      "['슬퍼하', '는', '너', '를', '위하', '아서', '하', '아', '줄', '게', '남', '아', '있', '다면', '무엇', '이', '든', '다', '얘기', '해주', '길', '바', '래', '...']\n",
      "['얘기', '해주', '길', '바', '래']\n",
      "[('슬퍼하', 'VV'), ('는', 'ETM'), ('너', 'NP'), ('를', 'JKO'), ('위하', 'VV'), ('아서', 'EC'), ('하', 'VV'), ('아', 'EC'), ('줄', 'VV'), ('게', 'EC'), ('남', 'VV'), ('아', 'EC'), ('있', 'VV'), ('다면', 'EC'), ('무엇', 'NP'), ('이', 'VCP'), ('든', 'EC'), ('다', 'MAG'), ('얘기', 'NNG'), ('해주', 'NNP'), ('길', 'NNG'), ('바', 'NNB'), ('래', 'NNG'), ('...', 'SE')]\n"
     ]
    }
   ],
   "source": [
    "# 형태소\n",
    "print(komo.morphs(text))\n",
    "\n",
    "# 명사\n",
    "print(komo.nouns(text))\n",
    "\n",
    "# 품사태깅 후 분리\n",
    "print(komo.pos(text))"
   ]
  },
  {
   "cell_type": "code",
   "execution_count": 15,
   "metadata": {},
   "outputs": [],
   "source": [
    "# Okt 형태소 분석기\n",
    "okt=Okt()"
   ]
  },
  {
   "cell_type": "code",
   "execution_count": 16,
   "metadata": {},
   "outputs": [
    {
     "name": "stdout",
     "output_type": "stream",
     "text": [
      "['슬퍼하는', '너', '를', '위해', '서', '해줄게', '남아', '있다면', '무엇', '이든', '다', '얘기', '해주길', '바', '래', '...']\n",
      "['너', '위해', '남아', '무엇', '얘기', '바']\n",
      "[('슬퍼하는', 'Adjective'), ('너', 'Noun'), ('를', 'Josa'), ('위해', 'Noun'), ('서', 'Josa'), ('해줄게', 'Verb'), ('남아', 'Noun'), ('있다면', 'Adjective'), ('무엇', 'Noun'), ('이든', 'Josa'), ('다', 'Adverb'), ('얘기', 'Noun'), ('해주길', 'Verb'), ('바', 'Noun'), ('래', 'Josa'), ('...', 'Punctuation')]\n"
     ]
    }
   ],
   "source": [
    "# 형태소\n",
    "print(okt.morphs(text))\n",
    "\n",
    "# 명사\n",
    "print(okt.nouns(text))\n",
    "\n",
    "# 품사태깅 후 분리\n",
    "print(okt.pos(text))"
   ]
  },
  {
   "cell_type": "code",
   "execution_count": null,
   "metadata": {},
   "outputs": [],
   "source": []
  }
 ],
 "metadata": {
  "kernelspec": {
   "display_name": "TEXT_018_230_38",
   "language": "python",
   "name": "python3"
  },
  "language_info": {
   "codemirror_mode": {
    "name": "ipython",
    "version": 3
   },
   "file_extension": ".py",
   "mimetype": "text/x-python",
   "name": "python",
   "nbconvert_exporter": "python",
   "pygments_lexer": "ipython3",
   "version": "3.8.19"
  }
 },
 "nbformat": 4,
 "nbformat_minor": 2
}

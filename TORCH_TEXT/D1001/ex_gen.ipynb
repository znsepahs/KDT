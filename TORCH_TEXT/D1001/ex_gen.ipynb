{
 "cells": [
  {
   "cell_type": "markdown",
   "metadata": {},
   "source": [
    "#### Generateor 살펴보기\n",
    "- 목적 : 메모리 효율적 사용을 위해서\n",
    "- 특징 : iterator로서 반복기능 포함\n",
    "- 문법 : yield 키워드 함께 사용"
   ]
  },
  {
   "cell_type": "markdown",
   "metadata": {},
   "source": [
    "[1] 모듈로딩"
   ]
  },
  {
   "cell_type": "code",
   "execution_count": 6,
   "metadata": {},
   "outputs": [],
   "source": [
    "import time"
   ]
  },
  {
   "cell_type": "code",
   "execution_count": 10,
   "metadata": {},
   "outputs": [],
   "source": [
    "# 사용자 정의 함수\n",
    "# 기능 : 데이터 값을 반환하는 기능\n",
    "# 이름 : returnData\n",
    "def returnData():\n",
    "    data=[]\n",
    "    for ch in ['아루','하루나','토키']:\n",
    "        data.append(ch)\n",
    "        time.sleep(2)\n",
    "    return data"
   ]
  },
  {
   "cell_type": "code",
   "execution_count": 13,
   "metadata": {},
   "outputs": [],
   "source": [
    "# 사용자 정의 함수\n",
    "# 기능 : 데이터 값을 반환하는 기능\n",
    "# 이름 : yieldData\n",
    "def yieldData():\n",
    "    data=[]\n",
    "    for ch in ['아루','하루나','토키']:\n",
    "        data.append(ch)\n",
    "        time.sleep(2)\n",
    "        yield data"
   ]
  },
  {
   "cell_type": "code",
   "execution_count": 16,
   "metadata": {},
   "outputs": [],
   "source": [
    "# 사용자 정의 함수\n",
    "# 기능 : 데이터 값을 반환하는 기능\n",
    "# 이름 : yieldData\n",
    "def yieldData2():\n",
    "    data=['아루','하루나','토키']\n",
    "    time.sleep(2)\n",
    "    yield from data"
   ]
  },
  {
   "cell_type": "code",
   "execution_count": 11,
   "metadata": {},
   "outputs": [
    {
     "data": {
      "text/plain": [
       "['아루', '하루나', '토키']"
      ]
     },
     "execution_count": 11,
     "metadata": {},
     "output_type": "execute_result"
    }
   ],
   "source": [
    "# 함수 호출\n",
    "returnData()"
   ]
  },
  {
   "cell_type": "code",
   "execution_count": 15,
   "metadata": {},
   "outputs": [
    {
     "data": {
      "text/plain": [
       "<generator object yieldData at 0x000001AD844A33C0>"
      ]
     },
     "execution_count": 15,
     "metadata": {},
     "output_type": "execute_result"
    }
   ],
   "source": [
    "yieldData()"
   ]
  },
  {
   "cell_type": "code",
   "execution_count": 14,
   "metadata": {},
   "outputs": [
    {
     "name": "stdout",
     "output_type": "stream",
     "text": [
      "['아루']\n",
      "['아루', '하루나']\n",
      "['아루', '하루나', '토키']\n"
     ]
    }
   ],
   "source": [
    "for data in yieldData():\n",
    "    print(data)"
   ]
  },
  {
   "cell_type": "code",
   "execution_count": 18,
   "metadata": {},
   "outputs": [
    {
     "name": "stdout",
     "output_type": "stream",
     "text": [
      "아루\n",
      "하루나\n",
      "토키\n"
     ]
    }
   ],
   "source": [
    "for data in yieldData2():\n",
    "    print(data)"
   ]
  }
 ],
 "metadata": {
  "kernelspec": {
   "display_name": "TEXT_018_230_38",
   "language": "python",
   "name": "python3"
  },
  "language_info": {
   "codemirror_mode": {
    "name": "ipython",
    "version": 3
   },
   "file_extension": ".py",
   "mimetype": "text/x-python",
   "name": "python",
   "nbconvert_exporter": "python",
   "pygments_lexer": "ipython3",
   "version": "3.8.19"
  }
 },
 "nbformat": 4,
 "nbformat_minor": 2
}

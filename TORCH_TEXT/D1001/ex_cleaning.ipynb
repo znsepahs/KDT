{
 "cells": [
  {
   "cell_type": "markdown",
   "metadata": {},
   "source": [
    "#### 자연어 처리를 위한 전처리 \n",
    "- 정제\n",
    "    * 토큰화 전후로 진행\n",
    "    * 완벽한 제거는 어렵지만 해야한다\n",
    "    * 불용어 제거, 빈도에 따른 제거, 길이에 따른 제거"
   ]
  },
  {
   "cell_type": "code",
   "execution_count": 2,
   "metadata": {},
   "outputs": [],
   "source": [
    "# 모듈 로딩\n",
    "from nltk.corpus import stopwords\n",
    "from nltk.tokenize import word_tokenize\n",
    "from konlpy.tag import Okt\n",
    "from konlpy.tag import Kkma"
   ]
  },
  {
   "cell_type": "code",
   "execution_count": 1,
   "metadata": {},
   "outputs": [
    {
     "name": "stdout",
     "output_type": "stream",
     "text": [
      "Collecting torchmetrics\n",
      "  Downloading torchmetrics-1.4.3-py3-none-any.whl.metadata (19 kB)\n",
      "Requirement already satisfied: numpy>1.20.0 in c:\\users\\lg\\anaconda3\\envs\\text_018_230_38\\lib\\site-packages (from torchmetrics) (1.24.3)\n",
      "Requirement already satisfied: packaging>17.1 in c:\\users\\lg\\anaconda3\\envs\\text_018_230_38\\lib\\site-packages (from torchmetrics) (24.1)\n",
      "Requirement already satisfied: torch>=1.10.0 in c:\\users\\lg\\anaconda3\\envs\\text_018_230_38\\lib\\site-packages (from torchmetrics) (2.3.0)\n",
      "Collecting lightning-utilities>=0.8.0 (from torchmetrics)\n",
      "  Downloading lightning_utilities-0.11.8-py3-none-any.whl.metadata (5.2 kB)\n",
      "Requirement already satisfied: typing-extensions in c:\\users\\lg\\anaconda3\\envs\\text_018_230_38\\lib\\site-packages (from torchmetrics) (4.11.0)\n",
      "Requirement already satisfied: setuptools in c:\\users\\lg\\anaconda3\\envs\\text_018_230_38\\lib\\site-packages (from lightning-utilities>=0.8.0->torchmetrics) (75.1.0)\n",
      "Requirement already satisfied: filelock in c:\\users\\lg\\anaconda3\\envs\\text_018_230_38\\lib\\site-packages (from torch>=1.10.0->torchmetrics) (3.13.1)\n",
      "Requirement already satisfied: sympy in c:\\users\\lg\\anaconda3\\envs\\text_018_230_38\\lib\\site-packages (from torch>=1.10.0->torchmetrics) (1.13.2)\n",
      "Requirement already satisfied: networkx in c:\\users\\lg\\anaconda3\\envs\\text_018_230_38\\lib\\site-packages (from torch>=1.10.0->torchmetrics) (3.1)\n",
      "Requirement already satisfied: jinja2 in c:\\users\\lg\\anaconda3\\envs\\text_018_230_38\\lib\\site-packages (from torch>=1.10.0->torchmetrics) (3.1.4)\n",
      "Collecting fsspec (from torch>=1.10.0->torchmetrics)\n",
      "  Using cached fsspec-2024.9.0-py3-none-any.whl.metadata (11 kB)\n",
      "Collecting mkl<=2021.4.0,>=2021.1.1 (from torch>=1.10.0->torchmetrics)\n",
      "  Downloading mkl-2021.4.0-py2.py3-none-win_amd64.whl.metadata (1.4 kB)\n",
      "Collecting intel-openmp==2021.* (from mkl<=2021.4.0,>=2021.1.1->torch>=1.10.0->torchmetrics)\n",
      "  Downloading intel_openmp-2021.4.0-py2.py3-none-win_amd64.whl.metadata (1.2 kB)\n",
      "Collecting tbb==2021.* (from mkl<=2021.4.0,>=2021.1.1->torch>=1.10.0->torchmetrics)\n",
      "  Downloading tbb-2021.13.1-py3-none-win_amd64.whl.metadata (1.1 kB)\n",
      "Requirement already satisfied: MarkupSafe>=2.0 in c:\\users\\lg\\anaconda3\\envs\\text_018_230_38\\lib\\site-packages (from jinja2->torch>=1.10.0->torchmetrics) (2.1.3)\n",
      "Requirement already satisfied: mpmath<1.4,>=1.1.0 in c:\\users\\lg\\anaconda3\\envs\\text_018_230_38\\lib\\site-packages (from sympy->torch>=1.10.0->torchmetrics) (1.3.0)\n",
      "Downloading torchmetrics-1.4.3-py3-none-any.whl (869 kB)\n",
      "   ---------------------------------------- 0.0/869.5 kB ? eta -:--:--\n",
      "   ---------------------------------------- 869.5/869.5 kB 9.8 MB/s eta 0:00:00\n",
      "Downloading lightning_utilities-0.11.8-py3-none-any.whl (26 kB)\n",
      "Downloading mkl-2021.4.0-py2.py3-none-win_amd64.whl (228.5 MB)\n",
      "   ---------------------------------------- 0.0/228.5 MB ? eta -:--:--\n",
      "   ---------------------------------------- 1.6/228.5 MB 7.6 MB/s eta 0:00:30\n",
      "    --------------------------------------- 3.1/228.5 MB 9.2 MB/s eta 0:00:25\n",
      "    --------------------------------------- 4.2/228.5 MB 7.4 MB/s eta 0:00:31\n",
      "    --------------------------------------- 5.2/228.5 MB 6.5 MB/s eta 0:00:35\n",
      "   - -------------------------------------- 7.9/228.5 MB 7.7 MB/s eta 0:00:29\n",
      "   - -------------------------------------- 10.2/228.5 MB 8.3 MB/s eta 0:00:27\n",
      "   -- ------------------------------------- 12.6/228.5 MB 8.9 MB/s eta 0:00:25\n",
      "   -- ------------------------------------- 15.2/228.5 MB 9.3 MB/s eta 0:00:23\n",
      "   --- ------------------------------------ 17.6/228.5 MB 9.5 MB/s eta 0:00:23\n",
      "   --- ------------------------------------ 20.2/228.5 MB 9.8 MB/s eta 0:00:22\n",
      "   --- ------------------------------------ 22.5/228.5 MB 10.0 MB/s eta 0:00:21\n",
      "   ---- ----------------------------------- 24.4/228.5 MB 9.9 MB/s eta 0:00:21\n",
      "   ---- ----------------------------------- 26.7/228.5 MB 10.1 MB/s eta 0:00:21\n",
      "   ----- ---------------------------------- 29.4/228.5 MB 10.2 MB/s eta 0:00:20\n",
      "   ----- ---------------------------------- 31.7/228.5 MB 10.3 MB/s eta 0:00:20\n",
      "   ------ --------------------------------- 34.3/228.5 MB 10.4 MB/s eta 0:00:19\n",
      "   ------ --------------------------------- 36.7/228.5 MB 10.5 MB/s eta 0:00:19\n",
      "   ------ --------------------------------- 37.5/228.5 MB 10.1 MB/s eta 0:00:20\n",
      "   ------ --------------------------------- 39.8/228.5 MB 10.2 MB/s eta 0:00:19\n",
      "   ------- -------------------------------- 42.5/228.5 MB 10.2 MB/s eta 0:00:19\n",
      "   ------- -------------------------------- 44.8/228.5 MB 10.3 MB/s eta 0:00:18\n",
      "   -------- ------------------------------- 47.4/228.5 MB 10.4 MB/s eta 0:00:18\n",
      "   -------- ------------------------------- 50.1/228.5 MB 10.5 MB/s eta 0:00:18\n",
      "   --------- ------------------------------ 52.4/228.5 MB 10.5 MB/s eta 0:00:17\n",
      "   --------- ------------------------------ 54.8/228.5 MB 10.5 MB/s eta 0:00:17\n",
      "   ---------- ----------------------------- 57.1/228.5 MB 10.6 MB/s eta 0:00:17\n",
      "   ---------- ----------------------------- 59.5/228.5 MB 10.7 MB/s eta 0:00:16\n",
      "   ---------- ----------------------------- 61.9/228.5 MB 10.7 MB/s eta 0:00:16\n",
      "   ----------- ---------------------------- 64.5/228.5 MB 10.7 MB/s eta 0:00:16\n",
      "   ----------- ---------------------------- 66.8/228.5 MB 10.7 MB/s eta 0:00:16\n",
      "   ------------ --------------------------- 69.5/228.5 MB 10.8 MB/s eta 0:00:15\n",
      "   ------------ --------------------------- 72.1/228.5 MB 10.8 MB/s eta 0:00:15\n",
      "   ------------- -------------------------- 74.4/228.5 MB 10.9 MB/s eta 0:00:15\n",
      "   ------------- -------------------------- 76.5/228.5 MB 10.9 MB/s eta 0:00:14\n",
      "   ------------- -------------------------- 78.4/228.5 MB 10.8 MB/s eta 0:00:14\n",
      "   -------------- ------------------------- 80.7/228.5 MB 10.8 MB/s eta 0:00:14\n",
      "   -------------- ------------------------- 83.4/228.5 MB 10.9 MB/s eta 0:00:14\n",
      "   --------------- ------------------------ 85.7/228.5 MB 10.9 MB/s eta 0:00:14\n",
      "   --------------- ------------------------ 88.3/228.5 MB 10.9 MB/s eta 0:00:13\n",
      "   --------------- ------------------------ 91.0/228.5 MB 10.9 MB/s eta 0:00:13\n",
      "   ---------------- ----------------------- 93.3/228.5 MB 10.9 MB/s eta 0:00:13\n",
      "   ---------------- ----------------------- 95.9/228.5 MB 11.0 MB/s eta 0:00:13\n",
      "   ----------------- ---------------------- 98.3/228.5 MB 11.0 MB/s eta 0:00:12\n",
      "   ----------------- --------------------- 100.7/228.5 MB 11.0 MB/s eta 0:00:12\n",
      "   ----------------- --------------------- 103.3/228.5 MB 11.0 MB/s eta 0:00:12\n",
      "   ------------------ -------------------- 105.9/228.5 MB 11.0 MB/s eta 0:00:12\n",
      "   ------------------ -------------------- 108.5/228.5 MB 11.0 MB/s eta 0:00:11\n",
      "   ------------------ -------------------- 110.9/228.5 MB 11.0 MB/s eta 0:00:11\n",
      "   ------------------- ------------------- 113.5/228.5 MB 11.0 MB/s eta 0:00:11\n",
      "   ------------------- ------------------- 115.9/228.5 MB 11.1 MB/s eta 0:00:11\n",
      "   -------------------- ------------------ 118.2/228.5 MB 11.1 MB/s eta 0:00:10\n",
      "   -------------------- ------------------ 120.8/228.5 MB 11.1 MB/s eta 0:00:10\n",
      "   --------------------- ----------------- 123.5/228.5 MB 11.1 MB/s eta 0:00:10\n",
      "   --------------------- ----------------- 125.8/228.5 MB 11.1 MB/s eta 0:00:10\n",
      "   --------------------- ----------------- 128.5/228.5 MB 11.1 MB/s eta 0:00:09\n",
      "   ---------------------- ---------------- 130.8/228.5 MB 11.1 MB/s eta 0:00:09\n",
      "   ---------------------- ---------------- 133.4/228.5 MB 11.2 MB/s eta 0:00:09\n",
      "   ---------------------- ---------------- 134.5/228.5 MB 11.1 MB/s eta 0:00:09\n",
      "   ----------------------- --------------- 137.1/228.5 MB 11.1 MB/s eta 0:00:09\n",
      "   ----------------------- --------------- 139.5/228.5 MB 11.1 MB/s eta 0:00:09\n",
      "   ------------------------ -------------- 141.8/228.5 MB 11.1 MB/s eta 0:00:08\n",
      "   ------------------------ -------------- 144.4/228.5 MB 11.1 MB/s eta 0:00:08\n",
      "   ------------------------- ------------- 146.8/228.5 MB 11.1 MB/s eta 0:00:08\n",
      "   ------------------------- ------------- 149.4/228.5 MB 11.1 MB/s eta 0:00:08\n",
      "   ------------------------- ------------- 151.8/228.5 MB 11.1 MB/s eta 0:00:07\n",
      "   -------------------------- ------------ 154.1/228.5 MB 11.2 MB/s eta 0:00:07\n",
      "   -------------------------- ------------ 156.5/228.5 MB 11.2 MB/s eta 0:00:07\n",
      "   --------------------------- ----------- 159.1/228.5 MB 11.2 MB/s eta 0:00:07\n",
      "   --------------------------- ----------- 161.5/228.5 MB 11.2 MB/s eta 0:00:07\n",
      "   ---------------------------- ---------- 164.1/228.5 MB 11.2 MB/s eta 0:00:06\n",
      "   ---------------------------- ---------- 166.7/228.5 MB 11.2 MB/s eta 0:00:06\n",
      "   ---------------------------- ---------- 169.1/228.5 MB 11.2 MB/s eta 0:00:06\n",
      "   ----------------------------- --------- 171.7/228.5 MB 11.2 MB/s eta 0:00:06\n",
      "   ----------------------------- --------- 174.1/228.5 MB 11.2 MB/s eta 0:00:05\n",
      "   ------------------------------ -------- 176.7/228.5 MB 11.2 MB/s eta 0:00:05\n",
      "   ------------------------------ -------- 179.0/228.5 MB 11.2 MB/s eta 0:00:05\n",
      "   ------------------------------- ------- 181.7/228.5 MB 11.2 MB/s eta 0:00:05\n",
      "   ------------------------------- ------- 184.3/228.5 MB 11.2 MB/s eta 0:00:04\n",
      "   ------------------------------- ------- 186.9/228.5 MB 11.3 MB/s eta 0:00:04\n",
      "   -------------------------------- ------ 189.5/228.5 MB 11.3 MB/s eta 0:00:04\n",
      "   -------------------------------- ------ 191.9/228.5 MB 11.3 MB/s eta 0:00:04\n",
      "   --------------------------------- ----- 194.2/228.5 MB 11.3 MB/s eta 0:00:04\n",
      "   --------------------------------- ----- 196.9/228.5 MB 11.3 MB/s eta 0:00:03\n",
      "   ---------------------------------- ---- 199.5/228.5 MB 11.3 MB/s eta 0:00:03\n",
      "   ---------------------------------- ---- 201.9/228.5 MB 11.3 MB/s eta 0:00:03\n",
      "   ---------------------------------- ---- 204.2/228.5 MB 11.3 MB/s eta 0:00:03\n",
      "   ----------------------------------- --- 206.8/228.5 MB 11.3 MB/s eta 0:00:02\n",
      "   ----------------------------------- --- 209.2/228.5 MB 11.3 MB/s eta 0:00:02\n",
      "   ------------------------------------ -- 211.6/228.5 MB 11.3 MB/s eta 0:00:02\n",
      "   ------------------------------------ -- 213.4/228.5 MB 11.3 MB/s eta 0:00:02\n",
      "   ------------------------------------ -- 215.7/228.5 MB 11.3 MB/s eta 0:00:02\n",
      "   ------------------------------------- - 218.1/228.5 MB 11.3 MB/s eta 0:00:01\n",
      "   ------------------------------------- - 220.7/228.5 MB 11.3 MB/s eta 0:00:01\n",
      "   --------------------------------------  223.3/228.5 MB 11.3 MB/s eta 0:00:01\n",
      "   --------------------------------------  225.4/228.5 MB 11.3 MB/s eta 0:00:01\n",
      "   --------------------------------------  226.5/228.5 MB 11.2 MB/s eta 0:00:01\n",
      "   --------------------------------------  228.3/228.5 MB 11.2 MB/s eta 0:00:01\n",
      "   --------------------------------------  228.3/228.5 MB 11.2 MB/s eta 0:00:01\n",
      "   --------------------------------------- 228.5/228.5 MB 11.1 MB/s eta 0:00:00\n",
      "Downloading intel_openmp-2021.4.0-py2.py3-none-win_amd64.whl (3.5 MB)\n",
      "   ---------------------------------------- 0.0/3.5 MB ? eta -:--:--\n",
      "   -------------------------- ------------- 2.4/3.5 MB 12.2 MB/s eta 0:00:01\n",
      "   ---------------------------------------- 3.5/3.5 MB 11.5 MB/s eta 0:00:00\n",
      "Downloading tbb-2021.13.1-py3-none-win_amd64.whl (286 kB)\n",
      "Using cached fsspec-2024.9.0-py3-none-any.whl (179 kB)\n",
      "Installing collected packages: tbb, intel-openmp, mkl, lightning-utilities, fsspec, torchmetrics\n",
      "Successfully installed fsspec-2024.9.0 intel-openmp-2021.4.0 lightning-utilities-0.11.8 mkl-2021.4.0 tbb-2021.13.1 torchmetrics-1.4.3\n",
      "Note: you may need to restart the kernel to use updated packages.\n"
     ]
    }
   ],
   "source": [
    "#%pip install Flask\n",
    "#%pip install torchinfo\n",
    "#%pip install torchmetrics"
   ]
  },
  {
   "cell_type": "code",
   "execution_count": 7,
   "metadata": {},
   "outputs": [
    {
     "name": "stdout",
     "output_type": "stream",
     "text": [
      " 영어 불용어 : 179개\n",
      "i\n",
      "me my myself we our ours ourselves you you're you've\n",
      "you'll you'd your yours yourself yourselves he him his himself\n",
      "she she's her hers herself it it's its itself they\n",
      "them their theirs themselves what which who whom this that\n",
      "that'll these those am is are was were be been\n",
      "being have has had having do does did doing a\n",
      "an the and but if or because as until while\n",
      "of at by for with about against between into through\n",
      "during before after above below to from up down in\n",
      "out on off over under again further then once here\n",
      "there when where why how all any both each few\n",
      "more most other some such no nor not only own\n",
      "same so than too very s t can will just\n",
      "don don't should should've now d ll m o re\n",
      "ve y ain aren aren't couldn couldn't didn didn't doesn\n",
      "doesn't hadn hadn't hasn hasn't haven haven't isn isn't ma\n",
      "mightn mightn't mustn mustn't needn needn't shan shan't shouldn shouldn't\n",
      "wasn wasn't weren weren't won won't wouldn wouldn't "
     ]
    }
   ],
   "source": [
    "# NLTK 제공 영어 불용어 리스트 가져오기\n",
    "english_sw=stopwords.words('english')\n",
    "\n",
    "print(f' 영어 불용어 : {len(english_sw)}개')\n",
    "for idx, _ in enumerate(english_sw):\n",
    "    print(_, end=' ' if idx%10 else '\\n')"
   ]
  },
  {
   "cell_type": "code",
   "execution_count": 12,
   "metadata": {},
   "outputs": [],
   "source": [
    "# 토큰에서 불용어 제거하기\n",
    "text=\"##Family is not an important! thing~. It's everything.\""
   ]
  },
  {
   "cell_type": "code",
   "execution_count": 13,
   "metadata": {},
   "outputs": [
    {
     "name": "stdout",
     "output_type": "stream",
     "text": [
      " punctuation - ! : ##Family is not an important thing~. It's everything.\n",
      " punctuation - \" : ##Family is not an important thing~. It's everything.\n",
      " punctuation - # : Family is not an important thing~. It's everything.\n",
      " punctuation - $ : Family is not an important thing~. It's everything.\n",
      " punctuation - % : Family is not an important thing~. It's everything.\n",
      " punctuation - & : Family is not an important thing~. It's everything.\n",
      " punctuation - ' : Family is not an important thing~. Its everything.\n",
      " punctuation - ( : Family is not an important thing~. Its everything.\n",
      " punctuation - ) : Family is not an important thing~. Its everything.\n",
      " punctuation - * : Family is not an important thing~. Its everything.\n",
      " punctuation - + : Family is not an important thing~. Its everything.\n",
      " punctuation - , : Family is not an important thing~. Its everything.\n",
      " punctuation - - : Family is not an important thing~. Its everything.\n",
      " punctuation - . : Family is not an important thing~ Its everything\n",
      " punctuation - / : Family is not an important thing~ Its everything\n",
      " punctuation - : : Family is not an important thing~ Its everything\n",
      " punctuation - ; : Family is not an important thing~ Its everything\n",
      " punctuation - < : Family is not an important thing~ Its everything\n",
      " punctuation - = : Family is not an important thing~ Its everything\n",
      " punctuation - > : Family is not an important thing~ Its everything\n",
      " punctuation - ? : Family is not an important thing~ Its everything\n",
      " punctuation - @ : Family is not an important thing~ Its everything\n",
      " punctuation - [ : Family is not an important thing~ Its everything\n",
      " punctuation - \\ : Family is not an important thing~ Its everything\n",
      " punctuation - ] : Family is not an important thing~ Its everything\n",
      " punctuation - ^ : Family is not an important thing~ Its everything\n",
      " punctuation - _ : Family is not an important thing~ Its everything\n",
      " punctuation - ` : Family is not an important thing~ Its everything\n",
      " punctuation - { : Family is not an important thing~ Its everything\n",
      " punctuation - | : Family is not an important thing~ Its everything\n",
      " punctuation - } : Family is not an important thing~ Its everything\n",
      " punctuation - ~ : Family is not an important thing Its everything\n"
     ]
    }
   ],
   "source": [
    "# 구두점 제거\n",
    "import string\n",
    "\n",
    "punct=string.punctuation\n",
    "for pun in punct:\n",
    "    text=text.replace(pun,'')\n",
    "    print(f' punctuation - {pun} : {text}')\n"
   ]
  },
  {
   "cell_type": "code",
   "execution_count": 17,
   "metadata": {},
   "outputs": [
    {
     "name": "stdout",
     "output_type": "stream",
     "text": [
      "['!', '\"', '#', '$', '%', '&', \"'\", '(', ')', '*', '+', ',', '-', '.', '/', ':', ';', '<', '=', '>', '?', '@', '[', '\\\\', ']', '^', '_', '`', '{', '|', '}', '~']\n"
     ]
    }
   ],
   "source": [
    "print(list(punct))"
   ]
  },
  {
   "cell_type": "code",
   "execution_count": 14,
   "metadata": {},
   "outputs": [
    {
     "name": "stdout",
     "output_type": "stream",
     "text": [
      "['family', 'is', 'not', 'an', 'important', 'thing', 'its', 'everything']\n"
     ]
    }
   ],
   "source": [
    "# 대소문자 통일\n",
    "text=text.lower()\n",
    "\n",
    "# 토큰화 진행\n",
    "tokens=word_tokenize(text)\n",
    "print(tokens)"
   ]
  },
  {
   "cell_type": "code",
   "execution_count": 18,
   "metadata": {},
   "outputs": [
    {
     "name": "stdout",
     "output_type": "stream",
     "text": [
      "['family', 'important', 'thing', 'everything']\n"
     ]
    }
   ],
   "source": [
    "# 불용어 제거 : 분석에 의미가 없는 토큰 제거\n",
    "for token in tokens:\n",
    "    if token in english_sw:\n",
    "        tokens.remove(token)\n",
    "    if token in list(punct):\n",
    "        token.remove(token)\n",
    "\n",
    "print(tokens)"
   ]
  },
  {
   "cell_type": "code",
   "execution_count": null,
   "metadata": {},
   "outputs": [],
   "source": []
  }
 ],
 "metadata": {
  "kernelspec": {
   "display_name": "TEXT_018_230_38",
   "language": "python",
   "name": "python3"
  },
  "language_info": {
   "codemirror_mode": {
    "name": "ipython",
    "version": 3
   },
   "file_extension": ".py",
   "mimetype": "text/x-python",
   "name": "python",
   "nbconvert_exporter": "python",
   "pygments_lexer": "ipython3",
   "version": "3.8.19"
  }
 },
 "nbformat": 4,
 "nbformat_minor": 2
}

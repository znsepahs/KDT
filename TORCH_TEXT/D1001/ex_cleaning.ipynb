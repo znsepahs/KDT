{
 "cells": [
  {
   "cell_type": "markdown",
   "metadata": {},
   "source": [
    "#### 자연어 처리를 위한 전처리 \n",
    "- 정제\n",
    "    * 토큰화 전후로 진행\n",
    "    * 완벽한 제거는 어렵지만 해야한다\n",
    "    * 불용어 제거, 빈도에 따른 제거, 길이에 따른 제거"
   ]
  },
  {
   "cell_type": "code",
   "execution_count": 2,
   "metadata": {},
   "outputs": [],
   "source": [
    "# 모듈 로딩\n",
    "from nltk.corpus import stopwords\n",
    "from nltk.tokenize import word_tokenize\n",
    "from konlpy.tag import Okt\n",
    "from konlpy.tag import Kkma"
   ]
  },
  {
   "cell_type": "code",
   "execution_count": 1,
   "metadata": {},
   "outputs": [
    {
     "name": "stdout",
     "output_type": "stream",
     "text": [
      "Collecting konlpy\n",
      "  Using cached konlpy-0.6.0-py2.py3-none-any.whl.metadata (1.9 kB)\n",
      "Collecting JPype1>=0.7.0 (from konlpy)\n",
      "  Downloading JPype1-1.5.0-cp38-cp38-win_amd64.whl.metadata (5.0 kB)\n",
      "Collecting lxml>=4.1.0 (from konlpy)\n",
      "  Downloading lxml-5.3.0-cp38-cp38-win_amd64.whl.metadata (3.9 kB)\n",
      "Requirement already satisfied: numpy>=1.6 in c:\\users\\lg\\anaconda3\\envs\\text_018_230_38\\lib\\site-packages (from konlpy) (1.24.3)\n",
      "Requirement already satisfied: packaging in c:\\users\\lg\\anaconda3\\envs\\text_018_230_38\\lib\\site-packages (from JPype1>=0.7.0->konlpy) (24.1)\n",
      "Using cached konlpy-0.6.0-py2.py3-none-any.whl (19.4 MB)\n",
      "Downloading JPype1-1.5.0-cp38-cp38-win_amd64.whl (351 kB)\n",
      "Downloading lxml-5.3.0-cp38-cp38-win_amd64.whl (3.8 MB)\n",
      "   ---------------------------------------- 0.0/3.8 MB ? eta -:--:--\n",
      "   --------------------------- ------------ 2.6/3.8 MB 13.7 MB/s eta 0:00:01\n",
      "   ---------------------------------------- 3.8/3.8 MB 13.4 MB/s eta 0:00:00\n",
      "Installing collected packages: lxml, JPype1, konlpy\n",
      "Successfully installed JPype1-1.5.0 konlpy-0.6.0 lxml-5.3.0\n",
      "Note: you may need to restart the kernel to use updated packages.\n"
     ]
    }
   ],
   "source": [
    "#%pip install konlpy"
   ]
  },
  {
   "cell_type": "code",
   "execution_count": 7,
   "metadata": {},
   "outputs": [
    {
     "name": "stdout",
     "output_type": "stream",
     "text": [
      " 영어 불용어 : 179개\n",
      "i\n",
      "me my myself we our ours ourselves you you're you've\n",
      "you'll you'd your yours yourself yourselves he him his himself\n",
      "she she's her hers herself it it's its itself they\n",
      "them their theirs themselves what which who whom this that\n",
      "that'll these those am is are was were be been\n",
      "being have has had having do does did doing a\n",
      "an the and but if or because as until while\n",
      "of at by for with about against between into through\n",
      "during before after above below to from up down in\n",
      "out on off over under again further then once here\n",
      "there when where why how all any both each few\n",
      "more most other some such no nor not only own\n",
      "same so than too very s t can will just\n",
      "don don't should should've now d ll m o re\n",
      "ve y ain aren aren't couldn couldn't didn didn't doesn\n",
      "doesn't hadn hadn't hasn hasn't haven haven't isn isn't ma\n",
      "mightn mightn't mustn mustn't needn needn't shan shan't shouldn shouldn't\n",
      "wasn wasn't weren weren't won won't wouldn wouldn't "
     ]
    }
   ],
   "source": [
    "# NLTK 제공 영어 불용어 리스트 가져오기\n",
    "english_sw=stopwords.words('english')\n",
    "\n",
    "print(f' 영어 불용어 : {len(english_sw)}개')\n",
    "for idx, _ in enumerate(english_sw):\n",
    "    print(_, end=' ' if idx%10 else '\\n')"
   ]
  },
  {
   "cell_type": "code",
   "execution_count": 12,
   "metadata": {},
   "outputs": [],
   "source": [
    "# 토큰에서 불용어 제거하기\n",
    "text=\"##Family is not an important! thing~. It's everything.\""
   ]
  },
  {
   "cell_type": "code",
   "execution_count": 13,
   "metadata": {},
   "outputs": [
    {
     "name": "stdout",
     "output_type": "stream",
     "text": [
      " punctuation - ! : ##Family is not an important thing~. It's everything.\n",
      " punctuation - \" : ##Family is not an important thing~. It's everything.\n",
      " punctuation - # : Family is not an important thing~. It's everything.\n",
      " punctuation - $ : Family is not an important thing~. It's everything.\n",
      " punctuation - % : Family is not an important thing~. It's everything.\n",
      " punctuation - & : Family is not an important thing~. It's everything.\n",
      " punctuation - ' : Family is not an important thing~. Its everything.\n",
      " punctuation - ( : Family is not an important thing~. Its everything.\n",
      " punctuation - ) : Family is not an important thing~. Its everything.\n",
      " punctuation - * : Family is not an important thing~. Its everything.\n",
      " punctuation - + : Family is not an important thing~. Its everything.\n",
      " punctuation - , : Family is not an important thing~. Its everything.\n",
      " punctuation - - : Family is not an important thing~. Its everything.\n",
      " punctuation - . : Family is not an important thing~ Its everything\n",
      " punctuation - / : Family is not an important thing~ Its everything\n",
      " punctuation - : : Family is not an important thing~ Its everything\n",
      " punctuation - ; : Family is not an important thing~ Its everything\n",
      " punctuation - < : Family is not an important thing~ Its everything\n",
      " punctuation - = : Family is not an important thing~ Its everything\n",
      " punctuation - > : Family is not an important thing~ Its everything\n",
      " punctuation - ? : Family is not an important thing~ Its everything\n",
      " punctuation - @ : Family is not an important thing~ Its everything\n",
      " punctuation - [ : Family is not an important thing~ Its everything\n",
      " punctuation - \\ : Family is not an important thing~ Its everything\n",
      " punctuation - ] : Family is not an important thing~ Its everything\n",
      " punctuation - ^ : Family is not an important thing~ Its everything\n",
      " punctuation - _ : Family is not an important thing~ Its everything\n",
      " punctuation - ` : Family is not an important thing~ Its everything\n",
      " punctuation - { : Family is not an important thing~ Its everything\n",
      " punctuation - | : Family is not an important thing~ Its everything\n",
      " punctuation - } : Family is not an important thing~ Its everything\n",
      " punctuation - ~ : Family is not an important thing Its everything\n"
     ]
    }
   ],
   "source": [
    "# 구두점 제거\n",
    "import string\n",
    "\n",
    "punct=string.punctuation\n",
    "for pun in punct:\n",
    "    text=text.replace(pun,'')\n",
    "    print(f' punctuation - {pun} : {text}')\n"
   ]
  },
  {
   "cell_type": "code",
   "execution_count": 17,
   "metadata": {},
   "outputs": [
    {
     "name": "stdout",
     "output_type": "stream",
     "text": [
      "['!', '\"', '#', '$', '%', '&', \"'\", '(', ')', '*', '+', ',', '-', '.', '/', ':', ';', '<', '=', '>', '?', '@', '[', '\\\\', ']', '^', '_', '`', '{', '|', '}', '~']\n"
     ]
    }
   ],
   "source": [
    "print(list(punct))"
   ]
  },
  {
   "cell_type": "code",
   "execution_count": 14,
   "metadata": {},
   "outputs": [
    {
     "name": "stdout",
     "output_type": "stream",
     "text": [
      "['family', 'is', 'not', 'an', 'important', 'thing', 'its', 'everything']\n"
     ]
    }
   ],
   "source": [
    "# 대소문자 통일\n",
    "text=text.lower()\n",
    "\n",
    "# 토큰화 진행\n",
    "tokens=word_tokenize(text)\n",
    "print(tokens)"
   ]
  },
  {
   "cell_type": "code",
   "execution_count": 18,
   "metadata": {},
   "outputs": [
    {
     "name": "stdout",
     "output_type": "stream",
     "text": [
      "['family', 'important', 'thing', 'everything']\n"
     ]
    }
   ],
   "source": [
    "# 불용어 제거 : 분석에 의미가 없는 토큰 제거\n",
    "for token in tokens:\n",
    "    if token in english_sw:\n",
    "        tokens.remove(token)\n",
    "    if token in list(punct):\n",
    "        token.remove(token)\n",
    "\n",
    "print(tokens)"
   ]
  },
  {
   "cell_type": "code",
   "execution_count": null,
   "metadata": {},
   "outputs": [],
   "source": []
  }
 ],
 "metadata": {
  "kernelspec": {
   "display_name": "TEXT_018_230_38",
   "language": "python",
   "name": "python3"
  },
  "language_info": {
   "codemirror_mode": {
    "name": "ipython",
    "version": 3
   },
   "file_extension": ".py",
   "mimetype": "text/x-python",
   "name": "python",
   "nbconvert_exporter": "python",
   "pygments_lexer": "ipython3",
   "version": "3.8.19"
  }
 },
 "nbformat": 4,
 "nbformat_minor": 2
}

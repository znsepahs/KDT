{
 "cells": [
  {
   "cell_type": "markdown",
   "metadata": {},
   "source": [
    "##### 자연어 처리 => 수치화 단계\n",
    "- 코퍼스/말뭉치에서 단어 사전 추출 및 수치화 진행\n",
    "    * 국소/이산수치표현 : One-Hot-Encoding, N-gram 방식\n",
    "        - 단어 하나하나 따로 수치화\n",
    "        - 희소행렬로 표현(0과 정수)\n",
    "    * 분산/연속수치표현 : Word2Vec, Doc2Vec 방식\n",
    "        - 단어 사이의 관계를 수치화\n",
    "        - 밀집행렬로 표현(다차원, 실수값)"
   ]
  },
  {
   "cell_type": "markdown",
   "metadata": {},
   "source": [
    "[1] 모듈 로딩 <hr>"
   ]
  },
  {
   "cell_type": "code",
   "execution_count": 10,
   "metadata": {},
   "outputs": [
    {
     "name": "stdout",
     "output_type": "stream",
     "text": [
      "Collecting Korpora\n",
      "  Downloading Korpora-0.2.0-py3-none-any.whl.metadata (26 kB)\n",
      "Collecting dataclasses>=0.6 (from Korpora)\n",
      "  Downloading dataclasses-0.6-py3-none-any.whl.metadata (3.0 kB)\n",
      "Requirement already satisfied: numpy>=1.18.0 in c:\\users\\lg\\anaconda3\\envs\\text_018_230_38\\lib\\site-packages (from Korpora) (1.24.3)\n",
      "Requirement already satisfied: tqdm>=4.46.0 in c:\\users\\lg\\anaconda3\\envs\\text_018_230_38\\lib\\site-packages (from Korpora) (4.66.5)\n",
      "Requirement already satisfied: requests>=2.20.0 in c:\\users\\lg\\anaconda3\\envs\\text_018_230_38\\lib\\site-packages (from Korpora) (2.32.3)\n",
      "Collecting xlrd>=1.2.0 (from Korpora)\n",
      "  Using cached xlrd-2.0.1-py2.py3-none-any.whl.metadata (3.4 kB)\n",
      "Requirement already satisfied: charset-normalizer<4,>=2 in c:\\users\\lg\\anaconda3\\envs\\text_018_230_38\\lib\\site-packages (from requests>=2.20.0->Korpora) (3.3.2)\n",
      "Requirement already satisfied: idna<4,>=2.5 in c:\\users\\lg\\anaconda3\\envs\\text_018_230_38\\lib\\site-packages (from requests>=2.20.0->Korpora) (3.7)\n",
      "Requirement already satisfied: urllib3<3,>=1.21.1 in c:\\users\\lg\\anaconda3\\envs\\text_018_230_38\\lib\\site-packages (from requests>=2.20.0->Korpora) (2.2.2)\n",
      "Requirement already satisfied: certifi>=2017.4.17 in c:\\users\\lg\\anaconda3\\envs\\text_018_230_38\\lib\\site-packages (from requests>=2.20.0->Korpora) (2024.8.30)\n",
      "Requirement already satisfied: colorama in c:\\users\\lg\\anaconda3\\envs\\text_018_230_38\\lib\\site-packages (from tqdm>=4.46.0->Korpora) (0.4.6)\n",
      "Downloading Korpora-0.2.0-py3-none-any.whl (57 kB)\n",
      "Downloading dataclasses-0.6-py3-none-any.whl (14 kB)\n",
      "Using cached xlrd-2.0.1-py2.py3-none-any.whl (96 kB)\n",
      "Installing collected packages: dataclasses, xlrd, Korpora\n",
      "Successfully installed Korpora-0.2.0 dataclasses-0.6 xlrd-2.0.1\n",
      "Note: you may need to restart the kernel to use updated packages.\n"
     ]
    }
   ],
   "source": [
    "#%pip install Korpora"
   ]
  },
  {
   "cell_type": "code",
   "execution_count": 3,
   "metadata": {},
   "outputs": [],
   "source": [
    "from sklearn.feature_extraction.text import CountVectorizer"
   ]
  },
  {
   "cell_type": "code",
   "execution_count": 4,
   "metadata": {},
   "outputs": [],
   "source": [
    "# 임의의 말뭉치/코퍼스 데이터셋\n",
    "corpus = [\n",
    "    'This is the first document.',\n",
    "    'This document is the second document.',\n",
    "    'And this is the third one.',\n",
    "    'Is this the first document?',\n",
    "]"
   ]
  },
  {
   "cell_type": "code",
   "execution_count": 7,
   "metadata": {},
   "outputs": [],
   "source": [
    "# 단어사전 생성 및 변환\n",
    "cv=CountVectorizer()\n",
    "result=cv.fit_transform(corpus)"
   ]
  },
  {
   "cell_type": "code",
   "execution_count": 8,
   "metadata": {},
   "outputs": [
    {
     "name": "stdout",
     "output_type": "stream",
     "text": [
      "[[0 1 1 1 0 0 1 0 1]\n",
      " [0 2 0 1 0 1 1 0 1]\n",
      " [1 0 0 1 1 0 1 1 1]\n",
      " [0 1 1 1 0 0 1 0 1]]\n"
     ]
    }
   ],
   "source": [
    "# 문장 => 수치화\n",
    "print(result.toarray())"
   ]
  },
  {
   "cell_type": "code",
   "execution_count": 9,
   "metadata": {},
   "outputs": [
    {
     "data": {
      "text/plain": [
       "{'this': 8,\n",
       " 'is': 3,\n",
       " 'the': 6,\n",
       " 'first': 2,\n",
       " 'document': 1,\n",
       " 'second': 5,\n",
       " 'and': 0,\n",
       " 'third': 7,\n",
       " 'one': 4}"
      ]
     },
     "execution_count": 9,
     "metadata": {},
     "output_type": "execute_result"
    }
   ],
   "source": [
    "# 생성된 단어사전\n",
    "cv.vocabulary_"
   ]
  },
  {
   "cell_type": "code",
   "execution_count": null,
   "metadata": {},
   "outputs": [],
   "source": []
  }
 ],
 "metadata": {
  "kernelspec": {
   "display_name": "TEXT_018_230_38",
   "language": "python",
   "name": "python3"
  },
  "language_info": {
   "codemirror_mode": {
    "name": "ipython",
    "version": 3
   },
   "file_extension": ".py",
   "mimetype": "text/x-python",
   "name": "python",
   "nbconvert_exporter": "python",
   "pygments_lexer": "ipython3",
   "version": "3.8.19"
  }
 },
 "nbformat": 4,
 "nbformat_minor": 2
}

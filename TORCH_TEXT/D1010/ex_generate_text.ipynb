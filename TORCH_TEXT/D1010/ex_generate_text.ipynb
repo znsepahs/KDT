{
 "cells": [
  {
   "cell_type": "markdown",
   "metadata": {},
   "source": [
    "##### 문자 생성 "
   ]
  },
  {
   "cell_type": "markdown",
   "metadata": {},
   "source": [
    "- [1] 모듈로딩 및 데이터 준비<hr>"
   ]
  },
  {
   "cell_type": "code",
   "execution_count": 1,
   "metadata": {},
   "outputs": [],
   "source": [
    "### ===> 모듈로딩\n",
    "import torch\n",
    "import torch.nn as nn\n",
    "import torch.optim as optim\n",
    "import numpy as np\n",
    "import random"
   ]
  },
  {
   "cell_type": "code",
   "execution_count": 2,
   "metadata": {},
   "outputs": [],
   "source": [
    "### ===> 데이터 준비\n",
    "text = \"To be, or not to be, that is the question. Whether 'tis nobler in the mind to suffer. \" \\\n",
    "    \"The slings and arrows of outrageous fortune, or to take arms against a sea of troubles.\"\n"
   ]
  },
  {
   "cell_type": "code",
   "execution_count": 30,
   "metadata": {},
   "outputs": [
    {
     "data": {
      "text/plain": [
       "['A', 'B', 'C']"
      ]
     },
     "execution_count": 30,
     "metadata": {},
     "output_type": "execute_result"
    }
   ],
   "source": [
    "list(\"ABC\")"
   ]
  },
  {
   "cell_type": "markdown",
   "metadata": {},
   "source": [
    "- [2] 데이터 전처리 <hr>"
   ]
  },
  {
   "cell_type": "code",
   "execution_count": 31,
   "metadata": {},
   "outputs": [
    {
     "name": "stdout",
     "output_type": "stream",
     "text": [
      "chars => [' ', \"'\", ',', '.', 'T', 'W', 'a', 'b', 'd', 'e', 'f', 'g', 'h', 'i', 'k', 'l', 'm', 'n', 'o', 'q', 'r', 's', 't', 'u', 'w']\n"
     ]
    }
   ],
   "source": [
    "### ===> 문자 집합 생성\n",
    "chars = sorted(list(set(text)))\n",
    "print(f'chars => {chars}')\n",
    "\n",
    "vocab_size = len(chars)\n",
    "\n",
    "char_to_idx = {ch: i for i, ch in enumerate(chars)}\n",
    "idx_to_char = {i: ch for i, ch in enumerate(chars)}\n"
   ]
  },
  {
   "cell_type": "code",
   "execution_count": 32,
   "metadata": {},
   "outputs": [
    {
     "name": "stdout",
     "output_type": "stream",
     "text": [
      "25\n",
      "{' ': 0, \"'\": 1, ',': 2, '.': 3, 'T': 4, 'W': 5, 'a': 6, 'b': 7, 'd': 8, 'e': 9, 'f': 10, 'g': 11, 'h': 12, 'i': 13, 'k': 14, 'l': 15, 'm': 16, 'n': 17, 'o': 18, 'q': 19, 'r': 20, 's': 21, 't': 22, 'u': 23, 'w': 24}\n"
     ]
    }
   ],
   "source": [
    "print(len(char_to_idx), char_to_idx, sep='\\n')"
   ]
  },
  {
   "cell_type": "code",
   "execution_count": 27,
   "metadata": {},
   "outputs": [],
   "source": [
    "### ===> 데이터 전처리 함수\n",
    "def prepare_data(text, sequence_length):\n",
    "    input_seq, target_seq = [], []\n",
    "    \n",
    "    # 현재 문자와 다음 문자를 입력-타겟으로 저장\n",
    "    for i in range(len(text) - sequence_length):\n",
    "        input_seq.append([char_to_idx[ch] for ch in text[i:i + sequence_length]])\n",
    "        print(f'input_seq[{i}] : {text[i:i + sequence_length]} => {input_seq[i]}')\n",
    "        \n",
    "        target_seq.append(char_to_idx[text[i + sequence_length]])\n",
    "        print(f'target_seq[{i}]: {text[i + sequence_length]} => {target_seq[i]}')\n",
    "        \n",
    "    return np.array(input_seq), np.array(target_seq)"
   ]
  },
  {
   "cell_type": "code",
   "execution_count": 34,
   "metadata": {},
   "outputs": [
    {
     "name": "stdout",
     "output_type": "stream",
     "text": [
      "input_seq[0] : To  => [4, 18, 0]\n",
      "target_seq[0]: b => 7\n",
      "input_seq[1] : o b => [18, 0, 7]\n",
      "target_seq[1]: e => 9\n",
      "input_seq[2] :  be => [0, 7, 9]\n",
      "target_seq[2]: , => 2\n",
      "input_seq[3] : be, => [7, 9, 2]\n",
      "target_seq[3]:   => 0\n",
      "input_seq[4] : e,  => [9, 2, 0]\n",
      "target_seq[4]: n => 17\n",
      "input_seq[5] : , n => [2, 0, 17]\n",
      "target_seq[5]: o => 18\n",
      "input_seq[6] :  no => [0, 17, 18]\n",
      "target_seq[6]: r => 20\n",
      "input_seq[7] : nor => [17, 18, 20]\n",
      "target_seq[7]:   => 0\n",
      "input_seq[8] : or  => [18, 20, 0]\n",
      "target_seq[8]: o => 18\n",
      "input_seq[9] : r o => [20, 0, 18]\n",
      "target_seq[9]: t => 22\n",
      "input_seq[10] :  ot => [0, 18, 22]\n",
      "target_seq[10]:   => 0\n",
      "input_seq[11] : ot  => [18, 22, 0]\n",
      "target_seq[11]: t => 22\n",
      "input_seq[12] : t t => [22, 0, 22]\n",
      "target_seq[12]: o => 18\n",
      "input_seq[13] :  to => [0, 22, 18]\n",
      "target_seq[13]:   => 0\n",
      "input_seq[14] : to  => [22, 18, 0]\n",
      "target_seq[14]: b => 7\n",
      "input_seq[15] : o b => [18, 0, 7]\n",
      "target_seq[15]: e => 9\n",
      "input_seq[16] :  be => [0, 7, 9]\n",
      "target_seq[16]: , => 2\n",
      "input_seq[17] : be, => [7, 9, 2]\n",
      "target_seq[17]:   => 0\n",
      "input_seq[18] : e,  => [9, 2, 0]\n",
      "target_seq[18]: t => 22\n",
      "input_seq[19] : , t => [2, 0, 22]\n",
      "target_seq[19]: h => 12\n",
      "input_seq[20] :  th => [0, 22, 12]\n",
      "target_seq[20]: a => 6\n",
      "input_seq[21] : tha => [22, 12, 6]\n",
      "target_seq[21]: t => 22\n",
      "input_seq[22] : hat => [12, 6, 22]\n",
      "target_seq[22]:   => 0\n",
      "input_seq[23] : at  => [6, 22, 0]\n",
      "target_seq[23]: i => 13\n",
      "input_seq[24] : t i => [22, 0, 13]\n",
      "target_seq[24]: s => 21\n",
      "input_seq[25] :  is => [0, 13, 21]\n",
      "target_seq[25]:   => 0\n",
      "input_seq[26] : is  => [13, 21, 0]\n",
      "target_seq[26]: t => 22\n",
      "input_seq[27] : s t => [21, 0, 22]\n",
      "target_seq[27]: h => 12\n",
      "input_seq[28] :  th => [0, 22, 12]\n",
      "target_seq[28]: e => 9\n",
      "input_seq[29] : the => [22, 12, 9]\n",
      "target_seq[29]:   => 0\n",
      "input_seq[30] : he  => [12, 9, 0]\n",
      "target_seq[30]: q => 19\n",
      "input_seq[31] : e q => [9, 0, 19]\n",
      "target_seq[31]: u => 23\n",
      "input_seq[32] :  qu => [0, 19, 23]\n",
      "target_seq[32]: e => 9\n",
      "input_seq[33] : que => [19, 23, 9]\n",
      "target_seq[33]: s => 21\n",
      "input_seq[34] : ues => [23, 9, 21]\n",
      "target_seq[34]: t => 22\n",
      "input_seq[35] : est => [9, 21, 22]\n",
      "target_seq[35]: i => 13\n",
      "input_seq[36] : sti => [21, 22, 13]\n",
      "target_seq[36]: o => 18\n",
      "input_seq[37] : tio => [22, 13, 18]\n",
      "target_seq[37]: n => 17\n",
      "input_seq[38] : ion => [13, 18, 17]\n",
      "target_seq[38]: . => 3\n",
      "input_seq[39] : on. => [18, 17, 3]\n",
      "target_seq[39]:   => 0\n",
      "input_seq[40] : n.  => [17, 3, 0]\n",
      "target_seq[40]: W => 5\n",
      "input_seq[41] : . W => [3, 0, 5]\n",
      "target_seq[41]: h => 12\n",
      "input_seq[42] :  Wh => [0, 5, 12]\n",
      "target_seq[42]: e => 9\n",
      "input_seq[43] : Whe => [5, 12, 9]\n",
      "target_seq[43]: t => 22\n",
      "input_seq[44] : het => [12, 9, 22]\n",
      "target_seq[44]: h => 12\n",
      "input_seq[45] : eth => [9, 22, 12]\n",
      "target_seq[45]: e => 9\n",
      "input_seq[46] : the => [22, 12, 9]\n",
      "target_seq[46]: r => 20\n",
      "input_seq[47] : her => [12, 9, 20]\n",
      "target_seq[47]:   => 0\n",
      "input_seq[48] : er  => [9, 20, 0]\n",
      "target_seq[48]: ' => 1\n",
      "input_seq[49] : r ' => [20, 0, 1]\n",
      "target_seq[49]: t => 22\n",
      "input_seq[50] :  't => [0, 1, 22]\n",
      "target_seq[50]: i => 13\n",
      "input_seq[51] : 'ti => [1, 22, 13]\n",
      "target_seq[51]: s => 21\n",
      "input_seq[52] : tis => [22, 13, 21]\n",
      "target_seq[52]:   => 0\n",
      "input_seq[53] : is  => [13, 21, 0]\n",
      "target_seq[53]: n => 17\n",
      "input_seq[54] : s n => [21, 0, 17]\n",
      "target_seq[54]: o => 18\n",
      "input_seq[55] :  no => [0, 17, 18]\n",
      "target_seq[55]: b => 7\n",
      "input_seq[56] : nob => [17, 18, 7]\n",
      "target_seq[56]: l => 15\n",
      "input_seq[57] : obl => [18, 7, 15]\n",
      "target_seq[57]: e => 9\n",
      "input_seq[58] : ble => [7, 15, 9]\n",
      "target_seq[58]: r => 20\n",
      "input_seq[59] : ler => [15, 9, 20]\n",
      "target_seq[59]:   => 0\n",
      "input_seq[60] : er  => [9, 20, 0]\n",
      "target_seq[60]: i => 13\n",
      "input_seq[61] : r i => [20, 0, 13]\n",
      "target_seq[61]: n => 17\n",
      "input_seq[62] :  in => [0, 13, 17]\n",
      "target_seq[62]:   => 0\n",
      "input_seq[63] : in  => [13, 17, 0]\n",
      "target_seq[63]: t => 22\n",
      "input_seq[64] : n t => [17, 0, 22]\n",
      "target_seq[64]: h => 12\n",
      "input_seq[65] :  th => [0, 22, 12]\n",
      "target_seq[65]: e => 9\n",
      "input_seq[66] : the => [22, 12, 9]\n",
      "target_seq[66]:   => 0\n",
      "input_seq[67] : he  => [12, 9, 0]\n",
      "target_seq[67]: m => 16\n",
      "input_seq[68] : e m => [9, 0, 16]\n",
      "target_seq[68]: i => 13\n",
      "input_seq[69] :  mi => [0, 16, 13]\n",
      "target_seq[69]: n => 17\n",
      "input_seq[70] : min => [16, 13, 17]\n",
      "target_seq[70]: d => 8\n",
      "input_seq[71] : ind => [13, 17, 8]\n",
      "target_seq[71]:   => 0\n",
      "input_seq[72] : nd  => [17, 8, 0]\n",
      "target_seq[72]: t => 22\n",
      "input_seq[73] : d t => [8, 0, 22]\n",
      "target_seq[73]: o => 18\n",
      "input_seq[74] :  to => [0, 22, 18]\n",
      "target_seq[74]:   => 0\n",
      "input_seq[75] : to  => [22, 18, 0]\n",
      "target_seq[75]: s => 21\n",
      "input_seq[76] : o s => [18, 0, 21]\n",
      "target_seq[76]: u => 23\n",
      "input_seq[77] :  su => [0, 21, 23]\n",
      "target_seq[77]: f => 10\n",
      "input_seq[78] : suf => [21, 23, 10]\n",
      "target_seq[78]: f => 10\n",
      "input_seq[79] : uff => [23, 10, 10]\n",
      "target_seq[79]: e => 9\n",
      "input_seq[80] : ffe => [10, 10, 9]\n",
      "target_seq[80]: r => 20\n",
      "input_seq[81] : fer => [10, 9, 20]\n",
      "target_seq[81]: . => 3\n",
      "input_seq[82] : er. => [9, 20, 3]\n",
      "target_seq[82]:   => 0\n",
      "input_seq[83] : r.  => [20, 3, 0]\n",
      "target_seq[83]: T => 4\n",
      "input_seq[84] : . T => [3, 0, 4]\n",
      "target_seq[84]: h => 12\n",
      "input_seq[85] :  Th => [0, 4, 12]\n",
      "target_seq[85]: e => 9\n",
      "input_seq[86] : The => [4, 12, 9]\n",
      "target_seq[86]:   => 0\n",
      "input_seq[87] : he  => [12, 9, 0]\n",
      "target_seq[87]: s => 21\n",
      "input_seq[88] : e s => [9, 0, 21]\n",
      "target_seq[88]: l => 15\n",
      "input_seq[89] :  sl => [0, 21, 15]\n",
      "target_seq[89]: i => 13\n",
      "input_seq[90] : sli => [21, 15, 13]\n",
      "target_seq[90]: n => 17\n",
      "input_seq[91] : lin => [15, 13, 17]\n",
      "target_seq[91]: g => 11\n",
      "input_seq[92] : ing => [13, 17, 11]\n",
      "target_seq[92]: s => 21\n",
      "input_seq[93] : ngs => [17, 11, 21]\n",
      "target_seq[93]:   => 0\n",
      "input_seq[94] : gs  => [11, 21, 0]\n",
      "target_seq[94]: a => 6\n",
      "input_seq[95] : s a => [21, 0, 6]\n",
      "target_seq[95]: n => 17\n",
      "input_seq[96] :  an => [0, 6, 17]\n",
      "target_seq[96]: d => 8\n",
      "input_seq[97] : and => [6, 17, 8]\n",
      "target_seq[97]:   => 0\n",
      "input_seq[98] : nd  => [17, 8, 0]\n",
      "target_seq[98]: a => 6\n",
      "input_seq[99] : d a => [8, 0, 6]\n",
      "target_seq[99]: r => 20\n",
      "input_seq[100] :  ar => [0, 6, 20]\n",
      "target_seq[100]: r => 20\n",
      "input_seq[101] : arr => [6, 20, 20]\n",
      "target_seq[101]: o => 18\n",
      "input_seq[102] : rro => [20, 20, 18]\n",
      "target_seq[102]: w => 24\n",
      "input_seq[103] : row => [20, 18, 24]\n",
      "target_seq[103]: s => 21\n",
      "input_seq[104] : ows => [18, 24, 21]\n",
      "target_seq[104]:   => 0\n",
      "input_seq[105] : ws  => [24, 21, 0]\n",
      "target_seq[105]: o => 18\n",
      "input_seq[106] : s o => [21, 0, 18]\n",
      "target_seq[106]: f => 10\n",
      "input_seq[107] :  of => [0, 18, 10]\n",
      "target_seq[107]:   => 0\n",
      "input_seq[108] : of  => [18, 10, 0]\n",
      "target_seq[108]: o => 18\n",
      "input_seq[109] : f o => [10, 0, 18]\n",
      "target_seq[109]: u => 23\n",
      "input_seq[110] :  ou => [0, 18, 23]\n",
      "target_seq[110]: t => 22\n",
      "input_seq[111] : out => [18, 23, 22]\n",
      "target_seq[111]: r => 20\n",
      "input_seq[112] : utr => [23, 22, 20]\n",
      "target_seq[112]: a => 6\n",
      "input_seq[113] : tra => [22, 20, 6]\n",
      "target_seq[113]: g => 11\n",
      "input_seq[114] : rag => [20, 6, 11]\n",
      "target_seq[114]: e => 9\n",
      "input_seq[115] : age => [6, 11, 9]\n",
      "target_seq[115]: o => 18\n",
      "input_seq[116] : geo => [11, 9, 18]\n",
      "target_seq[116]: u => 23\n",
      "input_seq[117] : eou => [9, 18, 23]\n",
      "target_seq[117]: s => 21\n",
      "input_seq[118] : ous => [18, 23, 21]\n",
      "target_seq[118]:   => 0\n",
      "input_seq[119] : us  => [23, 21, 0]\n",
      "target_seq[119]: f => 10\n",
      "input_seq[120] : s f => [21, 0, 10]\n",
      "target_seq[120]: o => 18\n",
      "input_seq[121] :  fo => [0, 10, 18]\n",
      "target_seq[121]: r => 20\n",
      "input_seq[122] : for => [10, 18, 20]\n",
      "target_seq[122]: t => 22\n",
      "input_seq[123] : ort => [18, 20, 22]\n",
      "target_seq[123]: u => 23\n",
      "input_seq[124] : rtu => [20, 22, 23]\n",
      "target_seq[124]: n => 17\n",
      "input_seq[125] : tun => [22, 23, 17]\n",
      "target_seq[125]: e => 9\n",
      "input_seq[126] : une => [23, 17, 9]\n",
      "target_seq[126]: , => 2\n",
      "input_seq[127] : ne, => [17, 9, 2]\n",
      "target_seq[127]:   => 0\n",
      "input_seq[128] : e,  => [9, 2, 0]\n",
      "target_seq[128]: o => 18\n",
      "input_seq[129] : , o => [2, 0, 18]\n",
      "target_seq[129]: r => 20\n",
      "input_seq[130] :  or => [0, 18, 20]\n",
      "target_seq[130]:   => 0\n",
      "input_seq[131] : or  => [18, 20, 0]\n",
      "target_seq[131]: t => 22\n",
      "input_seq[132] : r t => [20, 0, 22]\n",
      "target_seq[132]: o => 18\n",
      "input_seq[133] :  to => [0, 22, 18]\n",
      "target_seq[133]:   => 0\n",
      "input_seq[134] : to  => [22, 18, 0]\n",
      "target_seq[134]: t => 22\n",
      "input_seq[135] : o t => [18, 0, 22]\n",
      "target_seq[135]: a => 6\n",
      "input_seq[136] :  ta => [0, 22, 6]\n",
      "target_seq[136]: k => 14\n",
      "input_seq[137] : tak => [22, 6, 14]\n",
      "target_seq[137]: e => 9\n",
      "input_seq[138] : ake => [6, 14, 9]\n",
      "target_seq[138]:   => 0\n",
      "input_seq[139] : ke  => [14, 9, 0]\n",
      "target_seq[139]: a => 6\n",
      "input_seq[140] : e a => [9, 0, 6]\n",
      "target_seq[140]: r => 20\n",
      "input_seq[141] :  ar => [0, 6, 20]\n",
      "target_seq[141]: m => 16\n",
      "input_seq[142] : arm => [6, 20, 16]\n",
      "target_seq[142]: s => 21\n",
      "input_seq[143] : rms => [20, 16, 21]\n",
      "target_seq[143]:   => 0\n",
      "input_seq[144] : ms  => [16, 21, 0]\n",
      "target_seq[144]: a => 6\n",
      "input_seq[145] : s a => [21, 0, 6]\n",
      "target_seq[145]: g => 11\n",
      "input_seq[146] :  ag => [0, 6, 11]\n",
      "target_seq[146]: a => 6\n",
      "input_seq[147] : aga => [6, 11, 6]\n",
      "target_seq[147]: i => 13\n",
      "input_seq[148] : gai => [11, 6, 13]\n",
      "target_seq[148]: n => 17\n",
      "input_seq[149] : ain => [6, 13, 17]\n",
      "target_seq[149]: s => 21\n",
      "input_seq[150] : ins => [13, 17, 21]\n",
      "target_seq[150]: t => 22\n",
      "input_seq[151] : nst => [17, 21, 22]\n",
      "target_seq[151]:   => 0\n",
      "input_seq[152] : st  => [21, 22, 0]\n",
      "target_seq[152]: a => 6\n",
      "input_seq[153] : t a => [22, 0, 6]\n",
      "target_seq[153]:   => 0\n",
      "input_seq[154] :  a  => [0, 6, 0]\n",
      "target_seq[154]: s => 21\n",
      "input_seq[155] : a s => [6, 0, 21]\n",
      "target_seq[155]: e => 9\n",
      "input_seq[156] :  se => [0, 21, 9]\n",
      "target_seq[156]: a => 6\n",
      "input_seq[157] : sea => [21, 9, 6]\n",
      "target_seq[157]:   => 0\n",
      "input_seq[158] : ea  => [9, 6, 0]\n",
      "target_seq[158]: o => 18\n",
      "input_seq[159] : a o => [6, 0, 18]\n",
      "target_seq[159]: f => 10\n",
      "input_seq[160] :  of => [0, 18, 10]\n",
      "target_seq[160]:   => 0\n",
      "input_seq[161] : of  => [18, 10, 0]\n",
      "target_seq[161]: t => 22\n",
      "input_seq[162] : f t => [10, 0, 22]\n",
      "target_seq[162]: r => 20\n",
      "input_seq[163] :  tr => [0, 22, 20]\n",
      "target_seq[163]: o => 18\n",
      "input_seq[164] : tro => [22, 20, 18]\n",
      "target_seq[164]: u => 23\n",
      "input_seq[165] : rou => [20, 18, 23]\n",
      "target_seq[165]: b => 7\n",
      "input_seq[166] : oub => [18, 23, 7]\n",
      "target_seq[166]: l => 15\n",
      "input_seq[167] : ubl => [23, 7, 15]\n",
      "target_seq[167]: e => 9\n",
      "input_seq[168] : ble => [7, 15, 9]\n",
      "target_seq[168]: s => 21\n",
      "input_seq[169] : les => [15, 9, 21]\n",
      "target_seq[169]: . => 3\n"
     ]
    }
   ],
   "source": [
    "### ===> 테스트 \n",
    "X, y = prepare_data(text, sequence_length=3)\n",
    "text = \"To be, or not to be, that is the question. Whether 'this nobler in the mind to suffer. \" \\\n",
    "    \"The slings and arrows of outrageous fortune, or to take arms against a sea of troubles.\"\n"
   ]
  },
  {
   "cell_type": "code",
   "execution_count": 14,
   "metadata": {},
   "outputs": [],
   "source": [
    "# 텐서로 변환\n",
    "X_tensor = torch.LongTensor(X)\n",
    "y_tensor = torch.LongTensor(y)\n"
   ]
  },
  {
   "cell_type": "markdown",
   "metadata": {},
   "source": [
    "- [3] 모델 설계<hr>"
   ]
  },
  {
   "cell_type": "code",
   "execution_count": 15,
   "metadata": {},
   "outputs": [],
   "source": [
    "### ===> LSTM 모델 정의\n",
    "class LSTMModel(nn.Module):\n",
    "    def __init__(self, vocab_size, embedding_dim, hidden_dim, num_layers):\n",
    "        super(LSTMModel, self).__init__()\n",
    "        self.embedding = nn.Embedding(vocab_size, embedding_dim)\n",
    "        self.lstm = nn.LSTM(embedding_dim, hidden_dim, num_layers, batch_first=True)\n",
    "        self.fc = nn.Linear(hidden_dim, vocab_size)\n",
    "\n",
    "    def forward(self, x):\n",
    "        x = self.embedding(x)\n",
    "        out, _ = self.lstm(x)\n",
    "        out = self.fc(out[:, -1, :])  # 마지막 시퀀스 출력만 사용\n",
    "        return out\n",
    "    "
   ]
  },
  {
   "cell_type": "markdown",
   "metadata": {},
   "source": [
    "- [4]학습 준비<hr>"
   ]
  },
  {
   "cell_type": "code",
   "execution_count": 17,
   "metadata": {},
   "outputs": [],
   "source": [
    "### ===> 하이퍼파라미터 설정\n",
    "embedding_dim = 128\n",
    "hidden_dim = 256\n",
    "num_layers = 2\n",
    "sequence_length = 10\n",
    "num_epochs = 1000\n",
    "learning_rate = 0.01"
   ]
  },
  {
   "cell_type": "code",
   "execution_count": 18,
   "metadata": {},
   "outputs": [],
   "source": [
    "### ===> 모델 초기화\n",
    "model = LSTMModel(vocab_size, embedding_dim, hidden_dim, num_layers)\n",
    "criterion = nn.CrossEntropyLoss()\n",
    "optimizer = optim.Adam(model.parameters(), lr=learning_rate)\n"
   ]
  },
  {
   "cell_type": "code",
   "execution_count": 20,
   "metadata": {},
   "outputs": [],
   "source": [
    "### ===> 학습 진행 함수 \n",
    "def train():\n",
    "    for epoch in range(num_epochs):\n",
    "        model.train()\n",
    "        optimizer.zero_grad()\n",
    "        output = model(X_tensor)\n",
    "        loss = criterion(output, y_tensor)\n",
    "        loss.backward()\n",
    "        optimizer.step()\n",
    "\n",
    "        if (epoch + 1) % 100 == 0:\n",
    "            print(f'Epoch [{epoch + 1}/{num_epochs}], Loss: {loss.item():.4f}')"
   ]
  },
  {
   "cell_type": "code",
   "execution_count": 21,
   "metadata": {},
   "outputs": [],
   "source": [
    "\n",
    "# 문장 생성 함수\n",
    "def generate_text(model, start_str, gen_length=100):\n",
    "    model.eval()\n",
    "    generated = start_str\n",
    "    input_seq = [char_to_idx[ch] for ch in start_str]\n",
    "    input_tensor = torch.LongTensor(input_seq).unsqueeze(0)\n",
    "\n",
    "    with torch.no_grad():\n",
    "        for _ in range(gen_length):\n",
    "            output = model(input_tensor)\n",
    "            top_idx = output.argmax(dim=1)[0].item()  # 가장 높은 확률의 인덱스\n",
    "            generated += idx_to_char[top_idx]\n",
    "            input_seq.append(top_idx)\n",
    "            input_tensor = torch.LongTensor(input_seq[-sequence_length:]).unsqueeze(0)\n",
    "\n",
    "    return generated"
   ]
  },
  {
   "cell_type": "markdown",
   "metadata": {},
   "source": [
    "- [5] 학습진행<hr>"
   ]
  },
  {
   "cell_type": "code",
   "execution_count": 22,
   "metadata": {},
   "outputs": [
    {
     "name": "stdout",
     "output_type": "stream",
     "text": [
      "Epoch [100/1000], Loss: 0.0002\n",
      "Epoch [200/1000], Loss: 0.0001\n",
      "Epoch [300/1000], Loss: 0.0001\n",
      "Epoch [400/1000], Loss: 0.0000\n",
      "Epoch [500/1000], Loss: 0.0000\n",
      "Epoch [600/1000], Loss: 0.0000\n",
      "Epoch [700/1000], Loss: 0.0000\n",
      "Epoch [800/1000], Loss: 0.0000\n",
      "Epoch [900/1000], Loss: 0.0000\n",
      "Epoch [1000/1000], Loss: 0.0000\n"
     ]
    }
   ],
   "source": [
    "train()"
   ]
  },
  {
   "cell_type": "markdown",
   "metadata": {},
   "source": [
    "- [6] 테스트 <hr>"
   ]
  },
  {
   "cell_type": "code",
   "execution_count": 36,
   "metadata": {},
   "outputs": [
    {
     "name": "stdout",
     "output_type": "stream",
     "text": [
      "To be, that is the questi\n"
     ]
    }
   ],
   "source": [
    "### ===> 문장 생성 예시\n",
    "start_string = \"To be\"\n",
    "generated_text = generate_text(model, start_string, gen_length=20)\n",
    "\n",
    "print(generated_text)"
   ]
  }
 ],
 "metadata": {
  "kernelspec": {
   "display_name": "TORCH_NLP",
   "language": "python",
   "name": "python3"
  },
  "language_info": {
   "codemirror_mode": {
    "name": "ipython",
    "version": 3
   },
   "file_extension": ".py",
   "mimetype": "text/x-python",
   "name": "python",
   "nbconvert_exporter": "python",
   "pygments_lexer": "ipython3",
   "version": "3.8.19"
  }
 },
 "nbformat": 4,
 "nbformat_minor": 2
}

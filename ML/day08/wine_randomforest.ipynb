{
 "cells": [
  {
   "cell_type": "markdown",
   "metadata": {},
   "source": [
    "#### Ensemble - RandomForest & ExtraTree\n",
    "- 배깅 방식의 앙상블 => 중복 허용 랜덤 샘플 + 동일 모델(DT)\n",
    "    * 대표 알고리즘 : RandomForestC/R \n",
    "- 페이스트 방식의 앙상블 => 랜덤 샘플 + 동일 모델(DT)\n",
    "    * 대표 알고리즘 : ExtraTreeC/R"
   ]
  },
  {
   "cell_type": "markdown",
   "metadata": {},
   "source": [
    "[목표] 와인분류 => 2개 종류(0과 1)로 분류"
   ]
  },
  {
   "cell_type": "markdown",
   "metadata": {},
   "source": [
    "[1] 모듈 로딩 및 데이터 준비"
   ]
  },
  {
   "cell_type": "code",
   "execution_count": 40,
   "metadata": {},
   "outputs": [],
   "source": [
    "# 모듈 로딩\n",
    "import pandas as pd\n",
    "import numpy as np\n",
    "import matplotlib.pyplot as plt"
   ]
  },
  {
   "cell_type": "code",
   "execution_count": 41,
   "metadata": {},
   "outputs": [],
   "source": [
    "# 데이터\n",
    "DATA_FILE=pd.read_csv('../DATA/wine.csv')\n",
    "\n",
    "# CSV => DataFrame\n",
    "wineDF=pd.DataFrame(DATA_FILE)"
   ]
  },
  {
   "cell_type": "code",
   "execution_count": 42,
   "metadata": {},
   "outputs": [
    {
     "data": {
      "text/plain": [
       "class\n",
       "1.0    4898\n",
       "0.0    1599\n",
       "Name: count, dtype: int64"
      ]
     },
     "execution_count": 42,
     "metadata": {},
     "output_type": "execute_result"
    }
   ],
   "source": [
    "# 타겟/라벨의 클래스 분포\n",
    "wineDF['class'].value_counts()"
   ]
  },
  {
   "cell_type": "code",
   "execution_count": 43,
   "metadata": {},
   "outputs": [
    {
     "name": "stdout",
     "output_type": "stream",
     "text": [
      "alcohol의 종류 : [ 9.4         9.8        10.          9.5        10.5         9.2\n",
      "  9.9         9.1         9.3         9.          9.7        10.1\n",
      " 10.6         9.6        10.8        10.3        13.1        10.2\n",
      " 10.9        10.7        12.9        10.4        13.         14.\n",
      " 11.5        11.4        12.4        11.         12.2        12.8\n",
      " 12.6        12.5        11.7        11.3        12.3        12.\n",
      " 11.9        11.8         8.7        13.3        11.2        11.6\n",
      " 11.1        13.4        12.1         8.4        12.7        14.9\n",
      " 13.2        13.6        13.5        10.03333333  9.55        8.5\n",
      " 11.06666667  9.56666667 10.55        8.8        13.56666667 11.95\n",
      "  9.95        9.23333333  9.25        9.05       10.75        8.6\n",
      "  8.9        13.9        13.7         8.         14.2        11.94\n",
      " 12.89333333 11.46666667 10.98       11.43333333 10.53333333  9.53333333\n",
      " 10.93333333 11.36666667 11.33333333  9.73333333 11.05        9.75\n",
      " 11.35       11.45       14.05       12.33333333 12.75       13.8\n",
      " 12.15       13.05       11.26666667 10.56666667 11.73333333 11.75\n",
      " 10.65       10.96666667 10.13333333 10.15       10.46666667 11.63333333\n",
      " 12.25       11.85       11.65       13.55       13.13333333 12.06666667\n",
      " 11.55        9.63333333 12.05      ]\n",
      "\n",
      "sugar의 종류 : [ 1.9   2.6   2.3   1.8   1.6   1.2   2.    6.1   3.8   3.9   1.7   4.4\n",
      "  2.4   1.4   2.5  10.7   5.5   2.1   1.5   5.9   2.8   2.2   3.    3.4\n",
      "  5.1   4.65  1.3   7.3   7.2   2.9   2.7   5.6   3.1   3.2   3.3   3.6\n",
      "  4.    7.    6.4   3.5  11.    3.65  4.5   4.8   2.95  5.8   6.2   4.2\n",
      "  7.9   3.7   6.7   6.6   2.15  5.2   2.55 15.5   4.1   8.3   6.55  4.6\n",
      "  4.3   5.15  6.3   6.    8.6   7.5   2.25  4.25  2.85  3.45  2.35  2.65\n",
      "  9.    8.8   5.    1.65  2.05  0.9   8.9   8.1   4.7   1.75  7.8  12.9\n",
      " 13.4   5.4  15.4   3.75 13.8   5.7  13.9  20.7   6.9   8.5   1.45 19.25\n",
      "  1.1   1.    8.7  10.4  14.95 17.95  7.4  11.9  12.4   4.9  10.1  16.\n",
      "  8.2  11.8  13.3  15.9  10.5  13.5   9.6  12.1  18.9  14.4  16.5  18.75\n",
      "  9.2  12.2   6.85  7.6  13.1  15.8  15.7   8.   10.2  14.   14.5  13.\n",
      "  8.95  9.85  0.8   4.55 17.7  22.    9.4  16.1  13.2  11.6   9.7   5.3\n",
      " 17.5   9.5  17.8  10.3  14.3  15.55 13.7  11.2  16.2  19.45 13.6   7.1\n",
      "  9.1  15.6  14.2  19.8  10.6  11.3   6.8   7.7   7.85  9.3  15.15  9.9\n",
      " 12.3  14.9  12.5   9.8  18.2  18.95 12.7  20.8  15.2  10.   18.15 12.15\n",
      " 10.8  16.7  12.6  15.3  16.3  11.4  17.75 10.9  16.8  18.05 11.5  12.\n",
      "  4.75 14.7  14.8   7.35 11.1  19.3  18.6  15.   14.1   6.5  12.8  11.75\n",
      " 17.45  7.05  6.35 16.95 17.1   8.4   1.95  5.85 14.35 12.85 16.85 14.45\n",
      " 14.75  1.15 17.55 14.6  17.35 17.   14.15 17.85  4.45  1.35 19.4   8.65\n",
      " 23.5  11.7   3.95 31.6  18.35  1.55 19.5   1.05 19.6   9.25  9.05 15.1\n",
      " 16.05 18.3  17.2  16.6  16.65  5.25 17.3   0.6   8.45 16.9  10.65  8.75\n",
      " 18.8  16.75 15.75 12.05 11.95 16.45 19.1  19.35  4.85 19.95 18.1   0.7\n",
      " 20.4   0.95  5.95  9.65 16.4   7.45 10.05 65.8  20.2   1.25  7.75  5.45\n",
      " 14.05 10.55  8.25 17.6   6.75 12.75  8.55  4.35 13.65  6.65 13.55 11.25\n",
      "  5.55  6.95  9.55 20.15 14.55 15.25  3.15 18.5   5.35  3.85  8.15 19.9\n",
      "  7.25 26.05 17.4  16.55  7.95 17.9  18.   13.15 20.3  11.45 17.05  9.15\n",
      " 22.6   1.85 12.55 18.4 ]\n",
      "\n",
      "pH의 종류 : [3.51 3.2  3.26 3.16 3.3  3.39 3.36 3.35 3.28 3.58 3.17 3.11 3.38 3.04\n",
      " 3.52 3.43 3.34 3.47 3.46 3.45 3.4  3.42 3.23 3.5  3.33 3.21 3.48 3.9\n",
      " 3.25 3.32 3.15 3.41 3.44 3.31 3.54 3.13 2.93 3.14 3.75 3.85 3.29 3.08\n",
      " 3.37 3.19 3.07 3.49 3.53 3.24 3.63 3.22 3.68 2.74 3.59 3.   3.12 3.57\n",
      " 3.61 3.06 3.6  3.69 3.1  3.05 3.67 3.27 3.18 3.02 3.55 2.99 3.01 3.56\n",
      " 3.03 3.62 2.88 2.95 2.98 3.09 2.86 3.74 2.92 3.72 2.87 2.89 2.94 3.66\n",
      " 3.71 3.78 3.7  4.01 2.9  2.96 2.97 3.64 2.85 3.82 3.81 3.65 3.77 2.91\n",
      " 2.8  2.72 2.79 3.8  2.77 3.79 2.84 3.76 2.83 2.82]\n",
      "\n",
      "class의 종류 : [0. 1.]\n",
      "\n"
     ]
    }
   ],
   "source": [
    "for i in wineDF.columns:\n",
    "    print(f\"{i}의 종류 : {wineDF[i].unique()}\\n\")"
   ]
  },
  {
   "cell_type": "markdown",
   "metadata": {},
   "source": [
    "[2] 학습 준비"
   ]
  },
  {
   "cell_type": "code",
   "execution_count": 44,
   "metadata": {},
   "outputs": [
    {
     "name": "stdout",
     "output_type": "stream",
     "text": [
      "featureDF : (6497, 3)  targetSR : (6497,)\n"
     ]
    }
   ],
   "source": [
    "# 피쳐/독립변수와 타겟/라벨/종속변수 분리\n",
    "from sklearn.model_selection import train_test_split\n",
    "\n",
    "featureDF=wineDF[wineDF.columns[:-1]]\n",
    "targetSR=wineDF[wineDF.columns[-1]]\n",
    "\n",
    "print(f'featureDF : {featureDF.shape}  targetSR : {targetSR.shape}')"
   ]
  },
  {
   "cell_type": "code",
   "execution_count": 45,
   "metadata": {},
   "outputs": [],
   "source": [
    "# 학습용 & 테스트용 데이터셋 분할\n",
    "X_train, X_test, y_train, y_test=train_test_split(featureDF, targetSR, test_size=0.2 , stratify=targetSR , random_state=1)"
   ]
  },
  {
   "cell_type": "code",
   "execution_count": 46,
   "metadata": {},
   "outputs": [
    {
     "name": "stdout",
     "output_type": "stream",
     "text": [
      "X_train : (5197, 3)  targetSR : (5197,)\n",
      "X_test : (1300, 3)  targetSR : (1300,)\n"
     ]
    }
   ],
   "source": [
    "print(f'X_train : {X_train.shape}  targetSR : {y_train.shape}')\n",
    "print(f'X_test : {X_test.shape}  targetSR : {y_test.shape}')"
   ]
  },
  {
   "cell_type": "markdown",
   "metadata": {},
   "source": [
    "[3] 학습 진행\n",
    "- 학습방법 : 지도학습 > 분류\n",
    "- 알고리즘 : 앙상블 > 배깅 - RandomForestClassifier"
   ]
  },
  {
   "cell_type": "code",
   "execution_count": 47,
   "metadata": {},
   "outputs": [],
   "source": [
    "from sklearn.ensemble import RandomForestClassifier"
   ]
  },
  {
   "cell_type": "code",
   "execution_count": 48,
   "metadata": {},
   "outputs": [
    {
     "data": {
      "text/html": [
       "<style>#sk-container-id-6 {color: black;}#sk-container-id-6 pre{padding: 0;}#sk-container-id-6 div.sk-toggleable {background-color: white;}#sk-container-id-6 label.sk-toggleable__label {cursor: pointer;display: block;width: 100%;margin-bottom: 0;padding: 0.3em;box-sizing: border-box;text-align: center;}#sk-container-id-6 label.sk-toggleable__label-arrow:before {content: \"▸\";float: left;margin-right: 0.25em;color: #696969;}#sk-container-id-6 label.sk-toggleable__label-arrow:hover:before {color: black;}#sk-container-id-6 div.sk-estimator:hover label.sk-toggleable__label-arrow:before {color: black;}#sk-container-id-6 div.sk-toggleable__content {max-height: 0;max-width: 0;overflow: hidden;text-align: left;background-color: #f0f8ff;}#sk-container-id-6 div.sk-toggleable__content pre {margin: 0.2em;color: black;border-radius: 0.25em;background-color: #f0f8ff;}#sk-container-id-6 input.sk-toggleable__control:checked~div.sk-toggleable__content {max-height: 200px;max-width: 100%;overflow: auto;}#sk-container-id-6 input.sk-toggleable__control:checked~label.sk-toggleable__label-arrow:before {content: \"▾\";}#sk-container-id-6 div.sk-estimator input.sk-toggleable__control:checked~label.sk-toggleable__label {background-color: #d4ebff;}#sk-container-id-6 div.sk-label input.sk-toggleable__control:checked~label.sk-toggleable__label {background-color: #d4ebff;}#sk-container-id-6 input.sk-hidden--visually {border: 0;clip: rect(1px 1px 1px 1px);clip: rect(1px, 1px, 1px, 1px);height: 1px;margin: -1px;overflow: hidden;padding: 0;position: absolute;width: 1px;}#sk-container-id-6 div.sk-estimator {font-family: monospace;background-color: #f0f8ff;border: 1px dotted black;border-radius: 0.25em;box-sizing: border-box;margin-bottom: 0.5em;}#sk-container-id-6 div.sk-estimator:hover {background-color: #d4ebff;}#sk-container-id-6 div.sk-parallel-item::after {content: \"\";width: 100%;border-bottom: 1px solid gray;flex-grow: 1;}#sk-container-id-6 div.sk-label:hover label.sk-toggleable__label {background-color: #d4ebff;}#sk-container-id-6 div.sk-serial::before {content: \"\";position: absolute;border-left: 1px solid gray;box-sizing: border-box;top: 0;bottom: 0;left: 50%;z-index: 0;}#sk-container-id-6 div.sk-serial {display: flex;flex-direction: column;align-items: center;background-color: white;padding-right: 0.2em;padding-left: 0.2em;position: relative;}#sk-container-id-6 div.sk-item {position: relative;z-index: 1;}#sk-container-id-6 div.sk-parallel {display: flex;align-items: stretch;justify-content: center;background-color: white;position: relative;}#sk-container-id-6 div.sk-item::before, #sk-container-id-6 div.sk-parallel-item::before {content: \"\";position: absolute;border-left: 1px solid gray;box-sizing: border-box;top: 0;bottom: 0;left: 50%;z-index: -1;}#sk-container-id-6 div.sk-parallel-item {display: flex;flex-direction: column;z-index: 1;position: relative;background-color: white;}#sk-container-id-6 div.sk-parallel-item:first-child::after {align-self: flex-end;width: 50%;}#sk-container-id-6 div.sk-parallel-item:last-child::after {align-self: flex-start;width: 50%;}#sk-container-id-6 div.sk-parallel-item:only-child::after {width: 0;}#sk-container-id-6 div.sk-dashed-wrapped {border: 1px dashed gray;margin: 0 0.4em 0.5em 0.4em;box-sizing: border-box;padding-bottom: 0.4em;background-color: white;}#sk-container-id-6 div.sk-label label {font-family: monospace;font-weight: bold;display: inline-block;line-height: 1.2em;}#sk-container-id-6 div.sk-label-container {text-align: center;}#sk-container-id-6 div.sk-container {/* jupyter's `normalize.less` sets `[hidden] { display: none; }` but bootstrap.min.css set `[hidden] { display: none !important; }` so we also need the `!important` here to be able to override the default hidden behavior on the sphinx rendered scikit-learn.org. See: https://github.com/scikit-learn/scikit-learn/issues/21755 */display: inline-block !important;position: relative;}#sk-container-id-6 div.sk-text-repr-fallback {display: none;}</style><div id=\"sk-container-id-6\" class=\"sk-top-container\"><div class=\"sk-text-repr-fallback\"><pre>RandomForestClassifier(oob_score=True, random_state=7)</pre><b>In a Jupyter environment, please rerun this cell to show the HTML representation or trust the notebook. <br />On GitHub, the HTML representation is unable to render, please try loading this page with nbviewer.org.</b></div><div class=\"sk-container\" hidden><div class=\"sk-item\"><div class=\"sk-estimator sk-toggleable\"><input class=\"sk-toggleable__control sk-hidden--visually\" id=\"sk-estimator-id-8\" type=\"checkbox\" checked><label for=\"sk-estimator-id-8\" class=\"sk-toggleable__label sk-toggleable__label-arrow\">RandomForestClassifier</label><div class=\"sk-toggleable__content\"><pre>RandomForestClassifier(oob_score=True, random_state=7)</pre></div></div></div></div></div>"
      ],
      "text/plain": [
       "RandomForestClassifier(oob_score=True, random_state=7)"
      ]
     },
     "execution_count": 48,
     "metadata": {},
     "output_type": "execute_result"
    }
   ],
   "source": [
    "# 인스턴스 생성 => 100개의 내부 DT 모델에서 사용할 데이터셋 생성. random_state 매개변수 설정으로 고정된 데이터셋 생성\n",
    "#                 ood_score 매개변수 : 샘플 데이터셋 추출 후 남은 데이터셋 검증용으로 사용\n",
    "lf_model=RandomForestClassifier(random_state=7, oob_score=True)\n",
    "\n",
    "# 학습\n",
    "lf_model.fit(X_train, y_train)"
   ]
  },
  {
   "cell_type": "code",
   "execution_count": 49,
   "metadata": {},
   "outputs": [
    {
     "name": "stdout",
     "output_type": "stream",
     "text": [
      "classes_ : [0. 1.]\n",
      "n_classes_ : 2개\n",
      "\n",
      "feature_names_in_ : ['alcohol' 'sugar' 'pH']\n",
      "n_features_in_ : 3\n",
      "feature_importances_ : [0.23572103 0.49995154 0.26432743]\n"
     ]
    }
   ],
   "source": [
    "# 모델 파라미터\n",
    "print(f'classes_ : {lf_model.classes_}')\n",
    "print(f'n_classes_ : {lf_model.n_classes_}개')\n",
    "print()\n",
    "print(f'feature_names_in_ : {lf_model.feature_names_in_}')\n",
    "print(f'n_features_in_ : {lf_model.n_features_in_}')\n",
    "print(f'feature_importances_ : {lf_model.feature_importances_}')"
   ]
  },
  {
   "cell_type": "code",
   "execution_count": 50,
   "metadata": {},
   "outputs": [
    {
     "name": "stdout",
     "output_type": "stream",
     "text": [
      "classes_ : DecisionTreeClassifier()\n",
      "DecisionTreeClassifier(max_features='sqrt', random_state=327741615)\n",
      "DecisionTreeClassifier(max_features='sqrt', random_state=976413892)\n",
      "DecisionTreeClassifier(max_features='sqrt', random_state=1202242073)\n",
      "DecisionTreeClassifier(max_features='sqrt', random_state=1369975286)\n",
      "DecisionTreeClassifier(max_features='sqrt', random_state=1882953283)\n",
      "DecisionTreeClassifier(max_features='sqrt', random_state=2053951699)\n",
      "DecisionTreeClassifier(max_features='sqrt', random_state=959775639)\n",
      "DecisionTreeClassifier(max_features='sqrt', random_state=1956722279)\n",
      "DecisionTreeClassifier(max_features='sqrt', random_state=2052949340)\n",
      "DecisionTreeClassifier(max_features='sqrt', random_state=1322904761)\n",
      "DecisionTreeClassifier(max_features='sqrt', random_state=165338510)\n",
      "DecisionTreeClassifier(max_features='sqrt', random_state=1133316631)\n",
      "DecisionTreeClassifier(max_features='sqrt', random_state=4812360)\n",
      "DecisionTreeClassifier(max_features='sqrt', random_state=372560217)\n",
      "DecisionTreeClassifier(max_features='sqrt', random_state=309457262)\n",
      "DecisionTreeClassifier(max_features='sqrt', random_state=1801189930)\n",
      "DecisionTreeClassifier(max_features='sqrt', random_state=1152936666)\n",
      "DecisionTreeClassifier(max_features='sqrt', random_state=68334472)\n",
      "DecisionTreeClassifier(max_features='sqrt', random_state=2146978983)\n",
      "DecisionTreeClassifier(max_features='sqrt', random_state=119248870)\n",
      "DecisionTreeClassifier(max_features='sqrt', random_state=769786948)\n",
      "DecisionTreeClassifier(max_features='sqrt', random_state=1583990192)\n",
      "DecisionTreeClassifier(max_features='sqrt', random_state=1304549247)\n",
      "DecisionTreeClassifier(max_features='sqrt', random_state=1420943751)\n",
      "DecisionTreeClassifier(max_features='sqrt', random_state=1636129708)\n",
      "DecisionTreeClassifier(max_features='sqrt', random_state=1687674368)\n",
      "DecisionTreeClassifier(max_features='sqrt', random_state=283194443)\n",
      "DecisionTreeClassifier(max_features='sqrt', random_state=748743479)\n",
      "DecisionTreeClassifier(max_features='sqrt', random_state=1237575930)\n",
      "DecisionTreeClassifier(max_features='sqrt', random_state=740097030)\n",
      "DecisionTreeClassifier(max_features='sqrt', random_state=1759190803)\n",
      "DecisionTreeClassifier(max_features='sqrt', random_state=833359292)\n",
      "DecisionTreeClassifier(max_features='sqrt', random_state=916483116)\n",
      "DecisionTreeClassifier(max_features='sqrt', random_state=1485942463)\n",
      "DecisionTreeClassifier(max_features='sqrt', random_state=1941857605)\n",
      "DecisionTreeClassifier(max_features='sqrt', random_state=1844809528)\n",
      "DecisionTreeClassifier(max_features='sqrt', random_state=1852015768)\n",
      "DecisionTreeClassifier(max_features='sqrt', random_state=1127788727)\n",
      "DecisionTreeClassifier(max_features='sqrt', random_state=106941365)\n",
      "DecisionTreeClassifier(max_features='sqrt', random_state=1077017712)\n",
      "DecisionTreeClassifier(max_features='sqrt', random_state=431854331)\n",
      "DecisionTreeClassifier(max_features='sqrt', random_state=1094761661)\n",
      "DecisionTreeClassifier(max_features='sqrt', random_state=1933291456)\n",
      "DecisionTreeClassifier(max_features='sqrt', random_state=1508798754)\n",
      "DecisionTreeClassifier(max_features='sqrt', random_state=989143352)\n",
      "DecisionTreeClassifier(max_features='sqrt', random_state=747550921)\n",
      "DecisionTreeClassifier(max_features='sqrt', random_state=208262606)\n",
      "DecisionTreeClassifier(max_features='sqrt', random_state=1248819750)\n",
      "DecisionTreeClassifier(max_features='sqrt', random_state=1757192964)\n",
      "DecisionTreeClassifier(max_features='sqrt', random_state=1879603694)\n",
      "DecisionTreeClassifier(max_features='sqrt', random_state=571958409)\n",
      "DecisionTreeClassifier(max_features='sqrt', random_state=1927692119)\n",
      "DecisionTreeClassifier(max_features='sqrt', random_state=100556259)\n",
      "DecisionTreeClassifier(max_features='sqrt', random_state=1652057283)\n",
      "DecisionTreeClassifier(max_features='sqrt', random_state=1075502152)\n",
      "DecisionTreeClassifier(max_features='sqrt', random_state=1535344467)\n",
      "DecisionTreeClassifier(max_features='sqrt', random_state=725906352)\n",
      "DecisionTreeClassifier(max_features='sqrt', random_state=830456065)\n",
      "DecisionTreeClassifier(max_features='sqrt', random_state=2008983232)\n",
      "DecisionTreeClassifier(max_features='sqrt', random_state=431532432)\n",
      "DecisionTreeClassifier(max_features='sqrt', random_state=879820150)\n",
      "DecisionTreeClassifier(max_features='sqrt', random_state=2072909727)\n",
      "DecisionTreeClassifier(max_features='sqrt', random_state=2107823453)\n",
      "DecisionTreeClassifier(max_features='sqrt', random_state=488352684)\n",
      "DecisionTreeClassifier(max_features='sqrt', random_state=1599380060)\n",
      "DecisionTreeClassifier(max_features='sqrt', random_state=1938096892)\n",
      "DecisionTreeClassifier(max_features='sqrt', random_state=2050422343)\n",
      "DecisionTreeClassifier(max_features='sqrt', random_state=1497897239)\n",
      "DecisionTreeClassifier(max_features='sqrt', random_state=1571487242)\n",
      "DecisionTreeClassifier(max_features='sqrt', random_state=1187621609)\n",
      "DecisionTreeClassifier(max_features='sqrt', random_state=1451346723)\n",
      "DecisionTreeClassifier(max_features='sqrt', random_state=1917728192)\n",
      "DecisionTreeClassifier(max_features='sqrt', random_state=1153832253)\n",
      "DecisionTreeClassifier(max_features='sqrt', random_state=1966724487)\n",
      "DecisionTreeClassifier(max_features='sqrt', random_state=1348596887)\n",
      "DecisionTreeClassifier(max_features='sqrt', random_state=771276892)\n",
      "DecisionTreeClassifier(max_features='sqrt', random_state=311923447)\n",
      "DecisionTreeClassifier(max_features='sqrt', random_state=612959456)\n",
      "DecisionTreeClassifier(max_features='sqrt', random_state=1185621653)\n",
      "DecisionTreeClassifier(max_features='sqrt', random_state=358664548)\n",
      "DecisionTreeClassifier(max_features='sqrt', random_state=1944945571)\n",
      "DecisionTreeClassifier(max_features='sqrt', random_state=202873313)\n",
      "DecisionTreeClassifier(max_features='sqrt', random_state=1516030531)\n",
      "DecisionTreeClassifier(max_features='sqrt', random_state=1332338555)\n",
      "DecisionTreeClassifier(max_features='sqrt', random_state=676025563)\n",
      "DecisionTreeClassifier(max_features='sqrt', random_state=1214271969)\n",
      "DecisionTreeClassifier(max_features='sqrt', random_state=1590645779)\n",
      "DecisionTreeClassifier(max_features='sqrt', random_state=1808153499)\n",
      "DecisionTreeClassifier(max_features='sqrt', random_state=1971789316)\n",
      "DecisionTreeClassifier(max_features='sqrt', random_state=1861190419)\n",
      "DecisionTreeClassifier(max_features='sqrt', random_state=941989921)\n",
      "DecisionTreeClassifier(max_features='sqrt', random_state=1798548603)\n",
      "DecisionTreeClassifier(max_features='sqrt', random_state=1773786398)\n",
      "DecisionTreeClassifier(max_features='sqrt', random_state=2088312505)\n",
      "DecisionTreeClassifier(max_features='sqrt', random_state=1745574629)\n",
      "DecisionTreeClassifier(max_features='sqrt', random_state=1260873545)\n",
      "DecisionTreeClassifier(max_features='sqrt', random_state=775033821)\n",
      "DecisionTreeClassifier(max_features='sqrt', random_state=1474484177)\n",
      "DecisionTreeClassifier(max_features='sqrt', random_state=1035597695)\n",
      "DecisionTreeClassifier(max_features='sqrt', random_state=1289946527)\n"
     ]
    }
   ],
   "source": [
    "# 모델 파라미터\n",
    "print(f'classes_ : {lf_model.estimator_}')\n",
    "for est in lf_model.estimators_: print(est)"
   ]
  },
  {
   "cell_type": "code",
   "execution_count": 51,
   "metadata": {},
   "outputs": [
    {
     "name": "stdout",
     "output_type": "stream",
     "text": [
      "oob_score_ : 0.89532422551472\n"
     ]
    }
   ],
   "source": [
    "print(f'oob_score_ : {lf_model.oob_score_}')"
   ]
  },
  {
   "cell_type": "markdown",
   "metadata": {},
   "source": [
    "[4] 성능 평가"
   ]
  },
  {
   "cell_type": "code",
   "execution_count": 52,
   "metadata": {},
   "outputs": [],
   "source": [
    "train_score=lf_model.score(X_train, y_train)\n",
    "test_score=lf_model.score(X_test, y_test)"
   ]
  },
  {
   "cell_type": "code",
   "execution_count": 53,
   "metadata": {},
   "outputs": [
    {
     "name": "stdout",
     "output_type": "stream",
     "text": [
      "train_score : 0.9973061381566288 test_score : 0.9\n"
     ]
    }
   ],
   "source": [
    "print(f'train_score : {train_score} test_score : {test_score}')"
   ]
  },
  {
   "cell_type": "markdown",
   "metadata": {},
   "source": [
    "[5] 튜닝"
   ]
  },
  {
   "cell_type": "markdown",
   "metadata": {},
   "source": [
    "- RandomizedSearchCV 하이퍼 파라미터 최적화 클래스\n",
    "    * 범위가 넓은 하이퍼 파라미터 설정에 좋음\n",
    "    * 지정된 범위에서 지정된 횟수 만큼 하이퍼 파라미터를 추출하여 조합 진행"
   ]
  },
  {
   "cell_type": "code",
   "execution_count": 54,
   "metadata": {},
   "outputs": [],
   "source": [
    "# 모듈 로딩\n",
    "from sklearn.model_selection import RandomizedSearchCV"
   ]
  },
  {
   "cell_type": "code",
   "execution_count": 55,
   "metadata": {},
   "outputs": [],
   "source": [
    "# RandomForestClassifier 하이퍼 파라미터 설정\n",
    "params={'max_depth': range(2,15), 'min_samples_leaf': range(5,16), 'criterion': ['gini','entropy','log_loss']}"
   ]
  },
  {
   "cell_type": "code",
   "execution_count": 56,
   "metadata": {},
   "outputs": [],
   "source": [
    "rf_model=RandomForestClassifier(random_state=7)"
   ]
  },
  {
   "cell_type": "code",
   "execution_count": 57,
   "metadata": {},
   "outputs": [],
   "source": [
    "searchCV=RandomizedSearchCV(rf_model, param_distributions=params)"
   ]
  },
  {
   "cell_type": "code",
   "execution_count": 58,
   "metadata": {},
   "outputs": [
    {
     "data": {
      "text/html": [
       "<style>#sk-container-id-7 {color: black;}#sk-container-id-7 pre{padding: 0;}#sk-container-id-7 div.sk-toggleable {background-color: white;}#sk-container-id-7 label.sk-toggleable__label {cursor: pointer;display: block;width: 100%;margin-bottom: 0;padding: 0.3em;box-sizing: border-box;text-align: center;}#sk-container-id-7 label.sk-toggleable__label-arrow:before {content: \"▸\";float: left;margin-right: 0.25em;color: #696969;}#sk-container-id-7 label.sk-toggleable__label-arrow:hover:before {color: black;}#sk-container-id-7 div.sk-estimator:hover label.sk-toggleable__label-arrow:before {color: black;}#sk-container-id-7 div.sk-toggleable__content {max-height: 0;max-width: 0;overflow: hidden;text-align: left;background-color: #f0f8ff;}#sk-container-id-7 div.sk-toggleable__content pre {margin: 0.2em;color: black;border-radius: 0.25em;background-color: #f0f8ff;}#sk-container-id-7 input.sk-toggleable__control:checked~div.sk-toggleable__content {max-height: 200px;max-width: 100%;overflow: auto;}#sk-container-id-7 input.sk-toggleable__control:checked~label.sk-toggleable__label-arrow:before {content: \"▾\";}#sk-container-id-7 div.sk-estimator input.sk-toggleable__control:checked~label.sk-toggleable__label {background-color: #d4ebff;}#sk-container-id-7 div.sk-label input.sk-toggleable__control:checked~label.sk-toggleable__label {background-color: #d4ebff;}#sk-container-id-7 input.sk-hidden--visually {border: 0;clip: rect(1px 1px 1px 1px);clip: rect(1px, 1px, 1px, 1px);height: 1px;margin: -1px;overflow: hidden;padding: 0;position: absolute;width: 1px;}#sk-container-id-7 div.sk-estimator {font-family: monospace;background-color: #f0f8ff;border: 1px dotted black;border-radius: 0.25em;box-sizing: border-box;margin-bottom: 0.5em;}#sk-container-id-7 div.sk-estimator:hover {background-color: #d4ebff;}#sk-container-id-7 div.sk-parallel-item::after {content: \"\";width: 100%;border-bottom: 1px solid gray;flex-grow: 1;}#sk-container-id-7 div.sk-label:hover label.sk-toggleable__label {background-color: #d4ebff;}#sk-container-id-7 div.sk-serial::before {content: \"\";position: absolute;border-left: 1px solid gray;box-sizing: border-box;top: 0;bottom: 0;left: 50%;z-index: 0;}#sk-container-id-7 div.sk-serial {display: flex;flex-direction: column;align-items: center;background-color: white;padding-right: 0.2em;padding-left: 0.2em;position: relative;}#sk-container-id-7 div.sk-item {position: relative;z-index: 1;}#sk-container-id-7 div.sk-parallel {display: flex;align-items: stretch;justify-content: center;background-color: white;position: relative;}#sk-container-id-7 div.sk-item::before, #sk-container-id-7 div.sk-parallel-item::before {content: \"\";position: absolute;border-left: 1px solid gray;box-sizing: border-box;top: 0;bottom: 0;left: 50%;z-index: -1;}#sk-container-id-7 div.sk-parallel-item {display: flex;flex-direction: column;z-index: 1;position: relative;background-color: white;}#sk-container-id-7 div.sk-parallel-item:first-child::after {align-self: flex-end;width: 50%;}#sk-container-id-7 div.sk-parallel-item:last-child::after {align-self: flex-start;width: 50%;}#sk-container-id-7 div.sk-parallel-item:only-child::after {width: 0;}#sk-container-id-7 div.sk-dashed-wrapped {border: 1px dashed gray;margin: 0 0.4em 0.5em 0.4em;box-sizing: border-box;padding-bottom: 0.4em;background-color: white;}#sk-container-id-7 div.sk-label label {font-family: monospace;font-weight: bold;display: inline-block;line-height: 1.2em;}#sk-container-id-7 div.sk-label-container {text-align: center;}#sk-container-id-7 div.sk-container {/* jupyter's `normalize.less` sets `[hidden] { display: none; }` but bootstrap.min.css set `[hidden] { display: none !important; }` so we also need the `!important` here to be able to override the default hidden behavior on the sphinx rendered scikit-learn.org. See: https://github.com/scikit-learn/scikit-learn/issues/21755 */display: inline-block !important;position: relative;}#sk-container-id-7 div.sk-text-repr-fallback {display: none;}</style><div id=\"sk-container-id-7\" class=\"sk-top-container\"><div class=\"sk-text-repr-fallback\"><pre>RandomizedSearchCV(estimator=RandomForestClassifier(random_state=7),\n",
       "                   param_distributions={&#x27;criterion&#x27;: [&#x27;gini&#x27;, &#x27;entropy&#x27;,\n",
       "                                                      &#x27;log_loss&#x27;],\n",
       "                                        &#x27;max_depth&#x27;: range(2, 15),\n",
       "                                        &#x27;min_samples_leaf&#x27;: range(5, 16)})</pre><b>In a Jupyter environment, please rerun this cell to show the HTML representation or trust the notebook. <br />On GitHub, the HTML representation is unable to render, please try loading this page with nbviewer.org.</b></div><div class=\"sk-container\" hidden><div class=\"sk-item sk-dashed-wrapped\"><div class=\"sk-label-container\"><div class=\"sk-label sk-toggleable\"><input class=\"sk-toggleable__control sk-hidden--visually\" id=\"sk-estimator-id-9\" type=\"checkbox\" ><label for=\"sk-estimator-id-9\" class=\"sk-toggleable__label sk-toggleable__label-arrow\">RandomizedSearchCV</label><div class=\"sk-toggleable__content\"><pre>RandomizedSearchCV(estimator=RandomForestClassifier(random_state=7),\n",
       "                   param_distributions={&#x27;criterion&#x27;: [&#x27;gini&#x27;, &#x27;entropy&#x27;,\n",
       "                                                      &#x27;log_loss&#x27;],\n",
       "                                        &#x27;max_depth&#x27;: range(2, 15),\n",
       "                                        &#x27;min_samples_leaf&#x27;: range(5, 16)})</pre></div></div></div><div class=\"sk-parallel\"><div class=\"sk-parallel-item\"><div class=\"sk-item\"><div class=\"sk-label-container\"><div class=\"sk-label sk-toggleable\"><input class=\"sk-toggleable__control sk-hidden--visually\" id=\"sk-estimator-id-10\" type=\"checkbox\" ><label for=\"sk-estimator-id-10\" class=\"sk-toggleable__label sk-toggleable__label-arrow\">estimator: RandomForestClassifier</label><div class=\"sk-toggleable__content\"><pre>RandomForestClassifier(random_state=7)</pre></div></div></div><div class=\"sk-serial\"><div class=\"sk-item\"><div class=\"sk-estimator sk-toggleable\"><input class=\"sk-toggleable__control sk-hidden--visually\" id=\"sk-estimator-id-11\" type=\"checkbox\" ><label for=\"sk-estimator-id-11\" class=\"sk-toggleable__label sk-toggleable__label-arrow\">RandomForestClassifier</label><div class=\"sk-toggleable__content\"><pre>RandomForestClassifier(random_state=7)</pre></div></div></div></div></div></div></div></div></div></div>"
      ],
      "text/plain": [
       "RandomizedSearchCV(estimator=RandomForestClassifier(random_state=7),\n",
       "                   param_distributions={'criterion': ['gini', 'entropy',\n",
       "                                                      'log_loss'],\n",
       "                                        'max_depth': range(2, 15),\n",
       "                                        'min_samples_leaf': range(5, 16)})"
      ]
     },
     "execution_count": 58,
     "metadata": {},
     "output_type": "execute_result"
    }
   ],
   "source": [
    "searchCV.fit(X_train, y_train)"
   ]
  },
  {
   "cell_type": "code",
   "execution_count": 59,
   "metadata": {},
   "outputs": [
    {
     "name": "stdout",
     "output_type": "stream",
     "text": [
      "[searchCV.best_score_] 0.8714701636188643\n",
      "[searchCV.best_params_] {'min_samples_leaf': 10, 'max_depth': 14, 'criterion': 'entropy'}\n",
      "[searchCV.best_estimator_] RandomForestClassifier(criterion='entropy', max_depth=14, min_samples_leaf=10,\n",
      "                       random_state=7)\n"
     ]
    },
    {
     "data": {
      "text/html": [
       "<div>\n",
       "<style scoped>\n",
       "    .dataframe tbody tr th:only-of-type {\n",
       "        vertical-align: middle;\n",
       "    }\n",
       "\n",
       "    .dataframe tbody tr th {\n",
       "        vertical-align: top;\n",
       "    }\n",
       "\n",
       "    .dataframe thead th {\n",
       "        text-align: right;\n",
       "    }\n",
       "</style>\n",
       "<table border=\"1\" class=\"dataframe\">\n",
       "  <thead>\n",
       "    <tr style=\"text-align: right;\">\n",
       "      <th></th>\n",
       "      <th>mean_fit_time</th>\n",
       "      <th>std_fit_time</th>\n",
       "      <th>mean_score_time</th>\n",
       "      <th>std_score_time</th>\n",
       "      <th>param_min_samples_leaf</th>\n",
       "      <th>param_max_depth</th>\n",
       "      <th>param_criterion</th>\n",
       "      <th>params</th>\n",
       "      <th>split0_test_score</th>\n",
       "      <th>split1_test_score</th>\n",
       "      <th>split2_test_score</th>\n",
       "      <th>split3_test_score</th>\n",
       "      <th>split4_test_score</th>\n",
       "      <th>mean_test_score</th>\n",
       "      <th>std_test_score</th>\n",
       "      <th>rank_test_score</th>\n",
       "    </tr>\n",
       "  </thead>\n",
       "  <tbody>\n",
       "    <tr>\n",
       "      <th>0</th>\n",
       "      <td>0.144261</td>\n",
       "      <td>0.013311</td>\n",
       "      <td>0.005541</td>\n",
       "      <td>0.006420</td>\n",
       "      <td>7</td>\n",
       "      <td>2</td>\n",
       "      <td>entropy</td>\n",
       "      <td>{'min_samples_leaf': 7, 'max_depth': 2, 'crite...</td>\n",
       "      <td>0.753846</td>\n",
       "      <td>0.753846</td>\n",
       "      <td>0.754572</td>\n",
       "      <td>0.753609</td>\n",
       "      <td>0.753609</td>\n",
       "      <td>0.753896</td>\n",
       "      <td>0.000354</td>\n",
       "      <td>10</td>\n",
       "    </tr>\n",
       "    <tr>\n",
       "      <th>1</th>\n",
       "      <td>0.249571</td>\n",
       "      <td>0.000817</td>\n",
       "      <td>0.013479</td>\n",
       "      <td>0.006264</td>\n",
       "      <td>14</td>\n",
       "      <td>11</td>\n",
       "      <td>log_loss</td>\n",
       "      <td>{'min_samples_leaf': 14, 'max_depth': 11, 'cri...</td>\n",
       "      <td>0.875962</td>\n",
       "      <td>0.836538</td>\n",
       "      <td>0.876805</td>\n",
       "      <td>0.883542</td>\n",
       "      <td>0.869105</td>\n",
       "      <td>0.868390</td>\n",
       "      <td>0.016570</td>\n",
       "      <td>4</td>\n",
       "    </tr>\n",
       "    <tr>\n",
       "      <th>2</th>\n",
       "      <td>0.199994</td>\n",
       "      <td>0.021096</td>\n",
       "      <td>0.013318</td>\n",
       "      <td>0.006660</td>\n",
       "      <td>9</td>\n",
       "      <td>5</td>\n",
       "      <td>log_loss</td>\n",
       "      <td>{'min_samples_leaf': 9, 'max_depth': 5, 'crite...</td>\n",
       "      <td>0.852885</td>\n",
       "      <td>0.837500</td>\n",
       "      <td>0.860443</td>\n",
       "      <td>0.872955</td>\n",
       "      <td>0.856593</td>\n",
       "      <td>0.856075</td>\n",
       "      <td>0.011485</td>\n",
       "      <td>9</td>\n",
       "    </tr>\n",
       "    <tr>\n",
       "      <th>3</th>\n",
       "      <td>0.246482</td>\n",
       "      <td>0.006619</td>\n",
       "      <td>0.010002</td>\n",
       "      <td>0.007860</td>\n",
       "      <td>7</td>\n",
       "      <td>8</td>\n",
       "      <td>log_loss</td>\n",
       "      <td>{'min_samples_leaf': 7, 'max_depth': 8, 'crite...</td>\n",
       "      <td>0.872115</td>\n",
       "      <td>0.840385</td>\n",
       "      <td>0.876805</td>\n",
       "      <td>0.879692</td>\n",
       "      <td>0.870067</td>\n",
       "      <td>0.867813</td>\n",
       "      <td>0.014127</td>\n",
       "      <td>6</td>\n",
       "    </tr>\n",
       "    <tr>\n",
       "      <th>4</th>\n",
       "      <td>0.183647</td>\n",
       "      <td>0.001415</td>\n",
       "      <td>0.013035</td>\n",
       "      <td>0.006651</td>\n",
       "      <td>14</td>\n",
       "      <td>5</td>\n",
       "      <td>gini</td>\n",
       "      <td>{'min_samples_leaf': 14, 'max_depth': 5, 'crit...</td>\n",
       "      <td>0.852885</td>\n",
       "      <td>0.834615</td>\n",
       "      <td>0.866218</td>\n",
       "      <td>0.874880</td>\n",
       "      <td>0.854668</td>\n",
       "      <td>0.856653</td>\n",
       "      <td>0.013620</td>\n",
       "      <td>8</td>\n",
       "    </tr>\n",
       "    <tr>\n",
       "      <th>5</th>\n",
       "      <td>0.273755</td>\n",
       "      <td>0.007613</td>\n",
       "      <td>0.013421</td>\n",
       "      <td>0.005204</td>\n",
       "      <td>6</td>\n",
       "      <td>10</td>\n",
       "      <td>log_loss</td>\n",
       "      <td>{'min_samples_leaf': 6, 'max_depth': 10, 'crit...</td>\n",
       "      <td>0.873077</td>\n",
       "      <td>0.846154</td>\n",
       "      <td>0.875842</td>\n",
       "      <td>0.880654</td>\n",
       "      <td>0.873917</td>\n",
       "      <td>0.869929</td>\n",
       "      <td>0.012174</td>\n",
       "      <td>2</td>\n",
       "    </tr>\n",
       "    <tr>\n",
       "      <th>6</th>\n",
       "      <td>0.252220</td>\n",
       "      <td>0.007414</td>\n",
       "      <td>0.017242</td>\n",
       "      <td>0.001118</td>\n",
       "      <td>11</td>\n",
       "      <td>10</td>\n",
       "      <td>gini</td>\n",
       "      <td>{'min_samples_leaf': 11, 'max_depth': 10, 'cri...</td>\n",
       "      <td>0.873077</td>\n",
       "      <td>0.838462</td>\n",
       "      <td>0.879692</td>\n",
       "      <td>0.881617</td>\n",
       "      <td>0.869105</td>\n",
       "      <td>0.868390</td>\n",
       "      <td>0.015626</td>\n",
       "      <td>3</td>\n",
       "    </tr>\n",
       "    <tr>\n",
       "      <th>7</th>\n",
       "      <td>0.252373</td>\n",
       "      <td>0.007581</td>\n",
       "      <td>0.017655</td>\n",
       "      <td>0.001120</td>\n",
       "      <td>13</td>\n",
       "      <td>11</td>\n",
       "      <td>entropy</td>\n",
       "      <td>{'min_samples_leaf': 13, 'max_depth': 11, 'cri...</td>\n",
       "      <td>0.874038</td>\n",
       "      <td>0.838462</td>\n",
       "      <td>0.871992</td>\n",
       "      <td>0.884504</td>\n",
       "      <td>0.871992</td>\n",
       "      <td>0.868198</td>\n",
       "      <td>0.015576</td>\n",
       "      <td>5</td>\n",
       "    </tr>\n",
       "    <tr>\n",
       "      <th>8</th>\n",
       "      <td>0.275062</td>\n",
       "      <td>0.008895</td>\n",
       "      <td>0.011512</td>\n",
       "      <td>0.004803</td>\n",
       "      <td>10</td>\n",
       "      <td>14</td>\n",
       "      <td>entropy</td>\n",
       "      <td>{'min_samples_leaf': 10, 'max_depth': 14, 'cri...</td>\n",
       "      <td>0.876923</td>\n",
       "      <td>0.835577</td>\n",
       "      <td>0.879692</td>\n",
       "      <td>0.885467</td>\n",
       "      <td>0.879692</td>\n",
       "      <td>0.871470</td>\n",
       "      <td>0.018161</td>\n",
       "      <td>1</td>\n",
       "    </tr>\n",
       "    <tr>\n",
       "      <th>9</th>\n",
       "      <td>0.226159</td>\n",
       "      <td>0.014267</td>\n",
       "      <td>0.013663</td>\n",
       "      <td>0.006553</td>\n",
       "      <td>10</td>\n",
       "      <td>7</td>\n",
       "      <td>gini</td>\n",
       "      <td>{'min_samples_leaf': 10, 'max_depth': 7, 'crit...</td>\n",
       "      <td>0.869231</td>\n",
       "      <td>0.833654</td>\n",
       "      <td>0.876805</td>\n",
       "      <td>0.874880</td>\n",
       "      <td>0.866218</td>\n",
       "      <td>0.864157</td>\n",
       "      <td>0.015719</td>\n",
       "      <td>7</td>\n",
       "    </tr>\n",
       "  </tbody>\n",
       "</table>\n",
       "</div>"
      ],
      "text/plain": [
       "   mean_fit_time  std_fit_time  mean_score_time  std_score_time  \\\n",
       "0       0.144261      0.013311         0.005541        0.006420   \n",
       "1       0.249571      0.000817         0.013479        0.006264   \n",
       "2       0.199994      0.021096         0.013318        0.006660   \n",
       "3       0.246482      0.006619         0.010002        0.007860   \n",
       "4       0.183647      0.001415         0.013035        0.006651   \n",
       "5       0.273755      0.007613         0.013421        0.005204   \n",
       "6       0.252220      0.007414         0.017242        0.001118   \n",
       "7       0.252373      0.007581         0.017655        0.001120   \n",
       "8       0.275062      0.008895         0.011512        0.004803   \n",
       "9       0.226159      0.014267         0.013663        0.006553   \n",
       "\n",
       "  param_min_samples_leaf param_max_depth param_criterion  \\\n",
       "0                      7               2         entropy   \n",
       "1                     14              11        log_loss   \n",
       "2                      9               5        log_loss   \n",
       "3                      7               8        log_loss   \n",
       "4                     14               5            gini   \n",
       "5                      6              10        log_loss   \n",
       "6                     11              10            gini   \n",
       "7                     13              11         entropy   \n",
       "8                     10              14         entropy   \n",
       "9                     10               7            gini   \n",
       "\n",
       "                                              params  split0_test_score  \\\n",
       "0  {'min_samples_leaf': 7, 'max_depth': 2, 'crite...           0.753846   \n",
       "1  {'min_samples_leaf': 14, 'max_depth': 11, 'cri...           0.875962   \n",
       "2  {'min_samples_leaf': 9, 'max_depth': 5, 'crite...           0.852885   \n",
       "3  {'min_samples_leaf': 7, 'max_depth': 8, 'crite...           0.872115   \n",
       "4  {'min_samples_leaf': 14, 'max_depth': 5, 'crit...           0.852885   \n",
       "5  {'min_samples_leaf': 6, 'max_depth': 10, 'crit...           0.873077   \n",
       "6  {'min_samples_leaf': 11, 'max_depth': 10, 'cri...           0.873077   \n",
       "7  {'min_samples_leaf': 13, 'max_depth': 11, 'cri...           0.874038   \n",
       "8  {'min_samples_leaf': 10, 'max_depth': 14, 'cri...           0.876923   \n",
       "9  {'min_samples_leaf': 10, 'max_depth': 7, 'crit...           0.869231   \n",
       "\n",
       "   split1_test_score  split2_test_score  split3_test_score  split4_test_score  \\\n",
       "0           0.753846           0.754572           0.753609           0.753609   \n",
       "1           0.836538           0.876805           0.883542           0.869105   \n",
       "2           0.837500           0.860443           0.872955           0.856593   \n",
       "3           0.840385           0.876805           0.879692           0.870067   \n",
       "4           0.834615           0.866218           0.874880           0.854668   \n",
       "5           0.846154           0.875842           0.880654           0.873917   \n",
       "6           0.838462           0.879692           0.881617           0.869105   \n",
       "7           0.838462           0.871992           0.884504           0.871992   \n",
       "8           0.835577           0.879692           0.885467           0.879692   \n",
       "9           0.833654           0.876805           0.874880           0.866218   \n",
       "\n",
       "   mean_test_score  std_test_score  rank_test_score  \n",
       "0         0.753896        0.000354               10  \n",
       "1         0.868390        0.016570                4  \n",
       "2         0.856075        0.011485                9  \n",
       "3         0.867813        0.014127                6  \n",
       "4         0.856653        0.013620                8  \n",
       "5         0.869929        0.012174                2  \n",
       "6         0.868390        0.015626                3  \n",
       "7         0.868198        0.015576                5  \n",
       "8         0.871470        0.018161                1  \n",
       "9         0.864157        0.015719                7  "
      ]
     },
     "execution_count": 59,
     "metadata": {},
     "output_type": "execute_result"
    }
   ],
   "source": [
    "# 모델 파라미터\n",
    "print(f'[searchCV.best_score_] {searchCV.best_score_}')\n",
    "print(f'[searchCV.best_params_] {searchCV.best_params_}')\n",
    "print(f'[searchCV.best_estimator_] {searchCV.best_estimator_}')\n",
    "\n",
    "cv_resultDF=pd.DataFrame(searchCV.cv_results_)\n",
    "cv_resultDF"
   ]
  },
  {
   "cell_type": "code",
   "execution_count": null,
   "metadata": {},
   "outputs": [],
   "source": []
  }
 ],
 "metadata": {
  "kernelspec": {
   "display_name": "ML_38",
   "language": "python",
   "name": "python3"
  },
  "language_info": {
   "codemirror_mode": {
    "name": "ipython",
    "version": 3
   },
   "file_extension": ".py",
   "mimetype": "text/x-python",
   "name": "python",
   "nbconvert_exporter": "python",
   "pygments_lexer": "ipython3",
   "version": "3.8.19"
  }
 },
 "nbformat": 4,
 "nbformat_minor": 2
}

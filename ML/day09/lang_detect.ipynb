{
 "cells": [
  {
   "cell_type": "markdown",
   "metadata": {},
   "source": [
    "#### 알파벳 기반 언어 식별 모델\n",
    "- 데이터셋 : lang.zip 사용해서 생성 => csv, json, ...\n",
    "- 학습방법 : 지도학습 > 분류 - 다중분류\n",
    "- 알고리즘 : 다양하게 사용"
   ]
  },
  {
   "cell_type": "markdown",
   "metadata": {},
   "source": [
    "[1] 모듈 로딩 및 데이터 준비"
   ]
  },
  {
   "cell_type": "code",
   "execution_count": 27,
   "metadata": {},
   "outputs": [],
   "source": [
    "# 모듈로딩\n",
    "import pandas as pd\n",
    "import os\n",
    "from collections import Counter"
   ]
  },
  {
   "cell_type": "code",
   "execution_count": 8,
   "metadata": {},
   "outputs": [],
   "source": [
    "# 데이터 파일\n",
    "TRAIN_PATH='../lang_train/'\n",
    "TEST_PATH='../lang_test/'\n",
    "\n",
    "# 테스트용으로 만듦. 존재하지 않는 파일\n",
    "TRAIN_CSV='../lang_train.csv'\n",
    "TEST_CSV='../lang_test.csv'"
   ]
  },
  {
   "cell_type": "code",
   "execution_count": 5,
   "metadata": {},
   "outputs": [
    {
     "name": "stdout",
     "output_type": "stream",
     "text": [
      "../lang_train.csv파일이 없습니다.\n"
     ]
    }
   ],
   "source": [
    "# 파일 읽기 => open() => read(), readline(), readlines() => close()\n",
    "#          => with open() as 구문\n",
    "\n",
    "if not os.path.exists(TRAIN_CSV):\n",
    "    print(f'{TRAIN_CSV}파일이 없습니다.')\n",
    "else:\n",
    "    with open(TRAIN_CSV, mode='r') as f:\n",
    "        alldata=f.read()\n",
    "        print(f'[File Data] {alldata}')"
   ]
  },
  {
   "cell_type": "code",
   "execution_count": 32,
   "metadata": {},
   "outputs": [
    {
     "name": "stdout",
     "output_type": "stream",
     "text": [
      "en-1.txt ../lang_train/en-1.txt True\n",
      "Label => en\n",
      "alldata => 4595\n",
      "count_data => Counter({'e': 484, 'o': 412, 't': 370, 'r': 357, 'n': 356, 'a': 349, 'i': 340, 's': 282, 'l': 247, 'd': 212, 'c': 210, 'h': 201, 'm': 121, 'u': 119, 'y': 92, 'g': 88, 'p': 76, 'f': 72, 'w': 65, 'b': 59, 'v': 45, 'k': 25, 'j': 8, 'x': 3, 'z': 2})\n"
     ]
    }
   ],
   "source": [
    "# 폴더 안의 파일을 가져오기\n",
    "files=os.listdir(TRAIN_PATH)\n",
    "\n",
    "for file in files:\n",
    "    print(file, TRAIN_PATH+file, os.path.exists(TRAIN_PATH+file))\n",
    "    label=file[:2]\n",
    "    print(f'Label => {label}')\n",
    "\n",
    "    with open(TRAIN_PATH+file, mode='r') as f:\n",
    "        alldata=f.read()\n",
    "\n",
    "    # 대소문자 통일\n",
    "    alldata=alldata.lower()\n",
    "\n",
    "    # 줄바꿈 제거\n",
    "    alldata=alldata.replace('\\n','')\n",
    "\n",
    "    # 알파벳 아닌 문자들 제거\n",
    "    for ch in alldata:\n",
    "        if ord('a')> ord(ch) or ord(ch) > ord('z'):\n",
    "            alldata=alldata.replace(ch,'')\n",
    "    print(f'alldata => {len(alldata)}')\n",
    "    \n",
    "    # a~z 개수 카운팅\n",
    "    count_data=Counter(alldata)\n",
    "    print('count_data =>' ,count_data)\n",
    "    \n",
    "    break"
   ]
  },
  {
   "cell_type": "code",
   "execution_count": 34,
   "metadata": {},
   "outputs": [],
   "source": [
    "# 파일 쓰기 \n",
    "# mode='w' : 파일이 존재하면 덮어쓰기, 파일이 없으면 생성 후 쓰기\n",
    "# mode='a' : 파일이 존재하면 추가하기, 파일이 없으면 생성 후 쓰기\n",
    "with open('../DATA/lang_train.csv', mode='r') as f:\n",
    "    with open('backup.csv', mode='w') as wf:\n",
    "        data=f.read()\n",
    "        wf.write(data)"
   ]
  },
  {
   "cell_type": "code",
   "execution_count": null,
   "metadata": {},
   "outputs": [],
   "source": []
  }
 ],
 "metadata": {
  "kernelspec": {
   "display_name": "ML_38",
   "language": "python",
   "name": "python3"
  },
  "language_info": {
   "codemirror_mode": {
    "name": "ipython",
    "version": 3
   },
   "file_extension": ".py",
   "mimetype": "text/x-python",
   "name": "python",
   "nbconvert_exporter": "python",
   "pygments_lexer": "ipython3",
   "version": "3.8.19"
  }
 },
 "nbformat": 4,
 "nbformat_minor": 2
}

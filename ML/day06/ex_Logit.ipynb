{
  "cells": [
    {
      "cell_type": "markdown",
      "metadata": {
        "id": "LlS4gyYqJVpn"
      },
      "source": [
        "#### 로지스틱 회귀 \n",
        "- 선형 모델 기반으로 분류를 해주는 모델\n",
        "- 종속변수 즉, 타겟이 범주형 인 경우에 적용 \n",
        "- 결과를 확률로 변환해서 처리\n",
        "- 종류\n",
        "    * 2진 분류 : 타겟의 클래스가 2개\n",
        "    * 다중분류 : 타겟의 클래스가 3개 이상"
      ]
    },
    {
      "cell_type": "markdown",
      "metadata": {
        "id": "ILi_LPl9JVpw"
      },
      "source": [
        "### 데이터 준비하기"
      ]
    },
    {
      "cell_type": "code",
      "execution_count": 197,
      "metadata": {},
      "outputs": [],
      "source": [
        "# 모듈로딩 \n",
        "import pandas as pd\n",
        "\n",
        "# 판다스에 지수표기법(과학적표기법) 정지 설정\n",
        "pd.options.display.float_format = '{:.5f}'.format\n",
        "\n",
        "# 데이터 준비 \n",
        "DATA_FILE = '../data/fish.csv'"
      ]
    },
    {
      "cell_type": "code",
      "execution_count": 198,
      "metadata": {
        "colab": {
          "base_uri": "https://localhost:8080/",
          "height": 206
        },
        "id": "Mba6QeEmLn3r",
        "outputId": "752ed0d7-c1cf-4dea-9baa-7953bfa0fbf3"
      },
      "outputs": [
        {
          "data": {
            "text/html": [
              "<div>\n",
              "<style scoped>\n",
              "    .dataframe tbody tr th:only-of-type {\n",
              "        vertical-align: middle;\n",
              "    }\n",
              "\n",
              "    .dataframe tbody tr th {\n",
              "        vertical-align: top;\n",
              "    }\n",
              "\n",
              "    .dataframe thead th {\n",
              "        text-align: right;\n",
              "    }\n",
              "</style>\n",
              "<table border=\"1\" class=\"dataframe\">\n",
              "  <thead>\n",
              "    <tr style=\"text-align: right;\">\n",
              "      <th></th>\n",
              "      <th>Species</th>\n",
              "      <th>Weight</th>\n",
              "      <th>Length</th>\n",
              "      <th>Diagonal</th>\n",
              "      <th>Height</th>\n",
              "      <th>Width</th>\n",
              "    </tr>\n",
              "  </thead>\n",
              "  <tbody>\n",
              "    <tr>\n",
              "      <th>0</th>\n",
              "      <td>Bream</td>\n",
              "      <td>242.00000</td>\n",
              "      <td>25.40000</td>\n",
              "      <td>30.00000</td>\n",
              "      <td>11.52000</td>\n",
              "      <td>4.02000</td>\n",
              "    </tr>\n",
              "    <tr>\n",
              "      <th>1</th>\n",
              "      <td>Bream</td>\n",
              "      <td>290.00000</td>\n",
              "      <td>26.30000</td>\n",
              "      <td>31.20000</td>\n",
              "      <td>12.48000</td>\n",
              "      <td>4.30560</td>\n",
              "    </tr>\n",
              "  </tbody>\n",
              "</table>\n",
              "</div>"
            ],
            "text/plain": [
              "  Species    Weight   Length  Diagonal   Height   Width\n",
              "0   Bream 242.00000 25.40000  30.00000 11.52000 4.02000\n",
              "1   Bream 290.00000 26.30000  31.20000 12.48000 4.30560"
            ]
          },
          "execution_count": 198,
          "metadata": {},
          "output_type": "execute_result"
        }
      ],
      "source": [
        "## CSV ==> DataFrame\n",
        "fishDF = pd.read_csv(DATA_FILE)\n",
        "fishDF.head(2)"
      ]
    },
    {
      "cell_type": "code",
      "execution_count": 199,
      "metadata": {
        "colab": {
          "base_uri": "https://localhost:8080/"
        },
        "id": "UWJWlRCHVWUg",
        "outputId": "3ce7ab01-0ab1-45eb-ddce-c0a7378f5220"
      },
      "outputs": [
        {
          "name": "stdout",
          "output_type": "stream",
          "text": [
            "['Bream' 'Roach' 'Whitefish' 'Parkki' 'Perch' 'Pike' 'Smelt']\n"
          ]
        },
        {
          "data": {
            "text/plain": [
              "Index(['Species', 'Weight', 'Length', 'Diagonal', 'Height', 'Width'], dtype='object')"
            ]
          },
          "execution_count": 199,
          "metadata": {},
          "output_type": "execute_result"
        }
      ],
      "source": [
        "# 타겟/종속변수의 클래스 수 => 7개\n",
        "print(pd.unique(fishDF['Species']))\n",
        "fishDF.columns"
      ]
    },
    {
      "cell_type": "code",
      "execution_count": 200,
      "metadata": {
        "id": "8JjMXc9wVE7C"
      },
      "outputs": [
        {
          "name": "stdout",
          "output_type": "stream",
          "text": [
            "[[242.      25.4     30.      11.52     4.02  ]\n",
            " [290.      26.3     31.2     12.48     4.3056]\n",
            " [340.      26.5     31.1     12.3778   4.6961]\n",
            " [363.      29.      33.5     12.73     4.4555]\n",
            " [430.      29.      34.      12.444    5.134 ]]\n"
          ]
        }
      ],
      "source": [
        "# 피쳐 데이터셋 추출 \n",
        "featureDF = fishDF[fishDF.columns[1:]].to_numpy()\n",
        "print(featureDF[:5])"
      ]
    },
    {
      "cell_type": "code",
      "execution_count": 201,
      "metadata": {
        "id": "aB2oHhojTfWE"
      },
      "outputs": [
        {
          "name": "stdout",
          "output_type": "stream",
          "text": [
            "['Bream' 'Bream' 'Bream' 'Bream' 'Bream']\n"
          ]
        }
      ],
      "source": [
        "# 타겟 추출 \n",
        "targetSR = fishDF['Species'].to_numpy()\n",
        "print(targetSR[:5])"
      ]
    },
    {
      "cell_type": "markdown",
      "metadata": {},
      "source": [
        "- 학습용 데이터셋 준비 : trainDS, testDS"
      ]
    },
    {
      "cell_type": "code",
      "execution_count": 202,
      "metadata": {
        "id": "dkllezAJW63K"
      },
      "outputs": [],
      "source": [
        "from sklearn.model_selection import train_test_split\n",
        "\n",
        "X_train, X_test, y_train, y_test = train_test_split(featureDF, \n",
        "                                                    targetSR, \n",
        "                                                    random_state=10,\n",
        "                                                    stratify=targetSR)"
      ]
    },
    {
      "cell_type": "markdown",
      "metadata": {},
      "source": [
        "- 표준화 진행 => 정규분포 "
      ]
    },
    {
      "cell_type": "code",
      "execution_count": 203,
      "metadata": {
        "id": "H0ujq0BjXpfp"
      },
      "outputs": [
        {
          "name": "stdout",
          "output_type": "stream",
          "text": [
            "(119, 5) (40, 5)\n"
          ]
        }
      ],
      "source": [
        "from sklearn.preprocessing import StandardScaler\n",
        "\n",
        "# 학습용(trainDS)기반 스케일러 생성\n",
        "ss = StandardScaler()\n",
        "ss.fit(X_train)\n",
        "\n",
        "# 스케일링 진행\n",
        "train_scaled = ss.transform(X_train)\n",
        "test_scaled = ss.transform(X_test)\n",
        "\n",
        "print(train_scaled.shape, test_scaled.shape)"
      ]
    },
    {
      "cell_type": "markdown",
      "metadata": {
        "id": "Q9_wuI_0tEqL"
      },
      "source": [
        "- 학습 진행 \n",
        "    * 학습방법 : 지도학습 > 분류\n",
        "    * 알고리즘 : 로지스틱 회귀 \n",
        "        * 종속변수 즉, 피쳐에 가중치 곱셈 후 합계 한 결과 >>> 확률값으로 변환값 "
      ]
    },
    {
      "cell_type": "code",
      "execution_count": 224,
      "metadata": {
        "colab": {
          "base_uri": "https://localhost:8080/",
          "height": 449
        },
        "id": "8rdDSaZ5uji2",
        "outputId": "8ea6c0b2-1965-47df-be28-465fdfc493f1"
      },
      "outputs": [
        {
          "name": "stdout",
          "output_type": "stream",
          "text": [
            "np.exp(-z) = [148.413159 134.28978  121.510418 109.947172  99.484316  90.017131\n",
            "  81.450869  73.699794  66.686331  60.340288  54.59815   49.402449\n",
            "  44.701184  40.447304  36.598234  33.115452  29.9641    27.112639\n",
            "  24.53253   22.197951  20.085537  18.174145  16.444647  14.879732\n",
            "  13.463738  12.182494  11.023176   9.974182   9.025013   8.16617\n",
            "   7.389056   6.685894   6.049647   5.473947   4.953032   4.481689\n",
            "   4.0552     3.669297   3.320117   3.004166   2.718282   2.459603\n",
            "   2.225541   2.013753   1.822119   1.648721   1.491825   1.349859\n",
            "   1.221403   1.105171   1.         0.904837   0.818731   0.740818\n",
            "   0.67032    0.606531   0.548812   0.496585   0.449329   0.40657\n",
            "   0.367879   0.332871   0.301194   0.272532   0.246597   0.22313\n",
            "   0.201897   0.182684   0.165299   0.149569   0.135335   0.122456\n",
            "   0.110803   0.100259   0.090718   0.082085   0.074274   0.067206\n",
            "   0.06081    0.055023   0.049787   0.045049   0.040762   0.036883\n",
            "   0.033373   0.030197   0.027324   0.024724   0.022371   0.020242\n",
            "   0.018316   0.016573   0.014996   0.013569   0.012277   0.011109\n",
            "   0.010052   0.009095   0.00823    0.007447]\n",
            "z =>[-5.  -4.9 -4.8 -4.7 -4.6 -4.5 -4.4 -4.3 -4.2 -4.1 -4.  -3.9 -3.8 -3.7\n",
            " -3.6 -3.5 -3.4 -3.3 -3.2 -3.1 -3.  -2.9 -2.8 -2.7 -2.6 -2.5 -2.4 -2.3\n",
            " -2.2 -2.1 -2.  -1.9 -1.8 -1.7 -1.6 -1.5 -1.4 -1.3 -1.2 -1.1 -1.  -0.9\n",
            " -0.8 -0.7 -0.6 -0.5 -0.4 -0.3 -0.2 -0.1 -0.   0.1  0.2  0.3  0.4  0.5\n",
            "  0.6  0.7  0.8  0.9  1.   1.1  1.2  1.3  1.4  1.5  1.6  1.7  1.8  1.9\n",
            "  2.   2.1  2.2  2.3  2.4  2.5  2.6  2.7  2.8  2.9  3.   3.1  3.2  3.3\n",
            "  3.4  3.5  3.6  3.7  3.8  3.9  4.   4.1  4.2  4.3  4.4  4.5  4.6  4.7\n",
            "  4.8  4.9]\n",
            " phi = [0.006693 0.007392 0.008163 0.009013 0.009952 0.010987 0.012128 0.013387\n",
            " 0.014774 0.016302 0.017986 0.01984  0.021881 0.024127 0.026597 0.029312\n",
            " 0.032295 0.035571 0.039166 0.043107 0.047426 0.052154 0.057324 0.062973\n",
            " 0.069138 0.075858 0.083173 0.091123 0.09975  0.109097 0.119203 0.130108\n",
            " 0.141851 0.154465 0.167982 0.182426 0.197816 0.214165 0.231475 0.24974\n",
            " 0.268941 0.28905  0.310026 0.331812 0.354344 0.377541 0.401312 0.425557\n",
            " 0.450166 0.475021 0.5      0.524979 0.549834 0.574443 0.598688 0.622459\n",
            " 0.645656 0.668188 0.689974 0.71095  0.731059 0.75026  0.768525 0.785835\n",
            " 0.802184 0.817574 0.832018 0.845535 0.858149 0.869892 0.880797 0.890903\n",
            " 0.90025  0.908877 0.916827 0.924142 0.930862 0.937027 0.942676 0.947846\n",
            " 0.952574 0.956893 0.960834 0.964429 0.967705 0.970688 0.973403 0.975873\n",
            " 0.978119 0.98016  0.982014 0.983698 0.985226 0.986613 0.987872 0.989013\n",
            " 0.990048 0.990987 0.991837 0.992608]\n"
          ]
        }
      ],
      "source": [
        "import numpy as np\n",
        "import matplotlib.pyplot as plt\n",
        "\n",
        "# 과학적/지수 표기법 대신 소수점 6자리까지 출력\n",
        "np.set_printoptions(precision=6, suppress=True)\n",
        "\n",
        "# 선형식의 결과값 ==> 0.0~1.0 범위의 확률비 값으로 변환 \n",
        "z = np.arange(-5, 5, 0.1)   # -5.0<= ~ <5.0\n",
        "phi = 1 / (1 + np.exp(-z))\n",
        "\n",
        "print(f'np.exp(-z) = {np.exp(-z)}') \n",
        "print(f'z =>{z}\\n phi = {phi}')"
      ]
    },
    {
      "cell_type": "code",
      "execution_count": 205,
      "metadata": {},
      "outputs": [
        {
          "data": {
            "image/png": "[encoded data removed]",
            "text/plain": [
              "<Figure size 640x480 with 1 Axes>"
            ]
          },
          "metadata": {},
          "output_type": "display_data"
        }
      ],
      "source": [
        "\n",
        "plt.plot(z, phi)\n",
        "plt.xlabel('z')\n",
        "plt.ylabel('phi')\n",
        "plt.show()"
      ]
    },
    {
      "cell_type": "markdown",
      "metadata": {
        "id": "1J6LGKpUJbFE"
      },
      "source": [
        "### 로지스틱 회귀로 이진 분류 수행하기"
      ]
    },
    {
      "cell_type": "code",
      "execution_count": 206,
      "metadata": {
        "colab": {
          "base_uri": "https://localhost:8080/"
        },
        "id": "JeR5cA_fIe24",
        "outputId": "a84389ab-489b-4bac-f99e-1dd86b6a1b1e"
      },
      "outputs": [
        {
          "name": "stdout",
          "output_type": "stream",
          "text": [
            "['A' 'C']\n"
          ]
        }
      ],
      "source": [
        "# Boolean Index \n",
        "char_arr = np.array(['A', 'B', 'C', 'D', 'E'])\n",
        "print(char_arr[[True, False, True, False, False]])"
      ]
    },
    {
      "cell_type": "code",
      "execution_count": 207,
      "metadata": {
        "id": "Khxh-3t5-2Tk"
      },
      "outputs": [],
      "source": [
        "### 2진분류 ==> 2개 품종의 데이터셋 추출\n",
        "mask = (y_train == 'Bream') | (y_train == 'Smelt')\n",
        "\n",
        "train_bream_smelt = train_scaled[mask]\n",
        "target_bream_smelt = y_train[mask]\n",
        "\n",
        "\n",
        "mask = (y_test == 'Bream') | (y_test == 'Smelt')\n",
        "test_bream_smelt = test_scaled[mask]\n",
        "test_target_bream_smelt = y_test[mask]"
      ]
    },
    {
      "cell_type": "markdown",
      "metadata": {},
      "source": [
        "- 학습 진행 "
      ]
    },
    {
      "cell_type": "code",
      "execution_count": 208,
      "metadata": {
        "colab": {
          "base_uri": "https://localhost:8080/",
          "height": 75
        },
        "id": "jEzP0aeXANra",
        "outputId": "0d636b60-eda6-4ead-c2e2-162dc1c97b06"
      },
      "outputs": [
        {
          "data": {
            "text/html": [
              "<style>#sk-container-id-6 {color: black;}#sk-container-id-6 pre{padding: 0;}#sk-container-id-6 div.sk-toggleable {background-color: white;}#sk-container-id-6 label.sk-toggleable__label {cursor: pointer;display: block;width: 100%;margin-bottom: 0;padding: 0.3em;box-sizing: border-box;text-align: center;}#sk-container-id-6 label.sk-toggleable__label-arrow:before {content: \"▸\";float: left;margin-right: 0.25em;color: #696969;}#sk-container-id-6 label.sk-toggleable__label-arrow:hover:before {color: black;}#sk-container-id-6 div.sk-estimator:hover label.sk-toggleable__label-arrow:before {color: black;}#sk-container-id-6 div.sk-toggleable__content {max-height: 0;max-width: 0;overflow: hidden;text-align: left;background-color: #f0f8ff;}#sk-container-id-6 div.sk-toggleable__content pre {margin: 0.2em;color: black;border-radius: 0.25em;background-color: #f0f8ff;}#sk-container-id-6 input.sk-toggleable__control:checked~div.sk-toggleable__content {max-height: 200px;max-width: 100%;overflow: auto;}#sk-container-id-6 input.sk-toggleable__control:checked~label.sk-toggleable__label-arrow:before {content: \"▾\";}#sk-container-id-6 div.sk-estimator input.sk-toggleable__control:checked~label.sk-toggleable__label {background-color: #d4ebff;}#sk-container-id-6 div.sk-label input.sk-toggleable__control:checked~label.sk-toggleable__label {background-color: #d4ebff;}#sk-container-id-6 input.sk-hidden--visually {border: 0;clip: rect(1px 1px 1px 1px);clip: rect(1px, 1px, 1px, 1px);height: 1px;margin: -1px;overflow: hidden;padding: 0;position: absolute;width: 1px;}#sk-container-id-6 div.sk-estimator {font-family: monospace;background-color: #f0f8ff;border: 1px dotted black;border-radius: 0.25em;box-sizing: border-box;margin-bottom: 0.5em;}#sk-container-id-6 div.sk-estimator:hover {background-color: #d4ebff;}#sk-container-id-6 div.sk-parallel-item::after {content: \"\";width: 100%;border-bottom: 1px solid gray;flex-grow: 1;}#sk-container-id-6 div.sk-label:hover label.sk-toggleable__label {background-color: #d4ebff;}#sk-container-id-6 div.sk-serial::before {content: \"\";position: absolute;border-left: 1px solid gray;box-sizing: border-box;top: 0;bottom: 0;left: 50%;z-index: 0;}#sk-container-id-6 div.sk-serial {display: flex;flex-direction: column;align-items: center;background-color: white;padding-right: 0.2em;padding-left: 0.2em;position: relative;}#sk-container-id-6 div.sk-item {position: relative;z-index: 1;}#sk-container-id-6 div.sk-parallel {display: flex;align-items: stretch;justify-content: center;background-color: white;position: relative;}#sk-container-id-6 div.sk-item::before, #sk-container-id-6 div.sk-parallel-item::before {content: \"\";position: absolute;border-left: 1px solid gray;box-sizing: border-box;top: 0;bottom: 0;left: 50%;z-index: -1;}#sk-container-id-6 div.sk-parallel-item {display: flex;flex-direction: column;z-index: 1;position: relative;background-color: white;}#sk-container-id-6 div.sk-parallel-item:first-child::after {align-self: flex-end;width: 50%;}#sk-container-id-6 div.sk-parallel-item:last-child::after {align-self: flex-start;width: 50%;}#sk-container-id-6 div.sk-parallel-item:only-child::after {width: 0;}#sk-container-id-6 div.sk-dashed-wrapped {border: 1px dashed gray;margin: 0 0.4em 0.5em 0.4em;box-sizing: border-box;padding-bottom: 0.4em;background-color: white;}#sk-container-id-6 div.sk-label label {font-family: monospace;font-weight: bold;display: inline-block;line-height: 1.2em;}#sk-container-id-6 div.sk-label-container {text-align: center;}#sk-container-id-6 div.sk-container {/* jupyter's `normalize.less` sets `[hidden] { display: none; }` but bootstrap.min.css set `[hidden] { display: none !important; }` so we also need the `!important` here to be able to override the default hidden behavior on the sphinx rendered scikit-learn.org. See: https://github.com/scikit-learn/scikit-learn/issues/21755 */display: inline-block !important;position: relative;}#sk-container-id-6 div.sk-text-repr-fallback {display: none;}</style><div id=\"sk-container-id-6\" class=\"sk-top-container\"><div class=\"sk-text-repr-fallback\"><pre>LogisticRegression()</pre><b>In a Jupyter environment, please rerun this cell to show the HTML representation or trust the notebook. <br />On GitHub, the HTML representation is unable to render, please try loading this page with nbviewer.org.</b></div><div class=\"sk-container\" hidden><div class=\"sk-item\"><div class=\"sk-estimator sk-toggleable\"><input class=\"sk-toggleable__control sk-hidden--visually\" id=\"sk-estimator-id-6\" type=\"checkbox\" checked><label for=\"sk-estimator-id-6\" class=\"sk-toggleable__label sk-toggleable__label-arrow\">LogisticRegression</label><div class=\"sk-toggleable__content\"><pre>LogisticRegression()</pre></div></div></div></div></div>"
            ],
            "text/plain": [
              "LogisticRegression()"
            ]
          },
          "execution_count": 208,
          "metadata": {},
          "output_type": "execute_result"
        }
      ],
      "source": [
        "from sklearn.linear_model import LogisticRegression\n",
        "\n",
        "lr = LogisticRegression()\n",
        "lr.fit(train_bream_smelt, target_bream_smelt)"
      ]
    },
    {
      "cell_type": "code",
      "execution_count": 209,
      "metadata": {},
      "outputs": [
        {
          "name": "stdout",
          "output_type": "stream",
          "text": [
            "classes_ : ['Bream' 'Smelt'] , 2개\n",
            "n_features_in_ : 5\n",
            "n_iter_ : [13]\n",
            "coef_ : [[-0.443163 -0.600773 -0.684162 -1.027121 -0.767243]], 5개\n",
            "intercept_ : [-2.230105]\n"
          ]
        }
      ],
      "source": [
        "## 모델 파라미터\n",
        "print(f'classes_ : {lr.classes_} , {len(lr.classes_)}개')\n",
        "print(f'n_features_in_ : {lr.n_features_in_}')\n",
        "print(f'n_iter_ : {lr.n_iter_}')\n",
        "print(f'coef_ : {lr.coef_}, {len(lr.coef_[0])}개')\n",
        "print(f'intercept_ : {lr.intercept_}')"
      ]
    },
    {
      "cell_type": "code",
      "execution_count": 210,
      "metadata": {},
      "outputs": [
        {
          "name": "stdout",
          "output_type": "stream",
          "text": [
            "train_score : 1.0,   test_score : 1.0\n"
          ]
        }
      ],
      "source": [
        "### 모델의 성능 => train과 test에 대한 점수 즉, 분류의 정확도 \n",
        "### model.score(feature, target) : 내부에서  predict() 호출 결과 예측값과 target 비교 \n",
        "train_score = lr.score(train_bream_smelt, target_bream_smelt)\n",
        "test_score = lr.score(test_bream_smelt, test_target_bream_smelt)\n",
        "\n",
        "print(f'train_score : {train_score},   test_score : {test_score}')"
      ]
    },
    {
      "cell_type": "markdown",
      "metadata": {},
      "source": [
        "- 테스팅 진행 => predict(피쳐2D)\n",
        "    * predict()  : 예측 클래스 반환\n",
        "    * predict_proba() : 각 클래스별 확률값 \n",
        "    * decision_function : 피쳐와 coef_ 곱셈 합계 + intercept_ 한 결과값 "
      ]
    },
    {
      "cell_type": "code",
      "execution_count": 211,
      "metadata": {
        "colab": {
          "base_uri": "https://localhost:8080/"
        },
        "id": "VtEWtsB7EIgm",
        "outputId": "6c374a95-a9f2-4983-faba-beb8aaf4c58e"
      },
      "outputs": [
        {
          "name": "stdout",
          "output_type": "stream",
          "text": [
            "['Smelt' 'Smelt' 'Bream' 'Bream' 'Bream']\n"
          ]
        }
      ],
      "source": [
        "print(lr.predict(train_bream_smelt[:5]))"
      ]
    },
    {
      "cell_type": "code",
      "execution_count": 212,
      "metadata": {
        "colab": {
          "base_uri": "https://localhost:8080/"
        },
        "id": "3H_qieV-_CTt",
        "outputId": "f38633e8-1b98-4b17-f86b-95685099e372"
      },
      "outputs": [
        {
          "name": "stdout",
          "output_type": "stream",
          "text": [
            "Smelt\n",
            "[[0.03185  0.96815 ]\n",
            " [0.070079 0.929921]\n",
            " [0.999494 0.000506]\n",
            " [0.934717 0.065283]\n",
            " [0.994045 0.005955]]\n"
          ]
        }
      ],
      "source": [
        "print(lr.classes_[1], lr.predict_proba(train_bream_smelt[:5]), sep='\\n')"
      ]
    },
    {
      "cell_type": "code",
      "execution_count": 213,
      "metadata": {},
      "outputs": [
        {
          "data": {
            "text/plain": [
              "Index(['Species', 'Weight', 'Length', 'Diagonal', 'Height', 'Width'], dtype='object')"
            ]
          },
          "execution_count": 213,
          "metadata": {},
          "output_type": "execute_result"
        }
      ],
      "source": [
        "fishDF.columns"
      ]
    },
    {
      "cell_type": "code",
      "execution_count": 214,
      "metadata": {
        "colab": {
          "base_uri": "https://localhost:8080/"
        },
        "id": "SxrRy9m8A5Hy",
        "outputId": "a092eee9-5329-4de9-ee2a-65c2782e36ce"
      },
      "outputs": [
        {
          "name": "stdout",
          "output_type": "stream",
          "text": [
            "[ 3.414347  2.585481 -7.588453 -2.66151  -5.117616]\n"
          ]
        }
      ],
      "source": [
        "# y = 'Weight'*coef_[0] +  'Length'*coef_[1] + 'Diagonal'*coef_[2] + 'Height'*coef_[3] +'Width'*coef_[4] + intercept_\n",
        "decisions = lr.decision_function(train_bream_smelt[:5])\n",
        "print(decisions)"
      ]
    },
    {
      "cell_type": "code",
      "execution_count": 215,
      "metadata": {
        "colab": {
          "base_uri": "https://localhost:8080/"
        },
        "id": "SeuhSRuiA9yZ",
        "outputId": "f9127243-4293-4dca-b0c6-4f81af5d0fe1"
      },
      "outputs": [
        {
          "name": "stdout",
          "output_type": "stream",
          "text": [
            "[0.96815  0.929921 0.000506 0.065283 0.005955]\n",
            "[[0.03185  0.96815 ]\n",
            " [0.070079 0.929921]\n",
            " [0.999494 0.000506]\n",
            " [0.934717 0.065283]\n",
            " [0.994045 0.005955]]\n",
            "['Smelt' 'Smelt' 'Bream' 'Bream' 'Bream']\n"
          ]
        }
      ],
      "source": [
        "# 선형식 결과값 ==> 확률 변환 , 클래스가 1인 것에 대한 확률 계산\n",
        "from scipy.special import expit\n",
        "print(expit(decisions))\n",
        "\n",
        "print(lr.predict_proba(train_bream_smelt[:5]))\n",
        "print(lr.predict(train_bream_smelt[:5]))"
      ]
    },
    {
      "cell_type": "code",
      "execution_count": null,
      "metadata": {},
      "outputs": [],
      "source": []
    },
    {
      "cell_type": "markdown",
      "metadata": {
        "id": "6ee-s4l7EuVo"
      },
      "source": [
        "### 로지스틱 회귀로 다중 분류 수행하기"
      ]
    },
    {
      "cell_type": "code",
      "execution_count": 239,
      "metadata": {
        "colab": {
          "base_uri": "https://localhost:8080/"
        },
        "id": "7QugsbD2X8bf",
        "outputId": "1b5f1118-3b3a-43a6-b7d5-a5826475c001"
      },
      "outputs": [
        {
          "name": "stdout",
          "output_type": "stream",
          "text": [
            "0.907563025210084\n",
            "0.975\n"
          ]
        }
      ],
      "source": [
        "lr = LogisticRegression(C=20, max_iter=1000)\n",
        "lr.fit(train_scaled, y_train)\n",
        "\n",
        "print(lr.score(train_scaled, y_train))\n",
        "print(lr.score(test_scaled, y_test))"
      ]
    },
    {
      "cell_type": "code",
      "execution_count": 217,
      "metadata": {
        "colab": {
          "base_uri": "https://localhost:8080/"
        },
        "id": "0taO0XnF9dha",
        "outputId": "e13af0b2-9a8f-4703-92f5-420bae40bc42"
      },
      "outputs": [
        {
          "name": "stdout",
          "output_type": "stream",
          "text": [
            "['Bream' 'Bream' 'Perch' 'Perch' 'Perch']\n"
          ]
        }
      ],
      "source": [
        "print(lr.predict(test_scaled[:5]))"
      ]
    },
    {
      "cell_type": "code",
      "execution_count": 237,
      "metadata": {
        "colab": {
          "base_uri": "https://localhost:8080/"
        },
        "id": "pqZosYezZOi3",
        "outputId": "366bf3bc-5df7-4056-de6a-838320bc7cb7"
      },
      "outputs": [
        {
          "data": {
            "text/plain": [
              "(array([[0.995041, 0.002099, 0.      , 0.      , 0.000012, 0.      ,\n",
              "         0.002847],\n",
              "        [0.998177, 0.000204, 0.      , 0.      , 0.000002, 0.      ,\n",
              "         0.001617],\n",
              "        [0.000092, 0.010744, 0.653864, 0.00203 , 0.300998, 0.003303,\n",
              "         0.028968],\n",
              "        [0.000005, 0.000453, 0.881918, 0.002074, 0.105139, 0.002835,\n",
              "         0.007577],\n",
              "        [0.000048, 0.046871, 0.560773, 0.000739, 0.353097, 0.013031,\n",
              "         0.025441]]),\n",
              " array([0, 0, 2, 2, 2], dtype=int64),\n",
              " array(['Bream', 'Parkki', 'Perch', 'Pike', 'Roach', 'Smelt', 'Whitefish'],\n",
              "       dtype=object))"
            ]
          },
          "execution_count": 237,
          "metadata": {},
          "output_type": "execute_result"
        }
      ],
      "source": [
        "proba = lr.predict_proba(test_scaled[:5])\n",
        "proba, proba.argmax(axis=1), lr.classes_\n",
        "#print(np.round(proba, decimals=4))"
      ]
    },
    {
      "cell_type": "code",
      "execution_count": 219,
      "metadata": {
        "colab": {
          "base_uri": "https://localhost:8080/"
        },
        "id": "CXASv4WU87UF",
        "outputId": "6f8b2061-88b0-4cd9-9f11-cd907919ef24"
      },
      "outputs": [
        {
          "name": "stdout",
          "output_type": "stream",
          "text": [
            "['Bream' 'Parkki' 'Perch' 'Pike' 'Roach' 'Smelt' 'Whitefish']\n"
          ]
        }
      ],
      "source": [
        "print(lr.classes_)"
      ]
    },
    {
      "cell_type": "code",
      "execution_count": 238,
      "metadata": {
        "colab": {
          "base_uri": "https://localhost:8080/"
        },
        "id": "1swPv6ZOZTjg",
        "outputId": "c52ceba6-b8ab-4f90-ecd6-38ebb6acbbef"
      },
      "outputs": [
        {
          "data": {
            "text/plain": [
              "array(['Bream', 'Bream', 'Perch', 'Perch', 'Perch'], dtype=object)"
            ]
          },
          "execution_count": 238,
          "metadata": {},
          "output_type": "execute_result"
        }
      ],
      "source": [
        "lr.predict(test_scaled[:5])\n"
      ]
    },
    {
      "cell_type": "code",
      "execution_count": 221,
      "metadata": {
        "colab": {
          "base_uri": "https://localhost:8080/"
        },
        "id": "s9iRz1iAd7Oe",
        "outputId": "07f4b83c-1211-45eb-f698-28a381388c57"
      },
      "outputs": [
        {
          "name": "stdout",
          "output_type": "stream",
          "text": [
            "[[ 11.795    5.6335  -3.3043  -3.4571   0.5077 -17.1134   5.9386]\n",
            " [ 13.265    4.7678  -3.181   -2.5284  -0.0409 -19.1222   6.8397]\n",
            " [ -4.8762  -0.1185   3.99    -1.7847   3.2142  -1.2979   0.8733]\n",
            " [ -6.6068  -2.0981   5.4763  -0.5762   3.3495  -0.2639   0.7193]\n",
            " [ -5.687    1.2044   3.6863  -2.9452   3.2238  -0.0756   0.5934]]\n"
          ]
        }
      ],
      "source": [
        "decision = lr.decision_function(test_scaled[:5])\n",
        "print(np.round(decision, decimals=4))"
      ]
    },
    {
      "cell_type": "code",
      "execution_count": 222,
      "metadata": {
        "colab": {
          "base_uri": "https://localhost:8080/"
        },
        "id": "49CcsDHZeJma",
        "outputId": "53f704df-743d-45ad-e76e-6729cecfbb03"
      },
      "outputs": [
        {
          "name": "stdout",
          "output_type": "stream",
          "text": [
            "[[0.995  0.0021 0.     0.     0.     0.     0.0028]\n",
            " [0.9982 0.0002 0.     0.     0.     0.     0.0016]\n",
            " [0.0001 0.0107 0.6539 0.002  0.301  0.0033 0.029 ]\n",
            " [0.     0.0005 0.8819 0.0021 0.1051 0.0028 0.0076]\n",
            " [0.     0.0469 0.5608 0.0007 0.3531 0.013  0.0254]]\n"
          ]
        }
      ],
      "source": [
        "from scipy.special import softmax\n",
        "\n",
        "proba = softmax(decision, axis=1)\n",
        "print(np.round(proba, decimals=4))"
      ]
    }
  ],
  "metadata": {
    "colab": {
      "name": "4-1 로지스틱 회귀.ipynb",
      "provenance": []
    },
    "kernelspec": {
      "display_name": "ML_38",
      "language": "python",
      "name": "python3"
    },
    "language_info": {
      "codemirror_mode": {
        "name": "ipython",
        "version": 3
      },
      "file_extension": ".py",
      "mimetype": "text/x-python",
      "name": "python",
      "nbconvert_exporter": "python",
      "pygments_lexer": "ipython3",
      "version": "3.8.19"
    }
  },
  "nbformat": 4,
  "nbformat_minor": 0
}

{
 "cells": [
  {
   "cell_type": "markdown",
   "metadata": {},
   "source": [
    "####  다중분류를 위한 OvR(OvA)\n",
    "- 분류 클래스 수 만큼 2진 분류기를 생성하여 다중 분류를 진행"
   ]
  },
  {
   "cell_type": "code",
   "execution_count": 108,
   "metadata": {},
   "outputs": [],
   "source": [
    "### 모듀로딩 \n",
    "from sklearn.datasets import load_digits\n",
    "from sklearn.model_selection import train_test_split\n",
    "\n",
    "import pandas as pd \n",
    "import numpy as np \n",
    "\n",
    "# 판다스/넘파이에 지수표기법(과학적표기법) 정지 설정\n",
    "pd.options.display.float_format = '{:.5f}'.format\n",
    "np.set_printoptions(precision=6, suppress=True)\n"
   ]
  },
  {
   "cell_type": "markdown",
   "metadata": {},
   "source": [
    "- 데이터셋 load_digits\n",
    "    * 내장 데이터셋\n",
    "    * 이미지 데이터셋 => 8 * 8 크기 이미지 ==> 1D으로 64개 피쳐\n",
    "    * 이미지 라벨/타겟 => 숫자 0 ~ 9까지 즉, 총 10개 클래스 \n",
    "    * 흑백 이미지"
   ]
  },
  {
   "cell_type": "code",
   "execution_count": 109,
   "metadata": {},
   "outputs": [
    {
     "name": "stdout",
     "output_type": "stream",
     "text": [
      "(1797, 64) 2 (1797,) 1\n"
     ]
    }
   ],
   "source": [
    "## 데이터 로딩\n",
    "featureDF, targetSR = load_digits(as_frame=True, return_X_y=True)\n",
    "\n",
    "# 이미지 픽셀 : 0 ~ 255 범위 \n",
    "featureDF = featureDF/255\n",
    "\n",
    "print(featureDF.shape, featureDF.ndim, targetSR.shape, targetSR.ndim)"
   ]
  },
  {
   "cell_type": "code",
   "execution_count": 110,
   "metadata": {},
   "outputs": [
    {
     "data": {
      "text/plain": [
       "(   pixel_0_0  pixel_0_1  pixel_0_2  pixel_0_3  pixel_0_4  pixel_0_5  \\\n",
       " 0    0.00000    0.00000    0.01961    0.05098    0.03529    0.00392   \n",
       " \n",
       "    pixel_0_6  pixel_0_7  pixel_1_0  pixel_1_1  ...  pixel_6_6  pixel_6_7  \\\n",
       " 0    0.00000    0.00000    0.00000    0.00000  ...    0.00000    0.00000   \n",
       " \n",
       "    pixel_7_0  pixel_7_1  pixel_7_2  pixel_7_3  pixel_7_4  pixel_7_5  \\\n",
       " 0    0.00000    0.00000    0.02353    0.05098    0.03922    0.00000   \n",
       " \n",
       "    pixel_7_6  pixel_7_7  \n",
       " 0    0.00000    0.00000  \n",
       " \n",
       " [1 rows x 64 columns],\n",
       " 0    0\n",
       " 1    1\n",
       " 2    2\n",
       " 3    3\n",
       " 4    4\n",
       " Name: target, dtype: int32,\n",
       " RangeIndex(start=0, stop=1797, step=1))"
      ]
     },
     "execution_count": 110,
     "metadata": {},
     "output_type": "execute_result"
    }
   ],
   "source": [
    "featureDF.head(1), targetSR.head(), targetSR.index"
   ]
  },
  {
   "cell_type": "code",
   "execution_count": 111,
   "metadata": {},
   "outputs": [
    {
     "name": "stdout",
     "output_type": "stream",
     "text": [
      "(8, 8)\n"
     ]
    },
    {
     "data": {
      "image/png": "[encoded data removed]",
      "text/plain": [
       "<Figure size 640x480 with 1 Axes>"
      ]
     },
     "metadata": {},
     "output_type": "display_data"
    }
   ],
   "source": [
    "## 이미지 데이터 시각화 \n",
    "import matplotlib.pyplot as plt \n",
    "\n",
    "# 1D ==> 2D 형태로 이미지 데이터\n",
    "imgData=featureDF.iloc[-1].to_numpy().reshape(-1, 8)\n",
    "print(imgData.shape)\n",
    "\n",
    "# 시각화\n",
    "plt.imshow(imgData, cmap='binary')\n",
    "plt.title(f'[IMAGE {targetSR[1796]}]')\n",
    "plt.show()"
   ]
  },
  {
   "cell_type": "markdown",
   "metadata": {},
   "source": [
    "- 학습용 데이터셋 준비 : trainDS, testDS"
   ]
  },
  {
   "cell_type": "code",
   "execution_count": 112,
   "metadata": {},
   "outputs": [],
   "source": [
    "X_train, X_test, y_train , y_test =  train_test_split(featureDF, \n",
    "                                                      targetSR,\n",
    "                                                      stratify=targetSR,\n",
    "                                                      random_state=10)"
   ]
  },
  {
   "cell_type": "code",
   "execution_count": 113,
   "metadata": {},
   "outputs": [
    {
     "data": {
      "text/plain": [
       "(       pixel_0_0  pixel_0_1  pixel_0_2  pixel_0_3  pixel_0_4  pixel_0_5  \\\n",
       " count 1797.00000 1797.00000 1797.00000 1797.00000 1797.00000 1797.00000   \n",
       " mean     0.00000    0.00119    0.02041    0.04642    0.04646    0.02267   \n",
       " std      0.00000    0.00356    0.01865    0.01666    0.01681    0.02222   \n",
       " min      0.00000    0.00000    0.00000    0.00000    0.00000    0.00000   \n",
       " 25%      0.00000    0.00000    0.00392    0.03922    0.03922    0.00000   \n",
       " 50%      0.00000    0.00000    0.01569    0.05098    0.05098    0.01569   \n",
       " 75%      0.00000    0.00000    0.03529    0.05882    0.05882    0.04314   \n",
       " max      0.00000    0.03137    0.06275    0.06275    0.06275    0.06275   \n",
       " \n",
       "        pixel_0_6  pixel_0_7  pixel_1_0  pixel_1_1  ...  pixel_6_6  pixel_6_7  \\\n",
       " count 1797.00000 1797.00000 1797.00000 1797.00000  ... 1797.00000 1797.00000   \n",
       " mean     0.00534    0.00051    0.00002    0.00782  ...    0.01461    0.00081   \n",
       " std      0.01304    0.00407    0.00037    0.01253  ...    0.01929    0.00386   \n",
       " min      0.00000    0.00000    0.00000    0.00000  ...    0.00000    0.00000   \n",
       " 25%      0.00000    0.00000    0.00000    0.00000  ...    0.00000    0.00000   \n",
       " 50%      0.00000    0.00000    0.00000    0.00000  ...    0.00392    0.00000   \n",
       " 75%      0.00000    0.00000    0.00000    0.01176  ...    0.02745    0.00000   \n",
       " max      0.06275    0.05882    0.00784    0.06275  ...    0.06275    0.05098   \n",
       " \n",
       "        pixel_7_0  pixel_7_1  pixel_7_2  pixel_7_3  pixel_7_4  pixel_7_5  \\\n",
       " count 1797.00000 1797.00000 1797.00000 1797.00000 1797.00000 1797.00000   \n",
       " mean     0.00000    0.00110    0.02179    0.04741    0.04631    0.02653   \n",
       " std      0.00009    0.00366    0.02001    0.01716    0.01935    0.02314   \n",
       " min      0.00000    0.00000    0.00000    0.00000    0.00000    0.00000   \n",
       " 25%      0.00000    0.00000    0.00392    0.04314    0.03922    0.00000   \n",
       " 50%      0.00000    0.00000    0.01569    0.05098    0.05490    0.02353   \n",
       " 75%      0.00000    0.00000    0.03922    0.06275    0.06275    0.04706   \n",
       " max      0.00392    0.03529    0.06275    0.06275    0.06275    0.06275   \n",
       " \n",
       "        pixel_7_6  pixel_7_7  \n",
       " count 1797.00000 1797.00000  \n",
       " mean     0.00811    0.00143  \n",
       " std      0.01604    0.00729  \n",
       " min      0.00000    0.00000  \n",
       " 25%      0.00000    0.00000  \n",
       " 50%      0.00000    0.00000  \n",
       " 75%      0.00784    0.00000  \n",
       " max      0.06275    0.06275  \n",
       " \n",
       " [8 rows x 64 columns],\n",
       " 3)"
      ]
     },
     "execution_count": 113,
     "metadata": {},
     "output_type": "execute_result"
    }
   ],
   "source": [
    "featureDF.describe(), y_train[y_train.index[0]]"
   ]
  },
  {
   "cell_type": "markdown",
   "metadata": {},
   "source": [
    "- OvR(Over vs Rest) 또는 OvA(Over vs All)\n",
    "    * 클래스마다 이진 분류기 만들어서 가장 높은 결정점수 낸 클래스 선택"
   ]
  },
  {
   "cell_type": "code",
   "execution_count": 114,
   "metadata": {},
   "outputs": [
    {
     "data": {
      "text/html": [
       "<style>#sk-container-id-7 {color: black;}#sk-container-id-7 pre{padding: 0;}#sk-container-id-7 div.sk-toggleable {background-color: white;}#sk-container-id-7 label.sk-toggleable__label {cursor: pointer;display: block;width: 100%;margin-bottom: 0;padding: 0.3em;box-sizing: border-box;text-align: center;}#sk-container-id-7 label.sk-toggleable__label-arrow:before {content: \"▸\";float: left;margin-right: 0.25em;color: #696969;}#sk-container-id-7 label.sk-toggleable__label-arrow:hover:before {color: black;}#sk-container-id-7 div.sk-estimator:hover label.sk-toggleable__label-arrow:before {color: black;}#sk-container-id-7 div.sk-toggleable__content {max-height: 0;max-width: 0;overflow: hidden;text-align: left;background-color: #f0f8ff;}#sk-container-id-7 div.sk-toggleable__content pre {margin: 0.2em;color: black;border-radius: 0.25em;background-color: #f0f8ff;}#sk-container-id-7 input.sk-toggleable__control:checked~div.sk-toggleable__content {max-height: 200px;max-width: 100%;overflow: auto;}#sk-container-id-7 input.sk-toggleable__control:checked~label.sk-toggleable__label-arrow:before {content: \"▾\";}#sk-container-id-7 div.sk-estimator input.sk-toggleable__control:checked~label.sk-toggleable__label {background-color: #d4ebff;}#sk-container-id-7 div.sk-label input.sk-toggleable__control:checked~label.sk-toggleable__label {background-color: #d4ebff;}#sk-container-id-7 input.sk-hidden--visually {border: 0;clip: rect(1px 1px 1px 1px);clip: rect(1px, 1px, 1px, 1px);height: 1px;margin: -1px;overflow: hidden;padding: 0;position: absolute;width: 1px;}#sk-container-id-7 div.sk-estimator {font-family: monospace;background-color: #f0f8ff;border: 1px dotted black;border-radius: 0.25em;box-sizing: border-box;margin-bottom: 0.5em;}#sk-container-id-7 div.sk-estimator:hover {background-color: #d4ebff;}#sk-container-id-7 div.sk-parallel-item::after {content: \"\";width: 100%;border-bottom: 1px solid gray;flex-grow: 1;}#sk-container-id-7 div.sk-label:hover label.sk-toggleable__label {background-color: #d4ebff;}#sk-container-id-7 div.sk-serial::before {content: \"\";position: absolute;border-left: 1px solid gray;box-sizing: border-box;top: 0;bottom: 0;left: 50%;z-index: 0;}#sk-container-id-7 div.sk-serial {display: flex;flex-direction: column;align-items: center;background-color: white;padding-right: 0.2em;padding-left: 0.2em;position: relative;}#sk-container-id-7 div.sk-item {position: relative;z-index: 1;}#sk-container-id-7 div.sk-parallel {display: flex;align-items: stretch;justify-content: center;background-color: white;position: relative;}#sk-container-id-7 div.sk-item::before, #sk-container-id-7 div.sk-parallel-item::before {content: \"\";position: absolute;border-left: 1px solid gray;box-sizing: border-box;top: 0;bottom: 0;left: 50%;z-index: -1;}#sk-container-id-7 div.sk-parallel-item {display: flex;flex-direction: column;z-index: 1;position: relative;background-color: white;}#sk-container-id-7 div.sk-parallel-item:first-child::after {align-self: flex-end;width: 50%;}#sk-container-id-7 div.sk-parallel-item:last-child::after {align-self: flex-start;width: 50%;}#sk-container-id-7 div.sk-parallel-item:only-child::after {width: 0;}#sk-container-id-7 div.sk-dashed-wrapped {border: 1px dashed gray;margin: 0 0.4em 0.5em 0.4em;box-sizing: border-box;padding-bottom: 0.4em;background-color: white;}#sk-container-id-7 div.sk-label label {font-family: monospace;font-weight: bold;display: inline-block;line-height: 1.2em;}#sk-container-id-7 div.sk-label-container {text-align: center;}#sk-container-id-7 div.sk-container {/* jupyter's `normalize.less` sets `[hidden] { display: none; }` but bootstrap.min.css set `[hidden] { display: none !important; }` so we also need the `!important` here to be able to override the default hidden behavior on the sphinx rendered scikit-learn.org. See: https://github.com/scikit-learn/scikit-learn/issues/21755 */display: inline-block !important;position: relative;}#sk-container-id-7 div.sk-text-repr-fallback {display: none;}</style><div id=\"sk-container-id-7\" class=\"sk-top-container\"><div class=\"sk-text-repr-fallback\"><pre>OneVsRestClassifier(estimator=LogisticRegression(max_iter=1000))</pre><b>In a Jupyter environment, please rerun this cell to show the HTML representation or trust the notebook. <br />On GitHub, the HTML representation is unable to render, please try loading this page with nbviewer.org.</b></div><div class=\"sk-container\" hidden><div class=\"sk-item sk-dashed-wrapped\"><div class=\"sk-label-container\"><div class=\"sk-label sk-toggleable\"><input class=\"sk-toggleable__control sk-hidden--visually\" id=\"sk-estimator-id-19\" type=\"checkbox\" ><label for=\"sk-estimator-id-19\" class=\"sk-toggleable__label sk-toggleable__label-arrow\">OneVsRestClassifier</label><div class=\"sk-toggleable__content\"><pre>OneVsRestClassifier(estimator=LogisticRegression(max_iter=1000))</pre></div></div></div><div class=\"sk-parallel\"><div class=\"sk-parallel-item\"><div class=\"sk-item\"><div class=\"sk-label-container\"><div class=\"sk-label sk-toggleable\"><input class=\"sk-toggleable__control sk-hidden--visually\" id=\"sk-estimator-id-20\" type=\"checkbox\" ><label for=\"sk-estimator-id-20\" class=\"sk-toggleable__label sk-toggleable__label-arrow\">estimator: LogisticRegression</label><div class=\"sk-toggleable__content\"><pre>LogisticRegression(max_iter=1000)</pre></div></div></div><div class=\"sk-serial\"><div class=\"sk-item\"><div class=\"sk-estimator sk-toggleable\"><input class=\"sk-toggleable__control sk-hidden--visually\" id=\"sk-estimator-id-21\" type=\"checkbox\" ><label for=\"sk-estimator-id-21\" class=\"sk-toggleable__label sk-toggleable__label-arrow\">LogisticRegression</label><div class=\"sk-toggleable__content\"><pre>LogisticRegression(max_iter=1000)</pre></div></div></div></div></div></div></div></div></div></div>"
      ],
      "text/plain": [
       "OneVsRestClassifier(estimator=LogisticRegression(max_iter=1000))"
      ]
     },
     "execution_count": 114,
     "metadata": {},
     "output_type": "execute_result"
    }
   ],
   "source": [
    "# 모듈로딩\n",
    "from sklearn.multiclass import OneVsRestClassifier\n",
    "from sklearn.neighbors import KNeighborsClassifier\n",
    "from sklearn.svm import SVC\n",
    "from sklearn.linear_model import LogisticRegression\n",
    "\n",
    "ovr_clf = OneVsRestClassifier(LogisticRegression())\n",
    "ovr_clf.fit(X_train,y_train)"
   ]
  },
  {
   "cell_type": "code",
   "execution_count": 115,
   "metadata": {},
   "outputs": [
    {
     "name": "stdout",
     "output_type": "stream",
     "text": [
      "ovr_clf.estimators_ : 10개\n",
      "ovr_clf.classes_    : [0 1 2 3 4 5 6 7 8 9]\n",
      "ovr_clf.classes_    : 10\n",
      "ovr_clf.label_binarizer_ : LabelBinarizer(sparse_output=True)\n"
     ]
    }
   ],
   "source": [
    "# 모델 파라미터\n",
    "print(f'ovr_clf.estimators_ : {len(ovr_clf.estimators_)}개' )\n",
    "print(f'ovr_clf.classes_    : {ovr_clf.classes_}' )\n",
    "print(f'ovr_clf.classes_    : {ovr_clf.n_classes_ }' )\n",
    "print(f'ovr_clf.label_binarizer_ : {ovr_clf.label_binarizer_}' )"
   ]
  },
  {
   "cell_type": "code",
   "execution_count": 116,
   "metadata": {},
   "outputs": [],
   "source": [
    "from scipy.special import expit, softmax\n",
    "#print(expit(decisions))"
   ]
  },
  {
   "cell_type": "code",
   "execution_count": 173,
   "metadata": {},
   "outputs": [
    {
     "name": "stdout",
     "output_type": "stream",
     "text": [
      "[[0.924448 0.075552]]\n",
      "[[0.913756 0.086244]]\n",
      "[[0.905393 0.094607]]\n",
      "[[0.860393 0.139607]]\n",
      "[[0.923555 0.076445]]\n",
      "[[0.871813 0.128187]]\n",
      "[[0.890954 0.109046]]\n",
      "[[0.92078 0.07922]]\n",
      "[[0.920436 0.079564]]\n",
      "[[0.912155 0.087845]]\n",
      "[decision_functions] [-2.5043802644471325, -2.3603881315800845, -2.2586408058549936, -1.8185555920385976, -2.491658466037793, -1.9170847719130162, -2.1005255746802383, -2.4529991717688704, -2.4482801634589726, -2.3402410714984874]\n",
      "[predict_probas] [0.07555167713153006, 0.08624360262451121, 0.09460672835232395, 0.13960728074143958, 0.07644502540599797, 0.12818700493604593, 0.10904574861369348, 0.07921950200894547, 0.07956440850685222, 0.08784459635140475]\n",
      "sum[predict_probas] 0.9563155746727446\n",
      "---------------------\n",
      "[선형식값] [-2.5043802644471325, -2.3603881315800845, -2.2586408058549936, -1.8185555920385976, -2.491658466037793, -1.9170847719130162, -2.1005255746802383, -2.4529991717688704, -2.4482801634589726, -2.3402410714984874]\n",
      "[[0.079003 0.090183 0.098928 0.145985 0.079937 0.134043 0.114027 0.082838\n",
      "  0.083199 0.091857]]\n"
     ]
    }
   ],
   "source": [
    "#print(X_train.iloc[:1], y_train[y_train.index[0]])\n",
    "\n",
    "decision_functions=[]\n",
    "estimators_prova=[]\n",
    "predict_probas=[]\n",
    "for idx in range(ovr_clf.n_classes_):\n",
    "    decision_functions.append(ovr_clf.estimators_[idx].decision_function(X_train.iloc[:1])[0])\n",
    "    estimators_prova.append(expit(ovr_clf.estimators_[idx].decision_function(X_train.iloc[:1])[0]))\n",
    "    print(ovr_clf.estimators_[idx].predict_proba(X_train.iloc[:1]))\n",
    "    predict_probas.append(ovr_clf.estimators_[idx].predict_proba(X_train.iloc[:1]).tolist()[0][1])\n",
    "    \n",
    "print('[decision_functions]', decision_functions)\n",
    "print('[predict_probas]', predict_probas)\n",
    "print('sum[predict_probas]', sum(predict_probas))\n",
    "\n",
    "print('---------------------')\n",
    "all_result = ovr_clf.decision_function(X_train.iloc[:1])\n",
    "print('[선형식값]',all_result.tolist()[0])\n",
    "predict_proba_values=ovr_clf.predict_proba(X_train.iloc[:1])\n",
    "print(predict_proba_values)\n"
   ]
  },
  {
   "cell_type": "code",
   "execution_count": 135,
   "metadata": {},
   "outputs": [
    {
     "data": {
      "text/plain": [
       "(0.1922541458164618, 3)"
      ]
     },
     "execution_count": 135,
     "metadata": {},
     "output_type": "execute_result"
    }
   ],
   "source": [
    "ovr_clf.predict_proba(X_test.iloc[:1]).max(), ovr_clf.predict_proba(X_test.iloc[:1]).argmax()"
   ]
  },
  {
   "cell_type": "markdown",
   "metadata": {},
   "source": []
  }
 ],
 "metadata": {
  "kernelspec": {
   "display_name": "ML_38",
   "language": "python",
   "name": "python3"
  },
  "language_info": {
   "codemirror_mode": {
    "name": "ipython",
    "version": 3
   },
   "file_extension": ".py",
   "mimetype": "text/x-python",
   "name": "python",
   "nbconvert_exporter": "python",
   "pygments_lexer": "ipython3",
   "version": "3.8.19"
  }
 },
 "nbformat": 4,
 "nbformat_minor": 2
}

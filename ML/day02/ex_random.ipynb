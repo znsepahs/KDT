{
 "cells": [
  {
   "cell_type": "markdown",
   "metadata": {},
   "source": [
    "#### 임의의 숫자 즉, 난수 추출\n",
    "- random 모듈 존재\n",
    "- 0.0 ~ 1.0 실수 추출\n",
    "- n ~ m 정수 추출\n",
    "- random 값 고정 => seed 기능"
   ]
  },
  {
   "cell_type": "code",
   "execution_count": 1,
   "metadata": {},
   "outputs": [],
   "source": [
    "import random as rad"
   ]
  },
  {
   "cell_type": "code",
   "execution_count": 4,
   "metadata": {},
   "outputs": [
    {
     "name": "stdout",
     "output_type": "stream",
     "text": [
      "2\n",
      "1\n",
      "2\n",
      "2\n",
      "1\n",
      "1\n",
      "1\n",
      "1\n",
      "2\n",
      "2\n"
     ]
    }
   ],
   "source": [
    "for _ in range(10):\n",
    "    print(rad.randint(1,2))"
   ]
  },
  {
   "cell_type": "code",
   "execution_count": 5,
   "metadata": {},
   "outputs": [
    {
     "name": "stdout",
     "output_type": "stream",
     "text": [
      "0.14039974065909322\n",
      "0.20323171538359852\n",
      "0.11925652294997424\n",
      "0.7145135987347606\n",
      "0.042186860061480425\n",
      "0.2555509120201275\n",
      "0.6347988407786515\n",
      "0.4152707836024848\n",
      "0.07151640846518992\n",
      "0.8298850146199738\n"
     ]
    }
   ],
   "source": [
    "# 실수 임의의 수 추출\n",
    "for _ in range(10):\n",
    "    print(rad.random())"
   ]
  },
  {
   "cell_type": "code",
   "execution_count": 8,
   "metadata": {},
   "outputs": [
    {
     "name": "stdout",
     "output_type": "stream",
     "text": [
      "0.5714025946899135\n",
      "0.4288890546751146\n",
      "0.5780913011344704\n",
      "0.20609823213950174\n",
      "0.81332125135732\n",
      "0.8235888725334455\n",
      "0.6534725339011758\n",
      "0.16022955651881965\n",
      "0.5206693596399246\n",
      "0.32777281162209315\n"
     ]
    }
   ],
   "source": [
    "rad.seed(10)\n",
    "for _ in range(10):\n",
    "    print(rad.random())"
   ]
  },
  {
   "cell_type": "code",
   "execution_count": 15,
   "metadata": {},
   "outputs": [],
   "source": [
    "X=[[10],[3],[9],[5],[8],[7],[12],[67],[91],[45],[2],[17]]\n",
    "\n",
    "y=[1,2,3,4,5,6,7,8,9,10,11,12]"
   ]
  },
  {
   "cell_type": "code",
   "execution_count": 13,
   "metadata": {},
   "outputs": [],
   "source": [
    "from sklearn.model_selection import train_test_split"
   ]
  },
  {
   "cell_type": "code",
   "execution_count": 21,
   "metadata": {},
   "outputs": [
    {
     "name": "stdout",
     "output_type": "stream",
     "text": [
      "X : [[10], [3], [9], [5], [8], [7], [12], [67], [91], [45], [2], [17]]\n",
      "X_train : [[10], [3], [9], [5], [8], [7], [12], [67], [91]]\n",
      "X_test : [[45], [2], [17]]\n"
     ]
    }
   ],
   "source": [
    "# 섞지 않고 학습용/테스트용 데이터셋 분리\n",
    "X_train, X_test, y_train, y_test=train_test_split(X,y,shuffle=False)\n",
    "\n",
    "print(f'X : {X}')\n",
    "print(f'X_train : {X_train}')\n",
    "print(f'X_test : {X_test}')"
   ]
  },
  {
   "cell_type": "code",
   "execution_count": 26,
   "metadata": {},
   "outputs": [
    {
     "name": "stdout",
     "output_type": "stream",
     "text": [
      "X : [[10], [3], [9], [5], [8], [7], [12], [67], [91], [45], [2], [17]]\n",
      "X_train : [[3], [8], [45], [10], [67], [17], [7], [5], [2]]\n",
      "X_test : [[12], [9], [91]]\n"
     ]
    }
   ],
   "source": [
    "# 섞어서 학습용/테스트용 데이터셋 분리 => 실행할 때 마다 변경\n",
    "X_train, X_test, y_train, y_test=train_test_split(X,y)\n",
    "\n",
    "print(f'X : {X}')\n",
    "print(f'X_train : {X_train}')\n",
    "print(f'X_test : {X_test}')"
   ]
  },
  {
   "cell_type": "code",
   "execution_count": 24,
   "metadata": {},
   "outputs": [
    {
     "name": "stdout",
     "output_type": "stream",
     "text": [
      "X : [[10], [3], [9], [5], [8], [7], [12], [67], [91], [45], [2], [17]]\n",
      "X_train : [[7], [17], [91], [2], [5], [3], [10], [8], [45]]\n",
      "X_test : [[9], [12], [67]]\n"
     ]
    }
   ],
   "source": [
    "# 섞어서 학습용/테스트용 데이터셋 분리\n",
    "# random에서 seed 설정 역할 매개변수 => random_state\n",
    "X_train, X_test, y_train, y_test=train_test_split(X,y, random_state=10)\n",
    "\n",
    "print(f'X : {X}')\n",
    "print(f'X_train : {X_train}')\n",
    "print(f'X_test : {X_test}')"
   ]
  },
  {
   "cell_type": "code",
   "execution_count": null,
   "metadata": {},
   "outputs": [],
   "source": []
  }
 ],
 "metadata": {
  "kernelspec": {
   "display_name": "ML_38",
   "language": "python",
   "name": "python3"
  },
  "language_info": {
   "codemirror_mode": {
    "name": "ipython",
    "version": 3
   },
   "file_extension": ".py",
   "mimetype": "text/x-python",
   "name": "python",
   "nbconvert_exporter": "python",
   "pygments_lexer": "ipython3",
   "version": "3.8.19"
  }
 },
 "nbformat": 4,
 "nbformat_minor": 2
}

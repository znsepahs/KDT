{
 "cells": [
  {
   "cell_type": "markdown",
   "metadata": {},
   "source": [
    "## ML-TEST 1차"
   ]
  },
  {
   "cell_type": "markdown",
   "metadata": {},
   "source": [
    "### 1. 기계학습 프로세스에 대해 간략하게 설명하세요."
   ]
  },
  {
   "cell_type": "markdown",
   "metadata": {},
   "source": [
    "> 기계학습(머신러닝)이란 컴퓨터에게 전처리를 마친 데이터를 자동으로 학습을 시킨 뒤, 미래에 동일한 유형의 새로운 데이터가 주어졌을 때 해당 데이터의 문제를 풀어 답을 도출하는 일련의 과정입니다."
   ]
  },
  {
   "cell_type": "markdown",
   "metadata": {},
   "source": [
    "### 2. 기계학습에 사용되는 데이터셋에 대해 설명하세요."
   ]
  },
  {
   "cell_type": "markdown",
   "metadata": {},
   "source": [
    "> 기계학습에 사용되는 데이터셋은 크게 분류용 데이터와 예측용 데이터로 나뉩니다. 분류용 데이터는 타겟이 범주형으로 이루어져 있어 새로운 데이터가 어느 범주에 속할지를 분류하고, 예측용 데이터는 타겟이 수치형으로 이루어져 있어 새로운 데이터가 어떤 값일지를 예측합니다."
   ]
  },
  {
   "cell_type": "markdown",
   "metadata": {},
   "source": [
    "> 또한, 기계학습을 진행할때 데이터의 일반화 성능을 위해 train, test set으로 나눕니다. train set은 다시 train, validation set으로 나누며 train + validation set은 모델을 학습하고 파라미터를 조정할때 사용하며, test set은 최종적인 모델의 성능을 평가하기 위해 사용합니다.  \n",
    "그리고, test set의 경우 절대로 모델 학습에 관여해서는 안됩니다."
   ]
  },
  {
   "cell_type": "markdown",
   "metadata": {},
   "source": [
    "### 3. 지도학습의 특징을 설명하세요."
   ]
  },
  {
   "cell_type": "markdown",
   "metadata": {},
   "source": [
    "> 지도학습이란 문제와 정답이 모두 있는 데이터를 컴퓨터에게 입력하여 학습을 시키는 방법입니다. 문제의 정답이 존재하기 때문에 정확도(accuracy)를 통해 모델의 성능을 확인할 수 있습니다."
   ]
  },
  {
   "cell_type": "markdown",
   "metadata": {},
   "source": [
    "### 4. 데이터 전처리 중 처음 데이터 수집 후 데이터 정제하는 과정에 진행되는 작업을 설명하세요."
   ]
  },
  {
   "cell_type": "markdown",
   "metadata": {},
   "source": [
    "> 1. 데이터에 어떠한 컬럼들이 있고 행과 열은 몇 개인지, 컬럼의 자료형은 무엇인지 등을 파악합니다.\n",
    "> 2. 결측치와 이상치가 존재하는 곳을 확인 후 삭제할지, 어떠한 값으로 채울지 결정합니다.\n",
    "> 3. EDA(탐색적 자료 분석)를 통해 데이터의 관계를 표나 그래프를 통해 파악하고 어떠한 피쳐를 사용할지 판단합니다.\n",
    "> 4. 알고리즘 훈련을 위해 데이터를 훈련/테스트 세트로 분할합니다.\n",
    "> 5. 사용하고자 하는 알고리즘의 종류, 데이터의 특성 등을 파악하여 피쳐 스케일링, 피쳐 인코딩, 파생 변수 생성 등을 진행합니다."
   ]
  },
  {
   "cell_type": "markdown",
   "metadata": {},
   "source": [
    "### 5. 모델 개념을 설명해 주세요."
   ]
  },
  {
   "cell_type": "markdown",
   "metadata": {},
   "source": [
    "> 모델은 데이터를 통해 알고리즘이 학습한 결과물이며 모델을 통해 새로운 데이터를 예측하거나 분류할 수 있습니다."
   ]
  },
  {
   "cell_type": "markdown",
   "metadata": {},
   "source": [
    "### 6. 모델의 결과 값이 수치를 예측해주는 기계학습은 무엇인가요?"
   ]
  },
  {
   "cell_type": "markdown",
   "metadata": {},
   "source": [
    "> 예측은 회귀(Regression)입니다."
   ]
  },
  {
   "cell_type": "markdown",
   "metadata": {},
   "source": [
    "### 7. 모델 파라미터는 무엇인가요?"
   ]
  },
  {
   "cell_type": "markdown",
   "metadata": {},
   "source": [
    "> 모델 파라미터란 알고리즘이 학습을 통해 스스로 도출하는 파라미터를 말합니다."
   ]
  },
  {
   "cell_type": "markdown",
   "metadata": {},
   "source": [
    "### 8. KNN 알고리즘에 대해 설명해 주세요."
   ]
  },
  {
   "cell_type": "markdown",
   "metadata": {},
   "source": [
    "> K 최근접 이웃(KNN) 알고리즘은 새로운 독립변수 데이터가 입력 되었을때 그 데이터와 거리가 가장 가까운 K개의 이웃(Neighbors)을 기준으로, 분류(Classification)의 경우 다수의 클래스 값으로, 회귀(Regression)의 경우 평균 값으로 종속변수 값을 결정하는 알고리즘입니다. KNN 알고리즘은 모델을 미리 만들지 않으며 새로운 데이터가 입력되면 계산을 시작하기 때문에 게으른 학습 알고리즘이라고 불립니다."
   ]
  },
  {
   "cell_type": "markdown",
   "metadata": {},
   "source": [
    "### 9. 하이퍼 파라미터는 무엇인가요?"
   ]
  },
  {
   "cell_type": "markdown",
   "metadata": {},
   "source": [
    "> 하이퍼 파라미터란 분석가가 직접 설정 해줘야 하는 파라미터를 말합니다."
   ]
  },
  {
   "cell_type": "markdown",
   "metadata": {},
   "source": [
    "### 10. Regression의 성능평가 지표들을 설명하세요."
   ]
  },
  {
   "cell_type": "markdown",
   "metadata": {},
   "source": [
    "> 회귀(Regression)의 성능지표의 종류로는 MSE, RMSE, MAE, R^2 등이 있습니다.  \n",
    "> MSE : 평균제곱오차(Mean-Squared-Error)는 실제값과 예측값 차이의 제곱을 모두 더한 뒤 평균을 낸 값으로 작을 수록 성능이 좋습니다.  \n",
    "> RMSE : 평균제곱근오차(Root-Mean-Squared_Error)는 MSE를 제곱근 한 값으로 데이터의 단위를 피쳐의 단위와 맞춰서 보기 위해 사용합니다.  \n",
    "> MAE : 평균절대값오차(Mean-Absolute-Error)는 실제값과 예측값 차이의 절대값을 모두 더한 뒤 평균을 낸 값으로 작을 수록 성능이 좋습니다.  \n",
    "> R^2: 결정계수는 회귀제곱합(SSR)/총제곱합(SST)로 총 데이터에서 회귀모델이 설명하는 비율을 나타낸 값으로 이 값이 1이면 모든 데이터가 정확하게 회귀모델 위에 존재하게 됩니다.\n"
   ]
  },
  {
   "cell_type": "markdown",
   "metadata": {},
   "source": [
    "### 11. LinearRegression 알고리즘에 대해 설명해 주세요."
   ]
  },
  {
   "cell_type": "markdown",
   "metadata": {},
   "source": [
    "> 선형 회귀 알고리즘은 독립변수와 종속변수의 관계가 선형을 띈다는 가정을 세웠을때 사용하는 알고리즘입니다. 데이터를 가장 잘 설명하는 선형 함수를 찾는 알고리즘이며 일반적으로 최소제곱법(OLS)를 사용하여 회귀계수와 절편을 찾아냅니다."
   ]
  },
  {
   "cell_type": "markdown",
   "metadata": {},
   "source": [
    "### 12. Classification의 성능평가 지표들을 설명하세요."
   ]
  },
  {
   "cell_type": "markdown",
   "metadata": {},
   "source": [
    "|||예|측|\n",
    "|-|-|-|-|\n",
    "|||참|거짓|\n",
    "|실|참|TP|FN|\n",
    "|제|거짓|FP|TN|"
   ]
  },
  {
   "cell_type": "markdown",
   "metadata": {},
   "source": [
    "> 분류(Classification)의 성능지표의 종류로는 정확도, 정밀도, 민감도, 특이도, F1-score, ROC, AUC 등이 있습니다.  \n",
    "> 정확도(Accuracy) : (TP + TN) / (TP+FP+FN+TN)으로 전체 데이터에서 옳게 분류한 비율입니다.  \n",
    "> 정밀도(Precision) : TP/(TP+FP) 참으로 예측한 것 중에 실제로 참인 것의 비율입니다.  \n",
    "> 민감도(Sensitive/Recall) : TP/(TP+FN) 실제로 참인 것 중에 예측을 참으로 한 것의 비율입니다.  \n",
    "> 특이도(Specificity) : TN/(FP+TN) 실제로 거짓인 것 중에 예측을 거짓으로 한 것의 비율입니다.  \n",
    "> F1-Score : 2*(Precision*Recall)/(Precision+Recall)으로 정밀도와 민감도의 조화평균입니다. 둘 중 어느 한 값만 높으면 값이 작아지고 두 값이 모두 높아야 값이 커집니다.  \n",
    "> ROC : x축은 1-특이도, y축은 민감도를 놓고 곡선을 그린 그래프로 커브가 좌측 상단에 가까울 수록 좋은 성능을 뜻합니다.  \n",
    "> AUC : ROC 그래프의 커브 아랫쪽 면적을 뜻하며 성능이 안좋을 수록 0.5에 가깝고 성능이 좋을 수록 1에 가깝습니다. "
   ]
  },
  {
   "cell_type": "markdown",
   "metadata": {},
   "source": [
    "### 13. 피쳐공학에 대해 설명하세요."
   ]
  },
  {
   "cell_type": "markdown",
   "metadata": {},
   "source": [
    "> 특성공학이란 머신러닝을 통해 생성한 모델의 성능을 향상시키기 위해 특성들을 최적화시키는 과정을 말합니다."
   ]
  },
  {
   "cell_type": "markdown",
   "metadata": {},
   "source": [
    "### 14. LogisticRegression 알고리즘에 대해 설명해 주세요."
   ]
  },
  {
   "cell_type": "markdown",
   "metadata": {},
   "source": [
    "> 로지스틱 회귀 알고리즘이란 일반화 선형 모형(Generalized Linear Model)을 통해 logit(로그 오즈) 함수를 연결 함수(Link Function)로 하는 선형모형식을 세워 독립변수들의 값에 따른 양성 클래스(Y=1)의 확률값을 시그모이드 함수로 계산해 분류에 사용하는 비선형 알고리즘입니다."
   ]
  },
  {
   "cell_type": "markdown",
   "metadata": {},
   "source": [
    "### 15. 과대적합/과소적합에 대해 설명해 주세요."
   ]
  },
  {
   "cell_type": "markdown",
   "metadata": {},
   "source": [
    "> 과대적합이란 훈련 데이터에 대한 성능은 너무 높게 나오고 테스트 데이터에 대한 성능은 낮게 나오는 경우를 말합니다. 일반적으로 데이터의 개수가 적거나 피쳐의 차원이 너무 클때 발생합니다."
   ]
  },
  {
   "cell_type": "markdown",
   "metadata": {},
   "source": [
    "> 과소적합이란 모델이 충분한 훈련을 수행하지 않아 훈련 데이터에 대한 성능 자체가 낮게 나오는 경우를 말합니다. 일반적으로 적합한 알고리즘으로 데이터를 학습하지 못하였거나 데이터의 전처리, 정제를 잘못한 경우 발생합니다."
   ]
  },
  {
   "cell_type": "markdown",
   "metadata": {},
   "source": [
    "### 16. 아래 데이터셋을 기반으로 분류/회귀 모델을 완성 후 성능평가까지 구현하세요."
   ]
  },
  {
   "cell_type": "markdown",
   "metadata": {},
   "source": [
    "- 데이터셋 : iris.csv\n",
    "- 조건\n",
    "    * 분류 : 3개 품종 중 2개 선택하여 이진 분류 진행\n",
    "    * 회귀 : 3개 품종 중 12개 선택, 4개 피쳐 중 꽃잎의 길이값 예측 회귀"
   ]
  },
  {
   "cell_type": "markdown",
   "metadata": {},
   "source": [
    "#### 분류"
   ]
  },
  {
   "cell_type": "code",
   "execution_count": 102,
   "metadata": {},
   "outputs": [],
   "source": [
    "from sklearn.datasets import load_iris\n",
    "import pandas as pd\n",
    "import matplotlib.pyplot as plt\n",
    "import numpy as np\n",
    "from sklearn.model_selection import train_test_split\n",
    "from sklearn.neighbors import KNeighborsClassifier\n",
    "from sklearn.linear_model import LinearRegression\n",
    "from sklearn.preprocessing import MinMaxScaler\n",
    "from sklearn.metrics import mean_squared_error, mean_absolute_error, r2_score\n",
    "from itertools import combinations"
   ]
  },
  {
   "cell_type": "code",
   "execution_count": 73,
   "metadata": {},
   "outputs": [],
   "source": [
    "iris = load_iris(as_frame = True)\n",
    "feature = iris['data']\n",
    "target = iris['target']"
   ]
  },
  {
   "cell_type": "code",
   "execution_count": 74,
   "metadata": {},
   "outputs": [
    {
     "data": {
      "text/plain": [
       "array(['setosa', 'versicolor', 'virginica'], dtype='<U10')"
      ]
     },
     "execution_count": 74,
     "metadata": {},
     "output_type": "execute_result"
    }
   ],
   "source": [
    "iris['target_names']"
   ]
  },
  {
   "cell_type": "code",
   "execution_count": 75,
   "metadata": {},
   "outputs": [
    {
     "data": {
      "text/html": [
       "<div>\n",
       "<style scoped>\n",
       "    .dataframe tbody tr th:only-of-type {\n",
       "        vertical-align: middle;\n",
       "    }\n",
       "\n",
       "    .dataframe tbody tr th {\n",
       "        vertical-align: top;\n",
       "    }\n",
       "\n",
       "    .dataframe thead th {\n",
       "        text-align: right;\n",
       "    }\n",
       "</style>\n",
       "<table border=\"1\" class=\"dataframe\">\n",
       "  <thead>\n",
       "    <tr style=\"text-align: right;\">\n",
       "      <th></th>\n",
       "      <th>sepal length (cm)</th>\n",
       "      <th>sepal width (cm)</th>\n",
       "      <th>petal length (cm)</th>\n",
       "      <th>petal width (cm)</th>\n",
       "      <th>target</th>\n",
       "      <th>target_name</th>\n",
       "    </tr>\n",
       "  </thead>\n",
       "  <tbody>\n",
       "    <tr>\n",
       "      <th>0</th>\n",
       "      <td>5.1</td>\n",
       "      <td>3.5</td>\n",
       "      <td>1.4</td>\n",
       "      <td>0.2</td>\n",
       "      <td>0</td>\n",
       "      <td>setosa</td>\n",
       "    </tr>\n",
       "    <tr>\n",
       "      <th>1</th>\n",
       "      <td>4.9</td>\n",
       "      <td>3.0</td>\n",
       "      <td>1.4</td>\n",
       "      <td>0.2</td>\n",
       "      <td>0</td>\n",
       "      <td>setosa</td>\n",
       "    </tr>\n",
       "    <tr>\n",
       "      <th>2</th>\n",
       "      <td>4.7</td>\n",
       "      <td>3.2</td>\n",
       "      <td>1.3</td>\n",
       "      <td>0.2</td>\n",
       "      <td>0</td>\n",
       "      <td>setosa</td>\n",
       "    </tr>\n",
       "    <tr>\n",
       "      <th>3</th>\n",
       "      <td>4.6</td>\n",
       "      <td>3.1</td>\n",
       "      <td>1.5</td>\n",
       "      <td>0.2</td>\n",
       "      <td>0</td>\n",
       "      <td>setosa</td>\n",
       "    </tr>\n",
       "    <tr>\n",
       "      <th>4</th>\n",
       "      <td>5.0</td>\n",
       "      <td>3.6</td>\n",
       "      <td>1.4</td>\n",
       "      <td>0.2</td>\n",
       "      <td>0</td>\n",
       "      <td>setosa</td>\n",
       "    </tr>\n",
       "    <tr>\n",
       "      <th>...</th>\n",
       "      <td>...</td>\n",
       "      <td>...</td>\n",
       "      <td>...</td>\n",
       "      <td>...</td>\n",
       "      <td>...</td>\n",
       "      <td>...</td>\n",
       "    </tr>\n",
       "    <tr>\n",
       "      <th>145</th>\n",
       "      <td>6.7</td>\n",
       "      <td>3.0</td>\n",
       "      <td>5.2</td>\n",
       "      <td>2.3</td>\n",
       "      <td>2</td>\n",
       "      <td>virginica</td>\n",
       "    </tr>\n",
       "    <tr>\n",
       "      <th>146</th>\n",
       "      <td>6.3</td>\n",
       "      <td>2.5</td>\n",
       "      <td>5.0</td>\n",
       "      <td>1.9</td>\n",
       "      <td>2</td>\n",
       "      <td>virginica</td>\n",
       "    </tr>\n",
       "    <tr>\n",
       "      <th>147</th>\n",
       "      <td>6.5</td>\n",
       "      <td>3.0</td>\n",
       "      <td>5.2</td>\n",
       "      <td>2.0</td>\n",
       "      <td>2</td>\n",
       "      <td>virginica</td>\n",
       "    </tr>\n",
       "    <tr>\n",
       "      <th>148</th>\n",
       "      <td>6.2</td>\n",
       "      <td>3.4</td>\n",
       "      <td>5.4</td>\n",
       "      <td>2.3</td>\n",
       "      <td>2</td>\n",
       "      <td>virginica</td>\n",
       "    </tr>\n",
       "    <tr>\n",
       "      <th>149</th>\n",
       "      <td>5.9</td>\n",
       "      <td>3.0</td>\n",
       "      <td>5.1</td>\n",
       "      <td>1.8</td>\n",
       "      <td>2</td>\n",
       "      <td>virginica</td>\n",
       "    </tr>\n",
       "  </tbody>\n",
       "</table>\n",
       "<p>150 rows × 6 columns</p>\n",
       "</div>"
      ],
      "text/plain": [
       "     sepal length (cm)  sepal width (cm)  petal length (cm)  petal width (cm)  \\\n",
       "0                  5.1               3.5                1.4               0.2   \n",
       "1                  4.9               3.0                1.4               0.2   \n",
       "2                  4.7               3.2                1.3               0.2   \n",
       "3                  4.6               3.1                1.5               0.2   \n",
       "4                  5.0               3.6                1.4               0.2   \n",
       "..                 ...               ...                ...               ...   \n",
       "145                6.7               3.0                5.2               2.3   \n",
       "146                6.3               2.5                5.0               1.9   \n",
       "147                6.5               3.0                5.2               2.0   \n",
       "148                6.2               3.4                5.4               2.3   \n",
       "149                5.9               3.0                5.1               1.8   \n",
       "\n",
       "     target target_name  \n",
       "0         0      setosa  \n",
       "1         0      setosa  \n",
       "2         0      setosa  \n",
       "3         0      setosa  \n",
       "4         0      setosa  \n",
       "..      ...         ...  \n",
       "145       2   virginica  \n",
       "146       2   virginica  \n",
       "147       2   virginica  \n",
       "148       2   virginica  \n",
       "149       2   virginica  \n",
       "\n",
       "[150 rows x 6 columns]"
      ]
     },
     "execution_count": 75,
     "metadata": {},
     "output_type": "execute_result"
    }
   ],
   "source": [
    "iris_df = pd.concat((feature, target), axis = 1)\n",
    "iris_df['target_name'] = iris_df['target'].replace({idx : name for idx, name in enumerate(iris['target_names'])})\n",
    "iris_df"
   ]
  },
  {
   "cell_type": "code",
   "execution_count": 76,
   "metadata": {},
   "outputs": [
    {
     "data": {
      "text/html": [
       "<div>\n",
       "<style scoped>\n",
       "    .dataframe tbody tr th:only-of-type {\n",
       "        vertical-align: middle;\n",
       "    }\n",
       "\n",
       "    .dataframe tbody tr th {\n",
       "        vertical-align: top;\n",
       "    }\n",
       "\n",
       "    .dataframe thead th {\n",
       "        text-align: right;\n",
       "    }\n",
       "</style>\n",
       "<table border=\"1\" class=\"dataframe\">\n",
       "  <thead>\n",
       "    <tr style=\"text-align: right;\">\n",
       "      <th></th>\n",
       "      <th>sepal length (cm)</th>\n",
       "      <th>sepal width (cm)</th>\n",
       "      <th>petal length (cm)</th>\n",
       "      <th>petal width (cm)</th>\n",
       "      <th>target</th>\n",
       "      <th>target_name</th>\n",
       "    </tr>\n",
       "  </thead>\n",
       "  <tbody>\n",
       "    <tr>\n",
       "      <th>0</th>\n",
       "      <td>5.1</td>\n",
       "      <td>3.5</td>\n",
       "      <td>1.4</td>\n",
       "      <td>0.2</td>\n",
       "      <td>0</td>\n",
       "      <td>setosa</td>\n",
       "    </tr>\n",
       "    <tr>\n",
       "      <th>1</th>\n",
       "      <td>4.9</td>\n",
       "      <td>3.0</td>\n",
       "      <td>1.4</td>\n",
       "      <td>0.2</td>\n",
       "      <td>0</td>\n",
       "      <td>setosa</td>\n",
       "    </tr>\n",
       "    <tr>\n",
       "      <th>2</th>\n",
       "      <td>4.7</td>\n",
       "      <td>3.2</td>\n",
       "      <td>1.3</td>\n",
       "      <td>0.2</td>\n",
       "      <td>0</td>\n",
       "      <td>setosa</td>\n",
       "    </tr>\n",
       "    <tr>\n",
       "      <th>3</th>\n",
       "      <td>4.6</td>\n",
       "      <td>3.1</td>\n",
       "      <td>1.5</td>\n",
       "      <td>0.2</td>\n",
       "      <td>0</td>\n",
       "      <td>setosa</td>\n",
       "    </tr>\n",
       "    <tr>\n",
       "      <th>4</th>\n",
       "      <td>5.0</td>\n",
       "      <td>3.6</td>\n",
       "      <td>1.4</td>\n",
       "      <td>0.2</td>\n",
       "      <td>0</td>\n",
       "      <td>setosa</td>\n",
       "    </tr>\n",
       "    <tr>\n",
       "      <th>...</th>\n",
       "      <td>...</td>\n",
       "      <td>...</td>\n",
       "      <td>...</td>\n",
       "      <td>...</td>\n",
       "      <td>...</td>\n",
       "      <td>...</td>\n",
       "    </tr>\n",
       "    <tr>\n",
       "      <th>95</th>\n",
       "      <td>5.7</td>\n",
       "      <td>3.0</td>\n",
       "      <td>4.2</td>\n",
       "      <td>1.2</td>\n",
       "      <td>1</td>\n",
       "      <td>versicolor</td>\n",
       "    </tr>\n",
       "    <tr>\n",
       "      <th>96</th>\n",
       "      <td>5.7</td>\n",
       "      <td>2.9</td>\n",
       "      <td>4.2</td>\n",
       "      <td>1.3</td>\n",
       "      <td>1</td>\n",
       "      <td>versicolor</td>\n",
       "    </tr>\n",
       "    <tr>\n",
       "      <th>97</th>\n",
       "      <td>6.2</td>\n",
       "      <td>2.9</td>\n",
       "      <td>4.3</td>\n",
       "      <td>1.3</td>\n",
       "      <td>1</td>\n",
       "      <td>versicolor</td>\n",
       "    </tr>\n",
       "    <tr>\n",
       "      <th>98</th>\n",
       "      <td>5.1</td>\n",
       "      <td>2.5</td>\n",
       "      <td>3.0</td>\n",
       "      <td>1.1</td>\n",
       "      <td>1</td>\n",
       "      <td>versicolor</td>\n",
       "    </tr>\n",
       "    <tr>\n",
       "      <th>99</th>\n",
       "      <td>5.7</td>\n",
       "      <td>2.8</td>\n",
       "      <td>4.1</td>\n",
       "      <td>1.3</td>\n",
       "      <td>1</td>\n",
       "      <td>versicolor</td>\n",
       "    </tr>\n",
       "  </tbody>\n",
       "</table>\n",
       "<p>100 rows × 6 columns</p>\n",
       "</div>"
      ],
      "text/plain": [
       "    sepal length (cm)  sepal width (cm)  petal length (cm)  petal width (cm)  \\\n",
       "0                 5.1               3.5                1.4               0.2   \n",
       "1                 4.9               3.0                1.4               0.2   \n",
       "2                 4.7               3.2                1.3               0.2   \n",
       "3                 4.6               3.1                1.5               0.2   \n",
       "4                 5.0               3.6                1.4               0.2   \n",
       "..                ...               ...                ...               ...   \n",
       "95                5.7               3.0                4.2               1.2   \n",
       "96                5.7               2.9                4.2               1.3   \n",
       "97                6.2               2.9                4.3               1.3   \n",
       "98                5.1               2.5                3.0               1.1   \n",
       "99                5.7               2.8                4.1               1.3   \n",
       "\n",
       "    target target_name  \n",
       "0        0      setosa  \n",
       "1        0      setosa  \n",
       "2        0      setosa  \n",
       "3        0      setosa  \n",
       "4        0      setosa  \n",
       "..     ...         ...  \n",
       "95       1  versicolor  \n",
       "96       1  versicolor  \n",
       "97       1  versicolor  \n",
       "98       1  versicolor  \n",
       "99       1  versicolor  \n",
       "\n",
       "[100 rows x 6 columns]"
      ]
     },
     "execution_count": 76,
     "metadata": {},
     "output_type": "execute_result"
    }
   ],
   "source": [
    "# setosa, versicolor 선택\n",
    "two_iris_df = iris_df[(iris_df['target_name'] == 'setosa') | (iris_df['target_name'] == 'versicolor')]\n",
    "two_iris_df"
   ]
  },
  {
   "cell_type": "code",
   "execution_count": 77,
   "metadata": {},
   "outputs": [
    {
     "name": "stdout",
     "output_type": "stream",
     "text": [
      "<class 'pandas.core.frame.DataFrame'>\n",
      "Index: 100 entries, 0 to 99\n",
      "Data columns (total 6 columns):\n",
      " #   Column             Non-Null Count  Dtype  \n",
      "---  ------             --------------  -----  \n",
      " 0   sepal length (cm)  100 non-null    float64\n",
      " 1   sepal width (cm)   100 non-null    float64\n",
      " 2   petal length (cm)  100 non-null    float64\n",
      " 3   petal width (cm)   100 non-null    float64\n",
      " 4   target             100 non-null    int32  \n",
      " 5   target_name        100 non-null    object \n",
      "dtypes: float64(4), int32(1), object(1)\n",
      "memory usage: 5.1+ KB\n"
     ]
    }
   ],
   "source": [
    "# 결측치 확인\n",
    "two_iris_df.info() # 결측치 없음"
   ]
  },
  {
   "cell_type": "code",
   "execution_count": 78,
   "metadata": {},
   "outputs": [
    {
     "data": {
      "image/png": "[encoded data removed]",
      "text/plain": [
       "<Figure size 1000x500 with 1 Axes>"
      ]
     },
     "metadata": {},
     "output_type": "display_data"
    }
   ],
   "source": [
    "# 이상치 확인\n",
    "plt.figure(figsize = (10, 5))\n",
    "plt.boxplot(two_iris_df.iloc[:, :4])\n",
    "plt.xticks(np.arange(1, 5), two_iris_df.columns[:4])\n",
    "plt.show()\n",
    "# 이상치가 존재하지만 값이 크게 벗어난 것은 아니므로 제거하지 않음"
   ]
  },
  {
   "cell_type": "code",
   "execution_count": 79,
   "metadata": {},
   "outputs": [
    {
     "data": {
      "text/html": [
       "<div>\n",
       "<style scoped>\n",
       "    .dataframe tbody tr th:only-of-type {\n",
       "        vertical-align: middle;\n",
       "    }\n",
       "\n",
       "    .dataframe tbody tr th {\n",
       "        vertical-align: top;\n",
       "    }\n",
       "\n",
       "    .dataframe thead th {\n",
       "        text-align: right;\n",
       "    }\n",
       "</style>\n",
       "<table border=\"1\" class=\"dataframe\">\n",
       "  <thead>\n",
       "    <tr style=\"text-align: right;\">\n",
       "      <th></th>\n",
       "      <th>sepal length (cm)</th>\n",
       "      <th>sepal width (cm)</th>\n",
       "      <th>petal length (cm)</th>\n",
       "      <th>petal width (cm)</th>\n",
       "      <th>target</th>\n",
       "    </tr>\n",
       "  </thead>\n",
       "  <tbody>\n",
       "    <tr>\n",
       "      <th>sepal length (cm)</th>\n",
       "      <td>1.000000</td>\n",
       "      <td>-0.205926</td>\n",
       "      <td>0.812458</td>\n",
       "      <td>0.789608</td>\n",
       "      <td>0.728290</td>\n",
       "    </tr>\n",
       "    <tr>\n",
       "      <th>sepal width (cm)</th>\n",
       "      <td>-0.205926</td>\n",
       "      <td>1.000000</td>\n",
       "      <td>-0.602663</td>\n",
       "      <td>-0.570883</td>\n",
       "      <td>-0.690684</td>\n",
       "    </tr>\n",
       "    <tr>\n",
       "      <th>petal length (cm)</th>\n",
       "      <td>0.812458</td>\n",
       "      <td>-0.602663</td>\n",
       "      <td>1.000000</td>\n",
       "      <td>0.979322</td>\n",
       "      <td>0.969990</td>\n",
       "    </tr>\n",
       "    <tr>\n",
       "      <th>petal width (cm)</th>\n",
       "      <td>0.789608</td>\n",
       "      <td>-0.570883</td>\n",
       "      <td>0.979322</td>\n",
       "      <td>1.000000</td>\n",
       "      <td>0.960307</td>\n",
       "    </tr>\n",
       "    <tr>\n",
       "      <th>target</th>\n",
       "      <td>0.728290</td>\n",
       "      <td>-0.690684</td>\n",
       "      <td>0.969990</td>\n",
       "      <td>0.960307</td>\n",
       "      <td>1.000000</td>\n",
       "    </tr>\n",
       "  </tbody>\n",
       "</table>\n",
       "</div>"
      ],
      "text/plain": [
       "                   sepal length (cm)  sepal width (cm)  petal length (cm)  \\\n",
       "sepal length (cm)           1.000000         -0.205926           0.812458   \n",
       "sepal width (cm)           -0.205926          1.000000          -0.602663   \n",
       "petal length (cm)           0.812458         -0.602663           1.000000   \n",
       "petal width (cm)            0.789608         -0.570883           0.979322   \n",
       "target                      0.728290         -0.690684           0.969990   \n",
       "\n",
       "                   petal width (cm)    target  \n",
       "sepal length (cm)          0.789608  0.728290  \n",
       "sepal width (cm)          -0.570883 -0.690684  \n",
       "petal length (cm)          0.979322  0.969990  \n",
       "petal width (cm)           1.000000  0.960307  \n",
       "target                     0.960307  1.000000  "
      ]
     },
     "execution_count": 79,
     "metadata": {},
     "output_type": "execute_result"
    }
   ],
   "source": [
    "# 피쳐들의 상관관계 확인\n",
    "two_iris_df.corr(numeric_only=True)"
   ]
  },
  {
   "cell_type": "code",
   "execution_count": 80,
   "metadata": {},
   "outputs": [
    {
     "data": {
      "image/png": "[encoded data removed]",
      "text/plain": [
       "<Figure size 640x480 with 1 Axes>"
      ]
     },
     "metadata": {},
     "output_type": "display_data"
    }
   ],
   "source": [
    "# target과 상관계수가 가장 높은 2개의 변수 petal length (cm), petal width (cm) 선택\n",
    "setosa = two_iris_df[two_iris_df['target_name'] == 'setosa']\n",
    "versicolor = two_iris_df[two_iris_df['target_name'] == 'versicolor']\n",
    "\n",
    "plt.scatter(setosa['petal length (cm)'], setosa['petal width (cm)'], color = 'blue', label = 'setosa')\n",
    "plt.scatter(versicolor['petal length (cm)'], versicolor['petal width (cm)'], color = 'red', label = 'versicolor')\n",
    "plt.legend()\n",
    "plt.show()"
   ]
  },
  {
   "cell_type": "code",
   "execution_count": 81,
   "metadata": {},
   "outputs": [],
   "source": [
    "# train, test 분할\n",
    "two_iris_feature = two_iris_df.iloc[:, 2:4]\n",
    "two_iris_target = two_iris_df['target']\n",
    "\n",
    "X_train, X_test, y_train, y_test = train_test_split(two_iris_feature, two_iris_target, stratify = two_iris_target,\n",
    "                                                    train_size = 0.8, random_state = 42)"
   ]
  },
  {
   "cell_type": "code",
   "execution_count": 82,
   "metadata": {},
   "outputs": [],
   "source": [
    "# 피쳐 스케일링\n",
    "mm = MinMaxScaler()\n",
    "\n",
    "mm.fit(X_train)\n",
    "\n",
    "X_train_scaled = mm.transform(X_train)\n",
    "X_test_scaled = mm.transform(X_test)"
   ]
  },
  {
   "cell_type": "code",
   "execution_count": 83,
   "metadata": {},
   "outputs": [
    {
     "name": "stdout",
     "output_type": "stream",
     "text": [
      "훈련 세트 결정계수 : 1.0\n",
      "테스트 세트 결정계수 : 1.0\n"
     ]
    }
   ],
   "source": [
    "# KNN을 사용하면 될 것으로 보임\n",
    "knn = KNeighborsClassifier()\n",
    "\n",
    "knn.fit(X_train_scaled, y_train)\n",
    "\n",
    "# 훈련/테스트 세트 결정계수\n",
    "print(f\"훈련 세트 결정계수 : {knn.score(X_train_scaled, y_train)}\")\n",
    "print(f\"테스트 세트 결정계수 : {knn.score(X_test_scaled, y_test)}\")"
   ]
  },
  {
   "cell_type": "code",
   "execution_count": 84,
   "metadata": {},
   "outputs": [
    {
     "name": "stdout",
     "output_type": "stream",
     "text": [
      "훈련 세트 mse : 0.0\n",
      "훈련 세트 rmse : 0.0\n",
      "훈련 세트 mae : 0.0\n"
     ]
    }
   ],
   "source": [
    "# 훈련 세트 성능지표\n",
    "y_pred_train = knn.predict(X_train_scaled)\n",
    "mse_train = mean_squared_error(y_train, y_pred_train)\n",
    "rmse_train = np.sqrt(mse_train)\n",
    "mae_train = mean_absolute_error(y_train, y_pred_train)\n",
    "\n",
    "print(f\"훈련 세트 mse : {mse_train}\")\n",
    "print(f\"훈련 세트 rmse : {rmse_train}\")\n",
    "print(f\"훈련 세트 mae : {mae_train}\")"
   ]
  },
  {
   "cell_type": "code",
   "execution_count": 85,
   "metadata": {},
   "outputs": [
    {
     "name": "stdout",
     "output_type": "stream",
     "text": [
      "테스트 세트 mse : 0.0\n",
      "테스트 세트 rmse : 0.0\n",
      "테스트 세트 mae : 0.0\n"
     ]
    }
   ],
   "source": [
    "# 테스트 세트 성능지표\n",
    "y_pred_test = knn.predict(X_test_scaled)\n",
    "mse_test = mean_squared_error(y_test, y_pred_test)\n",
    "rmse_test = np.sqrt(mse_test)\n",
    "mae_test = mean_absolute_error(y_test, y_pred_test)\n",
    "\n",
    "print(f\"테스트 세트 mse : {mse_test}\")\n",
    "print(f\"테스트 세트 rmse : {rmse_test}\")\n",
    "print(f\"테스트 세트 mae : {mae_test}\")"
   ]
  },
  {
   "cell_type": "markdown",
   "metadata": {},
   "source": [
    "#### 회귀"
   ]
  },
  {
   "cell_type": "code",
   "execution_count": 88,
   "metadata": {},
   "outputs": [
    {
     "data": {
      "text/html": [
       "<div>\n",
       "<style scoped>\n",
       "    .dataframe tbody tr th:only-of-type {\n",
       "        vertical-align: middle;\n",
       "    }\n",
       "\n",
       "    .dataframe tbody tr th {\n",
       "        vertical-align: top;\n",
       "    }\n",
       "\n",
       "    .dataframe thead th {\n",
       "        text-align: right;\n",
       "    }\n",
       "</style>\n",
       "<table border=\"1\" class=\"dataframe\">\n",
       "  <thead>\n",
       "    <tr style=\"text-align: right;\">\n",
       "      <th></th>\n",
       "      <th>sepal length (cm)</th>\n",
       "      <th>sepal width (cm)</th>\n",
       "      <th>petal length (cm)</th>\n",
       "      <th>petal width (cm)</th>\n",
       "      <th>target</th>\n",
       "      <th>target_name</th>\n",
       "    </tr>\n",
       "  </thead>\n",
       "  <tbody>\n",
       "    <tr>\n",
       "      <th>100</th>\n",
       "      <td>6.3</td>\n",
       "      <td>3.3</td>\n",
       "      <td>6.0</td>\n",
       "      <td>2.5</td>\n",
       "      <td>2</td>\n",
       "      <td>virginica</td>\n",
       "    </tr>\n",
       "    <tr>\n",
       "      <th>101</th>\n",
       "      <td>5.8</td>\n",
       "      <td>2.7</td>\n",
       "      <td>5.1</td>\n",
       "      <td>1.9</td>\n",
       "      <td>2</td>\n",
       "      <td>virginica</td>\n",
       "    </tr>\n",
       "    <tr>\n",
       "      <th>102</th>\n",
       "      <td>7.1</td>\n",
       "      <td>3.0</td>\n",
       "      <td>5.9</td>\n",
       "      <td>2.1</td>\n",
       "      <td>2</td>\n",
       "      <td>virginica</td>\n",
       "    </tr>\n",
       "    <tr>\n",
       "      <th>103</th>\n",
       "      <td>6.3</td>\n",
       "      <td>2.9</td>\n",
       "      <td>5.6</td>\n",
       "      <td>1.8</td>\n",
       "      <td>2</td>\n",
       "      <td>virginica</td>\n",
       "    </tr>\n",
       "    <tr>\n",
       "      <th>104</th>\n",
       "      <td>6.5</td>\n",
       "      <td>3.0</td>\n",
       "      <td>5.8</td>\n",
       "      <td>2.2</td>\n",
       "      <td>2</td>\n",
       "      <td>virginica</td>\n",
       "    </tr>\n",
       "  </tbody>\n",
       "</table>\n",
       "</div>"
      ],
      "text/plain": [
       "     sepal length (cm)  sepal width (cm)  petal length (cm)  petal width (cm)  \\\n",
       "100                6.3               3.3                6.0               2.5   \n",
       "101                5.8               2.7                5.1               1.9   \n",
       "102                7.1               3.0                5.9               2.1   \n",
       "103                6.3               2.9                5.6               1.8   \n",
       "104                6.5               3.0                5.8               2.2   \n",
       "\n",
       "     target target_name  \n",
       "100       2   virginica  \n",
       "101       2   virginica  \n",
       "102       2   virginica  \n",
       "103       2   virginica  \n",
       "104       2   virginica  "
      ]
     },
     "execution_count": 88,
     "metadata": {},
     "output_type": "execute_result"
    }
   ],
   "source": [
    "# virginica 품종 선택\n",
    "virginica = iris_df[iris_df['target_name'] == 'virginica']\n",
    "virginica.head()\n",
    "# 타겟 : petal length (cm)"
   ]
  },
  {
   "cell_type": "code",
   "execution_count": 91,
   "metadata": {},
   "outputs": [
    {
     "data": {
      "text/html": [
       "<div>\n",
       "<style scoped>\n",
       "    .dataframe tbody tr th:only-of-type {\n",
       "        vertical-align: middle;\n",
       "    }\n",
       "\n",
       "    .dataframe tbody tr th {\n",
       "        vertical-align: top;\n",
       "    }\n",
       "\n",
       "    .dataframe thead th {\n",
       "        text-align: right;\n",
       "    }\n",
       "</style>\n",
       "<table border=\"1\" class=\"dataframe\">\n",
       "  <thead>\n",
       "    <tr style=\"text-align: right;\">\n",
       "      <th></th>\n",
       "      <th>sepal length (cm)</th>\n",
       "      <th>sepal width (cm)</th>\n",
       "      <th>petal length (cm)</th>\n",
       "      <th>petal width (cm)</th>\n",
       "    </tr>\n",
       "  </thead>\n",
       "  <tbody>\n",
       "    <tr>\n",
       "      <th>sepal length (cm)</th>\n",
       "      <td>1.000000</td>\n",
       "      <td>0.457228</td>\n",
       "      <td>0.864225</td>\n",
       "      <td>0.281108</td>\n",
       "    </tr>\n",
       "    <tr>\n",
       "      <th>sepal width (cm)</th>\n",
       "      <td>0.457228</td>\n",
       "      <td>1.000000</td>\n",
       "      <td>0.401045</td>\n",
       "      <td>0.537728</td>\n",
       "    </tr>\n",
       "    <tr>\n",
       "      <th>petal length (cm)</th>\n",
       "      <td>0.864225</td>\n",
       "      <td>0.401045</td>\n",
       "      <td>1.000000</td>\n",
       "      <td>0.322108</td>\n",
       "    </tr>\n",
       "    <tr>\n",
       "      <th>petal width (cm)</th>\n",
       "      <td>0.281108</td>\n",
       "      <td>0.537728</td>\n",
       "      <td>0.322108</td>\n",
       "      <td>1.000000</td>\n",
       "    </tr>\n",
       "  </tbody>\n",
       "</table>\n",
       "</div>"
      ],
      "text/plain": [
       "                   sepal length (cm)  sepal width (cm)  petal length (cm)  \\\n",
       "sepal length (cm)           1.000000          0.457228           0.864225   \n",
       "sepal width (cm)            0.457228          1.000000           0.401045   \n",
       "petal length (cm)           0.864225          0.401045           1.000000   \n",
       "petal width (cm)            0.281108          0.537728           0.322108   \n",
       "\n",
       "                   petal width (cm)  \n",
       "sepal length (cm)          0.281108  \n",
       "sepal width (cm)           0.537728  \n",
       "petal length (cm)          0.322108  \n",
       "petal width (cm)           1.000000  "
      ]
     },
     "execution_count": 91,
     "metadata": {},
     "output_type": "execute_result"
    }
   ],
   "source": [
    "virginica.iloc[:, :4].corr()"
   ]
  },
  {
   "cell_type": "code",
   "execution_count": 95,
   "metadata": {},
   "outputs": [
    {
     "data": {
      "image/png": "[encoded data removed]",
      "text/plain": [
       "<Figure size 640x480 with 1 Axes>"
      ]
     },
     "metadata": {},
     "output_type": "display_data"
    }
   ],
   "source": [
    "plt.scatter(virginica['petal length (cm)'], virginica['sepal length (cm)'])\n",
    "plt.show()"
   ]
  },
  {
   "cell_type": "code",
   "execution_count": 163,
   "metadata": {},
   "outputs": [],
   "source": [
    "# 피쳐에 따른 선형 회귀 성능평가 함수 생성\n",
    "def process_linear_regression(features):\n",
    "    reg_feature = virginica[features]\n",
    "    reg_target = virginica['petal length (cm)']\n",
    "\n",
    "    X_train, X_test, y_train, y_test = train_test_split(reg_feature, reg_target,\n",
    "                                                        train_size = 0.8, random_state = 42)\n",
    "    \n",
    "    mm = MinMaxScaler()\n",
    "    mm.fit(X_train)\n",
    "\n",
    "    X_train_scaled = mm.transform(X_train)\n",
    "    X_test_scaled = mm.transform(X_test)\n",
    "\n",
    "    model = LinearRegression()\n",
    "    model.fit(X_train_scaled, y_train)\n",
    "\n",
    "    y_pred_train = model.predict(X_train_scaled)\n",
    "    y_pred_test = model.predict(X_test_scaled)\n",
    "\n",
    "    r2_train = r2_score(y_train, y_pred_train)\n",
    "    mse_train = mean_squared_error(y_train, y_pred_train)\n",
    "    rmse_train = np.sqrt(mse_train)\n",
    "    mae_train = mean_absolute_error(y_train, y_pred_train)\n",
    "\n",
    "    r2_test = r2_score(y_test, y_pred_test)\n",
    "    mse_test = mean_squared_error(y_test, y_pred_test)\n",
    "    rmse_test = np.sqrt(mse_test)\n",
    "    mae_test = mean_absolute_error(y_test, y_pred_test)\n",
    "\n",
    "    print(f\"features : {features}\")\n",
    "    print(f\"train set r2 : {r2_train:.2f}, test set r2 : {r2_test:.2f}\")\n",
    "    print(f\"train set mse : {mse_train:.2f}, test set mse : {mse_test:.2f}\")\n",
    "    print(f\"train set rmse : {rmse_train:.2f}, test set r2 : {rmse_test:.2f}\")\n",
    "    print(f\"train set mae : {mae_train:.2f}, test set r2 : {mae_test:.2f}\\n\")\n",
    "\n",
    "    return [r2_train, r2_test]"
   ]
  },
  {
   "cell_type": "code",
   "execution_count": 164,
   "metadata": {},
   "outputs": [
    {
     "data": {
      "text/plain": [
       "[['sepal length (cm)'],\n",
       " ['sepal width (cm)'],\n",
       " ['petal width (cm)'],\n",
       " ['sepal length (cm)', 'sepal width (cm)'],\n",
       " ['sepal length (cm)', 'petal width (cm)'],\n",
       " ['sepal width (cm)', 'petal width (cm)'],\n",
       " ['sepal length (cm)', 'sepal width (cm)', 'petal width (cm)']]"
      ]
     },
     "execution_count": 164,
     "metadata": {},
     "output_type": "execute_result"
    }
   ],
   "source": [
    "all_combination_list = []\n",
    "for i in range(1, 4):\n",
    "    for j in combinations(['sepal length (cm)', 'sepal width (cm)', 'petal width (cm)'], i):\n",
    "        all_combination_list.append(list(j))\n",
    "all_combination_list"
   ]
  },
  {
   "cell_type": "code",
   "execution_count": 165,
   "metadata": {},
   "outputs": [
    {
     "name": "stdout",
     "output_type": "stream",
     "text": [
      "features : ['sepal length (cm)']\n",
      "train set r2 : 0.74, test set r2 : 0.76\n",
      "train set mse : 0.08, test set mse : 0.08\n",
      "train set rmse : 0.28, test set r2 : 0.28\n",
      "train set mae : 0.22, test set r2 : 0.22\n",
      "\n",
      "features : ['sepal width (cm)']\n",
      "train set r2 : 0.09, test set r2 : 0.41\n",
      "train set mse : 0.27, test set mse : 0.19\n",
      "train set rmse : 0.52, test set r2 : 0.43\n",
      "train set mae : 0.40, test set r2 : 0.38\n",
      "\n",
      "features : ['petal width (cm)']\n",
      "train set r2 : 0.11, test set r2 : 0.06\n",
      "train set mse : 0.26, test set mse : 0.30\n",
      "train set rmse : 0.51, test set r2 : 0.54\n",
      "train set mae : 0.41, test set r2 : 0.48\n",
      "\n",
      "features : ['sepal length (cm)', 'sepal width (cm)']\n",
      "train set r2 : 0.74, test set r2 : 0.73\n",
      "train set mse : 0.08, test set mse : 0.08\n",
      "train set rmse : 0.27, test set r2 : 0.29\n",
      "train set mae : 0.22, test set r2 : 0.24\n",
      "\n",
      "features : ['sepal length (cm)', 'petal width (cm)']\n",
      "train set r2 : 0.75, test set r2 : 0.77\n",
      "train set mse : 0.07, test set mse : 0.07\n",
      "train set rmse : 0.27, test set r2 : 0.27\n",
      "train set mae : 0.22, test set r2 : 0.21\n",
      "\n",
      "features : ['sepal width (cm)', 'petal width (cm)']\n",
      "train set r2 : 0.13, test set r2 : 0.27\n",
      "train set mse : 0.25, test set mse : 0.23\n",
      "train set rmse : 0.50, test set r2 : 0.48\n",
      "train set mae : 0.40, test set r2 : 0.42\n",
      "\n",
      "features : ['sepal length (cm)', 'sepal width (cm)', 'petal width (cm)']\n",
      "train set r2 : 0.76, test set r2 : 0.72\n",
      "train set mse : 0.07, test set mse : 0.09\n",
      "train set rmse : 0.27, test set r2 : 0.30\n",
      "train set mae : 0.21, test set r2 : 0.24\n",
      "\n"
     ]
    }
   ],
   "source": [
    "r2_list = []\n",
    "\n",
    "for i in all_combination_list:\n",
    "    r2_list.append(process_linear_regression(i))"
   ]
  },
  {
   "cell_type": "code",
   "execution_count": 141,
   "metadata": {},
   "outputs": [
    {
     "data": {
      "text/plain": [
       "[[0.7423481467793532, 0.7571473593479282],\n",
       " [0.08708435472344145, 0.4063341236500022],\n",
       " [0.11343888641018485, 0.06346000542939112],\n",
       " [0.7445570136168189, 0.7324878854850072],\n",
       " [0.7487737020479073, 0.7655567053439445],\n",
       " [0.1328820140764525, 0.27011645022629194],\n",
       " [0.7577422274454136, 0.7159110073093202]]"
      ]
     },
     "execution_count": 141,
     "metadata": {},
     "output_type": "execute_result"
    }
   ],
   "source": [
    "r2_list"
   ]
  },
  {
   "cell_type": "code",
   "execution_count": 150,
   "metadata": {},
   "outputs": [
    {
     "data": {
      "image/png": "[encoded data removed]",
      "text/plain": [
       "<Figure size 1000x500 with 1 Axes>"
      ]
     },
     "metadata": {},
     "output_type": "display_data"
    }
   ],
   "source": [
    "plt.figure(figsize = (10, 5))\n",
    "plt.plot(np.arange(1, 8), [i[0] for i in r2_list], label = 'train score')\n",
    "plt.plot(np.arange(1, 8), [i[1] for i in r2_list], label = 'test score')\n",
    "plt.xticks(np.arange(1, 8), ['sl', 'sw', 'pw', 'sl, sw', 'sl, pw', 'sw, pw', 'sl, sw, pw'])\n",
    "plt.legend()\n",
    "plt.show()"
   ]
  },
  {
   "cell_type": "code",
   "execution_count": 161,
   "metadata": {},
   "outputs": [
    {
     "data": {
      "text/plain": [
       "[('sl, sw', 0.012069128131811713),\n",
       " ('sl', 0.014799212568574971),\n",
       " ('sl, pw', 0.016783003296037213),\n",
       " ('sl, sw, pw', 0.04183122013609342),\n",
       " ('pw', 0.04997888098079373),\n",
       " ('sw, pw', 0.13723443614983943),\n",
       " ('sw', 0.31924976892656076)]"
      ]
     },
     "execution_count": 161,
     "metadata": {},
     "output_type": "execute_result"
    }
   ],
   "source": [
    "row_list = ['sl', 'sw', 'pw', 'sl, sw', 'sl, pw', 'sw, pw', 'sl, sw, pw']\n",
    "diff_dict = {row_list[idx] : abs(value[0] - value[1]) for idx, value in enumerate(r2_list)}\n",
    "sorted(diff_dict.items(), key = lambda x : x[1])\n",
    "# sepal length (cm)와 sepal width (cm)를 피쳐로 사용했을 때 성능이 가장 좋다."
   ]
  },
  {
   "cell_type": "code",
   "execution_count": 166,
   "metadata": {},
   "outputs": [
    {
     "name": "stdout",
     "output_type": "stream",
     "text": [
      "features : ['sepal length (cm)', 'sepal width (cm)']\n",
      "train set r2 : 0.74, test set r2 : 0.73\n",
      "train set mse : 0.08, test set mse : 0.08\n",
      "train set rmse : 0.27, test set r2 : 0.29\n",
      "train set mae : 0.22, test set r2 : 0.24\n",
      "\n"
     ]
    },
    {
     "data": {
      "text/plain": [
       "[0.7445570136168189, 0.7324878854850072]"
      ]
     },
     "execution_count": 166,
     "metadata": {},
     "output_type": "execute_result"
    }
   ],
   "source": [
    "process_linear_regression(['sepal length (cm)', 'sepal width (cm)'])"
   ]
  },
  {
   "cell_type": "code",
   "execution_count": null,
   "metadata": {},
   "outputs": [],
   "source": []
  }
 ],
 "metadata": {
  "kernelspec": {
   "display_name": "Python 3",
   "language": "python",
   "name": "python3"
  },
  "language_info": {
   "codemirror_mode": {
    "name": "ipython",
    "version": 3
   },
   "file_extension": ".py",
   "mimetype": "text/x-python",
   "name": "python",
   "nbconvert_exporter": "python",
   "pygments_lexer": "ipython3",
   "version": "3.11.9"
  }
 },
 "nbformat": 4,
 "nbformat_minor": 2
}

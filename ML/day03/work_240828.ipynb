{
 "cells": [
  {
   "cell_type": "markdown",
   "metadata": {},
   "source": [
    "### 240828 과제\n",
    "- 데이터셋 : auto-mpg.csv\n",
    "- 목적 : 연비예측\n",
    "- 학습방법 : 지도학습 > 회귀\n",
    "- 알고리즘 : LinearRegression"
   ]
  },
  {
   "cell_type": "code",
   "execution_count": 2,
   "metadata": {},
   "outputs": [],
   "source": [
    "import pandas as pd\n",
    "import matplotlib.pyplot as plt\n",
    "from sklearn.linear_model import LinearRegression\n",
    "from sklearn.metrics import mean_squared_error, mean_absolute_error, r2_score"
   ]
  },
  {
   "cell_type": "code",
   "execution_count": 3,
   "metadata": {},
   "outputs": [],
   "source": [
    "DATA_FILE = '../data/auto_mpg.csv'\n",
    "autompg=pd.read_csv(DATA_FILE)"
   ]
  },
  {
   "cell_type": "code",
   "execution_count": 4,
   "metadata": {},
   "outputs": [
    {
     "name": "stdout",
     "output_type": "stream",
     "text": [
      "<class 'pandas.core.frame.DataFrame'>\n",
      "RangeIndex: 398 entries, 0 to 397\n",
      "Data columns (total 9 columns):\n",
      " #   Column        Non-Null Count  Dtype  \n",
      "---  ------        --------------  -----  \n",
      " 0   mpg           398 non-null    float64\n",
      " 1   cylinders     398 non-null    int64  \n",
      " 2   displacement  398 non-null    float64\n",
      " 3   horsepower    398 non-null    object \n",
      " 4   weight        398 non-null    int64  \n",
      " 5   acceleration  398 non-null    float64\n",
      " 6   model year    398 non-null    int64  \n",
      " 7   origin        398 non-null    int64  \n",
      " 8   car name      398 non-null    object \n",
      "dtypes: float64(3), int64(4), object(2)\n",
      "memory usage: 28.1+ KB\n"
     ]
    }
   ],
   "source": [
    "autompg.info()"
   ]
  },
  {
   "cell_type": "code",
   "execution_count": 5,
   "metadata": {},
   "outputs": [
    {
     "data": {
      "text/plain": [
       "mpg   cylinders  displacement  horsepower  weight  acceleration  model year  origin  car name                            \n",
       "9.0   8          304.0         193         4732    18.5          70          1       hi 1200d                                1\n",
       "27.0  4          151.0         90          2950    17.3          82          1       chevrolet camaro                        1\n",
       "                 140.0         86          2790    15.6          82          1       ford mustang gl                         1\n",
       "                 112.0         88          2640    18.6          82          1       chevrolet cavalier wagon                1\n",
       "                 101.0         83          2202    15.3          76          2       renault 12tl                            1\n",
       "                                                                                                                            ..\n",
       "18.6  6          225.0         110         3620    18.7          78          1       dodge aspen                             1\n",
       "18.5  8          360.0         150         3940    13.0          79          1       chrysler lebaron town @ country (sw)    1\n",
       "      6          250.0         98          3525    19.0          77          1       ford granada                            1\n",
       "                               110         3645    16.2          76          1       pontiac ventura sj                      1\n",
       "46.6  4          86.0          65          2110    17.9          80          3       mazda glc                               1\n",
       "Name: count, Length: 398, dtype: int64"
      ]
     },
     "execution_count": 5,
     "metadata": {},
     "output_type": "execute_result"
    }
   ],
   "source": [
    "autompg.value_counts()"
   ]
  },
  {
   "cell_type": "code",
   "execution_count": 6,
   "metadata": {},
   "outputs": [],
   "source": [
    "autompg['kml']=autompg['mpg']*0.425"
   ]
  },
  {
   "cell_type": "code",
   "execution_count": 7,
   "metadata": {},
   "outputs": [],
   "source": [
    "autompg=autompg.drop(['mpg'],axis=1)"
   ]
  },
  {
   "cell_type": "code",
   "execution_count": 8,
   "metadata": {},
   "outputs": [
    {
     "data": {
      "text/plain": [
       "kml      cylinders  displacement  weight  acceleration\n",
       "11.4750  4          97.0          2130    14.5            2\n",
       "3.8250   8          304.0         4732    18.5            1\n",
       "11.5600  4          119.0         2300    14.7            1\n",
       "11.4750  4          151.0         2735    18.0            1\n",
       "                    140.0         2790    15.6            1\n",
       "                                                         ..\n",
       "7.9050   6          225.0         3620    18.7            1\n",
       "7.8625   8          360.0         3940    13.0            1\n",
       "         6          250.0         3645    16.2            1\n",
       "                                  3525    19.0            1\n",
       "19.8050  4          86.0          2110    17.9            1\n",
       "Name: count, Length: 397, dtype: int64"
      ]
     },
     "execution_count": 8,
     "metadata": {},
     "output_type": "execute_result"
    }
   ],
   "source": [
    "corrdf=pd.concat([autompg['kml'],autompg['cylinders'],autompg['displacement'],autompg['weight'],autompg['acceleration']],axis=1)\n",
    "corrdf.value_counts()"
   ]
  },
  {
   "cell_type": "code",
   "execution_count": 9,
   "metadata": {},
   "outputs": [
    {
     "data": {
      "text/html": [
       "<div>\n",
       "<style scoped>\n",
       "    .dataframe tbody tr th:only-of-type {\n",
       "        vertical-align: middle;\n",
       "    }\n",
       "\n",
       "    .dataframe tbody tr th {\n",
       "        vertical-align: top;\n",
       "    }\n",
       "\n",
       "    .dataframe thead th {\n",
       "        text-align: right;\n",
       "    }\n",
       "</style>\n",
       "<table border=\"1\" class=\"dataframe\">\n",
       "  <thead>\n",
       "    <tr style=\"text-align: right;\">\n",
       "      <th></th>\n",
       "      <th>kml</th>\n",
       "      <th>cylinders</th>\n",
       "      <th>displacement</th>\n",
       "      <th>weight</th>\n",
       "      <th>acceleration</th>\n",
       "    </tr>\n",
       "  </thead>\n",
       "  <tbody>\n",
       "    <tr>\n",
       "      <th>kml</th>\n",
       "      <td>1.000000</td>\n",
       "      <td>-0.775396</td>\n",
       "      <td>-0.804203</td>\n",
       "      <td>-0.831741</td>\n",
       "      <td>0.420289</td>\n",
       "    </tr>\n",
       "    <tr>\n",
       "      <th>cylinders</th>\n",
       "      <td>-0.775396</td>\n",
       "      <td>1.000000</td>\n",
       "      <td>0.950721</td>\n",
       "      <td>0.896017</td>\n",
       "      <td>-0.505419</td>\n",
       "    </tr>\n",
       "    <tr>\n",
       "      <th>displacement</th>\n",
       "      <td>-0.804203</td>\n",
       "      <td>0.950721</td>\n",
       "      <td>1.000000</td>\n",
       "      <td>0.932824</td>\n",
       "      <td>-0.543684</td>\n",
       "    </tr>\n",
       "    <tr>\n",
       "      <th>weight</th>\n",
       "      <td>-0.831741</td>\n",
       "      <td>0.896017</td>\n",
       "      <td>0.932824</td>\n",
       "      <td>1.000000</td>\n",
       "      <td>-0.417457</td>\n",
       "    </tr>\n",
       "    <tr>\n",
       "      <th>acceleration</th>\n",
       "      <td>0.420289</td>\n",
       "      <td>-0.505419</td>\n",
       "      <td>-0.543684</td>\n",
       "      <td>-0.417457</td>\n",
       "      <td>1.000000</td>\n",
       "    </tr>\n",
       "  </tbody>\n",
       "</table>\n",
       "</div>"
      ],
      "text/plain": [
       "                   kml  cylinders  displacement    weight  acceleration\n",
       "kml           1.000000  -0.775396     -0.804203 -0.831741      0.420289\n",
       "cylinders    -0.775396   1.000000      0.950721  0.896017     -0.505419\n",
       "displacement -0.804203   0.950721      1.000000  0.932824     -0.543684\n",
       "weight       -0.831741   0.896017      0.932824  1.000000     -0.417457\n",
       "acceleration  0.420289  -0.505419     -0.543684 -0.417457      1.000000"
      ]
     },
     "execution_count": 9,
     "metadata": {},
     "output_type": "execute_result"
    }
   ],
   "source": [
    "corrdf.corr()"
   ]
  },
  {
   "cell_type": "code",
   "execution_count": 10,
   "metadata": {},
   "outputs": [],
   "source": [
    "weight=corrdf['weight']\n",
    "kml=corrdf['kml']\n",
    "\n",
    "weightDF=pd.DataFrame(weight,columns=['weight'])\n",
    "kmlSR=pd.Series(kml)"
   ]
  },
  {
   "cell_type": "code",
   "execution_count": 11,
   "metadata": {},
   "outputs": [
    {
     "data": {
      "image/png": "[encoded data removed]",
      "text/plain": [
       "<Figure size 640x480 with 1 Axes>"
      ]
     },
     "metadata": {},
     "output_type": "display_data"
    }
   ],
   "source": [
    "plt.plot(weightDF, kmlSR, 'go')\n",
    "plt.xlabel('weight')\n",
    "plt.ylabel('kml')\n",
    "plt.show()"
   ]
  },
  {
   "cell_type": "code",
   "execution_count": 12,
   "metadata": {},
   "outputs": [],
   "source": [
    "model=LinearRegression()"
   ]
  },
  {
   "cell_type": "code",
   "execution_count": 13,
   "metadata": {},
   "outputs": [
    {
     "data": {
      "text/html": [
       "<style>#sk-container-id-1 {color: black;}#sk-container-id-1 pre{padding: 0;}#sk-container-id-1 div.sk-toggleable {background-color: white;}#sk-container-id-1 label.sk-toggleable__label {cursor: pointer;display: block;width: 100%;margin-bottom: 0;padding: 0.3em;box-sizing: border-box;text-align: center;}#sk-container-id-1 label.sk-toggleable__label-arrow:before {content: \"▸\";float: left;margin-right: 0.25em;color: #696969;}#sk-container-id-1 label.sk-toggleable__label-arrow:hover:before {color: black;}#sk-container-id-1 div.sk-estimator:hover label.sk-toggleable__label-arrow:before {color: black;}#sk-container-id-1 div.sk-toggleable__content {max-height: 0;max-width: 0;overflow: hidden;text-align: left;background-color: #f0f8ff;}#sk-container-id-1 div.sk-toggleable__content pre {margin: 0.2em;color: black;border-radius: 0.25em;background-color: #f0f8ff;}#sk-container-id-1 input.sk-toggleable__control:checked~div.sk-toggleable__content {max-height: 200px;max-width: 100%;overflow: auto;}#sk-container-id-1 input.sk-toggleable__control:checked~label.sk-toggleable__label-arrow:before {content: \"▾\";}#sk-container-id-1 div.sk-estimator input.sk-toggleable__control:checked~label.sk-toggleable__label {background-color: #d4ebff;}#sk-container-id-1 div.sk-label input.sk-toggleable__control:checked~label.sk-toggleable__label {background-color: #d4ebff;}#sk-container-id-1 input.sk-hidden--visually {border: 0;clip: rect(1px 1px 1px 1px);clip: rect(1px, 1px, 1px, 1px);height: 1px;margin: -1px;overflow: hidden;padding: 0;position: absolute;width: 1px;}#sk-container-id-1 div.sk-estimator {font-family: monospace;background-color: #f0f8ff;border: 1px dotted black;border-radius: 0.25em;box-sizing: border-box;margin-bottom: 0.5em;}#sk-container-id-1 div.sk-estimator:hover {background-color: #d4ebff;}#sk-container-id-1 div.sk-parallel-item::after {content: \"\";width: 100%;border-bottom: 1px solid gray;flex-grow: 1;}#sk-container-id-1 div.sk-label:hover label.sk-toggleable__label {background-color: #d4ebff;}#sk-container-id-1 div.sk-serial::before {content: \"\";position: absolute;border-left: 1px solid gray;box-sizing: border-box;top: 0;bottom: 0;left: 50%;z-index: 0;}#sk-container-id-1 div.sk-serial {display: flex;flex-direction: column;align-items: center;background-color: white;padding-right: 0.2em;padding-left: 0.2em;position: relative;}#sk-container-id-1 div.sk-item {position: relative;z-index: 1;}#sk-container-id-1 div.sk-parallel {display: flex;align-items: stretch;justify-content: center;background-color: white;position: relative;}#sk-container-id-1 div.sk-item::before, #sk-container-id-1 div.sk-parallel-item::before {content: \"\";position: absolute;border-left: 1px solid gray;box-sizing: border-box;top: 0;bottom: 0;left: 50%;z-index: -1;}#sk-container-id-1 div.sk-parallel-item {display: flex;flex-direction: column;z-index: 1;position: relative;background-color: white;}#sk-container-id-1 div.sk-parallel-item:first-child::after {align-self: flex-end;width: 50%;}#sk-container-id-1 div.sk-parallel-item:last-child::after {align-self: flex-start;width: 50%;}#sk-container-id-1 div.sk-parallel-item:only-child::after {width: 0;}#sk-container-id-1 div.sk-dashed-wrapped {border: 1px dashed gray;margin: 0 0.4em 0.5em 0.4em;box-sizing: border-box;padding-bottom: 0.4em;background-color: white;}#sk-container-id-1 div.sk-label label {font-family: monospace;font-weight: bold;display: inline-block;line-height: 1.2em;}#sk-container-id-1 div.sk-label-container {text-align: center;}#sk-container-id-1 div.sk-container {/* jupyter's `normalize.less` sets `[hidden] { display: none; }` but bootstrap.min.css set `[hidden] { display: none !important; }` so we also need the `!important` here to be able to override the default hidden behavior on the sphinx rendered scikit-learn.org. See: https://github.com/scikit-learn/scikit-learn/issues/21755 */display: inline-block !important;position: relative;}#sk-container-id-1 div.sk-text-repr-fallback {display: none;}</style><div id=\"sk-container-id-1\" class=\"sk-top-container\"><div class=\"sk-text-repr-fallback\"><pre>LinearRegression()</pre><b>In a Jupyter environment, please rerun this cell to show the HTML representation or trust the notebook. <br />On GitHub, the HTML representation is unable to render, please try loading this page with nbviewer.org.</b></div><div class=\"sk-container\" hidden><div class=\"sk-item\"><div class=\"sk-estimator sk-toggleable\"><input class=\"sk-toggleable__control sk-hidden--visually\" id=\"sk-estimator-id-1\" type=\"checkbox\" checked><label for=\"sk-estimator-id-1\" class=\"sk-toggleable__label sk-toggleable__label-arrow\">LinearRegression</label><div class=\"sk-toggleable__content\"><pre>LinearRegression()</pre></div></div></div></div></div>"
      ],
      "text/plain": [
       "LinearRegression()"
      ]
     },
     "execution_count": 13,
     "metadata": {},
     "output_type": "execute_result"
    }
   ],
   "source": [
    "model.fit(weightDF, kmlSR)"
   ]
  },
  {
   "cell_type": "code",
   "execution_count": 14,
   "metadata": {},
   "outputs": [
    {
     "name": "stdout",
     "output_type": "stream",
     "text": [
      "기울기 : [-0.00326256]\n",
      "절편 : 19.684879878612897\n"
     ]
    }
   ],
   "source": [
    "print(f'기울기 : {model.coef_}\\n절편 : {model.intercept_}')"
   ]
  },
  {
   "cell_type": "code",
   "execution_count": 15,
   "metadata": {},
   "outputs": [],
   "source": [
    "pre_kml= model.coef_[0]*weightDF+model.intercept_\n",
    "pre_kml=pre_kml.values.reshape(-1)"
   ]
  },
  {
   "cell_type": "code",
   "execution_count": 16,
   "metadata": {},
   "outputs": [
    {
     "data": {
      "text/plain": [
       "array([-6.02872171e-01, -1.26124847e+00, -8.24726202e-01, -1.68451388e+00,\n",
       "       -1.20731293e+00,  8.52889944e-01,  4.70303214e-01,  3.33275725e-01,\n",
       "        7.01944923e-01, -7.49026662e-01, -1.68538117e+00, -1.96030345e+00,\n",
       "       -1.03939444e+00, -3.66662195e+00, -1.74608927e+00, -1.09204945e+00,\n",
       "       -2.98454044e+00, -2.31963903e+00, -1.26062862e+00, -2.64808361e+00,\n",
       "       -3.42321490e-01, -1.55686084e+00, -1.31130160e+00, -1.34632245e+00,\n",
       "       -2.12062291e+00, -3.78168814e-01, -1.15792048e+00, -7.13345126e-01,\n",
       "       -4.21449379e-01, -1.26062862e+00, -3.98445675e-01, -1.79089781e+00,\n",
       "       -2.38468360e+00, -3.01629874e+00, -1.66493852e+00, -1.59882004e+00,\n",
       "       -8.36909145e-01, -1.30758498e+00, -2.76788101e-03,  8.29184735e-01,\n",
       "       -1.82208641e-01, -3.71437079e-01,  1.58110134e+00,  1.32422645e+00,\n",
       "        2.60967481e+00, -2.37117930e+00, -2.47863714e+00, -9.02160331e-01,\n",
       "       -1.79370631e+00, -2.66699828e+00, -8.58466533e-01, -1.68331938e-01,\n",
       "       -1.97694971e-01, -7.25362280e-01,  4.52628235e-01, -2.22634616e+00,\n",
       "       -2.25657649e+00, -2.05276985e+00, -2.12367886e+00, -2.55607127e+00,\n",
       "       -3.32863714e+00, -3.49742293e+00, -2.15701528e-01,  5.71442552e-01,\n",
       "        1.80802732e-01, -2.63772623e-01, -4.79762213e-01,  1.05557253e-01,\n",
       "        5.28161987e-01, -4.69157395e-02,  2.67157245e-01, -4.00811676e+00,\n",
       "       -6.11999172e-01, -7.89911961e-01, -1.50450342e-01, -4.33425706e-01,\n",
       "       -2.46579352e+00, -2.14259353e+00, -1.04071579e+00, -1.49313762e+00,\n",
       "       -2.52105041e+00, -3.20144252e-01, -1.73390633e+00, -7.24701603e-01,\n",
       "       -1.35850540e+00, -7.83386842e-01, -1.75476221e+00, -1.14879348e+00,\n",
       "       -5.47615280e-01, -9.87193489e-01,  1.57131366e+00,  4.04184735e-01,\n",
       "        7.46662477e-02,  8.85837788e-02,  1.28833830e+00,  1.56805110e+00,\n",
       "       -1.69364088e+00, -1.85243237e+00, -2.19021057e+00, -2.42664281e+00,\n",
       "       -2.17868830e+00, -4.35407738e-01, -2.27288929e+00,  1.29312883e+00,\n",
       "        1.42123594e+00,  1.02407100e+00,  9.33743094e-02, -2.93560205e+00,\n",
       "       -3.74950729e+00, -2.92647505e+00, -2.57325136e+00, -5.10520397e+00,\n",
       "       -4.07336795e+00, -2.69483335e+00, -1.24518312e+00,  7.88709079e-03,\n",
       "        1.07234871e+00, -1.26868171e+00, -2.44427696e+00, -2.76095182e+00,\n",
       "       -2.25285987e+00, -2.22044090e+00, -8.06472201e-01, -2.02687599e+00,\n",
       "       -3.05586269e+00, -1.06442100e+00, -1.38002196e+00, -2.14519542e+00,\n",
       "       -2.42598213e+00, -1.47889288e-01, -6.38347090e-01, -9.48210457e-02,\n",
       "       -7.66454196e-01, -5.49143252e-01, -1.03526458e+00, -2.47253210e-01,\n",
       "        6.25378088e-01,  1.17088616e+00,  8.06346820e-01,  1.39687005e+00,\n",
       "        1.53834964e-01, -1.20260843e-01, -2.23047602e+00, -1.13099354e+00,\n",
       "       -1.12991963e+00,  4.50026354e-01, -8.51941415e-01, -2.60740492e+00,\n",
       "       -1.30717174e+00, -1.36436984e+00, -8.34100647e-01,  1.52386757e-02,\n",
       "       -9.60886398e-01, -7.49687339e-01, -2.11277644e+00, -3.00671768e+00,\n",
       "        2.34474683e+00,  1.17588331e+00,  1.79011175e+00,  1.45885868e+00,\n",
       "        2.86939217e-01, -1.70686375e-01, -1.14053377e+00,  3.13906985e-01,\n",
       "       -8.44962235e-01, -6.76176447e-01, -3.82082953e+00, -2.76863688e-01,\n",
       "       -1.29998595e+00, -1.67778214e+00, -1.45332623e+00, -6.69444712e-01,\n",
       "       -1.80721061e+00, -1.18166652e+00, -2.29940300e+00, -1.04030256e+00,\n",
       "       -1.13380204e+00, -1.12054519e+00, -2.62492096e-01, -7.26642807e-01,\n",
       "       -3.45584049e-01,  1.96414024e-01,  2.54066180e-01, -1.81699828e+00,\n",
       "       -6.68577418e-01, -1.27780871e+00, -1.02572435e+00,  1.50430747e+00,\n",
       "        7.85243493e-01, -1.71120022e-01,  2.29307475e-01,  2.12974264e-01,\n",
       "        6.04481378e-01,  3.41948664e-01, -5.73845085e-02, -7.20571750e-01,\n",
       "       -2.21220160e+00, -1.04030256e+00,  1.96414024e-01,  7.26724042e-01,\n",
       "       -3.74493022e-01,  6.96486867e-02, -1.83002811e+00, -1.19320920e+00,\n",
       "        4.07613083e-01, -7.54064636e-01, -5.39153327e-02, -9.07818156e-01,\n",
       "       -1.30539633e+00, -9.41311042e-01, -2.05058120e+00, -2.09403440e-01,\n",
       "        1.61762976e+00, -9.30202010e-01, -1.53377548e+00, -1.90896979e+00,\n",
       "        3.74553843e-01,  9.59353637e-02,  1.56929080e+00, -1.34349354e+00,\n",
       "        8.98297915e-01,  4.11350117e-01,  7.86110787e-01,  4.09615529e-01,\n",
       "        7.02812217e-01, -7.63171223e-01,  2.01885646e-01,  2.33210298e-01,\n",
       "       -3.21858427e-01,  8.83120271e-01,  4.91179511e-01,  1.01318900e+00,\n",
       "        1.25831459e+00, -1.03051488e+00, -3.32967459e-01, -1.24518312e+00,\n",
       "        1.40970930e-01, -3.08708011e-02,  1.32243062e+00, -4.58699713e-01,\n",
       "        4.22624938e-01, -1.15077551e+00, -2.06472576e+00, -1.67321864e+00,\n",
       "        5.10880029e+00,  1.53022682e+00,  7.31300287e-01,  3.81361783e+00,\n",
       "        1.53022682e+00, -2.48867911e-01,  7.45779022e-01,  5.47456741e-01,\n",
       "        8.26716618e-03, -6.79005359e-01, -1.42639162e+00, -1.43218645e-01,\n",
       "        2.18198442e-01, -9.67064599e-01,  9.75704782e-02, -8.28822898e-01,\n",
       "        3.05847047e-02, -8.67052743e-01, -3.50614354e-01, -9.22863169e-01,\n",
       "       -1.53587740e+00,  1.06386197e+00,  9.59353637e-02,  3.54771871e-01,\n",
       "       -6.20993541e-01,  7.23127309e-01, -2.51204330e+00, -8.69154663e-01,\n",
       "       -2.55273142e-01, -1.68092482e+00, -1.82433712e+00, -2.21544375e+00,\n",
       "       -1.38602670e+00, -1.67455274e+00,  1.95113083e-01, -1.81815822e-01,\n",
       "        3.96249758e-02, -1.51482764e+00, -7.78583568e-01, -4.47623839e-01,\n",
       "        3.23192927e-02,  6.83477457e-02, -5.18465712e-02,  2.31042063e-01,\n",
       "        5.45722153e-01,  1.72237857e+00,  1.29035431e-01,  2.36646316e-01,\n",
       "        1.03210367e+00,  1.53046730e-01,  1.25117469e+00,  1.73542114e+00,\n",
       "        6.71153391e-01,  2.62695437e+00,  2.81410130e+00,  2.28268422e+00,\n",
       "        1.63057285e+00,  2.02775053e+00,  1.99212257e+00,  4.20489861e-01,\n",
       "        3.11687138e+00,  1.09615339e+00,  1.02146145e+00,  5.14030170e-01,\n",
       "        2.89172163e+00,  4.94754721e+00,  2.92833678e+00,  8.74245789e-01,\n",
       "        2.71222730e+00,  9.52253866e-01,  8.98665247e-01,  4.40085631e-01,\n",
       "       -5.36666963e-01,  2.03109982e+00,  1.82491832e+00,  1.91104580e+00,\n",
       "        3.98118940e+00,  1.38981688e+00,  7.00412020e+00,  1.30778610e+00,\n",
       "        4.53912020e+00,  5.94505621e+00,  6.37819603e+00,  5.40966999e+00,\n",
       "        3.66843777e+00,  5.30585478e+00,  3.68441639e+00,  1.67830977e+00,\n",
       "       -1.00045801e+00,  3.70666762e+00, -1.71698643e+00,  3.34651831e+00,\n",
       "       -1.77145178e-01,  1.55638087e+00, -1.10727846e-03,  2.16963817e-01,\n",
       "       -1.71974572e-01, -8.06905848e-01,  8.46323997e-01,  2.65841165e+00,\n",
       "        3.00741877e+00,  9.74724449e-01,  7.79805029e-01,  2.48367469e+00,\n",
       "        3.02586664e+00,  1.28380029e+00,  2.28918892e+00,  1.60705384e+00,\n",
       "        7.87511201e-01,  1.48512494e+00,  2.54675764e+00,  1.84787612e+00,\n",
       "        1.75213442e+00,  2.82921263e+00,  2.34196382e+00,  2.79568659e+00,\n",
       "        3.67230744e+00,  5.71542025e-01,  1.59418803e-01,  9.76760053e-01,\n",
       "        3.77315343e+00, -1.11644849e+00, -9.00111983e-01,  7.14087038e-01,\n",
       "        4.03276613e-01,  2.57894959e+00,  1.89121026e+00,  8.78082296e-01,\n",
       "        7.13219744e-01, -1.37647550e-01, -8.01247241e-03,  2.07498749e+00,\n",
       "        2.64680266e+00, -8.26381026e-02,  3.39805859e+00,  2.54805859e+00,\n",
       "        2.66224816e+00,  2.80906333e+00,  2.08956570e+00,  2.87604910e+00,\n",
       "        3.26049101e-01,  2.97392588e+00,  5.48357193e-01,  6.30173634e+00,\n",
       "       -2.01164147e-01, -1.08552433e+00,  2.60984060e+00,  3.34738561e+00,\n",
       "        1.41466999e+00,  8.92660505e-01,  5.96437138e+00,  1.40269366e+00,\n",
       "        7.79338224e-01,  2.36428136e+00])"
      ]
     },
     "execution_count": 16,
     "metadata": {},
     "output_type": "execute_result"
    }
   ],
   "source": [
    "real_kml=kmlSR.to_numpy()\n",
    "real_kml - pre_kml"
   ]
  },
  {
   "cell_type": "code",
   "execution_count": 17,
   "metadata": {},
   "outputs": [
    {
     "data": {
      "image/png": "[encoded data removed]",
      "text/plain": [
       "<Figure size 640x480 with 1 Axes>"
      ]
     },
     "metadata": {},
     "output_type": "display_data"
    }
   ],
   "source": [
    "# 현재 데이터의 분포 확인\n",
    "\n",
    "plt.plot(weightDF, kmlSR, 'go', label='Real Kml')\n",
    "plt.plot(weightDF, pre_kml, 'r^', label='Predict Kml')\n",
    "plt.xlabel('weight')\n",
    "plt.ylabel('Kml')\n",
    "plt.legend()\n",
    "plt.show()"
   ]
  },
  {
   "cell_type": "code",
   "execution_count": 18,
   "metadata": {},
   "outputs": [
    {
     "data": {
      "text/plain": [
       "0.6917929800341573"
      ]
     },
     "execution_count": 18,
     "metadata": {},
     "output_type": "execute_result"
    }
   ],
   "source": [
    "model.score(weightDF, kmlSR)"
   ]
  },
  {
   "cell_type": "code",
   "execution_count": 20,
   "metadata": {},
   "outputs": [],
   "source": [
    "# 성능지표 => 오차계산과 결정계수 계산\n",
    "pre_kml=model.predict(weightDF)\n",
    "\n",
    "# 손실/비용 계산 함수 => 정답과 예측값\n",
    "mse=mean_squared_error(kmlSR, pre_kml)\n",
    "rmse=mean_squared_error(kmlSR, pre_kml, squared=False)\n",
    "mae=mean_absolute_error(kmlSR, pre_kml)\n",
    "\n",
    "# 얼마나 정답에 가깝게 값을 예측 했느냐를 나타내는 지표 => 정답과 예측값 제공 : 1에 가까울 수록 좋음\n",
    "r2=r2_score(kmlSR, pre_kml)"
   ]
  },
  {
   "cell_type": "code",
   "execution_count": 21,
   "metadata": {},
   "outputs": [
    {
     "name": "stdout",
     "output_type": "stream",
     "text": [
      "mse : 3.392307239567254\n",
      "rmse : 1.841821717639157\n",
      "mae : 1.3994352372485734\n",
      "r2 : 0.6917929800341573\n"
     ]
    }
   ],
   "source": [
    "# 손실/비용함수 값은 0에 가까울 수록\n",
    "# 결정계수 값은 1에 가까울 수록 성능 좋은 모델\n",
    "print(f'mse : {mse}')\n",
    "print(f'rmse : {rmse}')\n",
    "print(f'mae : {mae}')\n",
    "print(f'r2 : {r2}')"
   ]
  },
  {
   "cell_type": "code",
   "execution_count": null,
   "metadata": {},
   "outputs": [],
   "source": []
  }
 ],
 "metadata": {
  "kernelspec": {
   "display_name": "ML_38",
   "language": "python",
   "name": "python3"
  },
  "language_info": {
   "codemirror_mode": {
    "name": "ipython",
    "version": 3
   },
   "file_extension": ".py",
   "mimetype": "text/x-python",
   "name": "python",
   "nbconvert_exporter": "python",
   "pygments_lexer": "ipython3",
   "version": "3.8.19"
  }
 },
 "nbformat": 4,
 "nbformat_minor": 2
}

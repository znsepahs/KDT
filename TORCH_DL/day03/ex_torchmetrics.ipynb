{
 "cells": [
  {
   "cell_type": "code",
   "execution_count": 1,
   "metadata": {},
   "outputs": [],
   "source": [
    "#%pip install torchmetrics"
   ]
  },
  {
   "cell_type": "markdown",
   "metadata": {},
   "source": [
    "#### Torchmetrics 패키지\n",
    "- pytorch에서 모델 성능평가 기능 제공 패키지\n",
    "- 추가 설치 필요\n",
    "    * pip : pip install torchmetrics\n",
    "    * conda : conda install -c conda-forge torchmetrics\n",
    "- 사용법\n",
    "    * 클래스 방식 : 인스턴스 생성 후 사용\n",
    "    * 함수 방식 : 바로 사용"
   ]
  },
  {
   "cell_type": "markdown",
   "metadata": {},
   "source": [
    "- [1] 회귀(Regression) 성능지표"
   ]
  },
  {
   "cell_type": "code",
   "execution_count": 2,
   "metadata": {},
   "outputs": [],
   "source": [
    "# 모듈 로딩\n",
    "from torchmetrics.functional.regression import r2_score\n",
    "from torchmetrics.regression import R2Score\n",
    "import torch"
   ]
  },
  {
   "cell_type": "code",
   "execution_count": 3,
   "metadata": {},
   "outputs": [
    {
     "data": {
      "text/plain": [
       "tensor(0.9486)"
      ]
     },
     "execution_count": 3,
     "metadata": {},
     "output_type": "execute_result"
    }
   ],
   "source": [
    "# 클래스 방식 ------------------------------------------------------------------------------------\n",
    "# 데이터\n",
    "target = torch.tensor([3, -0.5, 2, 7])  # 1D (4,)\n",
    "preds = torch.tensor([2.5, 0.0, 2, 8])  # 1D (4,)\n",
    "\n",
    "# 성능평가 => R2Score : 0~1(좋음) 정답에 얼마나 근사하게 표현했는가\n",
    "r2score = R2Score()\n",
    "r2score(preds, target)"
   ]
  },
  {
   "cell_type": "code",
   "execution_count": 4,
   "metadata": {},
   "outputs": [
    {
     "data": {
      "text/plain": [
       "(30, 6)"
      ]
     },
     "execution_count": 4,
     "metadata": {},
     "output_type": "execute_result"
    }
   ],
   "source": [
    "def add(a,b):return a+b\n",
    "\n",
    "my_func=add\n",
    "my_func(10, 20), add(1,5)"
   ]
  },
  {
   "cell_type": "code",
   "execution_count": 5,
   "metadata": {},
   "outputs": [
    {
     "data": {
      "text/plain": [
       "tensor(0.9486)"
      ]
     },
     "execution_count": 5,
     "metadata": {},
     "output_type": "execute_result"
    }
   ],
   "source": [
    "# 함수 방식 ------------------------------------------------------------------------------------\n",
    "# 데이터\n",
    "target = torch.tensor([3, -0.5, 2, 7])  # 1D (4,)\n",
    "preds = torch.tensor([2.5, 0.0, 2, 8])  # 1D (4,)\n",
    "\n",
    "# 성능평가 => r2_score : 0~1(좋음) 정답에 얼마나 근사하게 표현했는가\n",
    "r2_score(preds, target)"
   ]
  },
  {
   "cell_type": "code",
   "execution_count": 6,
   "metadata": {},
   "outputs": [],
   "source": [
    "class MyR2(R2Score):\n",
    "    pass"
   ]
  },
  {
   "cell_type": "code",
   "execution_count": 7,
   "metadata": {},
   "outputs": [
    {
     "data": {
      "text/plain": [
       "tensor(0.9486)"
      ]
     },
     "execution_count": 7,
     "metadata": {},
     "output_type": "execute_result"
    }
   ],
   "source": [
    "gg=MyR2()\n",
    "gg(preds, target)"
   ]
  },
  {
   "cell_type": "code",
   "execution_count": 8,
   "metadata": {},
   "outputs": [],
   "source": [
    "# 모듈 로딩\n",
    "from torchmetrics.functional.regression import mean_squared_error, mean_absolute_error\n",
    "from torchmetrics.regression import MeanSquaredError, MeanAbsoluteError"
   ]
  },
  {
   "cell_type": "code",
   "execution_count": 9,
   "metadata": {},
   "outputs": [
    {
     "name": "stdout",
     "output_type": "stream",
     "text": [
      "tensor(0.8750)\n",
      "tensor(0.8750)\n"
     ]
    }
   ],
   "source": [
    "# 데이터\n",
    "target = torch.tensor([2.5, 5.0, 4.0, 8.0])\n",
    "preds = torch.tensor([3.0, 5.0, 2.5, 7.0])\n",
    "\n",
    "# 성능평가 => 오차계산 : 0에 가까울 수록 좋다\n",
    "mean_squared_error = MeanSquaredError()\n",
    "print(mean_squared_error(preds, target))\n",
    "print(MeanSquaredError()(preds, target))"
   ]
  },
  {
   "cell_type": "markdown",
   "metadata": {},
   "source": [
    "- 분류(classification) 성능평가지표\n",
    "    * Accuracy : 양성-양성, 음성-음성 => 불균형 데이터일 경우 신뢰성이 없음\n",
    "    * Precision : 예측 양성으로 했고 정답도 양성인 것 =>\n",
    "    * Recall : 정답 양성인데 예측 양성\n",
    "    * F1-Score\n",
    "    * ConfusionMatrix \n",
    "    * ROC-AUC => 의료분야 / 2진분류"
   ]
  },
  {
   "cell_type": "code",
   "execution_count": 10,
   "metadata": {},
   "outputs": [],
   "source": [
    "# 모듈 로딩\n",
    "from torchmetrics.classification import F1Score, Accuracy, Precision, Recall\n",
    "from torchmetrics.functional.classification import f1_score, accuracy, precision, recall"
   ]
  },
  {
   "cell_type": "markdown",
   "metadata": {},
   "source": [
    "* 프레임워크 => 개발에 필요한 모든 것을 포함하고 있는 집합체\n",
    "    - [예시]\n",
    "    - ML 알고리즘 패키지, 성능평가 패키지, 전처리 패키지, 데이터셋 패키지, 특성공학패키지...\n",
    "\n",
    "* 인터페이스\n",
    "    - [1] 서로 다른 요소/장치/사람 연결 시켜주는 것\n",
    "        - [예시]\n",
    "        - User Interface : 사용자와 컴퓨터/휴대폰/SW/HW 연결 => 버튼, 글자입력란, 그림\n",
    "    - [2] OOP개념에서 서로 다른 객체들이 동일한 기능을 사용할 수 있도록 해주는 기능\n",
    "\n",
    "\n",
    "* 모듈 => 같은 목적의 변수, 함수, 클래스를 포함한 1개 파일(py)\n",
    "    - [예시]\n",
    "    - 웹에 요청 목적의 변수, 함수, 클래스\n",
    "    - 웹에서 받은 응답을 처리하는 목적의 변수, 함수, 클래스\n",
    "    - 웹주소 분석 목적의 변수, 함수, 클래스\n",
    "\n",
    "* 패키지 => 유사한 분야의 모듈을 모아서 하나로 만든 것\n",
    "    - [예시]\n",
    "    - 웹 패키지 => 요청 처리 모듈, 응답 처리 모듈, 주소 분석 모듈, 데이터 파일 분석 모듈\n",
    "\n",
    "* IDE 통합개발환경 => 개발에 필요한 모든 도구들 제공해주는 SW. 코드작성, 디버깅, 필요 패키지 검색 및 설치 등"
   ]
  },
  {
   "cell_type": "code",
   "execution_count": 14,
   "metadata": {},
   "outputs": [
    {
     "name": "stdout",
     "output_type": "stream",
     "text": [
      "tensor(0.6667)\n"
     ]
    }
   ],
   "source": [
    "# 2진분류 => task='binary'\n",
    "from torchmetrics.classification import BinaryF1Score\n",
    "\n",
    "target = torch.tensor([0, 1, 1, 0, 1, 0])\n",
    "preds = torch.tensor([0, 1, 1, 0, 0, 1])\n",
    "\n",
    "f1 = F1Score(task=\"binary\")\n",
    "print(f1(preds, target))"
   ]
  },
  {
   "cell_type": "code",
   "execution_count": 12,
   "metadata": {},
   "outputs": [
    {
     "name": "stdout",
     "output_type": "stream",
     "text": [
      "tensor(0.4333)\n",
      "tensor(0.4333)\n"
     ]
    }
   ],
   "source": [
    "# 다중분류 => task='multiclass'\n",
    "from torchmetrics.classification import MulticlassF1Score\n",
    "\n",
    "target = torch.tensor([0, 1, 2, 0, 2, 0])\n",
    "preds = torch.tensor([0, 2, 1, 0, 2, 1])\n",
    "\n",
    "f1 = F1Score(task=\"multiclass\", num_classes=3, average='macro')\n",
    "print(f1(preds, target))\n",
    "\n",
    "# MulticlassF1Score => average='macro'\n",
    "print( MulticlassF1Score(num_classes=3)(preds, target))"
   ]
  },
  {
   "cell_type": "code",
   "execution_count": 17,
   "metadata": {},
   "outputs": [
    {
     "name": "stdout",
     "output_type": "stream",
     "text": [
      "tensor(0.6667)\n",
      "tensor(0.6667)\n"
     ]
    }
   ],
   "source": [
    "# 2진분류 => task='binary'\n",
    "from torchmetrics.classification import BinaryPrecision\n",
    "\n",
    "target = torch.tensor([0, 1, 1, 0, 1, 0])\n",
    "preds = torch.tensor([0, 1, 1, 0, 0, 1])\n",
    "\n",
    "pb = Precision(task=\"binary\", threshold=0.7)\n",
    "print(pb(preds, target))\n",
    "\n",
    "print(BinaryPrecision(threshold=0.7)(preds, target))"
   ]
  },
  {
   "cell_type": "code",
   "execution_count": 19,
   "metadata": {},
   "outputs": [
    {
     "name": "stdout",
     "output_type": "stream",
     "text": [
      "tensor(0.5000)\n",
      "tensor(0.5000)\n"
     ]
    }
   ],
   "source": [
    "# 다중분류 => task='multiclass'\n",
    "from torchmetrics.classification import MulticlassPrecision\n",
    "\n",
    "target = torch.tensor([0, 1, 2, 0, 2, 0])\n",
    "preds = torch.tensor([0, 2, 1, 0, 2, 1])\n",
    "\n",
    "# Precision => average='micro'\n",
    "pm = Precision(task=\"multiclass\", num_classes=3, average='macro')\n",
    "print(pm(preds, target))\n",
    "\n",
    "# MulticlassF1Score => average='macro'\n",
    "print( MulticlassPrecision(num_classes=3)(preds, target))"
   ]
  },
  {
   "cell_type": "code",
   "execution_count": null,
   "metadata": {},
   "outputs": [],
   "source": []
  }
 ],
 "metadata": {
  "kernelspec": {
   "display_name": "TORCH_38",
   "language": "python",
   "name": "python3"
  },
  "language_info": {
   "codemirror_mode": {
    "name": "ipython",
    "version": 3
   },
   "file_extension": ".py",
   "mimetype": "text/x-python",
   "name": "python",
   "nbconvert_exporter": "python",
   "pygments_lexer": "ipython3",
   "version": "3.8.19"
  }
 },
 "nbformat": 4,
 "nbformat_minor": 2
}

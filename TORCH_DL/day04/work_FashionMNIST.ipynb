{
 "cells": [
  {
   "cell_type": "code",
   "execution_count": 15,
   "metadata": {},
   "outputs": [],
   "source": [
    "# 모듈 로딩\n",
    "import torch\n",
    "import torch.nn as nn \n",
    "import torch.nn.functional as F\n",
    "import torch.optim as optimizer\n",
    "from torchmetrics.classification import F1Score,Accuracy\n",
    "from torchinfo import summary\n",
    "from torch.utils.data import Dataset, DataLoader\n",
    "import pandas as pd"
   ]
  },
  {
   "cell_type": "markdown",
   "metadata": {},
   "source": [
    "## 라벨 분류\n",
    "class_names = ['T-shirt/top', 'Trouser', 'Pullover', 'Dress', 'Coat', \n",
    "               'Sandal', 'Shirt', 'Sneaker', 'Bag', 'Anke boot']"
   ]
  },
  {
   "cell_type": "code",
   "execution_count": 16,
   "metadata": {},
   "outputs": [],
   "source": [
    "DATA_FILE='../../../datas/fashion-mnist/fashion-mnist_train.csv'\n",
    "DATA_FILE2='../../../datas/fashion-mnist/fashion-mnist_test.csv'"
   ]
  },
  {
   "cell_type": "code",
   "execution_count": 17,
   "metadata": {},
   "outputs": [],
   "source": [
    "train_df=pd.read_csv(DATA_FILE)\n",
    "test_df=pd.read_csv(DATA_FILE2)"
   ]
  },
  {
   "cell_type": "code",
   "execution_count": 18,
   "metadata": {},
   "outputs": [
    {
     "data": {
      "text/plain": [
       "array([ 0, 14,  7,  3, 16,  1,  4,  2], dtype=int64)"
      ]
     },
     "execution_count": 18,
     "metadata": {},
     "output_type": "execute_result"
    }
   ],
   "source": [
    "# ? 왜이리크지 28*28\n",
    "train_df['pixel1'].unique()"
   ]
  },
  {
   "cell_type": "markdown",
   "metadata": {},
   "source": [
    "사용자 정의 데이터셋 생성"
   ]
  },
  {
   "cell_type": "code",
   "execution_count": 19,
   "metadata": {},
   "outputs": [],
   "source": [
    "# 클래스 목적 : 학습용 데이터셋 텐서화 및 전처리\n",
    "# 클래스 이름 : customDataSet\n",
    "# 부모클래스 : torch.utils.data.Dataset\n",
    "# 매개 변수: featureDF, targetDF\n",
    "class CustomDataset(Dataset):\n",
    "    # 데이터 로딩 및 전처리 진행과 인스턴스 생성 메서드\n",
    "    def __init__(self, featureDF, targetDF):\n",
    "        super().__init__()\n",
    "        self.featureDF=featureDF\n",
    "        self.targetDF=targetDF\n",
    "        self.n_rows=featureDF.shape[0]\n",
    "        self.n_feaures=featureDF.shape[1]\n",
    "\n",
    "    # 데이터의 개수 반환 메서드\n",
    "    def __len__(self) :\n",
    "        return self.n_rows\n",
    "\n",
    "    \n",
    "    # 특정 index의 데이터와 타겟 반환 메서드 => Tensor 반환!!!\n",
    "    def __getitem__(self, idx) :\n",
    "        featureTS=torch.FloatTensor( self.featureDF.iloc[idx].values)\n",
    "        targetTS=torch.FloatTensor( self.targetDF.iloc[idx].values)\n",
    "        return featureTS, targetTS"
   ]
  },
  {
   "cell_type": "code",
   "execution_count": 20,
   "metadata": {},
   "outputs": [
    {
     "name": "stdout",
     "output_type": "stream",
     "text": [
      "featureDF => (60000, 784), targetDF => (60000, 1)\n"
     ]
    }
   ],
   "source": [
    "featureDF = train_df[train_df.columns[1:]]/255   # 그림이니까 255로 나눠서 정규화\n",
    "targetDF = train_df[[train_df.columns[0]]]\n",
    "\n",
    "print(f'featureDF => {featureDF.shape}, targetDF => {targetDF.shape}')"
   ]
  },
  {
   "cell_type": "code",
   "execution_count": 21,
   "metadata": {},
   "outputs": [],
   "source": [
    "test_feaureDF = test_df[test_df.columns[1:]]/255\n",
    "test_targetDF = test_df[[test_df.columns[0]]]"
   ]
  },
  {
   "cell_type": "code",
   "execution_count": 22,
   "metadata": {},
   "outputs": [],
   "source": [
    "train_dataset = CustomDataset(featureDF, targetDF)\n",
    "test_dataset= CustomDataset(test_feaureDF, test_targetDF)"
   ]
  },
  {
   "cell_type": "code",
   "execution_count": 23,
   "metadata": {},
   "outputs": [],
   "source": [
    "train_DL=DataLoader(train_dataset, batch_size=64)\n",
    "test_DL=DataLoader(test_dataset, batch_size=64)"
   ]
  },
  {
   "cell_type": "markdown",
   "metadata": {},
   "source": [
    "사용자정의 커스텀 모델 생성"
   ]
  },
  {
   "cell_type": "code",
   "execution_count": 24,
   "metadata": {},
   "outputs": [],
   "source": [
    "# ---------------------------------------------------------\n",
    "# 모델 이름 : CustomModel\n",
    "# 부모클래스 : nn.Module\n",
    "# 매개 변수 : None\n",
    "# 모델구조\n",
    "# -입력층 : 입력 784개    출력 128개   AF ReLU\n",
    "# -은닉층 : 입력 128개   출력 64개   AF ReLU -> LeakyReLU\n",
    "# -출력층 : 입력 64개   출력 10개    AF 분류 - 다중 softmax  0,1,2\n",
    "# ---------------------------------------------------------\n",
    "class CustomModel(nn.Module):\n",
    "    def __init__(self):\n",
    "        super().__init__()\n",
    "        self.in_layer = nn.Linear(784, 128)  \n",
    "        self.h_layer = nn.Linear(128, 64)  \n",
    "        self.out_layer = nn.Linear(64, 10)  #10개의 클래스를 분류\n",
    "\n",
    "    def forward(self, x):\n",
    "        x = F.relu(self.in_layer(x)) \n",
    "        x = F.relu(self.h_layer(x))  \n",
    "        return self.out_layer(x) # 출력"
   ]
  },
  {
   "cell_type": "markdown",
   "metadata": {},
   "source": [
    "학습함수 생성"
   ]
  },
  {
   "cell_type": "code",
   "execution_count": 25,
   "metadata": {},
   "outputs": [],
   "source": [
    "def training(model, dataloader, optimizer, epochs=100):\n",
    "    TS_loss, TS_score =[[]], [[]]\n",
    "\n",
    "    for epoch in range(epochs):\n",
    "        loss_total, score_total = 0, 0\n",
    "\n",
    "        for dataTS, targetTS in dataloader:\n",
    "            targetTS = targetTS.reshape(-1).long()\n",
    "            pre_y = model(dataTS)\n",
    "        \n",
    "            loss=nn.CrossEntropyLoss()(pre_y, targetTS)  # 클래스라이렇게함\n",
    "            loss_total += loss.item()\n",
    "\n",
    "            score=Accuracy(task='multiclass',num_classes=10)(pre_y, targetTS)\n",
    "            score_total += score.item()\n",
    "\n",
    "            optimizer.zero_grad()\n",
    "            loss.backward()\n",
    "            optimizer.step()\n",
    "\n",
    "        TS_loss[0].append(loss_total/len(dataloader))  # 배치의 평균\n",
    "        TS_score[0].append(score_total/len(dataloader))\n",
    "\n",
    "\n",
    "        print(f'[{epoch}//{epochs}]')\n",
    "        print(f'-Train LOSS : {TS_loss[0][-1]} AcuracyScore : {TS_score[0][-1]}')\n",
    "    return TS_loss, TS_score"
   ]
  },
  {
   "cell_type": "markdown",
   "metadata": {},
   "source": [
    "테스트 함수 생성"
   ]
  },
  {
   "cell_type": "code",
   "execution_count": 26,
   "metadata": {},
   "outputs": [],
   "source": [
    "# testing 함수\n",
    "def testing(model, dataloader):\n",
    "    test_loss, test_score = 0,0\n",
    "\n",
    "    with torch.no_grad():\n",
    "        for dataTS, targetTS in dataloader:\n",
    "            targetTS = targetTS.reshape(-1).long()\n",
    "            pre_y = model(dataTS)\n",
    "\n",
    "            loss=nn.CrossEntropyLoss()(pre_y, targetTS)  # 클래스라이렇게함\n",
    "            test_loss += loss.item()\n",
    "\n",
    "            score=Accuracy(task='multiclass',num_classes=10)(pre_y, targetTS)\n",
    "            test_score += score.item()\n",
    "\n",
    "    loss_avg = test_loss/len(dataloader)\n",
    "    score_avg = test_score/len(dataloader)\n",
    "    print(f'-Test LOSS : {loss_avg} AcuracyScore : {score_avg}')\n",
    "\n",
    "    return  loss_avg, score_avg"
   ]
  },
  {
   "cell_type": "code",
   "execution_count": 27,
   "metadata": {},
   "outputs": [
    {
     "name": "stdout",
     "output_type": "stream",
     "text": [
      "CustomModel(\n",
      "  (in_layer): Linear(in_features=784, out_features=128, bias=True)\n",
      "  (h_layer): Linear(in_features=128, out_features=64, bias=True)\n",
      "  (out_layer): Linear(in_features=64, out_features=10, bias=True)\n",
      ")\n"
     ]
    },
    {
     "data": {
      "text/plain": [
       "==========================================================================================\n",
       "Layer (type:depth-idx)                   Output Shape              Param #\n",
       "==========================================================================================\n",
       "CustomModel                              [1000, 10]                --\n",
       "├─Linear: 1-1                            [1000, 128]               100,480\n",
       "├─Linear: 1-2                            [1000, 64]                8,256\n",
       "├─Linear: 1-3                            [1000, 10]                650\n",
       "==========================================================================================\n",
       "Total params: 109,386\n",
       "Trainable params: 109,386\n",
       "Non-trainable params: 0\n",
       "Total mult-adds (M): 109.39\n",
       "==========================================================================================\n",
       "Input size (MB): 3.14\n",
       "Forward/backward pass size (MB): 1.62\n",
       "Params size (MB): 0.44\n",
       "Estimated Total Size (MB): 5.19\n",
       "=========================================================================================="
      ]
     },
     "execution_count": 27,
     "metadata": {},
     "output_type": "execute_result"
    }
   ],
   "source": [
    "### 모델 인스턴스 생성\n",
    "model = CustomModel()\n",
    "print(model)\n",
    "summary(model, input_size=(1000,784))"
   ]
  },
  {
   "cell_type": "markdown",
   "metadata": {},
   "source": [
    "모델 학습/ 테스트"
   ]
  },
  {
   "cell_type": "code",
   "execution_count": 28,
   "metadata": {},
   "outputs": [
    {
     "name": "stdout",
     "output_type": "stream",
     "text": [
      "[0//10]\n",
      "-Train LOSS : 0.5613602612382059 AcuracyScore : 0.8033715351812367\n",
      "[1//10]\n",
      "-Train LOSS : 0.3976291035856011 AcuracyScore : 0.8575759594882729\n",
      "[2//10]\n",
      "-Train LOSS : 0.3556484395761226 AcuracyScore : 0.8713186300639659\n",
      "[3//10]\n",
      "-Train LOSS : 0.32810177567448695 AcuracyScore : 0.8801472547974414\n",
      "[4//10]\n",
      "-Train LOSS : 0.3091025975610274 AcuracyScore : 0.8874933368869936\n",
      "[5//10]\n",
      "-Train LOSS : 0.2942585152651328 AcuracyScore : 0.892590618336887\n",
      "[6//10]\n",
      "-Train LOSS : 0.28037293753358344 AcuracyScore : 0.8973547441364605\n",
      "[7//10]\n",
      "-Train LOSS : 0.2680230919343195 AcuracyScore : 0.9016691098081023\n",
      "[8//10]\n",
      "-Train LOSS : 0.25820671867873113 AcuracyScore : 0.9064165778251599\n",
      "[9//10]\n",
      "-Train LOSS : 0.2484405188481691 AcuracyScore : 0.9091484541577826\n",
      "-Test LOSS : 0.3174454358637713 AcuracyScore : 0.8874402866242038\n"
     ]
    }
   ],
   "source": [
    "model = CustomModel()  \n",
    "optimizer = optimizer.Adam(model.parameters(), lr=0.001) \n",
    "\n",
    "loss, score = training(model, train_DL, optimizer, epochs=10)\n",
    "test_loss, test_score = testing(model, test_DL)"
   ]
  },
  {
   "cell_type": "code",
   "execution_count": 29,
   "metadata": {},
   "outputs": [
    {
     "data": {
      "text/plain": [
       "Text(0.5, 1.0, 'Accuracy')"
      ]
     },
     "execution_count": 29,
     "metadata": {},
     "output_type": "execute_result"
    },
    {
     "data": {
      "image/png": "[encoded data removed]",
      "text/plain": [
       "<Figure size 1000x500 with 2 Axes>"
      ]
     },
     "metadata": {},
     "output_type": "display_data"
    }
   ],
   "source": [
    "# 학습 후 loss 시각화\n",
    "import matplotlib.pyplot as plt\n",
    "\n",
    "\n",
    "fg, axes = plt.subplots(1,2 , figsize=(10,5))\n",
    "axes[0].plot(range(1, 10+1), loss[0], label='Train')\n",
    "axes[0].grid()\n",
    "axes[0].legend()\n",
    "axes[0].set_xlabel(\"Epoch\")\n",
    "axes[0].set_ylabel(\"Loss\")\n",
    "axes[0].set_title(\"LOSS\")\n",
    "\n",
    "axes[1].plot(range(1, 10+1), score[0], label='Train')\n",
    "axes[1].grid()\n",
    "axes[1].legend()\n",
    "axes[1].set_xlabel(\"Epoch\")\n",
    "axes[1].set_ylabel(\"Accuracyscore\")\n",
    "axes[1].set_title(\"Accuracy\")"
   ]
  },
  {
   "cell_type": "markdown",
   "metadata": {},
   "source": [
    "데이터셋 첫번째 이미지 예측"
   ]
  },
  {
   "cell_type": "code",
   "execution_count": 30,
   "metadata": {},
   "outputs": [],
   "source": [
    "first_image, first_label = test_dataset[0]"
   ]
  },
  {
   "cell_type": "code",
   "execution_count": 31,
   "metadata": {},
   "outputs": [
    {
     "data": {
      "text/plain": [
       "torch.Size([784])"
      ]
     },
     "execution_count": 31,
     "metadata": {},
     "output_type": "execute_result"
    }
   ],
   "source": [
    "first_image.shape # 28*28로 나눠야함"
   ]
  },
  {
   "cell_type": "code",
   "execution_count": 32,
   "metadata": {},
   "outputs": [],
   "source": [
    "with torch.no_grad():\n",
    "    output = model(first_image.unsqueeze(0)) # 배치 차원 추가 \n",
    "    predic_label = torch.argmax(output, dim=1).item()\n"
   ]
  },
  {
   "cell_type": "code",
   "execution_count": 33,
   "metadata": {},
   "outputs": [],
   "source": [
    "class_names = ['T-shirt/top', 'Trouser', 'Pullover', 'Dress', 'Coat', \n",
    "               'Sandal', 'Shirt', 'Sneaker', 'Bag', 'Anke boot']"
   ]
  },
  {
   "cell_type": "code",
   "execution_count": 34,
   "metadata": {},
   "outputs": [],
   "source": [
    "actual_label = first_label.item()"
   ]
  },
  {
   "cell_type": "code",
   "execution_count": 35,
   "metadata": {},
   "outputs": [
    {
     "data": {
      "text/plain": [
       "'T-shirt/top'"
      ]
     },
     "execution_count": 35,
     "metadata": {},
     "output_type": "execute_result"
    }
   ],
   "source": [
    "class_names[int(actual_label)]"
   ]
  },
  {
   "cell_type": "code",
   "execution_count": 36,
   "metadata": {},
   "outputs": [
    {
     "data": {
      "image/png": "[encoded data removed]",
      "text/plain": [
       "<Figure size 640x480 with 1 Axes>"
      ]
     },
     "metadata": {},
     "output_type": "display_data"
    }
   ],
   "source": [
    "plt.imshow(first_image.view(28,28), cmap='gray')\n",
    "plt.axis('off')\n",
    "plt.title(f'Actual: {class_names[int(actual_label)]}, Predict: {class_names[int(predic_label)]}')\n",
    "plt.show()"
   ]
  }
 ],
 "metadata": {
  "kernelspec": {
   "display_name": "Python 3",
   "language": "python",
   "name": "python3"
  },
  "language_info": {
   "codemirror_mode": {
    "name": "ipython",
    "version": 3
   },
   "file_extension": ".py",
   "mimetype": "text/x-python",
   "name": "python",
   "nbconvert_exporter": "python",
   "pygments_lexer": "ipython3",
   "version": "3.8.19"
  }
 },
 "nbformat": 4,
 "nbformat_minor": 2
}

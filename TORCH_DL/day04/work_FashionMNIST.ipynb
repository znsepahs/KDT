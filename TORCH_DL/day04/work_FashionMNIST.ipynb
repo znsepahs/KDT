{
 "cells": [
  {
   "cell_type": "code",
   "execution_count": 81,
   "metadata": {},
   "outputs": [],
   "source": [
    "# 모듈 로딩\n",
    "import torch\n",
    "import torch.nn as nn \n",
    "import torch.nn.functional as F\n",
    "import torch.optim as optimizer\n",
    "from torchmetrics.classification import F1Score,Accuracy\n",
    "from torchinfo import summary\n",
    "from torch.utils.data import Dataset, DataLoader\n",
    "import pandas as pd"
   ]
  },
  {
   "cell_type": "markdown",
   "metadata": {},
   "source": [
    "## 라벨 분류\n",
    "class_names = ['T-shirt/top', 'Trouser', 'Pullover', 'Dress', 'Coat', \n",
    "               'Sandal', 'Shirt', 'Sneaker', 'Bag', 'Anke boot']"
   ]
  },
  {
   "cell_type": "code",
   "execution_count": 82,
   "metadata": {},
   "outputs": [],
   "source": [
    "# 데이터\n",
    "FILE_PATH = 'fashion-mnist_train.csv'\n",
    "FILE_PATH2 = 'fashion-mnist_test.csv'"
   ]
  },
  {
   "cell_type": "code",
   "execution_count": 83,
   "metadata": {},
   "outputs": [],
   "source": [
    "train_df=pd.read_csv(FILE_PATH)\n",
    "test_df=pd.read_csv(FILE_PATH2)"
   ]
  },
  {
   "cell_type": "code",
   "execution_count": 84,
   "metadata": {},
   "outputs": [
    {
     "data": {
      "text/plain": [
       "array([ 0, 14,  7,  3, 16,  1,  4,  2])"
      ]
     },
     "execution_count": 84,
     "metadata": {},
     "output_type": "execute_result"
    }
   ],
   "source": [
    "# ? 왜이리크지 28*28\n",
    "train_df['pixel1'].unique()"
   ]
  },
  {
   "cell_type": "markdown",
   "metadata": {},
   "source": [
    "사용자 정의 데이터셋 생성"
   ]
  },
  {
   "cell_type": "code",
   "execution_count": 85,
   "metadata": {},
   "outputs": [],
   "source": [
    "# 클래스 목적 : 학습용 데이터셋 텐서화 및 전처리\n",
    "# 클래스 이름 : customDataSet\n",
    "# 부모클래스 : torch.utils.data.Dataset\n",
    "# 매개 변수: featureDF, targetDF\n",
    "class CustomDataset(Dataset):\n",
    "    # 데이터 로딩 및 전처리 진행과 인스턴스 생성 메서드\n",
    "    def __init__(self, featureDF, targetDF):\n",
    "        super().__init__()\n",
    "        self.featureDF=featureDF\n",
    "        self.targetDF=targetDF\n",
    "        self.n_rows=featureDF.shape[0]\n",
    "        self.n_feaures=featureDF.shape[1]\n",
    "\n",
    "    # 데이터의 개수 반환 메서드\n",
    "    def __len__(self) :\n",
    "        return self.n_rows\n",
    "\n",
    "    \n",
    "    # 특정 index의 데이터와 타겟 반환 메서드 => Tensor 반환!!!\n",
    "    def __getitem__(self, idx) :\n",
    "        featureTS=torch.FloatTensor( self.featureDF.iloc[idx].values)\n",
    "        targetTS=torch.FloatTensor( self.targetDF.iloc[idx].values)\n",
    "        return featureTS, targetTS"
   ]
  },
  {
   "cell_type": "code",
   "execution_count": 86,
   "metadata": {},
   "outputs": [
    {
     "name": "stdout",
     "output_type": "stream",
     "text": [
      "featureDF => (60000, 784), targetDF => (60000, 1)\n"
     ]
    }
   ],
   "source": [
    "featureDF = train_df[train_df.columns[1:]]/255   # 그림이니까 255로 나눠서 정규화\n",
    "targetDF = train_df[[train_df.columns[0]]]\n",
    "\n",
    "print(f'featureDF => {featureDF.shape}, targetDF => {targetDF.shape}')"
   ]
  },
  {
   "cell_type": "code",
   "execution_count": 87,
   "metadata": {},
   "outputs": [],
   "source": [
    "test_feaureDF = test_df[test_df.columns[1:]]/255\n",
    "test_targetDF = test_df[[test_df.columns[0]]]"
   ]
  },
  {
   "cell_type": "code",
   "execution_count": 88,
   "metadata": {},
   "outputs": [],
   "source": [
    "train_dataset = CustomDataset(featureDF, targetDF)\n",
    "test_dataset= CustomDataset(test_feaureDF, test_targetDF)"
   ]
  },
  {
   "cell_type": "code",
   "execution_count": 89,
   "metadata": {},
   "outputs": [],
   "source": [
    "train_DL=DataLoader(train_dataset, batch_size=64)\n",
    "test_DL=DataLoader(test_dataset, batch_size=64)"
   ]
  },
  {
   "cell_type": "markdown",
   "metadata": {},
   "source": [
    "사용자정의 커스텀 모델 생성"
   ]
  },
  {
   "cell_type": "code",
   "execution_count": 90,
   "metadata": {},
   "outputs": [],
   "source": [
    "# ---------------------------------------------------------\n",
    "# 모델 이름 : CustomModel\n",
    "# 부모클래스 : nn.Module\n",
    "# 매개 변수 : None\n",
    "# 모델구조\n",
    "# -입력층 : 입력 784개    출력 128개   AF ReLU\n",
    "# -은닉층 : 입력 128개   출력 64개   AF ReLU -> LeakyReLU\n",
    "# -출력층 : 입력 64개   출력 10개    AF 분류 - 다중 softmax  0,1,2\n",
    "# ---------------------------------------------------------\n",
    "class CustomModel(nn.Module):\n",
    "    def __init__(self):\n",
    "        super().__init__()\n",
    "        self.in_layer = nn.Linear(784, 128)  \n",
    "        self.h_layer = nn.Linear(128, 64)  \n",
    "        self.out_layer = nn.Linear(64, 10)  #10개의 클래스를 분류\n",
    "\n",
    "    def forward(self, x):\n",
    "        x = F.relu(self.in_layer(x)) \n",
    "        x = F.relu(self.h_layer(x))  \n",
    "        return self.out_layer(x) # 출력"
   ]
  },
  {
   "cell_type": "markdown",
   "metadata": {},
   "source": [
    "학습함수 생성"
   ]
  },
  {
   "cell_type": "code",
   "execution_count": 91,
   "metadata": {},
   "outputs": [],
   "source": [
    "def training(model, dataloader, optimizer, epochs=100):\n",
    "    TS_loss, TS_score =[[]], [[]]\n",
    "\n",
    "    for epoch in range(epochs):\n",
    "        loss_total, score_total = 0, 0\n",
    "\n",
    "        for dataTS, targetTS in dataloader:\n",
    "            targetTS = targetTS.reshape(-1).long()\n",
    "            pre_y = model(dataTS)\n",
    "        \n",
    "            loss=nn.CrossEntropyLoss()(pre_y, targetTS)  # 클래스라이렇게함\n",
    "            loss_total += loss.item()\n",
    "\n",
    "            score=Accuracy(task='multiclass',num_classes=10)(pre_y, targetTS)\n",
    "            score_total += score.item()\n",
    "\n",
    "            optimizer.zero_grad()\n",
    "            loss.backward()\n",
    "            optimizer.step()\n",
    "\n",
    "        TS_loss[0].append(loss_total/len(dataloader))  # 배치의 평균\n",
    "        TS_score[0].append(score_total/len(dataloader))\n",
    "\n",
    "\n",
    "        print(f'[{epoch}//{epochs}]')\n",
    "        print(f'-Train LOSS : {TS_loss[0][-1]} AcuracyScore : {TS_score[0][-1]}')\n",
    "    return TS_loss, TS_score"
   ]
  },
  {
   "cell_type": "markdown",
   "metadata": {},
   "source": [
    "테스트 함수 생성"
   ]
  },
  {
   "cell_type": "code",
   "execution_count": 92,
   "metadata": {},
   "outputs": [],
   "source": [
    "# testing 함수\n",
    "def testing(model, dataloader):\n",
    "    test_loss, test_score = 0,0\n",
    "\n",
    "    with torch.no_grad():\n",
    "        for dataTS, targetTS in dataloader:\n",
    "            targetTS = targetTS.reshape(-1).long()\n",
    "            pre_y = model(dataTS)\n",
    "\n",
    "            loss=nn.CrossEntropyLoss()(pre_y, targetTS)  # 클래스라이렇게함\n",
    "            test_loss += loss.item()\n",
    "\n",
    "            score=Accuracy(task='multiclass',num_classes=10)(pre_y, targetTS)\n",
    "            test_score += score.item()\n",
    "\n",
    "    loss_avg = test_loss/len(dataloader)\n",
    "    score_avg = test_score/len(dataloader)\n",
    "    print(f'-Test LOSS : {loss_avg} AcuracyScore : {score_avg}')\n",
    "\n",
    "    return  loss_avg, score_avg"
   ]
  },
  {
   "cell_type": "code",
   "execution_count": 93,
   "metadata": {},
   "outputs": [
    {
     "name": "stdout",
     "output_type": "stream",
     "text": [
      "CustomModel(\n",
      "  (in_layer): Linear(in_features=784, out_features=128, bias=True)\n",
      "  (h_layer): Linear(in_features=128, out_features=64, bias=True)\n",
      "  (out_layer): Linear(in_features=64, out_features=10, bias=True)\n",
      ")\n"
     ]
    },
    {
     "data": {
      "text/plain": [
       "==========================================================================================\n",
       "Layer (type:depth-idx)                   Output Shape              Param #\n",
       "==========================================================================================\n",
       "CustomModel                              [1000, 10]                --\n",
       "├─Linear: 1-1                            [1000, 128]               100,480\n",
       "├─Linear: 1-2                            [1000, 64]                8,256\n",
       "├─Linear: 1-3                            [1000, 10]                650\n",
       "==========================================================================================\n",
       "Total params: 109,386\n",
       "Trainable params: 109,386\n",
       "Non-trainable params: 0\n",
       "Total mult-adds (Units.MEGABYTES): 109.39\n",
       "==========================================================================================\n",
       "Input size (MB): 3.14\n",
       "Forward/backward pass size (MB): 1.62\n",
       "Params size (MB): 0.44\n",
       "Estimated Total Size (MB): 5.19\n",
       "=========================================================================================="
      ]
     },
     "execution_count": 93,
     "metadata": {},
     "output_type": "execute_result"
    }
   ],
   "source": [
    "### 모델 인스턴스 생성\n",
    "model = CustomModel()\n",
    "print(model)\n",
    "summary(model, input_size=(1000,784))"
   ]
  },
  {
   "cell_type": "markdown",
   "metadata": {},
   "source": [
    "모델 학습/ 테스트"
   ]
  },
  {
   "cell_type": "code",
   "execution_count": 94,
   "metadata": {},
   "outputs": [
    {
     "name": "stdout",
     "output_type": "stream",
     "text": [
      "[0//10]\n",
      "-Train LOSS : 0.5678143997563482 AcuracyScore : 0.8013726012793176\n",
      "[1//10]\n",
      "-Train LOSS : 0.40001294220180145 AcuracyScore : 0.857459355010661\n",
      "[2//10]\n",
      "-Train LOSS : 0.35691062726382256 AcuracyScore : 0.8710021321961621\n",
      "[3//10]\n",
      "-Train LOSS : 0.33008718080739224 AcuracyScore : 0.8802638592750534\n",
      "[4//10]\n",
      "-Train LOSS : 0.31046118410125473 AcuracyScore : 0.8872934434968017\n",
      "[5//10]\n",
      "-Train LOSS : 0.29401438339337355 AcuracyScore : 0.8920742270788913\n",
      "[6//10]\n",
      "-Train LOSS : 0.28035723923969624 AcuracyScore : 0.8958222281449894\n",
      "[7//10]\n",
      "-Train LOSS : 0.26800982128264805 AcuracyScore : 0.900369802771855\n",
      "[8//10]\n",
      "-Train LOSS : 0.2572857993704551 AcuracyScore : 0.904400986140725\n",
      "[9//10]\n",
      "-Train LOSS : 0.24682834769076883 AcuracyScore : 0.9074993336886994\n",
      "-Test LOSS : 0.3186361148099231 AcuracyScore : 0.8865445859872612\n"
     ]
    }
   ],
   "source": [
    "model = CustomModel()  \n",
    "optimizer = optimizer.Adam(model.parameters(), lr=0.001) \n",
    "\n",
    "loss, score = training(model, train_DL, optimizer, epochs=10)\n",
    "test_loss, test_score = testing(model, test_DL)"
   ]
  },
  {
   "cell_type": "code",
   "execution_count": 95,
   "metadata": {},
   "outputs": [
    {
     "data": {
      "text/plain": [
       "Text(0.5, 1.0, 'Accuracy')"
      ]
     },
     "execution_count": 95,
     "metadata": {},
     "output_type": "execute_result"
    },
    {
     "data": {
      "image/png": "[encoded data removed]",
      "text/plain": [
       "<Figure size 1000x500 with 2 Axes>"
      ]
     },
     "metadata": {},
     "output_type": "display_data"
    }
   ],
   "source": [
    "# 학습 후 loss 시각화\n",
    "import matplotlib.pyplot as plt\n",
    "\n",
    "\n",
    "fg, axes = plt.subplots(1,2 , figsize=(10,5))\n",
    "axes[0].plot(range(1, 10+1), loss[0], label='Train')\n",
    "axes[0].grid()\n",
    "axes[0].legend()\n",
    "axes[0].set_xlabel(\"Epoch\")\n",
    "axes[0].set_ylabel(\"Loss\")\n",
    "axes[0].set_title(\"LOSS\")\n",
    "\n",
    "axes[1].plot(range(1, 10+1), score[0], label='Train')\n",
    "axes[1].grid()\n",
    "axes[1].legend()\n",
    "axes[1].set_xlabel(\"Epoch\")\n",
    "axes[1].set_ylabel(\"Accuracyscore\")\n",
    "axes[1].set_title(\"Accuracy\")"
   ]
  },
  {
   "cell_type": "markdown",
   "metadata": {},
   "source": [
    "데이터셋 첫번째 이미지 예측"
   ]
  },
  {
   "cell_type": "code",
   "execution_count": 137,
   "metadata": {},
   "outputs": [],
   "source": [
    "first_image, first_label = test_dataset[0]"
   ]
  },
  {
   "cell_type": "code",
   "execution_count": 138,
   "metadata": {},
   "outputs": [
    {
     "data": {
      "text/plain": [
       "torch.Size([784])"
      ]
     },
     "execution_count": 138,
     "metadata": {},
     "output_type": "execute_result"
    }
   ],
   "source": [
    "first_image.shape # 28*28로 나눠야함"
   ]
  },
  {
   "cell_type": "code",
   "execution_count": 139,
   "metadata": {},
   "outputs": [],
   "source": [
    "with torch.no_grad():\n",
    "    output = model(first_image.unsqueeze(0)) # 배치 차원 추가 \n",
    "    predic_label = torch.argmax(output, dim=1).item()\n"
   ]
  },
  {
   "cell_type": "code",
   "execution_count": 140,
   "metadata": {},
   "outputs": [],
   "source": [
    "class_names = ['T-shirt/top', 'Trouser', 'Pullover', 'Dress', 'Coat', \n",
    "               'Sandal', 'Shirt', 'Sneaker', 'Bag', 'Anke boot']"
   ]
  },
  {
   "cell_type": "code",
   "execution_count": 141,
   "metadata": {},
   "outputs": [],
   "source": [
    "actual_label = first_label.item()"
   ]
  },
  {
   "cell_type": "code",
   "execution_count": 142,
   "metadata": {},
   "outputs": [
    {
     "data": {
      "text/plain": [
       "'T-shirt/top'"
      ]
     },
     "execution_count": 142,
     "metadata": {},
     "output_type": "execute_result"
    }
   ],
   "source": [
    "class_names[int(actual_label)]"
   ]
  },
  {
   "cell_type": "code",
   "execution_count": 143,
   "metadata": {},
   "outputs": [
    {
     "data": {
      "image/png": "[encoded data removed]",
      "text/plain": [
       "<Figure size 640x480 with 1 Axes>"
      ]
     },
     "metadata": {},
     "output_type": "display_data"
    }
   ],
   "source": [
    "plt.imshow(first_image.view(28,28), cmap='gray')\n",
    "plt.axis('off')\n",
    "plt.title(f'Actual: {class_names[int(actual_label)]}, Predict: {class_names[int(predic_label)]}')\n",
    "plt.show()"
   ]
  },
  {
   "cell_type": "markdown",
   "metadata": {},
   "source": [
    "이걸 못맞추네"
   ]
  }
 ],
 "metadata": {
  "kernelspec": {
   "display_name": "Python 3",
   "language": "python",
   "name": "python3"
  },
  "language_info": {
   "codemirror_mode": {
    "name": "ipython",
    "version": 3
   },
   "file_extension": ".py",
   "mimetype": "text/x-python",
   "name": "python",
   "nbconvert_exporter": "python",
   "pygments_lexer": "ipython3",
   "version": "3.8.19"
  }
 },
 "nbformat": 4,
 "nbformat_minor": 2
}

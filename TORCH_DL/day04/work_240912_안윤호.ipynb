{
 "cells": [
  {
   "cell_type": "markdown",
   "metadata": {},
   "source": [
    "[1] Iris 데이터셋으로 오늘 코드 복습"
   ]
  },
  {
   "cell_type": "markdown",
   "metadata": {},
   "source": [
    "[2] Fashion MNIST & IRIS\n",
    "\n",
    "    * 커스텀 데이터셋 생성\n",
    "    * 커스텀 모델 생성\n",
    "    * 학습/테스트 함수 생성"
   ]
  },
  {
   "cell_type": "markdown",
   "metadata": {},
   "source": [
    "- [IRIS]\n",
    "    * Feature : 3개 Sepal_Length, Sepal_Width, Petal_Length\n",
    "    * Target : 1개 Petal_Width\n",
    "\n",
    "- [IRIS]\n",
    "    * Feature : 4개\n",
    "    * Target : 1개\n",
    "    * Class : 품종 2개만 선택 <- Setosa와 나머지\n",
    "\n",
    "- [IRIS]\n",
    "    * Feature : 4개\n",
    "    * Target : 1개\n",
    "    * Class : 품종 3개 <- 고유값\n",
    "\n",
    "- [MNIST-DIGIT]\n",
    "    * Feature : 64개\n",
    "    * Target : 1개\n",
    "    * Class : 품종 3개 <- 고유값"
   ]
  },
  {
   "cell_type": "code",
   "execution_count": 1,
   "metadata": {},
   "outputs": [
    {
     "data": {
      "text/plain": [
       "('../data/fashion-mnist_test.csv', <http.client.HTTPMessage at 0x213a4aab940>)"
      ]
     },
     "execution_count": 1,
     "metadata": {},
     "output_type": "execute_result"
    }
   ],
   "source": [
    "from urllib.request import urlretrieve\n",
    "\n",
    "TEST_URL  = 'https://media.githubusercontent.com/media/fpleoni/fashion_mnist/master/fashion-mnist_test.csv'\n",
    "TRAIN_URL = 'https://media.githubusercontent.com/media/fpleoni/fashion_mnist/master/fashion-mnist_train.csv'\n",
    "\n",
    "TRAIN_FILE = '../data/fashion-mnist_train.csv'\n",
    "TEST_FILE  = '../data/fashion-mnist_test.csv'\n",
    "# 데이터 파일로 저장\n",
    "urlretrieve(TRAIN_URL, TRAIN_FILE)\n",
    "urlretrieve(TEST_URL, TEST_FILE)"
   ]
  },
  {
   "cell_type": "code",
   "execution_count": null,
   "metadata": {},
   "outputs": [],
   "source": []
  }
 ],
 "metadata": {
  "kernelspec": {
   "display_name": "TORCH_38",
   "language": "python",
   "name": "python3"
  },
  "language_info": {
   "codemirror_mode": {
    "name": "ipython",
    "version": 3
   },
   "file_extension": ".py",
   "mimetype": "text/x-python",
   "name": "python",
   "nbconvert_exporter": "python",
   "pygments_lexer": "ipython3",
   "version": "3.8.19"
  }
 },
 "nbformat": 4,
 "nbformat_minor": 2
}

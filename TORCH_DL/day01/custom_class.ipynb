{
 "cells": [
  {
   "cell_type": "markdown",
   "metadata": {},
   "source": [
    "#### 사용자 정의 클래스와 상속"
   ]
  },
  {
   "cell_type": "markdown",
   "metadata": {},
   "source": [
    "- 사용자 정의 클래스 : 개발자 필요에 의해서 생성한 클래스"
   ]
  },
  {
   "cell_type": "code",
   "execution_count": 2,
   "metadata": {},
   "outputs": [],
   "source": [
    "# ------------------------------------------------------------------------------\n",
    "# 저장데이터 : 사람 정보 저장 클래스\n",
    "# 클래스이름 : Person\n",
    "# 클래스속성 : name, age, gender\n",
    "# 클래스기능 : eat(), sleep()\n",
    "# ------------------------------------------------------------------------------\n",
    "class Person:\n",
    "    # 클래스 변수/속성 : 객체/인스턴스 생성 없이 사용 가능 함\n",
    "    born='키보토스'\n",
    "\n",
    "    # 인스턴스 생성해주는 메서드\n",
    "    # 인스턴스 생성 시 자동 호출 즉, 콜백메서드\n",
    "    def __init__(self, name, age, gender):\n",
    "        print('__init__()')\n",
    "        self.name=name\n",
    "        self.age=age\n",
    "        self.gender=gender\n",
    "    \n",
    "    # 인스턴스 메서드\n",
    "    def eat(self, food):\n",
    "        print(f'{self.name}가 {food} 먹는다.')\n",
    "\n",
    "    def sleep(self, where):\n",
    "        print(f'{self.name}가 {where}에서 잔다')\n",
    "\n",
    "    # 정적 메서드\n",
    "    @staticmethod\n",
    "    def test(msg):\n",
    "        print(msg)\n",
    "\n",
    "    @classmethod\n",
    "    def testtest(cls, msg):\n",
    "        print(msg)"
   ]
  },
  {
   "cell_type": "code",
   "execution_count": 3,
   "metadata": {},
   "outputs": [
    {
     "name": "stdout",
     "output_type": "stream",
     "text": [
      "__init__()\n"
     ]
    }
   ],
   "source": [
    "Rikuhachima=Person('아루',18,'여자')"
   ]
  },
  {
   "cell_type": "code",
   "execution_count": 4,
   "metadata": {},
   "outputs": [
    {
     "name": "stdout",
     "output_type": "stream",
     "text": [
      "아루가 시바세키라멘 먹는다.\n"
     ]
    }
   ],
   "source": [
    "Rikuhachima.eat('시바세키라멘')"
   ]
  },
  {
   "cell_type": "code",
   "execution_count": 5,
   "metadata": {},
   "outputs": [
    {
     "data": {
      "text/plain": [
       "'키보토스'"
      ]
     },
     "execution_count": 5,
     "metadata": {},
     "output_type": "execute_result"
    }
   ],
   "source": [
    "# 클래스 속성 : 객체/인스턴스 생성 없이 바로 사용 가능\n",
    "Person.born"
   ]
  },
  {
   "cell_type": "code",
   "execution_count": 6,
   "metadata": {},
   "outputs": [],
   "source": [
    "# 인스턴스 속성 : 객체/인스턴스 생성 없이 바로 사용 불가! ERROR 발생\n",
    "#Person.gender"
   ]
  },
  {
   "cell_type": "code",
   "execution_count": 7,
   "metadata": {},
   "outputs": [],
   "source": [
    "class Mother:\n",
    "    pass"
   ]
  },
  {
   "cell_type": "code",
   "execution_count": 8,
   "metadata": {},
   "outputs": [
    {
     "name": "stdout",
     "output_type": "stream",
     "text": [
      "GOOD\n"
     ]
    }
   ],
   "source": [
    "Person.test('GOOD')"
   ]
  },
  {
   "cell_type": "markdown",
   "metadata": {},
   "source": [
    "- 상속(Inheritance)\n",
    "    * 기존 클래스의 속성과 메서드 재사용\n",
    "    * 추가 속성 및 메서드로 확장"
   ]
  },
  {
   "cell_type": "code",
   "execution_count": 9,
   "metadata": {},
   "outputs": [],
   "source": [
    "# ------------------------------------------------------------------------------\n",
    "# 저장데이터 : 소방관 정보 저장 클래스\n",
    "# 클래스이름 : Fireman\n",
    "# 클래스속성 : name, age, gender, group, position\n",
    "# 클래스기능 : eat(), sleep(), work()\n",
    "# 부모클래스 : Person\n",
    "# ------------------------------------------------------------------------------\n",
    "class Student(Person, Mother): # 동일 속성은 부모 클래스 호출 순서대로 따라간다\n",
    "    \n",
    "    # 인스턴스 생성 메서드\n",
    "    def __init__(self, name, age, gender, group, position):\n",
    "        # 부모/Super 클래스 생성\n",
    "        super().__init__(name, age, gender)\n",
    "        # 자식/Sub 클래스 생성\n",
    "        self.group=group\n",
    "        self.position=position\n",
    "    \n",
    "    # 인스턴스 메서드\n",
    "    def work(self, where):\n",
    "        print(f'{self.name}은 {where}에서 일일일악 하고 있다.')\n",
    "\n",
    "    # 오버라이딩(Overriding)\n",
    "    # 부모 클래스로부터 상속받은 메서드 중에서 변경하고 싶은 메서드\n",
    "    # 구현부만 변경\n",
    "    def eat(self, food):\n",
    "        print(f'{self.name}가 {food}를 천천히 음미하며 먹는다.')"
   ]
  },
  {
   "cell_type": "code",
   "execution_count": 10,
   "metadata": {},
   "outputs": [
    {
     "name": "stdout",
     "output_type": "stream",
     "text": [
      "__init__()\n"
     ]
    }
   ],
   "source": [
    "onikata=Student('카요코',19,'여','흥신소68','실장')"
   ]
  },
  {
   "cell_type": "code",
   "execution_count": 11,
   "metadata": {},
   "outputs": [
    {
     "name": "stdout",
     "output_type": "stream",
     "text": [
      "__init__()\n"
     ]
    }
   ],
   "source": [
    "Rikuhachima=Student('아루',18,'여','흥신소68','보스')"
   ]
  },
  {
   "cell_type": "code",
   "execution_count": 12,
   "metadata": {},
   "outputs": [
    {
     "name": "stdout",
     "output_type": "stream",
     "text": [
      "카요코가 사무실에서 잔다\n"
     ]
    }
   ],
   "source": [
    "onikata.sleep('사무실')"
   ]
  },
  {
   "cell_type": "code",
   "execution_count": 13,
   "metadata": {},
   "outputs": [
    {
     "name": "stdout",
     "output_type": "stream",
     "text": [
      "카요코가 마카롱를 천천히 음미하며 먹는다.\n"
     ]
    }
   ],
   "source": [
    "onikata.eat('마카롱')"
   ]
  },
  {
   "cell_type": "code",
   "execution_count": 14,
   "metadata": {},
   "outputs": [
    {
     "name": "stdout",
     "output_type": "stream",
     "text": [
      "아루은 은행에서 일일일악 하고 있다.\n"
     ]
    }
   ],
   "source": [
    "Rikuhachima.work('은행')"
   ]
  },
  {
   "cell_type": "code",
   "execution_count": null,
   "metadata": {},
   "outputs": [],
   "source": []
  }
 ],
 "metadata": {
  "kernelspec": {
   "display_name": "TORCH_38",
   "language": "python",
   "name": "python3"
  },
  "language_info": {
   "codemirror_mode": {
    "name": "ipython",
    "version": 3
   },
   "file_extension": ".py",
   "mimetype": "text/x-python",
   "name": "python",
   "nbconvert_exporter": "python",
   "pygments_lexer": "ipython3",
   "version": "3.8.19"
  }
 },
 "nbformat": 4,
 "nbformat_minor": 2
}

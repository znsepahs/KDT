{
 "cells": [
  {
   "cell_type": "markdown",
   "metadata": {},
   "source": [
    "#### Tensor 이해"
   ]
  },
  {
   "cell_type": "code",
   "execution_count": 6,
   "metadata": {},
   "outputs": [],
   "source": [
    "# 모듈 로딩\n",
    "import torch"
   ]
  },
  {
   "cell_type": "markdown",
   "metadata": {},
   "source": [
    "- Tensor 생성 [2] torch.rand()"
   ]
  },
  {
   "cell_type": "code",
   "execution_count": 8,
   "metadata": {},
   "outputs": [],
   "source": [
    "# 0<= ~ <1 범위의 임의의 숫자 1개 추출 => rand(*size)\n",
    "# rand(*size) : 가변인자 => 몇 차원일지 알 수 없음!\n",
    "torch.manual_seed(1)\n",
    "\n",
    "dataTS1=torch.rand(3) # 1D vector\n",
    "dataTS2=torch.rand(2,3) # 2D Matrix\n",
    "dataTS3=torch.rand(2,1,3) # 3D Tensor"
   ]
  },
  {
   "cell_type": "code",
   "execution_count": 5,
   "metadata": {},
   "outputs": [
    {
     "name": "stdout",
     "output_type": "stream",
     "text": [
      "tensor([0.7576, 0.2793, 0.4031])\n",
      "tensor([[0.7347, 0.0293, 0.7999],\n",
      "        [0.3971, 0.7544, 0.5695]])\n",
      "tensor([[[0.4388, 0.6387, 0.5247]],\n",
      "\n",
      "        [[0.6826, 0.3051, 0.4635]]])\n"
     ]
    }
   ],
   "source": [
    "print(dataTS1, dataTS2, dataTS3, sep='\\n')"
   ]
  },
  {
   "cell_type": "markdown",
   "metadata": {},
   "source": [
    "- Tensor생성 [3] torch.randn()"
   ]
  },
  {
   "cell_type": "code",
   "execution_count": 10,
   "metadata": {},
   "outputs": [
    {
     "name": "stdout",
     "output_type": "stream",
     "text": [
      "tensor([-1.8349, -2.2149,  0.0436])\n",
      "tensor([[ 1.3240, -0.1005,  0.6443],\n",
      "        [ 0.5244,  1.0157,  0.2571]])\n",
      "tensor([[[-0.9013,  0.8138,  0.3871]],\n",
      "\n",
      "        [[ 0.5417,  0.6646,  0.3248]]])\n"
     ]
    }
   ],
   "source": [
    "dataTS1=torch.randn(3) # 1D Vector\n",
    "dataTS2=torch.randn(2,3) # 2D Matrix\n",
    "dataTS3=torch.randn(2,1,3) # 3D Tensor\n",
    "\n",
    "print(dataTS1, dataTS2, dataTS3, sep='\\n')"
   ]
  },
  {
   "cell_type": "markdown",
   "metadata": {},
   "source": [
    "- Tensor 생성 [4] torch.randint()"
   ]
  },
  {
   "cell_type": "code",
   "execution_count": 12,
   "metadata": {},
   "outputs": [
    {
     "data": {
      "text/plain": [
       "tensor([40, 24,  4,  4, 17, 33])"
      ]
     },
     "execution_count": 12,
     "metadata": {},
     "output_type": "execute_result"
    }
   ],
   "source": [
    "# 1D Vector\n",
    "torch.randint(1,46,(6,))"
   ]
  },
  {
   "cell_type": "code",
   "execution_count": 13,
   "metadata": {},
   "outputs": [
    {
     "data": {
      "text/plain": [
       "tensor([[38, 44,  5, 39, 21, 18],\n",
       "        [ 8,  4, 21, 40, 45, 26],\n",
       "        [22, 28, 18,  1, 11, 16],\n",
       "        [35, 32, 17, 25,  6, 14]])"
      ]
     },
     "execution_count": 13,
     "metadata": {},
     "output_type": "execute_result"
    }
   ],
   "source": [
    "# 2D Matrix\n",
    "torch.randint(1,46,(4,6))"
   ]
  },
  {
   "cell_type": "code",
   "execution_count": null,
   "metadata": {},
   "outputs": [],
   "source": []
  }
 ],
 "metadata": {
  "kernelspec": {
   "display_name": "TORCH_38",
   "language": "python",
   "name": "python3"
  },
  "language_info": {
   "codemirror_mode": {
    "name": "ipython",
    "version": 3
   },
   "file_extension": ".py",
   "mimetype": "text/x-python",
   "name": "python",
   "nbconvert_exporter": "python",
   "pygments_lexer": "ipython3",
   "version": "3.8.19"
  }
 },
 "nbformat": 4,
 "nbformat_minor": 2
}

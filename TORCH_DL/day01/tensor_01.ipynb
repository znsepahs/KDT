{
 "cells": [
  {
   "cell_type": "markdown",
   "metadata": {},
   "source": [
    "#### Tensor 이해 - 생성\n",
    "- Tensor란?\n",
    "    * pytorch에서 데이터를 저장하는 객체\n",
    "    * 모델의 입력/출력 데이터 형태\n",
    "- 개발 버전 : torch v.2.4.1"
   ]
  },
  {
   "cell_type": "code",
   "execution_count": 5,
   "metadata": {},
   "outputs": [
    {
     "name": "stdout",
     "output_type": "stream",
     "text": [
      "torch v.2.4.1\n"
     ]
    }
   ],
   "source": [
    "# 모듈 로딩\n",
    "import torch\n",
    "\n",
    "print(f'torch v.{torch.__version__}')"
   ]
  },
  {
   "cell_type": "code",
   "execution_count": 4,
   "metadata": {},
   "outputs": [
    {
     "name": "stdout",
     "output_type": "stream",
     "text": [
      "\n",
      "[ten1]\n",
      "shape  : torch.Size([])\n",
      "ndim   : 0차원\n",
      "dtype  : torch.int64\n",
      "device : cpu\n",
      "data   :\n",
      "10\n",
      "\n",
      "[ten2]\n",
      "shape  : torch.Size([3])\n",
      "ndim   : 1차원\n",
      "dtype  : torch.int64\n",
      "device : cpu\n",
      "data   :\n",
      "tensor([22, 33, 44])\n",
      "\n",
      "[ten3]\n",
      "shape  : torch.Size([3, 2])\n",
      "ndim   : 2차원\n",
      "dtype  : torch.int64\n",
      "device : cpu\n",
      "data   :\n",
      "tensor([[90, 91],\n",
      "        [80, 81],\n",
      "        [70, 71]])\n"
     ]
    }
   ],
   "source": [
    "# ---------------------------------------------------\n",
    "# 함수기능: 텐서 속성 정보 출력 함수\n",
    "# ---------------------------------------------------\n",
    "def printInfo(obj, obj_name):\n",
    "    print(f'\\n[{obj_name}]')\n",
    "    print(f'shape  : {obj.shape}')\n",
    "    print(f'ndim   : {obj.ndim}차원')\n",
    "    print(f'dtype  : {obj.dtype}')\n",
    "    print(f'device : {obj.device}')\n",
    "    print(f'data   :\\n{obj.data}')\n",
    "\n",
    "# ---------------------------------------------------- \n",
    "# 생성 형식 :  torch.tensor(데이터)\n",
    "# ----------------------------------------------------\n",
    "ten1 = torch.tensor(10)\n",
    "ten2 = torch.tensor([22,33,44])\n",
    "ten3 = torch.tensor([[90,91],[80,81], [70,71]])\n",
    "# 텐서 정보 출력\n",
    "printInfo(ten1, 'ten1')\n",
    "printInfo(ten2, 'ten2')\n",
    "printInfo(ten3, 'ten3')"
   ]
  },
  {
   "cell_type": "code",
   "execution_count": null,
   "metadata": {},
   "outputs": [],
   "source": []
  }
 ],
 "metadata": {
  "kernelspec": {
   "display_name": "TORCH_38",
   "language": "python",
   "name": "python3"
  },
  "language_info": {
   "codemirror_mode": {
    "name": "ipython",
    "version": 3
   },
   "file_extension": ".py",
   "mimetype": "text/x-python",
   "name": "python",
   "nbconvert_exporter": "python",
   "pygments_lexer": "ipython3",
   "version": "3.8.19"
  }
 },
 "nbformat": 4,
 "nbformat_minor": 2
}

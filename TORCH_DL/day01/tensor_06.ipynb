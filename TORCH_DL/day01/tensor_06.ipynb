{
 "cells": [
  {
   "cell_type": "markdown",
   "metadata": {},
   "source": [
    "#### Tensor 저장 구조 이해\n",
    "- storage 객체\n",
    "    * 텐서 객체의 메모리 저장 관련 정보 저장\n",
    "    * offset : 첫 번째 원소 인덱스\n",
    "    * stride : 원소 이동 위한 정보 저장\n",
    "        * 다음 행 이동하기 위한 메모리 칸 수\n",
    "        * 다음 열 이동하기 위한 메모리 칸 수"
   ]
  },
  {
   "cell_type": "code",
   "execution_count": 1,
   "metadata": {},
   "outputs": [],
   "source": [
    "# 모듈 로딩\n",
    "import torch"
   ]
  },
  {
   "cell_type": "code",
   "execution_count": 15,
   "metadata": {},
   "outputs": [
    {
     "name": "stdout",
     "output_type": "stream",
     "text": [
      "tensor([[11, 22, 33],\n",
      "        [44, 55, 66]], dtype=torch.int8)\n",
      "(3, 1)\n",
      "2\n",
      "torch.int8\n"
     ]
    }
   ],
   "source": [
    "# 텐서 생성\n",
    "dataTS=torch.tensor([[11,22,33],[44,55,66]], dtype=torch.int8)\n",
    "print(dataTS, dataTS.stride(), dataTS.ndim, dataTS.dtype, sep='\\n')"
   ]
  },
  {
   "cell_type": "code",
   "execution_count": 24,
   "metadata": {},
   "outputs": [
    {
     "name": "stdout",
     "output_type": "stream",
     "text": [
      " 11\n",
      " 22\n",
      " 33\n",
      " 44\n",
      " 55\n",
      " 66\n",
      "[torch.storage.UntypedStorage(device=cpu) of size 6] 0\n"
     ]
    }
   ],
   "source": [
    "# STORAGE 정보 => 메모리에 저장된 데이터 형태(1D)\n",
    "print(dataTS.untyped_storage(), dataTS.storage_offset())"
   ]
  },
  {
   "cell_type": "code",
   "execution_count": 17,
   "metadata": {},
   "outputs": [
    {
     "data": {
      "text/plain": [
       "(11, 66)"
      ]
     },
     "execution_count": 17,
     "metadata": {},
     "output_type": "execute_result"
    }
   ],
   "source": [
    "mem_storage=dataTS.untyped_storage()\n",
    "\n",
    "mem_storage[0], mem_storage[-1]"
   ]
  },
  {
   "cell_type": "code",
   "execution_count": 18,
   "metadata": {},
   "outputs": [
    {
     "data": {
      "text/plain": [
       "(torch.Size([2, 3]), torch.int8)"
      ]
     },
     "execution_count": 18,
     "metadata": {},
     "output_type": "execute_result"
    }
   ],
   "source": [
    "dataTS.shape, dataTS.dtype"
   ]
  },
  {
   "cell_type": "code",
   "execution_count": 20,
   "metadata": {},
   "outputs": [
    {
     "name": "stdout",
     "output_type": "stream",
     "text": [
      "[0번째 원소] - 11 : 140709811203296\n",
      "[1번째 원소] - 22 : 140709811203648\n",
      "[2번째 원소] - 33 : 140709811204000\n",
      "[3번째 원소] - 44 : 140709811204352\n",
      "[4번째 원소] - 55 : 140709811204704\n",
      "[5번째 원소] - 66 : 140709811205056\n"
     ]
    }
   ],
   "source": [
    "for idx in range(6):\n",
    "    print(f'[{idx}번째 원소] - {mem_storage[idx]} : {id(mem_storage[idx])}')"
   ]
  },
  {
   "cell_type": "code",
   "execution_count": 21,
   "metadata": {},
   "outputs": [
    {
     "data": {
      "text/plain": [
       "tensor([[11, 22, 33],\n",
       "        [44, 55, 66]], dtype=torch.int8)"
      ]
     },
     "execution_count": 21,
     "metadata": {},
     "output_type": "execute_result"
    }
   ],
   "source": [
    "dataTS.data"
   ]
  },
  {
   "cell_type": "code",
   "execution_count": 23,
   "metadata": {},
   "outputs": [
    {
     "data": {
      "text/plain": [
       "5839008104576"
      ]
     },
     "execution_count": 23,
     "metadata": {},
     "output_type": "execute_result"
    }
   ],
   "source": [
    "dataTS.data_ptr()"
   ]
  },
  {
   "cell_type": "code",
   "execution_count": null,
   "metadata": {},
   "outputs": [],
   "source": []
  }
 ],
 "metadata": {
  "kernelspec": {
   "display_name": "TORCH_38",
   "language": "python",
   "name": "python3"
  },
  "language_info": {
   "codemirror_mode": {
    "name": "ipython",
    "version": 3
   },
   "file_extension": ".py",
   "mimetype": "text/x-python",
   "name": "python",
   "nbconvert_exporter": "python",
   "pygments_lexer": "ipython3",
   "version": "3.8.19"
  }
 },
 "nbformat": 4,
 "nbformat_minor": 2
}

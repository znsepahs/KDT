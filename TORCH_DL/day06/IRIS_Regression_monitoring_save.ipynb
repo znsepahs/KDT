{
 "cells": [
  {
   "cell_type": "markdown",
   "metadata": {},
   "source": [
    "#### DNN 기반 회귀 모델 구현 + 학습 진행 모니터링 + 진행 파라미터 저장\n",
    "- 데이터셋 : iris.csv\n",
    "- Feature : 3개 Sepal_Length, Sepal_Width, Petal_Length\n",
    "- Target : 1개 Petal_Width\n",
    "- 학습-방법 : 지도학습 > 회귀\n",
    "- 알고리즘 : 인공신경망(ANN) => MLP, DNN : 은닉층이 많은 구성\n",
    "- 프레임워크 : Pytorch\n",
    "***\n",
    "- 모니터링\n",
    "    * 기준 : 검증데이터셋의 loss 또는 score\n",
    "    * 평가 : 학습데이터셋의 loss 또는 score와 비교해서 학습 중단여부 결정\n",
    "    * 선택 : 현재까지 진행된 모델의 파라미터(가중치, 절편) 저장 여부 또는 모델 전체 저장"
   ]
  },
  {
   "cell_type": "markdown",
   "metadata": {},
   "source": [
    "[1] 모듈 로딩 및 데이터 준비 <hr>"
   ]
  },
  {
   "cell_type": "code",
   "execution_count": 72,
   "metadata": {},
   "outputs": [],
   "source": [
    "\n",
    "# 모듈 로딩\n",
    "# - Model관련\n",
    "import torch              \n",
    "import torch.nn as nn              \n",
    "import torch.nn.functional as F \n",
    "from torch.utils.data import Dataset, DataLoader \n",
    "import torch.optim as optim    \n",
    "from torchmetrics.regression import R2Score, MeanSquaredError \n",
    "from torchinfo import summary \n",
    "\n",
    "# - Data 및 시각화 관련\n",
    "import pandas as pd \n",
    "import matplotlib.pyplot as plt              \n",
    "from sklearn.preprocessing import * \n",
    "from sklearn.model_selection import train_test_split  "
   ]
  },
  {
   "cell_type": "code",
   "execution_count": 73,
   "metadata": {},
   "outputs": [
    {
     "name": "stdout",
     "output_type": "stream",
     "text": [
      "Pytorch v.2.4.1\n",
      "Pandas  v.2.0.3\n"
     ]
    }
   ],
   "source": [
    "# 활용 패키지 버전 체크 ==> 사용자 정의함수로 구현하세요~!!\n",
    "print(f'Pytorch v.{torch.__version__}')\n",
    "print(f'Pandas  v.{pd.__version__}')"
   ]
  },
  {
   "cell_type": "code",
   "execution_count": 74,
   "metadata": {},
   "outputs": [
    {
     "data": {
      "text/html": [
       "<div>\n",
       "<style scoped>\n",
       "    .dataframe tbody tr th:only-of-type {\n",
       "        vertical-align: middle;\n",
       "    }\n",
       "\n",
       "    .dataframe tbody tr th {\n",
       "        vertical-align: top;\n",
       "    }\n",
       "\n",
       "    .dataframe thead th {\n",
       "        text-align: right;\n",
       "    }\n",
       "</style>\n",
       "<table border=\"1\" class=\"dataframe\">\n",
       "  <thead>\n",
       "    <tr style=\"text-align: right;\">\n",
       "      <th></th>\n",
       "      <th>sepal.length</th>\n",
       "      <th>sepal.width</th>\n",
       "      <th>petal.length</th>\n",
       "      <th>petal.width</th>\n",
       "    </tr>\n",
       "  </thead>\n",
       "  <tbody>\n",
       "    <tr>\n",
       "      <th>0</th>\n",
       "      <td>5.1</td>\n",
       "      <td>3.5</td>\n",
       "      <td>1.4</td>\n",
       "      <td>0.2</td>\n",
       "    </tr>\n",
       "  </tbody>\n",
       "</table>\n",
       "</div>"
      ],
      "text/plain": [
       "   sepal.length  sepal.width  petal.length  petal.width\n",
       "0           5.1          3.5           1.4          0.2"
      ]
     },
     "execution_count": 74,
     "metadata": {},
     "output_type": "execute_result"
    }
   ],
   "source": [
    "###  데이터 로딩\n",
    "DATA_FILE='../data/iris.csv' \n",
    "\n",
    "### CSV >>> DataFrame\n",
    "irisDF = pd.read_csv(DATA_FILE, usecols=[0,1,2,3])\n",
    "\n",
    "### 확인\n",
    "irisDF.head(1)"
   ]
  },
  {
   "cell_type": "markdown",
   "metadata": {},
   "source": [
    "[2] 모델 클래스 설계 및 정의 <hr>\n",
    "- 클래스목적 : iris 데이터를 학습 및 추론 목적\n",
    "- 클래스이름 : IrisRegModel\n",
    "- 부모클래스 : nn.Module\n",
    "- 매개__변수 : 층별 입출력 개수 고정하기때문에 필요 없음!\n",
    "- 속성__필드 : \n",
    "- 기능__역할 : __init__() : 모델 구조 설정 ,  forward() : 순방향 학습 <= 오바라이딩(overriding)\n",
    "- 클래스구조 \n",
    "    * 입력층 : 입력 3개(피쳐)      출력   10개(퍼셉트론/뉴런 10개 존재)\n",
    "    * 은닉층 : 입력 10개           출력   30개(퍼셉트론/뉴런 30개 존재)\n",
    "    * 출력층 : 입력 30개           출력   1개(너비값)\n",
    "\n",
    "- 활성화함수\n",
    "    * 클래스 형태 ==> nn.MESLoss, nn.ReLU ==> __init__() 메서드 \n",
    "    * 함수 형태 ==> torch.nn.functional 아래에  ==> forward()메서드"
   ]
  },
  {
   "cell_type": "code",
   "execution_count": 75,
   "metadata": {},
   "outputs": [],
   "source": [
    "class IrisRegModel(nn.Module):\n",
    "    \n",
    "    # 모델 구조 구성 및 인스턴스 생성 메서드\n",
    "    def __init__(self):\n",
    "        super().__init__()\n",
    "        self.in_layer=nn.Linear(3, 10)\n",
    "        self.hd_layer=nn.Linear(10, 30)\n",
    "        self.out_layer=nn.Linear(30, 1)\n",
    "        \n",
    "    # 순방향 학습 진행 메서드\n",
    "    def forward(self, input_data):\n",
    "        #- 입력층\n",
    "        y=self.in_layer(input_data)   # fi1W11+f12W12+f13W13+b, ... , fi101W101+f102W102+fi103W103+b\n",
    "        y=F.relu(y)                   # relu => y 값의 범위 : 0 <= y\n",
    "        \n",
    "        # - 은닉층 : 10개의 숫자 값(>=0)\n",
    "        y=self.hd_layer(y)            # f21W11+f22W12...+f210W210+b, ... , f230W201+...+f230W210+b\n",
    "        y=F.relu(y)                   # relu => y 값의 범위 : 0 <= y\n",
    "        \n",
    "        #- 출력층 : 30개의 숫자 값(>=0) 회귀이므로 바로 반환(return)\n",
    "        return self.out_layer(y)              # f31W31+.....+f330W330+b  \n"
   ]
  },
  {
   "cell_type": "code",
   "execution_count": 76,
   "metadata": {},
   "outputs": [
    {
     "name": "stdout",
     "output_type": "stream",
     "text": [
      "IrisRegModel(\n",
      "  (in_layer): Linear(in_features=3, out_features=10, bias=True)\n",
      "  (hd_layer): Linear(in_features=10, out_features=30, bias=True)\n",
      "  (out_layer): Linear(in_features=30, out_features=1, bias=True)\n",
      ")\n"
     ]
    }
   ],
   "source": [
    "### 모델 인스턴스 생성\n",
    "model = IrisRegModel()\n",
    "\n",
    "print(model)"
   ]
  },
  {
   "cell_type": "code",
   "execution_count": 77,
   "metadata": {},
   "outputs": [
    {
     "data": {
      "text/plain": [
       "==========================================================================================\n",
       "Layer (type:depth-idx)                   Output Shape              Param #\n",
       "==========================================================================================\n",
       "IrisRegModel                             [1000000, 1]              --\n",
       "├─Linear: 1-1                            [1000000, 10]             40\n",
       "├─Linear: 1-2                            [1000000, 30]             330\n",
       "├─Linear: 1-3                            [1000000, 1]              31\n",
       "==========================================================================================\n",
       "Total params: 401\n",
       "Trainable params: 401\n",
       "Non-trainable params: 0\n",
       "Total mult-adds (M): 401\n",
       "==========================================================================================\n",
       "Input size (MB): 12.00\n",
       "Forward/backward pass size (MB): 328.00\n",
       "Params size (MB): 0.00\n",
       "Estimated Total Size (MB): 340.00\n",
       "=========================================================================================="
      ]
     },
     "execution_count": 77,
     "metadata": {},
     "output_type": "execute_result"
    }
   ],
   "source": [
    "# 모델 사용 메모리 정보 확인\n",
    "summary(model, input_size=(1000000,3))"
   ]
  },
  {
   "cell_type": "markdown",
   "metadata": {},
   "source": [
    "[3] 데이터셋 클래스 설계 및 정의 <hr>\n",
    "- 데이터_셋 : iris.csv\n",
    "- 피쳐_개수 : 3개\n",
    "- 타겟_개수 : 1개\n",
    "- 클래스이름 : IrisDataset\n",
    "- 부모클래스 : utils.data.Dataset\n",
    "- 속성__필드 : featureDF, targetDF, n_rows, n_features\n",
    "- 필수메서드 \n",
    "    * _ _init_ _(self) : 데이터셋 저장 및 전처리, 개발자가 필요한 속성 설정\n",
    "    * _ _len_ _(self) : 데이터의 개수 반환\n",
    "    * _ _getItem_ _(self, index) : 특정 인덱스의 피쳐와 타겟 반환"
   ]
  },
  {
   "cell_type": "code",
   "execution_count": 78,
   "metadata": {},
   "outputs": [],
   "source": [
    "class IrisDataset(Dataset):\n",
    "    \n",
    "    def __init__(self, featureDF, targetDF):\n",
    "        self.featureDF=featureDF \n",
    "        self.targetDF=targetDF\n",
    "        self.n_rows=featureDF.shape[0]\n",
    "        self.n_features=featureDF.shape[1]\n",
    "    \n",
    "    def __len__(self):\n",
    "        return self.n_rows\n",
    "    \n",
    "    def __getitem__(self, index):\n",
    "        # 텐서화\n",
    "        featureTS=torch.FloatTensor(self.featureDF.iloc[index].values)\n",
    "        targetTS=torch.FloatTensor(self.targetDF.iloc[index].values) \n",
    "        \n",
    "        # 피쳐와 타겟 반환\n",
    "        return featureTS, targetTS"
   ]
  },
  {
   "cell_type": "code",
   "execution_count": 79,
   "metadata": {},
   "outputs": [],
   "source": [
    "## 데이터셋 인스턴스 생성\n",
    "\n",
    "# - DataFram에서 피쳐와 타겟 추출\n",
    "featureDF = irisDF[irisDF.columns[:-1]]   # 2D (150, 3)\n",
    "targetDF = irisDF[irisDF.columns[-1:]]    # 2D (150, 1)\n",
    "\n",
    "# - 커스텀데이터셋 인스턴스 생성\n",
    "irisDS=IrisDataset(featureDF, targetDF)"
   ]
  },
  {
   "cell_type": "markdown",
   "metadata": {},
   "source": [
    "[4] 학습 준비 \n",
    "- 학습_횟수 : EPOCH         <- 처음~끝까지 공부하는 단위\n",
    "- 배치_크기 : BATCH_SIZE    <- 한번에 학습할 데이터셋 양 \n",
    "- 위치_지정 : DEVICE    <- 텐서 저장 및 실행 위치 (GPU/CPU)\n",
    "- 학_습_률 : LR 가중치와 절편 업데이트 시 경사하강법으로 업데이트 간격 설정 0.001~0.1 "
   ]
  },
  {
   "cell_type": "code",
   "execution_count": 80,
   "metadata": {},
   "outputs": [
    {
     "name": "stdout",
     "output_type": "stream",
     "text": [
      "BATCH_CNT : 15\n"
     ]
    }
   ],
   "source": [
    "\n",
    "### 학습 진행 관련 설정\n",
    "EPOPCH = 1\n",
    "BATCH_SIZE = 10\n",
    "BATCH_CNT = irisDF.shape[0]//BATCH_SIZE\n",
    "DEVICE = 'cuda' if torch.cuda.is_available() else 'cpu'\n",
    "LR = 0.001\n",
    "\n",
    "print(f'BATCH_CNT : {BATCH_CNT}')"
   ]
  },
  {
   "cell_type": "markdown",
   "metadata": {},
   "source": [
    "- 인스턴스/객체 : 모델, 데이터셋, 최적화 (, 손실함수, 성능지표)"
   ]
  },
  {
   "cell_type": "code",
   "execution_count": 81,
   "metadata": {},
   "outputs": [
    {
     "name": "stdout",
     "output_type": "stream",
     "text": [
      "(84, 3) (38, 3) (28, 3)\n",
      "(84, 1) (38, 1) (28, 1)\n",
      "<class 'pandas.core.frame.DataFrame'> <class 'pandas.core.frame.DataFrame'> <class 'pandas.core.frame.DataFrame'>\n"
     ]
    }
   ],
   "source": [
    "\n",
    "# 모델 인스턴스\n",
    "model=IrisRegModel() \n",
    "\n",
    "# 데이터셋 인스턴스\n",
    "X_train, X_test, y_train, y_test =train_test_split(featureDF, targetDF, random_state=1)\n",
    "X_train, X_val, y_train, y_val =train_test_split(X_train, y_train, random_state=1)\n",
    "print(f'{X_train.shape} {X_test.shape} {X_val.shape}')\n",
    "print(f'{y_train.shape} {y_test.shape} {y_val.shape}')\n",
    "print(f'{type(X_train)} {type(X_test)} {type(X_val)}')\n",
    "\n",
    "trainDS=IrisDataset(X_train, y_train)\n",
    "valDS=IrisDataset(X_val, y_val)\n",
    "testDS=IrisDataset(X_test, y_test)\n",
    "\n",
    "# 데이터로더 인스턴스\n",
    "trainDL=DataLoader(trainDS, batch_size=BATCH_SIZE)"
   ]
  },
  {
   "cell_type": "code",
   "execution_count": 82,
   "metadata": {},
   "outputs": [
    {
     "name": "stdout",
     "output_type": "stream",
     "text": [
      "torch.Size([10, 3]) torch.Size([10, 1])\n"
     ]
    }
   ],
   "source": [
    "## [테스트]데이터로더와 데이터셋 체크\n",
    "for feature, target in trainDL: \n",
    "    print(feature.shape, target.shape)\n",
    "    break"
   ]
  },
  {
   "cell_type": "code",
   "execution_count": 83,
   "metadata": {},
   "outputs": [],
   "source": [
    "# 최적화 인스턴스 => W,b 텐서 즉, model.parameters() 전달\n",
    "optimizer=optim.Adam(model.parameters(), lr=LR)\n",
    "\n",
    "# 손실함수 인스턴스 => 회귀, MSE, MAE, RMSE ....\n",
    "reqLoss=nn.MSELoss()"
   ]
  },
  {
   "cell_type": "markdown",
   "metadata": {},
   "source": [
    "[5] 학습 진행 <hr>"
   ]
  },
  {
   "cell_type": "markdown",
   "metadata": {},
   "source": [
    "- >>> 모델 저장 준비"
   ]
  },
  {
   "cell_type": "code",
   "execution_count": 84,
   "metadata": {},
   "outputs": [],
   "source": [
    "# models 폴더 아래 프로젝트 폴더 아래 모델 파일 저장\n",
    "import os\n",
    "\n",
    "# 저장 경로\n",
    "SAVE_PATH='../models/iris/'\n",
    "\n",
    "# 저장 파일명\n",
    "SAVE_FILE='model_train_wbs.pth'\n",
    "\n",
    "# 모델 구조 및 파라미터터\n",
    "SAVE_MODEL='model_all.pth'"
   ]
  },
  {
   "cell_type": "code",
   "execution_count": 85,
   "metadata": {},
   "outputs": [],
   "source": [
    "# 경로상 폴더 존재 여부 체크\n",
    "if not os.path.exists(SAVE_PATH):\n",
    "    os.makedirs(SAVE_PATH) # 폴더 / 폴더 / ... 하위 폴더까지 생성"
   ]
  },
  {
   "cell_type": "markdown",
   "metadata": {},
   "source": [
    "- >>> 학습 진행"
   ]
  },
  {
   "cell_type": "code",
   "execution_count": 86,
   "metadata": {},
   "outputs": [
    {
     "name": "stdout",
     "output_type": "stream",
     "text": [
      "CNT => 15.0\n"
     ]
    }
   ],
   "source": [
    "## 학습의 효과 확인 손실값과 성능평가값 저장 필요\n",
    "LOSS_HISTORY, SCORE_HISTORY=[[],[]], [[],[]]\n",
    "CNT=irisDS.n_rows/BATCH_SIZE\n",
    "print(f'CNT => {CNT}')\n",
    "\n",
    "## 학습 모니터링/스케줄링 설정\n",
    "# => LOSS_HISTORY, SCORE_HISTORY 활용\n",
    "# => 임계기준 : 10번\n",
    "BREAK_CNT=0\n",
    "LIMIT_VALUE=10\n",
    "\n",
    "for epoch in range(EPOPCH):\n",
    "    # 학습 모드로 모델 설정\n",
    "    model.train()\n",
    "    \n",
    "    # 배치 크기 만큼 데이터 로딩해서 학습 진행\n",
    "    loss_total, score_total=0,0\n",
    "    for featureTS, targetTS in trainDL:\n",
    "        \n",
    "        # 학습 진행\n",
    "        pre_y=model(featureTS)\n",
    "        \n",
    "        # 손실 계산\n",
    "        loss=reqLoss(pre_y, targetTS)\n",
    "        loss_total += loss.item()\n",
    "        \n",
    "        # 성능평가 계산\n",
    "        score=R2Score()(pre_y, targetTS)\n",
    "        score_total += score.item()\n",
    "        \n",
    "        # 최적화 진행\n",
    "        optimizer.zero_grad()\n",
    "        loss.backward()\n",
    "        optimizer.step()\n",
    "        \n",
    "    # 에포크 당 검증기능\n",
    "    # 모델 검증 모드 설정\n",
    "    model.eval()\n",
    "    with torch.no_grad():\n",
    "        # 검증 데이터셋\n",
    "        val_featrueTS=torch.FloatTensor(valDS.featureDF.values)\n",
    "        val_targetTS=torch.FloatTensor(valDS.targetDF.values)\n",
    "        # 추론/평가\n",
    "        pre_val=model(val_featrueTS)\n",
    "        # 손실\n",
    "        loss_val=reqLoss(pre_val, val_targetTS)\n",
    "        # 성능평가\n",
    "        score_val=R2Score()(pre_val, val_targetTS)\n",
    "\n",
    "        \n",
    "    # 에포크 당 손실값과 성능평가값 저장    \n",
    "    LOSS_HISTORY[0].append(loss_total/CNT)\n",
    "    SCORE_HISTORY[0].append(score_total/CNT)\n",
    "    \n",
    "    LOSS_HISTORY[1].append(loss_val)\n",
    "    SCORE_HISTORY[1].append(score_val)\n",
    "\n",
    "    # 학습 진행 모니터링/스케줄링 - 검증 DS 기준\n",
    "    # Loss 기준\n",
    "    if len(LOSS_HISTORY[1]) >=2:\n",
    "        if LOSS_HISTORY[1][-1] >= LOSS_HISTORY[1][-2] : BREAK_CNT += 1\n",
    "    \n",
    "    # # Score 기준\n",
    "    # if len(LOSS_HISTORY[1]) >=2:\n",
    "    #     if LOSS_HISTORY[1][-1] <= LOSS_HISTORY[1][-2] : BREAK_CNT += 1\n",
    "\n",
    "    # 성능 좋은 학습 가중치 저장\n",
    "    #SAVE_FILE=f'model_train_wbs_{epoch}_{score_val}.pth'\n",
    "    if len(SCORE_HISTORY[1])==1:\n",
    "        # 첫 번째라서 무조건 모델 저장\n",
    "        torch.save(model.state_dict(), SAVE_PATH+SAVE_FILE)\n",
    "        # 모델 전체 저장\n",
    "        torch.save(model,SAVE_PATH+SAVE_MODEL)\n",
    "    else:\n",
    "        if SCORE_HISTORY[1][-1] > max(SCORE_HISTORY[1][:-1]):\n",
    "            torch.save(model.state_dict(), SAVE_PATH+SAVE_FILE)\n",
    "            torch.save(model,SAVE_PATH+SAVE_MODEL)\n",
    "\n",
    "    # 학습 중단 여부 설정\n",
    "    if BREAK_CNT>LIMIT_VALUE:\n",
    "        print(\"성능 및 손실 개선이 없어서 {epoch} EPOCH에 학습 중단\")\n",
    "        break"
   ]
  },
  {
   "cell_type": "code",
   "execution_count": 87,
   "metadata": {},
   "outputs": [
    {
     "data": {
      "text/plain": [
       "(torch.Size([28, 3]), torch.Size([28, 1]))"
      ]
     },
     "execution_count": 87,
     "metadata": {},
     "output_type": "execute_result"
    }
   ],
   "source": [
    "val_featrueTS=torch.FloatTensor(valDS.featureDF.values)\n",
    "val_targetTS=torch.FloatTensor(valDS.targetDF.values)\n",
    "\n",
    "val_featrueTS.shape, val_targetTS.shape"
   ]
  },
  {
   "cell_type": "code",
   "execution_count": 88,
   "metadata": {},
   "outputs": [
    {
     "name": "stdout",
     "output_type": "stream",
     "text": [
      "CNT => 15.0\n",
      "LOSS_HISTORY => [[0.7368672688802084], [tensor(0.7455)]]\n",
      "SCORE_HISTORY => [[-1.0087019205093384], [tensor(-0.1550)]]\n"
     ]
    }
   ],
   "source": [
    "print(f'CNT => {CNT}')\n",
    "print(f'LOSS_HISTORY => {LOSS_HISTORY}')\n",
    "print(f'SCORE_HISTORY => {SCORE_HISTORY}')"
   ]
  },
  {
   "cell_type": "markdown",
   "metadata": {},
   "source": [
    "- 모델 저장 방법 <hr>\n",
    "* 방법1 : 모델 파라미터만 저장\n",
    "* 방법2 : 모델 설계 구조 및 파라미터까지 모두 저장"
   ]
  },
  {
   "cell_type": "code",
   "execution_count": 89,
   "metadata": {},
   "outputs": [
    {
     "data": {
      "text/plain": [
       "OrderedDict([('in_layer.weight',\n",
       "              tensor([[-0.5207, -0.2615,  0.4231],\n",
       "                      [ 0.4156, -0.3424, -0.5153],\n",
       "                      [ 0.2616, -0.1828,  0.0020],\n",
       "                      [ 0.2745,  0.5508,  0.3578],\n",
       "                      [-0.4224,  0.2203,  0.5031],\n",
       "                      [-0.2731, -0.1597,  0.5573],\n",
       "                      [-0.4562, -0.3208, -0.4351],\n",
       "                      [ 0.3471, -0.5145,  0.4668],\n",
       "                      [ 0.0668,  0.4491,  0.4929],\n",
       "                      [-0.3387, -0.4211,  0.5735]])),\n",
       "             ('in_layer.bias',\n",
       "              tensor([ 0.5389,  0.4669,  0.0478, -0.4222, -0.4910, -0.2866, -0.2778, -0.2033,\n",
       "                      -0.3443, -0.3895])),\n",
       "             ('hd_layer.weight',\n",
       "              tensor([[-2.8100e-01, -2.5039e-04,  3.1901e-01,  2.6849e-01, -2.9022e-01,\n",
       "                        9.2500e-02,  2.4304e-02, -3.6464e-02,  9.9228e-02, -1.7351e-01],\n",
       "                      [ 5.5808e-03,  1.5660e-01, -5.0669e-02,  1.8479e-01, -1.6455e-01,\n",
       "                       -7.8186e-02, -1.8215e-01,  9.4865e-03, -2.7352e-01,  1.9480e-01],\n",
       "                      [ 2.4641e-01, -1.9638e-01, -9.1068e-02,  1.0628e-01,  2.4734e-01,\n",
       "                       -1.4085e-01,  1.6813e-01, -2.0043e-01,  6.8674e-02, -2.9453e-01],\n",
       "                      [ 1.1933e-01,  9.1722e-02, -2.3052e-01,  3.8016e-02,  1.7207e-01,\n",
       "                        2.7401e-01,  2.0615e-01,  2.6710e-01,  1.4858e-01, -1.9495e-01],\n",
       "                      [-1.9742e-01, -1.8675e-01,  1.9932e-01, -2.3161e-03, -9.8091e-02,\n",
       "                        1.3187e-01, -2.8806e-01,  1.8692e-01, -3.0970e-01,  1.7776e-01],\n",
       "                      [ 2.2013e-01, -2.7455e-01, -5.9019e-02,  9.3391e-02,  4.9153e-02,\n",
       "                       -2.6460e-01,  2.9405e-01, -2.3486e-01, -1.0544e-01, -5.9924e-02],\n",
       "                      [-2.9328e-01, -1.6942e-01, -1.7999e-01,  5.0403e-02,  9.0773e-02,\n",
       "                       -2.2200e-01, -2.7718e-01, -5.1649e-02, -2.3974e-01, -7.5851e-03],\n",
       "                      [ 8.5587e-02,  1.2168e-02,  1.9307e-01, -2.1952e-02, -2.9742e-01,\n",
       "                       -2.0017e-01,  2.6410e-01, -7.6880e-02, -2.7549e-01,  3.0964e-01],\n",
       "                      [-2.8287e-01,  5.1547e-02, -2.4917e-01,  1.5433e-02, -2.3125e-01,\n",
       "                       -8.1071e-02,  2.9466e-01,  2.2985e-01, -9.0389e-02, -2.6288e-01],\n",
       "                      [-1.9363e-01,  9.2895e-02, -2.1951e-01, -1.8729e-01,  1.3785e-01,\n",
       "                       -3.0914e-01,  8.8062e-02,  2.8966e-01, -1.6066e-01, -7.0877e-02],\n",
       "                      [ 5.3648e-02, -2.1511e-01, -5.5680e-02,  1.0659e-01, -3.0210e-01,\n",
       "                        2.7357e-01,  1.9744e-02,  9.0854e-02,  1.0915e-01,  9.0245e-03],\n",
       "                      [ 2.8562e-02,  6.9537e-02, -7.1377e-02,  2.7085e-01,  1.1629e-01,\n",
       "                       -1.6339e-01, -2.4979e-01, -6.2210e-02, -1.5557e-01, -2.6090e-01],\n",
       "                      [-2.4937e-01,  3.0819e-01,  2.3177e-01, -1.4814e-01, -8.9776e-02,\n",
       "                       -1.1709e-01, -1.0337e-01, -1.4094e-01,  9.4543e-02,  1.3721e-01],\n",
       "                      [ 1.2459e-01,  3.5125e-02,  2.2091e-01,  2.7817e-01,  1.7236e-02,\n",
       "                       -7.6006e-02, -1.3785e-02, -1.3424e-01, -1.1116e-01,  2.2303e-02],\n",
       "                      [-2.8020e-01,  3.0208e-02, -8.0492e-02, -5.4589e-02, -6.6159e-02,\n",
       "                       -1.6518e-01,  2.8030e-01,  1.7396e-02,  2.7357e-01,  2.6804e-01],\n",
       "                      [ 3.0959e-01, -9.4243e-02,  7.7319e-02,  1.5759e-01,  1.2632e-01,\n",
       "                       -2.5944e-01, -6.8470e-02,  7.9461e-02,  4.7408e-02,  3.0229e-01],\n",
       "                      [ 2.0867e-02, -2.0290e-01, -6.4676e-02, -1.4820e-01,  8.3181e-02,\n",
       "                       -3.0090e-01, -2.3537e-01, -1.3695e-01, -2.8797e-01,  4.1626e-02],\n",
       "                      [-2.7650e-01, -9.7635e-02,  2.7440e-01, -5.0675e-02, -2.6437e-01,\n",
       "                       -1.9053e-03,  1.8271e-01,  5.4434e-02,  2.0981e-02, -1.9135e-01],\n",
       "                      [-1.3852e-01, -3.0796e-01, -2.8073e-01, -2.9992e-01, -3.0285e-01,\n",
       "                       -3.1621e-01,  6.0220e-02,  1.9151e-01,  3.0797e-01, -2.1893e-01],\n",
       "                      [ 7.0795e-02, -6.3824e-05,  2.7268e-02,  1.1295e-01, -7.4261e-02,\n",
       "                       -9.5132e-02, -1.7941e-01,  5.9575e-02,  3.0600e-01,  3.1236e-01],\n",
       "                      [ 3.0782e-01,  2.6274e-01,  3.1253e-01,  1.2593e-01, -2.6043e-01,\n",
       "                        1.1666e-01,  3.7257e-02,  1.1389e-01,  2.9020e-01, -3.8539e-02],\n",
       "                      [-2.2766e-01, -3.0875e-01, -1.8115e-01, -2.3094e-01,  7.5142e-02,\n",
       "                        1.6479e-01,  5.2219e-02,  2.9071e-01,  1.0519e-01, -1.7201e-01],\n",
       "                      [-1.0788e-01,  1.1331e-01, -1.0972e-01,  4.0291e-02,  2.2493e-01,\n",
       "                       -3.0390e-01, -1.5680e-01, -1.5408e-01, -2.4772e-01, -8.7596e-02],\n",
       "                      [-1.6899e-01,  8.5210e-02,  2.3198e-01, -2.5524e-02, -1.0189e-01,\n",
       "                       -1.5374e-01, -2.9505e-01,  3.0462e-01, -1.7142e-01, -2.6696e-01],\n",
       "                      [-2.8286e-01, -5.2947e-03,  8.5567e-02, -5.9119e-03, -7.3434e-02,\n",
       "                        2.1776e-01, -9.0308e-02,  1.1689e-01, -2.3990e-01,  2.6848e-01],\n",
       "                      [-2.5076e-01, -7.3267e-02,  1.2041e-02,  2.8259e-01, -6.7934e-03,\n",
       "                       -2.1120e-01,  1.3090e-01, -1.5407e-01, -1.3405e-02,  1.2890e-01],\n",
       "                      [ 9.7287e-02,  2.0752e-01,  1.3380e-01, -2.6118e-01, -2.5043e-01,\n",
       "                       -2.1327e-01,  2.3827e-01, -2.1025e-01,  1.4578e-01,  7.9967e-02],\n",
       "                      [ 2.3473e-01,  1.8766e-01,  4.4459e-03,  8.4403e-02, -1.8114e-01,\n",
       "                       -2.5230e-01,  2.3727e-01,  2.4700e-01, -1.0125e-01,  2.5143e-01],\n",
       "                      [ 3.8485e-02,  1.5315e-01,  3.1523e-01,  2.1961e-01,  2.1197e-01,\n",
       "                        2.4469e-01,  6.8995e-02,  3.0369e-01, -2.2788e-01, -2.7766e-01],\n",
       "                      [-1.1215e-01,  5.7651e-02,  1.5510e-01, -2.8727e-01,  2.3859e-01,\n",
       "                        1.7004e-01, -1.4977e-01,  2.4051e-01,  2.0882e-01, -2.3311e-01]])),\n",
       "             ('hd_layer.bias',\n",
       "              tensor([-0.1584,  0.3020,  0.1026,  0.2276, -0.2464,  0.0135, -0.1161, -0.2718,\n",
       "                       0.1481,  0.0884,  0.1808, -0.1820, -0.2301, -0.0377, -0.2512, -0.0486,\n",
       "                      -0.0815,  0.1743, -0.0827,  0.2788, -0.1844,  0.1071, -0.2861,  0.3049,\n",
       "                      -0.2404, -0.2768,  0.2667,  0.2793,  0.0362, -0.1216])),\n",
       "             ('out_layer.weight',\n",
       "              tensor([[ 0.1224,  0.1793, -0.0096, -0.0941,  0.0828,  0.0378,  0.0117,  0.1823,\n",
       "                       -0.1668, -0.0606,  0.1212,  0.1251,  0.1463, -0.0643,  0.1360,  0.0388,\n",
       "                       -0.1151,  0.0339,  0.0104, -0.0856,  0.1113, -0.1639,  0.1202, -0.0958,\n",
       "                        0.0875, -0.0527, -0.0933,  0.0239,  0.1604,  0.0995]])),\n",
       "             ('out_layer.bias', tensor([0.0919]))])"
      ]
     },
     "execution_count": 89,
     "metadata": {},
     "output_type": "execute_result"
    }
   ],
   "source": [
    "### 학습된 모델 파라미터 값 확인\n",
    "model.state_dict()"
   ]
  },
  {
   "cell_type": "markdown",
   "metadata": {},
   "source": [
    "- [방법 1] 모델 파라미터 즉, 층별 가중치와 절편들"
   ]
  },
  {
   "cell_type": "code",
   "execution_count": 90,
   "metadata": {},
   "outputs": [
    {
     "name": "stdout",
     "output_type": "stream",
     "text": [
      "<class 'collections.OrderedDict'>\n"
     ]
    }
   ],
   "source": [
    "# 모델 즉, 가중치와 절편 로딩\n",
    "# [1] 가중치와 절편 객체로 로딩\n",
    "# [2] 모델의 state_dict 속성에 저장\n",
    "\n",
    "# 읽기\n",
    "wbTS=torch.load(SAVE_PATH+SAVE_FILE,weights_only=True)\n",
    "print(type(wbTS))"
   ]
  },
  {
   "cell_type": "code",
   "execution_count": 91,
   "metadata": {},
   "outputs": [
    {
     "data": {
      "text/plain": [
       "<All keys matched successfully>"
      ]
     },
     "execution_count": 91,
     "metadata": {},
     "output_type": "execute_result"
    }
   ],
   "source": [
    "# 모델 인스턴스에 저장\n",
    "\n",
    "model2=IrisRegModel() # 층마다 W, b초기화\n",
    "model2.load_state_dict(wbTS)"
   ]
  },
  {
   "cell_type": "code",
   "execution_count": 92,
   "metadata": {},
   "outputs": [
    {
     "name": "stdout",
     "output_type": "stream",
     "text": [
      "IrisRegModel(\n",
      "  (in_layer): Linear(in_features=3, out_features=10, bias=True)\n",
      "  (hd_layer): Linear(in_features=10, out_features=30, bias=True)\n",
      "  (out_layer): Linear(in_features=30, out_features=1, bias=True)\n",
      ")\n"
     ]
    }
   ],
   "source": [
    "print(model2)"
   ]
  },
  {
   "cell_type": "code",
   "execution_count": null,
   "metadata": {},
   "outputs": [],
   "source": []
  }
 ],
 "metadata": {
  "kernelspec": {
   "display_name": "TORCH_38",
   "language": "python",
   "name": "python3"
  },
  "language_info": {
   "codemirror_mode": {
    "name": "ipython",
    "version": 3
   },
   "file_extension": ".py",
   "mimetype": "text/x-python",
   "name": "python",
   "nbconvert_exporter": "python",
   "pygments_lexer": "ipython3",
   "version": "3.8.19"
  }
 },
 "nbformat": 4,
 "nbformat_minor": 2
}

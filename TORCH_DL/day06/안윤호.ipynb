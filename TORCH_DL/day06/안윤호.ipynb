{
 "cells": [
  {
   "cell_type": "code",
   "execution_count": 6,
   "metadata": {},
   "outputs": [],
   "source": [
    "import torch\n",
    "import torch.nn as nn\n",
    "import torch.nn.functional as F\n",
    "from torch.utils.data import Dataset, DataLoader\n",
    "from sklearn.model_selection import train_test_split\n",
    "from sklearn.preprocessing import LabelEncoder\n",
    "import numpy as np"
   ]
  },
  {
   "cell_type": "markdown",
   "metadata": {},
   "source": [
    "##### [문제]<hr>"
   ]
  },
  {
   "cell_type": "markdown",
   "metadata": {},
   "source": [
    "1. 퍼셉트론(Perceptron) 개념에 대해 설명하세요.\n",
    "\n",
    "2. 퍼셉트론(Perceptron) 기본 동작 원리 및 수식을 도식화와 함께 작성해주세요.\n",
    "  - 조건 : 피쳐 4개, 퍼셉트론 1개\n",
    "\n",
    "3. 활성화함수(Activation Function)의 역할을 설명하세요.\n",
    "\n",
    "4. 대표적인 활성화함수(Activation Function)에 대해 설명하세요. \n",
    "   - 최소 4개 이상, 값의 범위\n",
    "\n",
    "5. 경사하강법의 개념 및 대표적인 경사하강법 알고리즘에 대해 간략히 설명하세요.\n",
    "   - 최소 3개\n",
    "\n",
    "6. 회귀 모델 구현을 간략하게 코드 작성하세요.\n",
    "   - 피쳐 3개\n",
    "\n",
    "7. 이진분류 모델 구현을 간략하게 코드 작성하세요.\n",
    "    - 피쳐 5개\n",
    "    - 클래스 2개\n",
    "    - 층 : 4개\n",
    "\n",
    "8. 다중분류 모델 구현을 간략하게 코드 작성하세요. \n",
    "   - 피쳐 : 5개\n",
    "   - 클래스 : 8개\n",
    "   - 층 : 3~5개      \n",
    "   - 퍼셉트론 : 동적\n",
    "\n",
    "9. 기울기 소실 개념 및 해결 방법을 설명하세요.\n",
    "\n",
    "10. 파이토치의 모델 동작 모드에 대해 관련 함수도 함께 설명하세요. "
   ]
  },
  {
   "cell_type": "markdown",
   "metadata": {},
   "source": [
    "##### [정답]<hr>"
   ]
  },
  {
   "cell_type": "markdown",
   "metadata": {},
   "source": [
    "[1] 인간의 뉴런이 작동하는 원리를 유사하게 구현한 것"
   ]
  },
  {
   "cell_type": "markdown",
   "metadata": {},
   "source": [
    "[2] 입력층 / 은닉층 / 출력층으로 구성\n",
    "- 입력층은 피쳐 수 만큼의 입력값, 퍼셉트론 수\n",
    "- 은닉층은 입력층의 퍼셉트론 수 만큼의 입력값, 설정한 퍼셉트론 수\n",
    "- 출력층은 은닉층의 퍼셉트론 수, 타겟\n",
    "\n",
    "- 데이터에 가중치를 곱하고 절편을 추가하여 하나의 퍼셉트론에 대응\n",
    "- y= w1x1 + w2x2 + ... + wnxn + b"
   ]
  },
  {
   "cell_type": "markdown",
   "metadata": {},
   "source": [
    "[3] 각 Layer 사이에서 출력값 범위 조절?"
   ]
  },
  {
   "cell_type": "markdown",
   "metadata": {},
   "source": [
    "[4] ReLU : 0이상"
   ]
  },
  {
   "cell_type": "markdown",
   "metadata": {},
   "source": [
    "[5] 최적의 기울기를 찾는 과정\n",
    "- SDM\n",
    "- ADAM : 속도는 느리지만 정확, 가장 많이 사용"
   ]
  },
  {
   "cell_type": "code",
   "execution_count": 3,
   "metadata": {},
   "outputs": [],
   "source": [
    "# [6] 회귀 모델\n",
    "#   - 피쳐 3개\n",
    "\n",
    "class RegModel(nn.Module):\n",
    "\n",
    "    def __init__(self):\n",
    "        super().__init__()\n",
    "\n",
    "        self.in_layer=nn.Linear(3,10)\n",
    "        self.hd_layer=nn.Linear(10,5)\n",
    "        self.out_layer=nn.Linear(5,1)\n",
    "\n",
    "    def forward(self, x):\n",
    "        y=F.relu(self.in_layer(x))\n",
    "        y=F.relu(self.hd_layer(y))\n",
    "        return self.out_layer(y)\n",
    "\n",
    "class MyDataset(Dataset):\n",
    "\n",
    "    def __init__(self, featureDF, targetDF):\n",
    "        self.featureDF=featureDF\n",
    "        self.targetDF=targetDF\n",
    "        self.n_rows=featureDF.shape[0]\n",
    "        self.n_features=featureDF.shape[1]\n",
    "\n",
    "    def __len__(self):\n",
    "        return self.n_rows\n",
    "    \n",
    "    def __getitem__(self, index):\n",
    "        featureTS=torch.FloatTensor(self.featureDF.iloc[index].values)\n",
    "        targetTS=torch.FloatTensor(self.targetDF.iloc[index].values)\n",
    "        return featureTS, targetTS"
   ]
  },
  {
   "cell_type": "code",
   "execution_count": 4,
   "metadata": {},
   "outputs": [],
   "source": [
    "# [7] 이진분류 모델\n",
    "#   - 피쳐 5개\n",
    "#   - 클래스 2개\n",
    "#   - 층 : 4개\n",
    "\n",
    "\n",
    "class BCFModel(nn.Module):\n",
    "\n",
    "    def __init__(self):\n",
    "        super().__init__()\n",
    "\n",
    "        self.in_layer=nn.Linear(5,30)\n",
    "        self.hd_layer1=nn.Linear(30,20)\n",
    "        self.hd_layer2=nn.Linear(20,10)\n",
    "        self.out_layer=nn.Linear(10,1)\n",
    "\n",
    "    def forward(self, x):\n",
    "        y=F.relu(self.in_layer(x))\n",
    "        y=F.relu(self.hd_layer1(y))\n",
    "        y=F.relu(self.hd_layer2(y))\n",
    "        return F.sigmoid(self.out_layer(y))\n",
    "    \n",
    "class MyDataset(Dataset):\n",
    "\n",
    "    def __init__(self, featureDF, targetDF):\n",
    "        self.featureDF=featureDF\n",
    "        self.targetDF=targetDF\n",
    "        self.n_rows=featureDF.shape[0]\n",
    "        self.n_features=featureDF.shape[1]\n",
    "\n",
    "    def __len__(self):\n",
    "        return self.n_rows\n",
    "    \n",
    "    def __getitem__(self, index):\n",
    "        \n",
    "        featureTS=torch.FloatTensor(self.featureDF.iloc[index].values)\n",
    "        targetTS=torch.FloatTensor(self.targetDF.iloc[index].values)\n",
    "        return featureTS, targetTS\n",
    "\n"
   ]
  },
  {
   "cell_type": "code",
   "execution_count": 5,
   "metadata": {},
   "outputs": [],
   "source": [
    "# [8] 다중분류 모델\n",
    "#    - 피쳐 : 5개\n",
    "#    - 클래스 : 8개\n",
    "#    - 층 : 3~5개      \n",
    "#    - 퍼셉트론 : 동적\n",
    "    \n",
    "    "
   ]
  },
  {
   "cell_type": "markdown",
   "metadata": {},
   "source": [
    "[9] 기울기 소실 : 최적의 기울기를 찾는 과정에서 기울기가 0이 되어버리는 상황 발생"
   ]
  },
  {
   "cell_type": "markdown",
   "metadata": {},
   "source": [
    "[10] 딥러닝에 사용하는 사용자 정의 클래스는 부모 클래스로 nn.Module을 상속받아야 한다\n",
    "\n",
    "- _ _ init() _ _ : 생성자\n",
    "- super() : 부모 클래스 있다면 상속\n",
    "- forward() : 정방향 학습\n",
    "\n",
    "- _ _ len() _ _ \n",
    "- _ _ getitem() _ _\n",
    "\n",
    "- backward() : 역전파\n"
   ]
  },
  {
   "cell_type": "markdown",
   "metadata": {},
   "source": []
  }
 ],
 "metadata": {
  "kernelspec": {
   "display_name": "TORCH_38",
   "language": "python",
   "name": "python3"
  },
  "language_info": {
   "codemirror_mode": {
    "name": "ipython",
    "version": 3
   },
   "file_extension": ".py",
   "mimetype": "text/x-python",
   "name": "python",
   "nbconvert_exporter": "python",
   "pygments_lexer": "ipython3",
   "version": "3.8.19"
  }
 },
 "nbformat": 4,
 "nbformat_minor": 2
}

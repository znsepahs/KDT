{
 "cells": [
  {
   "cell_type": "markdown",
   "metadata": {},
   "source": [
    "####  성능평가지표\n",
    "- 정밀도/재현율/F1-Score 주의사항\n",
    "    * 분모가 0인 경우에 대한 설정 필요\n",
    "        * zero_division 매개변수 : [기본]0\n",
    "        * 분모가 0인 경우 zero_division 설정 값 반환"
   ]
  },
  {
   "cell_type": "code",
   "execution_count": 7,
   "metadata": {},
   "outputs": [],
   "source": [
    "# 모듈로딩\n",
    "from torch import tensor\n",
    "from torchmetrics.classification import BinaryConfusionMatrix, BinaryAccuracy\n",
    "from torchmetrics.classification import BinaryPrecision, BinaryRecall, BinaryF1Score\n",
    "from sklearn.metrics import f1_score, confusion_matrix"
   ]
  },
  {
   "cell_type": "code",
   "execution_count": 3,
   "metadata": {},
   "outputs": [
    {
     "name": "stdout",
     "output_type": "stream",
     "text": [
      "preds  => tensor([0, 0, 0, 0, 0, 0])\n",
      "target => tensor([0, 0, 0, 0, 0, 0])\n"
     ]
    }
   ],
   "source": [
    "# 임시데이터 \n",
    "target = tensor([0, 0, 0, 0, 0, 0])\n",
    "preds = tensor([0, 0, 0, 0, 0, 0])\n",
    "\n",
    "print(f'preds  => {preds}')\n",
    "print(f'target => {target}')"
   ]
  },
  {
   "cell_type": "markdown",
   "metadata": {},
   "source": [
    "- [기본값] zero_division= 0.<hr>"
   ]
  },
  {
   "cell_type": "code",
   "execution_count": 4,
   "metadata": {},
   "outputs": [
    {
     "name": "stdout",
     "output_type": "stream",
     "text": [
      "BinaryConfusionMatrix\n",
      "tensor([[6, 0],\n",
      "        [0, 0]])\n"
     ]
    }
   ],
   "source": [
    "cm = BinaryConfusionMatrix()\n",
    "print(\"BinaryConfusionMatrix\", cm(preds, target), sep='\\n')"
   ]
  },
  {
   "cell_type": "code",
   "execution_count": 9,
   "metadata": {},
   "outputs": [
    {
     "name": "stdout",
     "output_type": "stream",
     "text": [
      "precision : tensor(0.)\n",
      "recall    : tensor(0.)\n",
      "f1        : tensor(0.)\n",
      "accuracy  : tensor(1.)\n"
     ]
    }
   ],
   "source": [
    "precision = BinaryPrecision()(preds, target)\n",
    "recall = BinaryRecall()(preds, target)\n",
    "f1 = BinaryF1Score()(preds, target)\n",
    "accuracy = BinaryAccuracy()(preds, target)\n",
    "\n",
    "print(\"precision :\" , precision )\n",
    "print(\"recall    :\" , recall )\n",
    "print(\"f1        :\" , f1 )\n",
    "print(\"accuracy  :\" , accuracy )"
   ]
  },
  {
   "cell_type": "markdown",
   "metadata": {},
   "source": [
    "- [설정값] zero_division= 1.<hr>"
   ]
  },
  {
   "cell_type": "code",
   "execution_count": 10,
   "metadata": {},
   "outputs": [
    {
     "name": "stdout",
     "output_type": "stream",
     "text": [
      "precision : tensor(1.)\n",
      "recall    : tensor(1.)\n",
      "f1        : tensor(1.)\n",
      "accuracy  : tensor(1.)\n"
     ]
    }
   ],
   "source": [
    "precision = BinaryPrecision(zero_division=1.)(preds, target)\n",
    "recall = BinaryRecall(zero_division=1.)(preds, target)\n",
    "f1 = BinaryF1Score(zero_division=1.)(preds, target)\n",
    "accuracy = BinaryAccuracy()(preds, target)\n",
    "\n",
    "print(\"precision :\" , precision )\n",
    "print(\"recall    :\" , recall )\n",
    "print(\"f1        :\" , f1 )\n",
    "print(\"accuracy  :\" , accuracy )"
   ]
  },
  {
   "cell_type": "code",
   "execution_count": null,
   "metadata": {},
   "outputs": [],
   "source": []
  }
 ],
 "metadata": {
  "kernelspec": {
   "display_name": "TORCH_38",
   "language": "python",
   "name": "python3"
  },
  "language_info": {
   "codemirror_mode": {
    "name": "ipython",
    "version": 3
   },
   "file_extension": ".py",
   "mimetype": "text/x-python",
   "name": "python",
   "nbconvert_exporter": "python",
   "pygments_lexer": "ipython3",
   "version": "3.8.19"
  }
 },
 "nbformat": 4,
 "nbformat_minor": 2
}
